{
 "cells": [
  {
   "cell_type": "markdown",
   "id": "1e576cd6",
   "metadata": {},
   "source": [
    "# Hand-calculated derivative rules: Error prone\n",
    "\n",
    "Hand-computation of derivatives of complicated functions involving vectors and matrices is **error-prone**, and is a common source of bugs when performing numerical optimization, root-finding, sensitivity-analysis, etcetera.\n",
    "\n",
    "The ideal alternative is to use **automatic differentiation (AD)**:\n",
    "* AD lets software/compilers perform the derivatives for you.  This is extremely reliable and, with modern AD software, can be very efficient.\n",
    "* Unfortunately, there is still lots of code, e.g. code calling external libraries in other languages, that AD tools can't comprehend.\n",
    "* And there are other cases where AD \"needs help\" — for example, if you are computing an answer *approximately* (e.g. solving a nonlinear equation by Newton's method), AD can waste a lot of effort trying to *exactly differentiate the error* in your approximation.   Often, you can compute the approximate answer (to the same accuracy) much more efficiently.\n",
    "* Even in cases where AD falls down, often you only need to give it a **little help**: define a differentiation rule for a *small piece* of your program and let AD handle the rest.  In Julia, this is done with by defining a [\"ChainRule\"](https://github.com/JuliaDiff/ChainRulesCore.jl), and in Python autograd/JAX it is done by defining a custom \"vJp\" (row-vector—Jacobian product) and/or \"Jvp\" (Jacobian–vector product).\n",
    "\n",
    "If you do have to work out your own derivative rule, you *really* need to **check** it against something \"brute force\" and hard to get wrong.  The usual candidate is…"
   ]
  },
  {
   "cell_type": "markdown",
   "id": "b2d90dbc",
   "metadata": {},
   "source": [
    "# Finite-difference approximations: Easy version\n",
    "\n",
    "The simplest way to check a derivative is to recall that the definition of a differential:\n",
    "$$\n",
    "df = f(x+dx) - f(x) = f'(x) dx\n",
    "$$\n",
    "came from dropping higher-order terms from a small but finite difference:\n",
    "$$\n",
    "\\delta f = f(x+\\delta x) - f(x) = f'(x) \\delta x + o(\\Vert \\delta x \\Vert)\n",
    "$$\n",
    "So, we can just compare the **finite difference** $\\boxed{f(x+\\delta x) - f(x)}$ to our **(directional) derivative operator** $f'(x) \\delta x$ (i.e. the derivative in the direction $\\delta x$).\n",
    "\n",
    "$f(x+\\delta x) - f(x)$ is also called a **forward difference** approximation.  We'll look at other possibilities below.\n",
    "\n",
    "* The antonym of a forward diffence is a **backward difference** approximation $f(x) - f(x - \\delta x) \\approx f'(x) \\delta x$ … if you just want to compute a derivative, there is not much practical distinction between forward and backward differences.  The distinction becomes more important when discretizing (approximating) differential equations.\n",
    "\n",
    "* Finite-difference approximations come in many forms, but they are generally a **last resort** in cases where it's too much effort to work out an analytical derivative and AD fails.  But they are also useful to **check** your analytical derivatives and to quickly **explore**."
   ]
  },
  {
   "cell_type": "markdown",
   "id": "6a4818b6",
   "metadata": {},
   "source": [
    "## example: f(A)=A²\n",
    "\n",
    "Let's try it for $f(A) = A^2$ (a matrix-valued function of a square matrix $A \\in \\mathbb{R}^{m\\times m}$).\n",
    "\n",
    "First, we'll do it by hand via the product rule:\n",
    "\n",
    "$$\n",
    "df = A dA + dA A\n",
    "$$\n",
    "i.e. $f'(A)$ is the **linear operator** $\\boxed{f'(A)[\\delta A] = A \\delta A + \\delta A A}$.  This is **≠ 2AδA** because because **A and δA do not commute** in general.\n",
    "\n",
    "Let's check it against a finite difference.   We'll try it for a *random* input A and a *random small* perturbation $\\delta A$:"
   ]
  },
  {
   "cell_type": "code",
   "execution_count": 1,
   "id": "9d0e4943",
   "metadata": {},
   "outputs": [
    {
     "data": {
      "text/plain": [
       "4×4 Matrix{Float64}:\n",
       "  2.21382   -0.225896  -1.68403    0.450205\n",
       " -1.39789   -0.323385  -0.677434  -0.345616\n",
       "  0.823586   1.29218   -1.34581    0.659887\n",
       " -1.32865    0.463816  -0.736815  -1.15935"
      ]
     },
     "metadata": {},
     "output_type": "display_data"
    }
   ],
   "source": [
    "f(A) = A^2\n",
    "\n",
    "A = randn(4,4) # 4×4 matrix with Gaussian random (bell curve) entries of magnitude ~ 1 (std. dev = 1)"
   ]
  },
  {
   "cell_type": "code",
   "execution_count": 2,
   "id": "3daece4e",
   "metadata": {},
   "outputs": [
    {
     "data": {
      "text/plain": [
       "4×4 Matrix{Float64}:\n",
       " -7.47331e-9  -4.69244e-9  -1.59103e-8  -1.98809e-9\n",
       " -1.58412e-8  -1.50506e-8   1.31213e-8   2.77555e-9\n",
       "  4.57621e-9  -2.00697e-8   7.49603e-9   1.6151e-8\n",
       "  6.30308e-9   4.76617e-9   8.45861e-9  -4.37112e-9"
      ]
     },
     "metadata": {},
     "output_type": "display_data"
    }
   ],
   "source": [
    "dA = randn(4,4) * 1e-8 # a small random perturbation ~ 10⁻⁸"
   ]
  },
  {
   "cell_type": "code",
   "execution_count": 3,
   "id": "542cc00d",
   "metadata": {},
   "outputs": [
    {
     "data": {
      "text/plain": [
       "4×4 Matrix{Float64}:\n",
       " -3.8282e-8   1.06798e-8  -8.36094e-9  -4.41317e-8\n",
       "  3.37947e-9  5.00633e-8   2.71651e-8  -4.03825e-9\n",
       " -5.72322e-9  2.94761e-8  -1.67539e-8  -2.74529e-8\n",
       "  1.19682e-8  1.44534e-8  -1.01109e-8   8.93598e-9"
      ]
     },
     "metadata": {},
     "output_type": "display_data"
    }
   ],
   "source": [
    "approx = f(A + dA) - f(A) # finite difference"
   ]
  },
  {
   "cell_type": "code",
   "execution_count": 4,
   "id": "e955820e",
   "metadata": {},
   "outputs": [
    {
     "data": {
      "text/plain": [
       "4×4 Matrix{Float64}:\n",
       " -3.8282e-8   1.06798e-8  -8.36094e-9  -4.41317e-8\n",
       "  3.37947e-9  5.00633e-8   2.71651e-8  -4.03825e-9\n",
       " -5.72322e-9  2.94761e-8  -1.67539e-8  -2.74529e-8\n",
       "  1.19682e-8  1.44534e-8  -1.01109e-8   8.93598e-9"
      ]
     },
     "metadata": {},
     "output_type": "display_data"
    }
   ],
   "source": [
    "exact = A*dA + dA*A # exact directional derivative (linearization)"
   ]
  },
  {
   "cell_type": "code",
   "execution_count": 5,
   "id": "43cb4db7",
   "metadata": {},
   "outputs": [
    {
     "data": {
      "text/plain": [
       "4×4 Matrix{Float64}:\n",
       " -3.56698e-8  5.79105e-8  -9.4004e-8   -6.83898e-8\n",
       "  2.05823e-8  4.67505e-8   1.99922e-8  -1.50979e-8\n",
       " -5.72478e-8  1.36846e-8  -1.30972e-9  -4.53428e-8\n",
       " -1.61945e-8  1.70318e-8   2.37908e-8  -5.80764e-9"
      ]
     },
     "metadata": {},
     "output_type": "display_data"
    }
   ],
   "source": [
    "2A*dA # wrong! matrices don't commute"
   ]
  },
  {
   "cell_type": "code",
   "execution_count": 6,
   "id": "20818794",
   "metadata": {},
   "outputs": [
    {
     "data": {
      "text/plain": [
       "4×4 Matrix{Float64}:\n",
       "  2.61216e-9   4.72307e-8  -8.56431e-8  -2.42581e-8\n",
       "  1.72028e-8  -3.31277e-9  -7.17281e-9  -1.10596e-8\n",
       " -5.15246e-8  -1.57915e-8   1.54442e-8  -1.78899e-8\n",
       " -2.81627e-8   2.57837e-9   3.39017e-8  -1.47436e-8"
      ]
     },
     "metadata": {},
     "output_type": "display_data"
    }
   ],
   "source": [
    "2A*dA - approx"
   ]
  },
  {
   "cell_type": "markdown",
   "id": "630c56ec",
   "metadata": {},
   "source": [
    "To be more quantitative, we might compute the \"norm\" $\\Vert \\text{approx} - \\text{exact} \\Vert$, which we want to be small.   But small **compared to what?**   The natural answer is **small compared to the correct answer**.  This is called the [relative error](https://en.wikipedia.org/wiki/Approximation_error) (or \"fractional\" error):\n",
    "$$\n",
    "\\text{relative error} = \\frac{\\Vert \\text{approx} - \\text{exact} \\Vert}{\\Vert \\text{exact}\\Vert}\n",
    "$$\n",
    "Here, $\\Vert \\cdot \\Vert$ is a [norm](https://en.wikipedia.org/wiki/Norm_(mathematics)), like the length of a vector. In Julia, the `LinearAlgebra` package provides a `norm` function, and we can use that to define a relative error:"
   ]
  },
  {
   "cell_type": "code",
   "execution_count": 7,
   "id": "45931cc4",
   "metadata": {},
   "outputs": [
    {
     "data": {
      "text/plain": [
       "relative_error (generic function with 1 method)"
      ]
     },
     "metadata": {},
     "output_type": "display_data"
    }
   ],
   "source": [
    "using LinearAlgebra\n",
    "\n",
    "relative_error(approx, exact) = norm(approx - exact) / norm(exact)"
   ]
  },
  {
   "cell_type": "markdown",
   "id": "c7dc766e",
   "metadata": {},
   "source": [
    "Let's try it on our case above:"
   ]
  },
  {
   "cell_type": "code",
   "execution_count": 8,
   "id": "1fb85dc0",
   "metadata": {},
   "outputs": [
    {
     "data": {
      "text/plain": [
       "1.9425687500958526e-8"
      ]
     },
     "metadata": {},
     "output_type": "display_data"
    }
   ],
   "source": [
    "relative_error(approx, exact)"
   ]
  },
  {
   "cell_type": "markdown",
   "id": "aa60621b",
   "metadata": {},
   "source": [
    "Pretty good — we are matching to **about eight significant digits**!\n",
    "\n",
    "Getting a good match for a random input and a random small displacement isn't a proof of correctness, but it is always a good thing to check.   This kind of randomized comparison will almost always **catch major bugs** where you have calculated the symbolic derivative incorrectly, like our $2AdA$ example:"
   ]
  },
  {
   "cell_type": "code",
   "execution_count": 10,
   "id": "c4ed374c",
   "metadata": {},
   "outputs": [
    {
     "data": {
      "text/plain": [
       "1.3199156942671275"
      ]
     },
     "metadata": {},
     "output_type": "display_data"
    }
   ],
   "source": [
    "relative_error(2A*dA, exact)"
   ]
  },
  {
   "cell_type": "markdown",
   "id": "a234dc8e",
   "metadata": {},
   "source": [
    "Here, for our buggy derivative, the relative error was **close to 50%**."
   ]
  },
  {
   "cell_type": "markdown",
   "id": "117f334b",
   "metadata": {},
   "source": [
    "### aside: norm of a matrix?\n",
    "\n",
    "Wait, what do we mean by the norm $\\Vert A \\Vert$ of a matrix $A$?\n",
    "\n",
    "The ordinary Euclidean (\"L2\") norm of a column-vector $x \\in \\mathbb{R}^n$ is $\\Vert x \\Vert = \\sqrt{x^T x} = \\sqrt{\\sum_i x_i^2}$.\n",
    "\n",
    "For a matrix, the natural analogue is the **sqrt of the sum of the squares of the entries**.  This is called the [Frobenius norm](https://mathworld.wolfram.com/FrobeniusNorm.html), and is what `norm(A)` does in Julia by default."
   ]
  },
  {
   "cell_type": "code",
   "execution_count": 11,
   "id": "a34d0cb4",
   "metadata": {},
   "outputs": [
    {
     "data": {
      "text/latex": [
       "$$ \\begin{equation}\n",
       "\\left[\n",
       "\\begin{array}{ccc}\n",
       "\\mathtt{m11} & \\mathtt{m12} & \\mathtt{m13} \\\\\n",
       "\\mathtt{m21} & \\mathtt{m22} & \\mathtt{m23} \\\\\n",
       "\\end{array}\n",
       "\\right]\n",
       "\\end{equation}\n",
       " $$"
      ],
      "text/plain": [
       "2×3 Matrix{Num}:\n",
       " m11  m12  m13\n",
       " m21  m22  m23"
      ]
     },
     "metadata": {},
     "output_type": "display_data"
    }
   ],
   "source": [
    "using Symbolics\n",
    "\n",
    "@variables m11 m12 m13 m21 m22 m23\n",
    "M = [m11 m12 m13\n",
    "     m21 m22 m23]"
   ]
  },
  {
   "cell_type": "code",
   "execution_count": 12,
   "id": "f8846473",
   "metadata": {},
   "outputs": [
    {
     "data": {
      "text/latex": [
       "$$ \\begin{equation}\n",
       "\\sqrt{\\left|\\mathtt{m23}\\right|^{2} + \\left|\\mathtt{m13}\\right|^{2} + \\left|\\mathtt{m11}\\right|^{2} + \\left|\\mathtt{m21}\\right|^{2} + \\left|\\mathtt{m12}\\right|^{2} + \\left|\\mathtt{m22}\\right|^{2}}\n",
       "\\end{equation}\n",
       " $$"
      ],
      "text/plain": [
       "sqrt(abs2(m23) + abs2(m13) + abs2(m11) + abs2(m21) + abs2(m12) + abs2(m22))"
      ]
     },
     "metadata": {},
     "output_type": "display_data"
    }
   ],
   "source": [
    "norm(M)"
   ]
  },
  {
   "cell_type": "markdown",
   "id": "ab0e0512",
   "metadata": {},
   "source": [
    "(`abs2(x)` in Julia is the squared absolute value $|x|^2$.)"
   ]
  },
  {
   "attachments": {},
   "cell_type": "markdown",
   "id": "a8981b83",
   "metadata": {},
   "source": [
    "But we can write this in linear algebra notation!\n",
    "\n",
    "Recall that the (Euclidean) \"inner product\" of two matrices is <A,B> = $\\text{tr}(B^T A)$.   Then we can define the Frobenius norm of a matrix as the sqrt of the dot product with itself!\n",
    "\n",
    "$$\n",
    "\\Vert A \\Vert_F = \\sqrt{\\text{trace}(A^T A)}\n",
    "$$"
   ]
  },
  {
   "cell_type": "code",
   "execution_count": 16,
   "id": "4accae80",
   "metadata": {},
   "outputs": [
    {
     "data": {
      "text/plain": [
       "4×4 Matrix{Float64}:\n",
       "  2.21382   -0.225896  -1.68403    0.450205\n",
       " -1.39789   -0.323385  -0.677434  -0.345616\n",
       "  0.823586   1.29218   -1.34581    0.659887\n",
       " -1.32865    0.463816  -0.736815  -1.15935"
      ]
     },
     "metadata": {},
     "output_type": "display_data"
    }
   ],
   "source": [
    "A"
   ]
  },
  {
   "cell_type": "code",
   "execution_count": 17,
   "id": "625bb0ed",
   "metadata": {},
   "outputs": [
    {
     "data": {
      "text/plain": [
       "4.369190480011202"
      ]
     },
     "metadata": {},
     "output_type": "display_data"
    }
   ],
   "source": [
    "norm(A)"
   ]
  },
  {
   "cell_type": "code",
   "execution_count": 18,
   "id": "b1dba485",
   "metadata": {},
   "outputs": [
    {
     "data": {
      "text/plain": [
       "4.369190480011202"
      ]
     },
     "metadata": {},
     "output_type": "display_data"
    }
   ],
   "source": [
    "sqrt(tr(A'A))"
   ]
  },
  {
   "cell_type": "code",
   "execution_count": 19,
   "id": "e61e275b",
   "metadata": {},
   "outputs": [
    {
     "data": {
      "text/plain": [
       "4.369190480011202"
      ]
     },
     "metadata": {},
     "output_type": "display_data"
    }
   ],
   "source": [
    "sqrt(sum(abs2, A))"
   ]
  },
  {
   "cell_type": "code",
   "execution_count": 20,
   "id": "e2440768",
   "metadata": {},
   "outputs": [
    {
     "data": {
      "text/plain": [
       "4.369190480011202"
      ]
     },
     "metadata": {},
     "output_type": "display_data"
    }
   ],
   "source": [
    "sqrt(sum(A[i,j]^2 for i = 1:4, j = 1:4))"
   ]
  },
  {
   "cell_type": "markdown",
   "id": "1ada58d4",
   "metadata": {},
   "source": [
    "(There are also other ways to define a norm of matrix, most famously by \"induced norms\", but we will stick with the Frobenius norm here.)"
   ]
  },
  {
   "cell_type": "markdown",
   "id": "2f6347b0",
   "metadata": {},
   "source": [
    "# Accuracy of finite differences\n",
    "\n",
    "How accurate is our finite-difference approximation above?  How should we choose the size of δx?"
   ]
  },
  {
   "cell_type": "markdown",
   "id": "dd265557",
   "metadata": {},
   "source": [
    "Let's try our example $f(A) = A^2$ above, and plot the relative error as a function of $\\Vert \\delta A \\Vert$ as we scale $\\delta A$ by a factor $s$, making it larger or smaller."
   ]
  },
  {
   "cell_type": "code",
   "execution_count": 24,
   "id": "bc32cfdc",
   "metadata": {},
   "outputs": [
    {
     "name": "stderr",
     "output_type": "stream",
     "text": [
      "\u001b[32m\u001b[1m   Resolving\u001b[22m\u001b[39m package versions...\n",
      "\u001b[32m\u001b[1m  No Changes\u001b[22m\u001b[39m to `~/.julia/environments/v1.11/Project.toml`\n",
      "\u001b[32m\u001b[1m  No Changes\u001b[22m\u001b[39m to `~/.julia/environments/v1.11/Manifest.toml`\n",
      "\u001b[32m\u001b[1m   Resolving\u001b[22m\u001b[39m package versions...\n",
      "\u001b[32m\u001b[1m    Updating\u001b[22m\u001b[39m `~/.julia/environments/v1.11/Project.toml`\n",
      "  \u001b[90m[b964fa9f] \u001b[39m\u001b[92m+ LaTeXStrings v1.4.0\u001b[39m\n",
      "\u001b[32m\u001b[1m  No Changes\u001b[22m\u001b[39m to `~/.julia/environments/v1.11/Manifest.toml`\n"
     ]
    }
   ],
   "source": [
    "import Pkg \n",
    "Pkg.add(\"Plots\")\n",
    "Pkg.add(\"LaTeXStrings\")"
   ]
  },
  {
   "cell_type": "code",
   "execution_count": 25,
   "id": "675c58b9",
   "metadata": {},
   "outputs": [],
   "source": [
    "using Plots # load a plotting package; there are several to choose from in Julia; this is a popular one\n",
    "using LaTeXStrings # makes it easy to put LaTeX equations in L\"...\" strings"
   ]
  },
  {
   "cell_type": "code",
   "execution_count": 28,
   "id": "953139ca",
   "metadata": {},
   "outputs": [
    {
     "data": {
      "text/plain": [
       "5-element Vector{Float64}:\n",
       "     1.0e-8\n",
       "     0.0001\n",
       "     1.0\n",
       " 10000.0\n",
       "     1.0e8"
      ]
     },
     "metadata": {},
     "output_type": "display_data"
    }
   ],
   "source": [
    "s = 10 .^ range(-8,8,5)"
   ]
  },
  {
   "cell_type": "code",
   "execution_count": 26,
   "id": "0dc9de16",
   "metadata": {},
   "outputs": [
    {
     "data": {
      "image/png": "[encoded data removed]",
      "image/svg+xml": [
       "<?xml version=\"1.0\" encoding=\"utf-8\"?>\n",
       "<svg xmlns=\"http://www.w3.org/2000/svg\" xmlns:xlink=\"http://www.w3.org/1999/xlink\" width=\"600\" height=\"400\" viewBox=\"0 0 2400 1600\">\n",
       "<defs>\n",
       "  <clipPath id=\"clip360\">\n",
       "    <rect x=\"0\" y=\"0\" width=\"2400\" height=\"1600\"/>\n",
       "  </clipPath>\n",
       "</defs>\n",
       "<path clip-path=\"url(#clip360)\" d=\"M0 1600 L2400 1600 L2400 0 L0 0  Z\" fill=\"#ffffff\" fill-rule=\"evenodd\" fill-opacity=\"1\"/>\n",
       "<defs>\n",
       "  <clipPath id=\"clip361\">\n",
       "    <rect x=\"480\" y=\"0\" width=\"1681\" height=\"1600\"/>\n",
       "  </clipPath>\n",
       "</defs>\n",
       "<path clip-path=\"url(#clip360)\" d=\"M251.56 1410.9 L2352.76 1410.9 L2352.76 134.613 L251.56 134.613  Z\" fill=\"#ffffff\" fill-rule=\"evenodd\" fill-opacity=\"1\"/>\n",
       "<defs>\n",
       "  <clipPath id=\"clip362\">\n",
       "    <rect x=\"251\" y=\"134\" width=\"2102\" height=\"1277\"/>\n",
       "  </clipPath>\n",
       "</defs>\n",
       "<polyline clip-path=\"url(#clip362)\" style=\"stroke:#000000; stroke-linecap:round; stroke-linejoin:round; stroke-width:2; stroke-opacity:0.1; fill:none\" points=\"766.006,1410.9 766.006,134.613 \"/>\n",
       "<polyline clip-path=\"url(#clip362)\" style=\"stroke:#000000; stroke-linecap:round; stroke-linejoin:round; stroke-width:2; stroke-opacity:0.1; fill:none\" points=\"1614.5,1410.9 1614.5,134.613 \"/>\n",
       "<polyline clip-path=\"url(#clip362)\" style=\"stroke:#000000; stroke-linecap:round; stroke-linejoin:round; stroke-width:2; stroke-opacity:0.1; fill:none\" points=\"251.56,1149.02 2352.76,1149.02 \"/>\n",
       "<polyline clip-path=\"url(#clip362)\" style=\"stroke:#000000; stroke-linecap:round; stroke-linejoin:round; stroke-width:2; stroke-opacity:0.1; fill:none\" points=\"251.56,772.755 2352.76,772.755 \"/>\n",
       "<polyline clip-path=\"url(#clip362)\" style=\"stroke:#000000; stroke-linecap:round; stroke-linejoin:round; stroke-width:2; stroke-opacity:0.1; fill:none\" points=\"251.56,396.492 2352.76,396.492 \"/>\n",
       "<polyline clip-path=\"url(#clip360)\" style=\"stroke:#000000; stroke-linecap:round; stroke-linejoin:round; stroke-width:4; stroke-opacity:1; fill:none\" points=\"251.56,1410.9 2352.76,1410.9 \"/>\n",
       "<polyline clip-path=\"url(#clip360)\" style=\"stroke:#000000; stroke-linecap:round; stroke-linejoin:round; stroke-width:4; stroke-opacity:1; fill:none\" points=\"766.006,1410.9 766.006,1392 \"/>\n",
       "<polyline clip-path=\"url(#clip360)\" style=\"stroke:#000000; stroke-linecap:round; stroke-linejoin:round; stroke-width:4; stroke-opacity:1; fill:none\" points=\"1614.5,1410.9 1614.5,1392 \"/>\n",
       "<path clip-path=\"url(#clip360)\" d=\"M703.37 1485.02 L711.009 1485.02 L711.009 1458.66 L702.698 1460.32 L702.698 1456.06 L710.962 1454.4 L715.638 1454.4 L715.638 1485.02 L723.277 1485.02 L723.277 1488.96 L703.37 1488.96 L703.37 1485.02 Z\" fill=\"#000000\" fill-rule=\"nonzero\" fill-opacity=\"1\" /><path clip-path=\"url(#clip360)\" d=\"M742.721 1457.48 Q739.11 1457.48 737.282 1461.04 Q735.476 1464.58 735.476 1471.71 Q735.476 1478.82 737.282 1482.38 Q739.11 1485.92 742.721 1485.92 Q746.356 1485.92 748.161 1482.38 Q749.99 1478.82 749.99 1471.71 Q749.99 1464.58 748.161 1461.04 Q746.356 1457.48 742.721 1457.48 M742.721 1453.77 Q748.532 1453.77 751.587 1458.38 Q754.666 1462.96 754.666 1471.71 Q754.666 1480.44 751.587 1485.04 Q748.532 1489.63 742.721 1489.63 Q736.911 1489.63 733.833 1485.04 Q730.777 1480.44 730.777 1471.71 Q730.777 1462.96 733.833 1458.38 Q736.911 1453.77 742.721 1453.77 Z\" fill=\"#000000\" fill-rule=\"nonzero\" fill-opacity=\"1\" /><path clip-path=\"url(#clip360)\" d=\"M754.666 1447.87 L778.777 1447.87 L778.777 1451.07 L754.666 1451.07 L754.666 1447.87 Z\" fill=\"#000000\" fill-rule=\"nonzero\" fill-opacity=\"1\" /><path clip-path=\"url(#clip360)\" d=\"M787.636 1458.35 L793.842 1458.35 L793.842 1436.93 L787.09 1438.28 L787.09 1434.82 L793.805 1433.47 L797.604 1433.47 L797.604 1458.35 L803.81 1458.35 L803.81 1461.55 L787.636 1461.55 L787.636 1458.35 Z\" fill=\"#000000\" fill-rule=\"nonzero\" fill-opacity=\"1\" /><path clip-path=\"url(#clip360)\" d=\"M819.609 1435.97 Q816.675 1435.97 815.189 1438.86 Q813.722 1441.74 813.722 1447.53 Q813.722 1453.31 815.189 1456.2 Q816.675 1459.08 819.609 1459.08 Q822.562 1459.08 824.029 1456.2 Q825.515 1453.31 825.515 1447.53 Q825.515 1441.74 824.029 1438.86 Q822.562 1435.97 819.609 1435.97 M819.609 1432.96 Q824.33 1432.96 826.812 1436.7 Q829.314 1440.43 829.314 1447.53 Q829.314 1454.62 826.812 1458.37 Q824.33 1462.09 819.609 1462.09 Q814.888 1462.09 812.387 1458.37 Q809.904 1454.62 809.904 1447.53 Q809.904 1440.43 812.387 1436.7 Q814.888 1432.96 819.609 1432.96 Z\" fill=\"#000000\" fill-rule=\"nonzero\" fill-opacity=\"1\" /><path clip-path=\"url(#clip360)\" d=\"M1579.48 1485.02 L1587.12 1485.02 L1587.12 1458.66 L1578.81 1460.32 L1578.81 1456.06 L1587.07 1454.4 L1591.75 1454.4 L1591.75 1485.02 L1599.39 1485.02 L1599.39 1488.96 L1579.48 1488.96 L1579.48 1485.02 Z\" fill=\"#000000\" fill-rule=\"nonzero\" fill-opacity=\"1\" /><path clip-path=\"url(#clip360)\" d=\"M1618.83 1457.48 Q1615.22 1457.48 1613.39 1461.04 Q1611.59 1464.58 1611.59 1471.71 Q1611.59 1478.82 1613.39 1482.38 Q1615.22 1485.92 1618.83 1485.92 Q1622.46 1485.92 1624.27 1482.38 Q1626.1 1478.82 1626.1 1471.71 Q1626.1 1464.58 1624.27 1461.04 Q1622.46 1457.48 1618.83 1457.48 M1618.83 1453.77 Q1624.64 1453.77 1627.7 1458.38 Q1630.77 1462.96 1630.77 1471.71 Q1630.77 1480.44 1627.7 1485.04 Q1624.64 1489.63 1618.83 1489.63 Q1613.02 1489.63 1609.94 1485.04 Q1606.89 1480.44 1606.89 1471.71 Q1606.89 1462.96 1609.94 1458.38 Q1613.02 1453.77 1618.83 1453.77 Z\" fill=\"#000000\" fill-rule=\"nonzero\" fill-opacity=\"1\" /><path clip-path=\"url(#clip360)\" d=\"M1640.48 1435.97 Q1637.55 1435.97 1636.06 1438.86 Q1634.59 1441.74 1634.59 1447.53 Q1634.59 1453.31 1636.06 1456.2 Q1637.55 1459.08 1640.48 1459.08 Q1643.43 1459.08 1644.9 1456.2 Q1646.39 1453.31 1646.39 1447.53 Q1646.39 1441.74 1644.9 1438.86 Q1643.43 1435.97 1640.48 1435.97 M1640.48 1432.96 Q1645.2 1432.96 1647.68 1436.7 Q1650.18 1440.43 1650.18 1447.53 Q1650.18 1454.62 1647.68 1458.37 Q1645.2 1462.09 1640.48 1462.09 Q1635.76 1462.09 1633.26 1458.37 Q1630.77 1454.62 1630.77 1447.53 Q1630.77 1440.43 1633.26 1436.7 Q1635.76 1432.96 1640.48 1432.96 Z\" fill=\"#000000\" fill-rule=\"nonzero\" fill-opacity=\"1\" /><path clip-path=\"url(#clip360)\" d=\"M1229.44 1576.47 L1229.44 1514.57 Q1229.44 1512.61 1230.76 1512.61 Q1232.08 1512.61 1232.08 1514.67 L1232.08 1576.31 Q1232.08 1578.43 1230.76 1578.43 Q1229.44 1578.43 1229.44 1576.47 M1236.72 1576.47 L1236.72 1515.05 Q1236.72 1512.61 1238.04 1512.61 Q1239.36 1512.61 1239.36 1514.67 L1239.36 1576.31 Q1239.36 1578.43 1238.04 1578.43 Q1236.72 1578.43 1236.72 1576.47 Z\" fill=\"#000000\" fill-rule=\"nonzero\" fill-opacity=\"1\" /><path clip-path=\"url(#clip360)\" d=\"M1284.34 1518.02 Q1284.34 1518.5 1283.99 1519.21 Q1283.67 1519.85 1282.99 1520.27 Q1282.35 1520.66 1281.64 1520.66 Q1281.41 1520.66 1280.9 1520.53 Q1280.03 1520.14 1278.67 1519.27 Q1277.32 1518.4 1276.1 1517.86 Q1274.91 1517.28 1273.59 1517.21 Q1272.43 1517.21 1271.46 1517.63 Q1270.59 1518.11 1270.01 1519.14 Q1269.75 1519.56 1269.75 1520.27 Q1269.75 1521.27 1270.3 1522.59 Q1270.85 1523.91 1271.98 1525.62 Q1273.14 1527.32 1273.97 1528.48 Q1274.81 1529.61 1276.26 1531.48 Q1276.39 1531.64 1276.45 1531.74 Q1276.52 1531.8 1276.61 1531.96 Q1276.71 1532.09 1276.81 1532.19 Q1279.87 1536.02 1280.64 1540.24 Q1280.83 1541.72 1280.83 1543.27 Q1280.83 1546.36 1279.9 1550 Q1279.09 1553.31 1277.39 1556.18 Q1275.68 1559.01 1273.1 1560.88 Q1270.56 1562.75 1267.79 1562.75 Q1265.05 1562.75 1262.8 1561.56 Q1260.54 1560.33 1259.19 1558.24 Q1257.35 1555.47 1257.35 1551.64 Q1257.35 1549.48 1257.87 1547.65 Q1258.58 1544.71 1260.25 1542.01 Q1261.93 1539.3 1264.34 1537.21 Q1268.01 1534.12 1272.01 1533.25 Q1270.14 1529.71 1269.04 1526.97 Q1267.98 1524.2 1267.98 1521.85 Q1267.98 1519.79 1268.76 1518.47 Q1269.43 1517.05 1270.82 1516.24 Q1271.98 1515.54 1273.65 1515.18 Q1274.68 1515.05 1275.36 1515.05 Q1277.64 1515.05 1282.96 1516.31 Q1284.34 1516.63 1284.34 1518.02 M1276.29 1545.91 Q1276.29 1543.94 1275.97 1542.62 Q1275.36 1539.4 1272.91 1534.96 L1272.72 1534.63 Q1269.59 1535.54 1267.05 1538.27 Q1263.86 1541.62 1262.25 1547.97 Q1261.38 1551.51 1261.38 1553.51 Q1261.38 1555.66 1262.19 1557.53 Q1262.96 1559.27 1264.41 1560.27 Q1265.89 1561.27 1267.85 1561.27 Q1269.33 1561.27 1270.62 1560.43 Q1271.91 1559.56 1272.85 1558.05 Q1273.78 1556.53 1274.42 1554.89 Q1275.1 1553.22 1275.61 1551.25 Q1276.29 1548.61 1276.29 1545.91 Z\" fill=\"#000000\" fill-rule=\"nonzero\" fill-opacity=\"1\" /><path clip-path=\"url(#clip360)\" d=\"M1332.92 1560.69 Q1332.92 1561.3 1332.66 1561.62 Q1332.44 1561.91 1332.21 1561.98 Q1332.02 1562.01 1331.73 1562.01 Q1330.89 1562.01 1327.99 1561.91 Q1325.09 1561.82 1324.26 1561.82 Q1322.9 1561.82 1320.13 1561.91 Q1317.36 1562.01 1316.01 1562.01 Q1315.11 1562.01 1315.11 1561.27 Q1315.11 1560.79 1315.21 1560.53 Q1315.3 1560.24 1315.56 1560.14 Q1315.85 1560.01 1316.01 1560.01 Q1316.2 1559.98 1316.69 1559.98 Q1317.33 1559.98 1318.01 1559.92 Q1318.68 1559.82 1319.52 1559.63 Q1320.36 1559.43 1320.87 1558.95 Q1321.42 1558.47 1321.42 1557.79 Q1321.42 1557.5 1321.2 1555.12 Q1320.97 1552.73 1320.68 1549.96 Q1320.39 1547.16 1320.36 1546.78 L1303.81 1546.78 Q1302.29 1549.38 1301.23 1551.19 Q1300.17 1552.99 1299.78 1553.6 Q1299.39 1554.22 1299.17 1554.6 Q1298.94 1554.99 1298.81 1555.21 Q1297.88 1556.92 1297.88 1557.66 Q1297.88 1559.72 1300.97 1559.98 Q1302.03 1559.98 1302.03 1560.75 Q1302.03 1561.33 1301.78 1561.66 Q1301.52 1561.94 1301.29 1561.98 Q1301.1 1562.01 1300.78 1562.01 Q1299.71 1562.01 1297.49 1561.91 Q1295.27 1561.82 1294.18 1561.82 Q1293.24 1561.82 1291.31 1561.91 Q1289.38 1562.01 1288.51 1562.01 Q1288.12 1562.01 1287.9 1561.78 Q1287.67 1561.56 1287.67 1561.27 Q1287.67 1560.82 1287.73 1560.56 Q1287.83 1560.3 1288.09 1560.17 Q1288.35 1560.04 1288.48 1560.04 Q1288.6 1560.01 1289.05 1559.98 Q1291.5 1559.82 1293.4 1558.66 Q1295.33 1557.47 1297.17 1554.41 L1320.1 1515.89 Q1320.33 1515.5 1320.49 1515.31 Q1320.65 1515.12 1320.97 1514.96 Q1321.33 1514.8 1321.84 1514.8 Q1322.65 1514.8 1322.81 1515.05 Q1322.97 1515.28 1323.06 1516.37 L1327.09 1557.6 Q1327.19 1558.47 1327.25 1558.82 Q1327.35 1559.14 1327.77 1559.5 Q1328.22 1559.82 1329.02 1559.92 Q1329.86 1559.98 1331.41 1559.98 Q1331.99 1559.98 1332.21 1560.01 Q1332.44 1560.01 1332.66 1560.17 Q1332.92 1560.33 1332.92 1560.69 M1320.17 1544.71 L1318.07 1522.98 L1305.06 1544.71 L1320.17 1544.71 Z\" fill=\"#000000\" fill-rule=\"nonzero\" fill-opacity=\"1\" /><path clip-path=\"url(#clip360)\" d=\"M1342.21 1576.47 L1342.21 1514.57 Q1342.21 1512.61 1343.53 1512.61 Q1344.85 1512.61 1344.85 1514.67 L1344.85 1576.31 Q1344.85 1578.43 1343.53 1578.43 Q1342.21 1578.43 1342.21 1576.47 M1349.49 1576.47 L1349.49 1515.05 Q1349.49 1512.61 1350.81 1512.61 Q1352.13 1512.61 1352.13 1514.67 L1352.13 1576.31 Q1352.13 1578.43 1350.81 1578.43 Q1349.49 1578.43 1349.49 1576.47 Z\" fill=\"#000000\" fill-rule=\"nonzero\" fill-opacity=\"1\" /><polyline clip-path=\"url(#clip360)\" style=\"stroke:#000000; stroke-linecap:round; stroke-linejoin:round; stroke-width:4; stroke-opacity:1; fill:none\" points=\"251.56,1410.9 251.56,134.613 \"/>\n",
       "<polyline clip-path=\"url(#clip360)\" style=\"stroke:#000000; stroke-linecap:round; stroke-linejoin:round; stroke-width:4; stroke-opacity:1; fill:none\" points=\"251.56,1149.02 270.458,1149.02 \"/>\n",
       "<polyline clip-path=\"url(#clip360)\" style=\"stroke:#000000; stroke-linecap:round; stroke-linejoin:round; stroke-width:4; stroke-opacity:1; fill:none\" points=\"251.56,772.755 270.458,772.755 \"/>\n",
       "<polyline clip-path=\"url(#clip360)\" style=\"stroke:#000000; stroke-linecap:round; stroke-linejoin:round; stroke-width:4; stroke-opacity:1; fill:none\" points=\"251.56,396.492 270.458,396.492 \"/>\n",
       "<path clip-path=\"url(#clip360)\" d=\"M114.931 1168.81 L122.57 1168.81 L122.57 1142.44 L114.26 1144.11 L114.26 1139.85 L122.524 1138.19 L127.2 1138.19 L127.2 1168.81 L134.839 1168.81 L134.839 1172.75 L114.931 1172.75 L114.931 1168.81 Z\" fill=\"#000000\" fill-rule=\"nonzero\" fill-opacity=\"1\" /><path clip-path=\"url(#clip360)\" d=\"M154.283 1141.26 Q150.672 1141.26 148.843 1144.83 Q147.038 1148.37 147.038 1155.5 Q147.038 1162.61 148.843 1166.17 Q150.672 1169.71 154.283 1169.71 Q157.917 1169.71 159.723 1166.17 Q161.552 1162.61 161.552 1155.5 Q161.552 1148.37 159.723 1144.83 Q157.917 1141.26 154.283 1141.26 M154.283 1137.56 Q160.093 1137.56 163.149 1142.17 Q166.227 1146.75 166.227 1155.5 Q166.227 1164.23 163.149 1168.83 Q160.093 1173.42 154.283 1173.42 Q148.473 1173.42 145.394 1168.83 Q142.339 1164.23 142.339 1155.5 Q142.339 1146.75 145.394 1142.17 Q148.473 1137.56 154.283 1137.56 Z\" fill=\"#000000\" fill-rule=\"nonzero\" fill-opacity=\"1\" /><path clip-path=\"url(#clip360)\" d=\"M166.227 1131.66 L190.339 1131.66 L190.339 1134.86 L166.227 1134.86 L166.227 1131.66 Z\" fill=\"#000000\" fill-rule=\"nonzero\" fill-opacity=\"1\" /><path clip-path=\"url(#clip360)\" d=\"M198.577 1117.25 L213.491 1117.25 L213.491 1120.45 L202.056 1120.45 L202.056 1127.34 Q202.884 1127.05 203.711 1126.92 Q204.539 1126.77 205.366 1126.77 Q210.068 1126.77 212.814 1129.35 Q215.56 1131.92 215.56 1136.33 Q215.56 1140.86 212.739 1143.38 Q209.918 1145.88 204.783 1145.88 Q203.015 1145.88 201.172 1145.58 Q199.348 1145.28 197.392 1144.68 L197.392 1140.86 Q199.085 1141.78 200.89 1142.23 Q202.696 1142.68 204.708 1142.68 Q207.962 1142.68 209.861 1140.97 Q211.761 1139.26 211.761 1136.33 Q211.761 1133.39 209.861 1131.68 Q207.962 1129.97 204.708 1129.97 Q203.185 1129.97 201.661 1130.31 Q200.157 1130.65 198.577 1131.36 L198.577 1117.25 Z\" fill=\"#000000\" fill-rule=\"nonzero\" fill-opacity=\"1\" /><path clip-path=\"url(#clip360)\" d=\"M144.855 792.547 L152.493 792.547 L152.493 766.181 L144.183 767.848 L144.183 763.589 L152.447 761.922 L157.123 761.922 L157.123 792.547 L164.762 792.547 L164.762 796.482 L144.855 796.482 L144.855 792.547 Z\" fill=\"#000000\" fill-rule=\"nonzero\" fill-opacity=\"1\" /><path clip-path=\"url(#clip360)\" d=\"M184.206 765.001 Q180.595 765.001 178.766 768.566 Q176.961 772.107 176.961 779.237 Q176.961 786.343 178.766 789.908 Q180.595 793.45 184.206 793.45 Q187.84 793.45 189.646 789.908 Q191.475 786.343 191.475 779.237 Q191.475 772.107 189.646 768.566 Q187.84 765.001 184.206 765.001 M184.206 761.297 Q190.016 761.297 193.072 765.904 Q196.151 770.487 196.151 779.237 Q196.151 787.964 193.072 792.57 Q190.016 797.153 184.206 797.153 Q178.396 797.153 175.317 792.57 Q172.262 787.964 172.262 779.237 Q172.262 770.487 175.317 765.904 Q178.396 761.297 184.206 761.297 Z\" fill=\"#000000\" fill-rule=\"nonzero\" fill-opacity=\"1\" /><path clip-path=\"url(#clip360)\" d=\"M205.855 743.493 Q202.921 743.493 201.436 746.39 Q199.969 749.267 199.969 755.06 Q199.969 760.834 201.436 763.73 Q202.921 766.608 205.855 766.608 Q208.808 766.608 210.275 763.73 Q211.761 760.834 211.761 755.06 Q211.761 749.267 210.275 746.39 Q208.808 743.493 205.855 743.493 M205.855 740.484 Q210.576 740.484 213.059 744.227 Q215.56 747.951 215.56 755.06 Q215.56 762.151 213.059 765.893 Q210.576 769.617 205.855 769.617 Q201.135 769.617 198.633 765.893 Q196.151 762.151 196.151 755.06 Q196.151 747.951 198.633 744.227 Q201.135 740.484 205.855 740.484 Z\" fill=\"#000000\" fill-rule=\"nonzero\" fill-opacity=\"1\" /><path clip-path=\"url(#clip360)\" d=\"M146.096 416.284 L153.735 416.284 L153.735 389.918 L145.425 391.585 L145.425 387.326 L153.688 385.659 L158.364 385.659 L158.364 416.284 L166.003 416.284 L166.003 420.219 L146.096 420.219 L146.096 416.284 Z\" fill=\"#000000\" fill-rule=\"nonzero\" fill-opacity=\"1\" /><path clip-path=\"url(#clip360)\" d=\"M185.448 388.738 Q181.836 388.738 180.008 392.303 Q178.202 395.844 178.202 402.974 Q178.202 410.08 180.008 413.645 Q181.836 417.187 185.448 417.187 Q189.082 417.187 190.887 413.645 Q192.716 410.08 192.716 402.974 Q192.716 395.844 190.887 392.303 Q189.082 388.738 185.448 388.738 M185.448 385.034 Q191.258 385.034 194.313 389.641 Q197.392 394.224 197.392 402.974 Q197.392 411.701 194.313 416.307 Q191.258 420.89 185.448 420.89 Q179.637 420.89 176.559 416.307 Q173.503 411.701 173.503 402.974 Q173.503 394.224 176.559 389.641 Q179.637 385.034 185.448 385.034 Z\" fill=\"#000000\" fill-rule=\"nonzero\" fill-opacity=\"1\" /><path clip-path=\"url(#clip360)\" d=\"M198.577 364.729 L213.491 364.729 L213.491 367.926 L202.056 367.926 L202.056 374.81 Q202.884 374.528 203.711 374.396 Q204.539 374.246 205.366 374.246 Q210.068 374.246 212.814 376.822 Q215.56 379.399 215.56 383.8 Q215.56 388.333 212.739 390.853 Q209.918 393.354 204.783 393.354 Q203.015 393.354 201.172 393.053 Q199.348 392.752 197.392 392.151 L197.392 388.333 Q199.085 389.254 200.89 389.706 Q202.696 390.157 204.708 390.157 Q207.962 390.157 209.861 388.445 Q211.761 386.734 211.761 383.8 Q211.761 380.866 209.861 379.154 Q207.962 377.443 204.708 377.443 Q203.185 377.443 201.661 377.781 Q200.157 378.12 198.577 378.835 L198.577 364.729 Z\" fill=\"#000000\" fill-rule=\"nonzero\" fill-opacity=\"1\" /><path clip-path=\"url(#clip360)\" d=\"M33.8307 961.116 Q33.2578 962.103 33.0032 963.28 Q32.7167 964.426 32.7167 965.826 Q32.7167 970.792 35.9632 973.465 Q39.1779 976.107 45.2253 976.107 L64.0042 976.107 L64.0042 981.995 L28.3562 981.995 L28.3562 976.107 L33.8944 976.107 Q30.6479 974.261 29.0883 971.301 Q27.4968 968.341 27.4968 964.108 Q27.4968 963.503 27.5923 962.771 Q27.656 962.039 27.8151 961.148 L33.8307 961.116 Z\" fill=\"#000000\" fill-rule=\"nonzero\" fill-opacity=\"1\" /><path clip-path=\"url(#clip360)\" d=\"M44.7161 925.913 L47.5806 925.913 L47.5806 952.84 Q53.6281 952.458 56.8109 949.212 Q59.9619 945.934 59.9619 940.109 Q59.9619 936.735 59.1344 933.584 Q58.3069 930.401 56.6518 927.282 L62.1899 927.282 Q63.5267 930.433 64.227 933.743 Q64.9272 937.053 64.9272 940.459 Q64.9272 948.989 59.9619 953.986 Q54.9967 958.952 46.5303 958.952 Q37.7774 958.952 32.6531 954.241 Q27.4968 949.498 27.4968 941.478 Q27.4968 934.284 32.1438 930.115 Q36.7589 925.913 44.7161 925.913 M42.9973 931.77 Q38.1912 931.834 35.3266 934.475 Q32.4621 937.085 32.4621 941.414 Q32.4621 946.316 35.2312 949.276 Q38.0002 952.204 43.0292 952.649 L42.9973 931.77 Z\" fill=\"#000000\" fill-rule=\"nonzero\" fill-opacity=\"1\" /><path clip-path=\"url(#clip360)\" d=\"M14.479 916.301 L14.479 910.445 L64.0042 910.445 L64.0042 916.301 L14.479 916.301 Z\" fill=\"#000000\" fill-rule=\"nonzero\" fill-opacity=\"1\" /><path clip-path=\"url(#clip360)\" d=\"M46.0847 881.99 Q46.0847 889.088 47.7079 891.825 Q49.3312 894.562 53.2461 894.562 Q56.3653 894.562 58.2114 892.525 Q60.0256 890.457 60.0256 886.924 Q60.0256 882.054 56.5881 879.126 Q53.1188 876.165 47.3897 876.165 L46.0847 876.165 L46.0847 881.99 M43.6657 870.309 L64.0042 870.309 L64.0042 876.165 L58.5933 876.165 Q61.8398 878.171 63.3994 881.163 Q64.9272 884.154 64.9272 888.483 Q64.9272 893.958 61.8716 897.204 Q58.7843 900.419 53.6281 900.419 Q47.6125 900.419 44.5569 896.408 Q41.5014 892.366 41.5014 884.377 L41.5014 876.165 L40.9285 876.165 Q36.8862 876.165 34.6901 878.839 Q32.4621 881.481 32.4621 886.287 Q32.4621 889.343 33.1941 892.239 Q33.9262 895.135 35.3903 897.809 L29.9795 897.809 Q28.7381 894.594 28.1334 891.571 Q27.4968 888.547 27.4968 885.682 Q27.4968 877.948 31.5072 874.128 Q35.5176 870.309 43.6657 870.309 Z\" fill=\"#000000\" fill-rule=\"nonzero\" fill-opacity=\"1\" /><path clip-path=\"url(#clip360)\" d=\"M18.2347 852.453 L28.3562 852.453 L28.3562 840.39 L32.9077 840.39 L32.9077 852.453 L52.2594 852.453 Q56.6199 852.453 57.8613 851.276 Q59.1026 850.066 59.1026 846.406 L59.1026 840.39 L64.0042 840.39 L64.0042 846.406 Q64.0042 853.185 61.4897 855.763 Q58.9434 858.342 52.2594 858.342 L32.9077 858.342 L32.9077 862.638 L28.3562 862.638 L28.3562 858.342 L18.2347 858.342 L18.2347 852.453 Z\" fill=\"#000000\" fill-rule=\"nonzero\" fill-opacity=\"1\" /><path clip-path=\"url(#clip360)\" d=\"M28.3562 832.688 L28.3562 826.831 L64.0042 826.831 L64.0042 832.688 L28.3562 832.688 M14.479 832.688 L14.479 826.831 L21.895 826.831 L21.895 832.688 L14.479 832.688 Z\" fill=\"#000000\" fill-rule=\"nonzero\" fill-opacity=\"1\" /><path clip-path=\"url(#clip360)\" d=\"M28.3562 818.779 L28.3562 812.572 L58.275 801.432 L28.3562 790.292 L28.3562 784.086 L64.0042 797.454 L64.0042 805.411 L28.3562 818.779 Z\" fill=\"#000000\" fill-rule=\"nonzero\" fill-opacity=\"1\" /><path clip-path=\"url(#clip360)\" d=\"M44.7161 745.509 L47.5806 745.509 L47.5806 772.436 Q53.6281 772.054 56.8109 768.808 Q59.9619 765.53 59.9619 759.705 Q59.9619 756.331 59.1344 753.18 Q58.3069 749.997 56.6518 746.878 L62.1899 746.878 Q63.5267 750.029 64.227 753.339 Q64.9272 756.649 64.9272 760.055 Q64.9272 768.585 59.9619 773.582 Q54.9967 778.547 46.5303 778.547 Q37.7774 778.547 32.6531 773.837 Q27.4968 769.094 27.4968 761.074 Q27.4968 753.88 32.1438 749.711 Q36.7589 745.509 44.7161 745.509 M42.9973 751.366 Q38.1912 751.429 35.3266 754.071 Q32.4621 756.681 32.4621 761.01 Q32.4621 765.911 35.2312 768.872 Q38.0002 771.8 43.0292 772.245 L42.9973 751.366 Z\" fill=\"#000000\" fill-rule=\"nonzero\" fill-opacity=\"1\" /><path clip-path=\"url(#clip360)\" d=\"M44.7161 684.685 L47.5806 684.685 L47.5806 711.612 Q53.6281 711.23 56.8109 707.984 Q59.9619 704.705 59.9619 698.881 Q59.9619 695.507 59.1344 692.356 Q58.3069 689.173 56.6518 686.054 L62.1899 686.054 Q63.5267 689.205 64.227 692.515 Q64.9272 695.825 64.9272 699.231 Q64.9272 707.761 59.9619 712.758 Q54.9967 717.723 46.5303 717.723 Q37.7774 717.723 32.6531 713.012 Q27.4968 708.27 27.4968 700.249 Q27.4968 693.056 32.1438 688.886 Q36.7589 684.685 44.7161 684.685 M42.9973 690.541 Q38.1912 690.605 35.3266 693.247 Q32.4621 695.857 32.4621 700.186 Q32.4621 705.087 35.2312 708.047 Q38.0002 710.975 43.0292 711.421 L42.9973 690.541 Z\" fill=\"#000000\" fill-rule=\"nonzero\" fill-opacity=\"1\" /><path clip-path=\"url(#clip360)\" d=\"M33.8307 654.416 Q33.2578 655.403 33.0032 656.58 Q32.7167 657.726 32.7167 659.127 Q32.7167 664.092 35.9632 666.766 Q39.1779 669.407 45.2253 669.407 L64.0042 669.407 L64.0042 675.296 L28.3562 675.296 L28.3562 669.407 L33.8944 669.407 Q30.6479 667.561 29.0883 664.601 Q27.4968 661.641 27.4968 657.408 Q27.4968 656.803 27.5923 656.071 Q27.656 655.339 27.8151 654.448 L33.8307 654.416 Z\" fill=\"#000000\" fill-rule=\"nonzero\" fill-opacity=\"1\" /><path clip-path=\"url(#clip360)\" d=\"M33.8307 628.762 Q33.2578 629.749 33.0032 630.927 Q32.7167 632.072 32.7167 633.473 Q32.7167 638.438 35.9632 641.112 Q39.1779 643.754 45.2253 643.754 L64.0042 643.754 L64.0042 649.642 L28.3562 649.642 L28.3562 643.754 L33.8944 643.754 Q30.6479 641.907 29.0883 638.947 Q27.4968 635.987 27.4968 631.754 Q27.4968 631.149 27.5923 630.417 Q27.656 629.685 27.8151 628.794 L33.8307 628.762 Z\" fill=\"#000000\" fill-rule=\"nonzero\" fill-opacity=\"1\" /><path clip-path=\"url(#clip360)\" d=\"M32.4621 610.238 Q32.4621 614.949 36.1542 617.686 Q39.8145 620.423 46.212 620.423 Q52.6095 620.423 56.3017 617.718 Q59.9619 614.981 59.9619 610.238 Q59.9619 605.559 56.2698 602.822 Q52.5777 600.085 46.212 600.085 Q39.8781 600.085 36.186 602.822 Q32.4621 605.559 32.4621 610.238 M27.4968 610.238 Q27.4968 602.599 32.4621 598.239 Q37.4273 593.878 46.212 593.878 Q54.9649 593.878 59.9619 598.239 Q64.9272 602.599 64.9272 610.238 Q64.9272 617.909 59.9619 622.269 Q54.9649 626.598 46.212 626.598 Q37.4273 626.598 32.4621 622.269 Q27.4968 617.909 27.4968 610.238 Z\" fill=\"#000000\" fill-rule=\"nonzero\" fill-opacity=\"1\" /><path clip-path=\"url(#clip360)\" d=\"M33.8307 563.514 Q33.2578 564.501 33.0032 565.678 Q32.7167 566.824 32.7167 568.224 Q32.7167 573.19 35.9632 575.863 Q39.1779 578.505 45.2253 578.505 L64.0042 578.505 L64.0042 584.393 L28.3562 584.393 L28.3562 578.505 L33.8944 578.505 Q30.6479 576.659 29.0883 573.699 Q27.4968 570.739 27.4968 566.506 Q27.4968 565.901 27.5923 565.169 Q27.656 564.437 27.8151 563.546 L33.8307 563.514 Z\" fill=\"#000000\" fill-rule=\"nonzero\" fill-opacity=\"1\" /><path clip-path=\"url(#clip360)\" d=\"M472.852 34.3604 L472.852 40.5583 L465.723 40.5583 Q461.712 40.5583 460.133 42.1786 Q458.593 43.799 458.593 48.0119 L458.593 52.0223 L470.867 52.0223 L470.867 57.8151 L458.593 57.8151 L458.593 97.3924 L451.099 97.3924 L451.099 57.8151 L443.969 57.8151 L443.969 52.0223 L451.099 52.0223 L451.099 48.8626 Q451.099 41.2874 454.623 37.8441 Q458.148 34.3604 465.804 34.3604 L472.852 34.3604 Z\" fill=\"#000000\" fill-rule=\"nonzero\" fill-opacity=\"1\" /><path clip-path=\"url(#clip360)\" d=\"M496.672 57.248 Q490.676 57.248 487.193 61.947 Q483.709 66.6056 483.709 74.7479 Q483.709 82.8902 487.152 87.5892 Q490.636 92.2478 496.672 92.2478 Q502.627 92.2478 506.11 87.5487 Q509.594 82.8497 509.594 74.7479 Q509.594 66.6866 506.11 61.9875 Q502.627 57.248 496.672 57.248 M496.672 50.9286 Q506.394 50.9286 511.944 57.248 Q517.493 63.5674 517.493 74.7479 Q517.493 85.8879 511.944 92.2478 Q506.394 98.5672 496.672 98.5672 Q486.909 98.5672 481.359 92.2478 Q475.85 85.8879 475.85 74.7479 Q475.85 63.5674 481.359 57.248 Q486.909 50.9286 496.672 50.9286 Z\" fill=\"#000000\" fill-rule=\"nonzero\" fill-opacity=\"1\" /><path clip-path=\"url(#clip360)\" d=\"M556.139 58.9899 Q554.883 58.2607 553.384 57.9366 Q551.926 57.572 550.144 57.572 Q543.824 57.572 540.421 61.704 Q537.059 65.7954 537.059 73.4921 L537.059 97.3924 L529.565 97.3924 L529.565 52.0223 L537.059 52.0223 L537.059 59.0709 Q539.409 54.939 543.176 52.954 Q546.943 50.9286 552.331 50.9286 Q553.101 50.9286 554.033 51.0501 Q554.964 51.1311 556.098 51.3337 L556.139 58.9899 Z\" fill=\"#000000\" fill-rule=\"nonzero\" fill-opacity=\"1\" /><path clip-path=\"url(#clip360)\" d=\"M559.623 52.0223 L567.076 52.0223 L576.393 87.4272 L585.67 52.0223 L594.461 52.0223 L603.778 87.4272 L613.054 52.0223 L620.508 52.0223 L608.639 97.3924 L599.848 97.3924 L590.086 60.2051 L580.282 97.3924 L571.492 97.3924 L559.623 52.0223 Z\" fill=\"#000000\" fill-rule=\"nonzero\" fill-opacity=\"1\" /><path clip-path=\"url(#clip360)\" d=\"M652.429 74.5858 Q643.395 74.5858 639.912 76.6518 Q636.428 78.7178 636.428 83.7004 Q636.428 87.6703 639.02 90.0198 Q641.654 92.3288 646.15 92.3288 Q652.348 92.3288 656.075 87.9538 Q659.842 83.5383 659.842 76.2467 L659.842 74.5858 L652.429 74.5858 M667.296 71.5072 L667.296 97.3924 L659.842 97.3924 L659.842 90.5059 Q657.29 94.6378 653.482 96.6228 Q649.674 98.5672 644.165 98.5672 Q637.198 98.5672 633.066 94.6783 Q628.974 90.749 628.974 84.1865 Q628.974 76.5303 634.078 72.6414 Q639.223 68.7525 649.391 68.7525 L659.842 68.7525 L659.842 68.0234 Q659.842 62.8787 656.439 60.0836 Q653.077 57.248 646.96 57.248 Q643.071 57.248 639.385 58.1797 Q635.699 59.1114 632.296 60.9748 L632.296 54.0883 Q636.387 52.5084 640.236 51.7387 Q644.084 50.9286 647.73 50.9286 Q657.574 50.9286 662.435 56.0327 Q667.296 61.1368 667.296 71.5072 Z\" fill=\"#000000\" fill-rule=\"nonzero\" fill-opacity=\"1\" /><path clip-path=\"url(#clip360)\" d=\"M708.939 58.9899 Q707.683 58.2607 706.184 57.9366 Q704.726 57.572 702.944 57.572 Q696.624 57.572 693.222 61.704 Q689.859 65.7954 689.859 73.4921 L689.859 97.3924 L682.365 97.3924 L682.365 52.0223 L689.859 52.0223 L689.859 59.0709 Q692.209 54.939 695.976 52.954 Q699.744 50.9286 705.131 50.9286 Q705.901 50.9286 706.833 51.0501 Q707.764 51.1311 708.899 51.3337 L708.939 58.9899 Z\" fill=\"#000000\" fill-rule=\"nonzero\" fill-opacity=\"1\" /><path clip-path=\"url(#clip360)\" d=\"M745.154 58.9088 L745.154 34.3604 L752.608 34.3604 L752.608 97.3924 L745.154 97.3924 L745.154 90.5869 Q742.805 94.6378 739.199 96.6228 Q735.635 98.5672 730.611 98.5672 Q722.388 98.5672 717.203 92.0047 Q712.058 85.4423 712.058 74.7479 Q712.058 64.0535 717.203 57.491 Q722.388 50.9286 730.611 50.9286 Q735.635 50.9286 739.199 52.9135 Q742.805 54.8579 745.154 58.9088 M719.755 74.7479 Q719.755 82.9712 723.117 87.6703 Q726.52 92.3288 732.434 92.3288 Q738.349 92.3288 741.751 87.6703 Q745.154 82.9712 745.154 74.7479 Q745.154 66.5245 741.751 61.866 Q738.349 57.167 732.434 57.167 Q726.52 57.167 723.117 61.866 Q719.755 66.5245 719.755 74.7479 Z\" fill=\"#000000\" fill-rule=\"nonzero\" fill-opacity=\"1\" /><path clip-path=\"url(#clip360)\" d=\"M764.193 71.3451 L786.028 71.3451 L786.028 77.9886 L764.193 77.9886 L764.193 71.3451 Z\" fill=\"#000000\" fill-rule=\"nonzero\" fill-opacity=\"1\" /><path clip-path=\"url(#clip360)\" d=\"M827.752 58.9088 L827.752 34.3604 L835.206 34.3604 L835.206 97.3924 L827.752 97.3924 L827.752 90.5869 Q825.403 94.6378 821.797 96.6228 Q818.232 98.5672 813.209 98.5672 Q804.986 98.5672 799.801 92.0047 Q794.656 85.4423 794.656 74.7479 Q794.656 64.0535 799.801 57.491 Q804.986 50.9286 813.209 50.9286 Q818.232 50.9286 821.797 52.9135 Q825.403 54.8579 827.752 58.9088 M802.353 74.7479 Q802.353 82.9712 805.715 87.6703 Q809.118 92.3288 815.032 92.3288 Q820.947 92.3288 824.349 87.6703 Q827.752 82.9712 827.752 74.7479 Q827.752 66.5245 824.349 61.866 Q820.947 57.167 815.032 57.167 Q809.118 57.167 805.715 61.866 Q802.353 66.5245 802.353 74.7479 Z\" fill=\"#000000\" fill-rule=\"nonzero\" fill-opacity=\"1\" /><path clip-path=\"url(#clip360)\" d=\"M850.559 52.0223 L858.012 52.0223 L858.012 97.3924 L850.559 97.3924 L850.559 52.0223 M850.559 34.3604 L858.012 34.3604 L858.012 43.799 L850.559 43.799 L850.559 34.3604 Z\" fill=\"#000000\" fill-rule=\"nonzero\" fill-opacity=\"1\" /><path clip-path=\"url(#clip360)\" d=\"M896.577 34.3604 L896.577 40.5583 L889.447 40.5583 Q885.437 40.5583 883.857 42.1786 Q882.318 43.799 882.318 48.0119 L882.318 52.0223 L894.592 52.0223 L894.592 57.8151 L882.318 57.8151 L882.318 97.3924 L874.824 97.3924 L874.824 57.8151 L867.694 57.8151 L867.694 52.0223 L874.824 52.0223 L874.824 48.8626 Q874.824 41.2874 878.348 37.8441 Q881.872 34.3604 889.528 34.3604 L896.577 34.3604 Z\" fill=\"#000000\" fill-rule=\"nonzero\" fill-opacity=\"1\" /><path clip-path=\"url(#clip360)\" d=\"M925.784 34.3604 L925.784 40.5583 L918.654 40.5583 Q914.644 40.5583 913.064 42.1786 Q911.525 43.799 911.525 48.0119 L911.525 52.0223 L923.799 52.0223 L923.799 57.8151 L911.525 57.8151 L911.525 97.3924 L904.031 97.3924 L904.031 57.8151 L896.901 57.8151 L896.901 52.0223 L904.031 52.0223 L904.031 48.8626 Q904.031 41.2874 907.555 37.8441 Q911.079 34.3604 918.735 34.3604 L925.784 34.3604 Z\" fill=\"#000000\" fill-rule=\"nonzero\" fill-opacity=\"1\" /><path clip-path=\"url(#clip360)\" d=\"M970.83 72.844 L970.83 76.4898 L936.559 76.4898 Q937.045 84.1865 941.177 88.2374 Q945.35 92.2478 952.763 92.2478 Q957.057 92.2478 961.067 91.1946 Q965.118 90.1413 969.088 88.0348 L969.088 95.0834 Q965.078 96.7848 960.865 97.676 Q956.652 98.5672 952.317 98.5672 Q941.461 98.5672 935.101 92.2478 Q928.782 85.9284 928.782 75.153 Q928.782 64.013 934.777 57.491 Q940.813 50.9286 951.021 50.9286 Q960.176 50.9286 965.483 56.8429 Q970.83 62.7167 970.83 72.844 M963.376 70.6565 Q963.295 64.5396 959.933 60.8938 Q956.611 57.248 951.102 57.248 Q944.864 57.248 941.096 60.7723 Q937.37 64.2966 936.802 70.697 L963.376 70.6565 Z\" fill=\"#000000\" fill-rule=\"nonzero\" fill-opacity=\"1\" /><path clip-path=\"url(#clip360)\" d=\"M1009.35 58.9899 Q1008.1 58.2607 1006.6 57.9366 Q1005.14 57.572 1003.36 57.572 Q997.039 57.572 993.637 61.704 Q990.274 65.7954 990.274 73.4921 L990.274 97.3924 L982.78 97.3924 L982.78 52.0223 L990.274 52.0223 L990.274 59.0709 Q992.624 54.939 996.391 52.954 Q1000.16 50.9286 1005.55 50.9286 Q1006.32 50.9286 1007.25 51.0501 Q1008.18 51.1311 1009.31 51.3337 L1009.35 58.9899 Z\" fill=\"#000000\" fill-rule=\"nonzero\" fill-opacity=\"1\" /><path clip-path=\"url(#clip360)\" d=\"M1054.16 72.844 L1054.16 76.4898 L1019.89 76.4898 Q1020.37 84.1865 1024.5 88.2374 Q1028.68 92.2478 1036.09 92.2478 Q1040.38 92.2478 1044.39 91.1946 Q1048.45 90.1413 1052.42 88.0348 L1052.42 95.0834 Q1048.4 96.7848 1044.19 97.676 Q1039.98 98.5672 1035.64 98.5672 Q1024.79 98.5672 1018.43 92.2478 Q1012.11 85.9284 1012.11 75.153 Q1012.11 64.013 1018.1 57.491 Q1024.14 50.9286 1034.35 50.9286 Q1043.5 50.9286 1048.81 56.8429 Q1054.16 62.7167 1054.16 72.844 M1046.7 70.6565 Q1046.62 64.5396 1043.26 60.8938 Q1039.94 57.248 1034.43 57.248 Q1028.19 57.248 1024.42 60.7723 Q1020.7 64.2966 1020.13 70.697 L1046.7 70.6565 Z\" fill=\"#000000\" fill-rule=\"nonzero\" fill-opacity=\"1\" /><path clip-path=\"url(#clip360)\" d=\"M1104.1 70.0083 L1104.1 97.3924 L1096.65 97.3924 L1096.65 70.2514 Q1096.65 63.8104 1094.14 60.6102 Q1091.63 57.41 1086.6 57.41 Q1080.57 57.41 1077.09 61.2584 Q1073.6 65.1067 1073.6 71.7502 L1073.6 97.3924 L1066.11 97.3924 L1066.11 52.0223 L1073.6 52.0223 L1073.6 59.0709 Q1076.28 54.9795 1079.88 52.954 Q1083.53 50.9286 1088.27 50.9286 Q1096.08 50.9286 1100.09 55.7897 Q1104.1 60.6102 1104.1 70.0083 Z\" fill=\"#000000\" fill-rule=\"nonzero\" fill-opacity=\"1\" /><path clip-path=\"url(#clip360)\" d=\"M1151.62 53.7642 L1151.62 60.7318 Q1148.46 58.9899 1145.26 58.1392 Q1142.1 57.248 1138.86 57.248 Q1131.61 57.248 1127.6 61.866 Q1123.59 66.4435 1123.59 74.7479 Q1123.59 83.0522 1127.6 87.6703 Q1131.61 92.2478 1138.86 92.2478 Q1142.1 92.2478 1145.26 91.3971 Q1148.46 90.5059 1151.62 88.764 L1151.62 95.6505 Q1148.5 97.1089 1145.14 97.838 Q1141.82 98.5672 1138.05 98.5672 Q1127.8 98.5672 1121.77 92.1263 Q1115.73 85.6853 1115.73 74.7479 Q1115.73 63.6484 1121.81 57.2885 Q1127.92 50.9286 1138.54 50.9286 Q1141.98 50.9286 1145.26 51.6577 Q1148.54 52.3464 1151.62 53.7642 Z\" fill=\"#000000\" fill-rule=\"nonzero\" fill-opacity=\"1\" /><path clip-path=\"url(#clip360)\" d=\"M1203.39 72.844 L1203.39 76.4898 L1169.12 76.4898 Q1169.61 84.1865 1173.74 88.2374 Q1177.91 92.2478 1185.33 92.2478 Q1189.62 92.2478 1193.63 91.1946 Q1197.68 90.1413 1201.65 88.0348 L1201.65 95.0834 Q1197.64 96.7848 1193.43 97.676 Q1189.21 98.5672 1184.88 98.5672 Q1174.02 98.5672 1167.66 92.2478 Q1161.34 85.9284 1161.34 75.153 Q1161.34 64.013 1167.34 57.491 Q1173.38 50.9286 1183.58 50.9286 Q1192.74 50.9286 1198.05 56.8429 Q1203.39 62.7167 1203.39 72.844 M1195.94 70.6565 Q1195.86 64.5396 1192.5 60.8938 Q1189.17 57.248 1183.66 57.248 Q1177.43 57.248 1173.66 60.7723 Q1169.93 64.2966 1169.36 70.697 L1195.94 70.6565 Z\" fill=\"#000000\" fill-rule=\"nonzero\" fill-opacity=\"1\" /><path clip-path=\"url(#clip360)\" d=\"M1262.62 74.5858 Q1253.58 74.5858 1250.1 76.6518 Q1246.62 78.7178 1246.62 83.7004 Q1246.62 87.6703 1249.21 90.0198 Q1251.84 92.3288 1256.34 92.3288 Q1262.54 92.3288 1266.26 87.9538 Q1270.03 83.5383 1270.03 76.2467 L1270.03 74.5858 L1262.62 74.5858 M1277.48 71.5072 L1277.48 97.3924 L1270.03 97.3924 L1270.03 90.5059 Q1267.48 94.6378 1263.67 96.6228 Q1259.86 98.5672 1254.35 98.5672 Q1247.39 98.5672 1243.25 94.6783 Q1239.16 90.749 1239.16 84.1865 Q1239.16 76.5303 1244.27 72.6414 Q1249.41 68.7525 1259.58 68.7525 L1270.03 68.7525 L1270.03 68.0234 Q1270.03 62.8787 1266.63 60.0836 Q1263.26 57.248 1257.15 57.248 Q1253.26 57.248 1249.57 58.1797 Q1245.89 59.1114 1242.48 60.9748 L1242.48 54.0883 Q1246.58 52.5084 1250.42 51.7387 Q1254.27 50.9286 1257.92 50.9286 Q1267.76 50.9286 1272.62 56.0327 Q1277.48 61.1368 1277.48 71.5072 Z\" fill=\"#000000\" fill-rule=\"nonzero\" fill-opacity=\"1\" /><path clip-path=\"url(#clip360)\" d=\"M1325.49 53.7642 L1325.49 60.7318 Q1322.33 58.9899 1319.13 58.1392 Q1315.97 57.248 1312.73 57.248 Q1305.48 57.248 1301.46 61.866 Q1297.45 66.4435 1297.45 74.7479 Q1297.45 83.0522 1301.46 87.6703 Q1305.48 92.2478 1312.73 92.2478 Q1315.97 92.2478 1319.13 91.3971 Q1322.33 90.5059 1325.49 88.764 L1325.49 95.6505 Q1322.37 97.1089 1319.01 97.838 Q1315.68 98.5672 1311.92 98.5672 Q1301.67 98.5672 1295.63 92.1263 Q1289.6 85.6853 1289.6 74.7479 Q1289.6 63.6484 1295.67 57.2885 Q1301.79 50.9286 1312.4 50.9286 Q1315.85 50.9286 1319.13 51.6577 Q1322.41 52.3464 1325.49 53.7642 Z\" fill=\"#000000\" fill-rule=\"nonzero\" fill-opacity=\"1\" /><path clip-path=\"url(#clip360)\" d=\"M1371.1 53.7642 L1371.1 60.7318 Q1367.94 58.9899 1364.74 58.1392 Q1361.58 57.248 1358.34 57.248 Q1351.09 57.248 1347.08 61.866 Q1343.07 66.4435 1343.07 74.7479 Q1343.07 83.0522 1347.08 87.6703 Q1351.09 92.2478 1358.34 92.2478 Q1361.58 92.2478 1364.74 91.3971 Q1367.94 90.5059 1371.1 88.764 L1371.1 95.6505 Q1367.98 97.1089 1364.62 97.838 Q1361.3 98.5672 1357.53 98.5672 Q1347.28 98.5672 1341.24 92.1263 Q1335.21 85.6853 1335.21 74.7479 Q1335.21 63.6484 1341.29 57.2885 Q1347.4 50.9286 1358.02 50.9286 Q1361.46 50.9286 1364.74 51.6577 Q1368.02 52.3464 1371.1 53.7642 Z\" fill=\"#000000\" fill-rule=\"nonzero\" fill-opacity=\"1\" /><path clip-path=\"url(#clip360)\" d=\"M1383.29 79.4874 L1383.29 52.0223 L1390.75 52.0223 L1390.75 79.2039 Q1390.75 85.6448 1393.26 88.8855 Q1395.77 92.0858 1400.79 92.0858 Q1406.83 92.0858 1410.31 88.2374 Q1413.84 84.389 1413.84 77.7456 L1413.84 52.0223 L1421.29 52.0223 L1421.29 97.3924 L1413.84 97.3924 L1413.84 90.4249 Q1411.12 94.5568 1407.52 96.5823 Q1403.95 98.5672 1399.21 98.5672 Q1391.39 98.5672 1387.34 93.7061 Q1383.29 88.845 1383.29 79.4874 M1402.05 50.9286 L1402.05 50.9286 Z\" fill=\"#000000\" fill-rule=\"nonzero\" fill-opacity=\"1\" /><path clip-path=\"url(#clip360)\" d=\"M1462.93 58.9899 Q1461.68 58.2607 1460.18 57.9366 Q1458.72 57.572 1456.94 57.572 Q1450.62 57.572 1447.22 61.704 Q1443.85 65.7954 1443.85 73.4921 L1443.85 97.3924 L1436.36 97.3924 L1436.36 52.0223 L1443.85 52.0223 L1443.85 59.0709 Q1446.2 54.939 1449.97 52.954 Q1453.74 50.9286 1459.13 50.9286 Q1459.9 50.9286 1460.83 51.0501 Q1461.76 51.1311 1462.89 51.3337 L1462.93 58.9899 Z\" fill=\"#000000\" fill-rule=\"nonzero\" fill-opacity=\"1\" /><path clip-path=\"url(#clip360)\" d=\"M1491.37 74.5858 Q1482.34 74.5858 1478.85 76.6518 Q1475.37 78.7178 1475.37 83.7004 Q1475.37 87.6703 1477.96 90.0198 Q1480.6 92.3288 1485.09 92.3288 Q1491.29 92.3288 1495.02 87.9538 Q1498.78 83.5383 1498.78 76.2467 L1498.78 74.5858 L1491.37 74.5858 M1506.24 71.5072 L1506.24 97.3924 L1498.78 97.3924 L1498.78 90.5059 Q1496.23 94.6378 1492.42 96.6228 Q1488.62 98.5672 1483.11 98.5672 Q1476.14 98.5672 1472.01 94.6783 Q1467.92 90.749 1467.92 84.1865 Q1467.92 76.5303 1473.02 72.6414 Q1478.17 68.7525 1488.33 68.7525 L1498.78 68.7525 L1498.78 68.0234 Q1498.78 62.8787 1495.38 60.0836 Q1492.02 57.248 1485.9 57.248 Q1482.01 57.248 1478.33 58.1797 Q1474.64 59.1114 1471.24 60.9748 L1471.24 54.0883 Q1475.33 52.5084 1479.18 51.7387 Q1483.03 50.9286 1486.67 50.9286 Q1496.52 50.9286 1501.38 56.0327 Q1506.24 61.1368 1506.24 71.5072 Z\" fill=\"#000000\" fill-rule=\"nonzero\" fill-opacity=\"1\" /><path clip-path=\"url(#clip360)\" d=\"M1554.24 53.7642 L1554.24 60.7318 Q1551.08 58.9899 1547.88 58.1392 Q1544.72 57.248 1541.48 57.248 Q1534.23 57.248 1530.22 61.866 Q1526.21 66.4435 1526.21 74.7479 Q1526.21 83.0522 1530.22 87.6703 Q1534.23 92.2478 1541.48 92.2478 Q1544.72 92.2478 1547.88 91.3971 Q1551.08 90.5059 1554.24 88.764 L1554.24 95.6505 Q1551.12 97.1089 1547.76 97.838 Q1544.44 98.5672 1540.67 98.5672 Q1530.42 98.5672 1524.39 92.1263 Q1518.35 85.6853 1518.35 74.7479 Q1518.35 63.6484 1524.43 57.2885 Q1530.54 50.9286 1541.16 50.9286 Q1544.6 50.9286 1547.88 51.6577 Q1551.16 52.3464 1554.24 53.7642 Z\" fill=\"#000000\" fill-rule=\"nonzero\" fill-opacity=\"1\" /><path clip-path=\"url(#clip360)\" d=\"M1586.08 101.605 Q1582.92 109.707 1579.92 112.178 Q1576.93 114.649 1571.9 114.649 L1565.95 114.649 L1565.95 108.411 L1570.32 108.411 Q1573.4 108.411 1575.1 106.953 Q1576.8 105.494 1578.87 100.066 L1580.21 96.6633 L1561.86 52.0223 L1569.76 52.0223 L1583.93 87.5082 L1598.11 52.0223 L1606.01 52.0223 L1586.08 101.605 Z\" fill=\"#000000\" fill-rule=\"nonzero\" fill-opacity=\"1\" /><path clip-path=\"url(#clip360)\" d=\"M1665.64 34.3604 L1665.64 40.5583 L1658.51 40.5583 Q1654.5 40.5583 1652.92 42.1786 Q1651.38 43.799 1651.38 48.0119 L1651.38 52.0223 L1663.66 52.0223 L1663.66 57.8151 L1651.38 57.8151 L1651.38 97.3924 L1643.89 97.3924 L1643.89 57.8151 L1636.76 57.8151 L1636.76 52.0223 L1643.89 52.0223 L1643.89 48.8626 Q1643.89 41.2874 1647.41 37.8441 Q1650.94 34.3604 1658.59 34.3604 L1665.64 34.3604 Z\" fill=\"#000000\" fill-rule=\"nonzero\" fill-opacity=\"1\" /><path clip-path=\"url(#clip360)\" d=\"M1689.46 57.248 Q1683.47 57.248 1679.98 61.947 Q1676.5 66.6056 1676.5 74.7479 Q1676.5 82.8902 1679.94 87.5892 Q1683.42 92.2478 1689.46 92.2478 Q1695.42 92.2478 1698.9 87.5487 Q1702.38 82.8497 1702.38 74.7479 Q1702.38 66.6866 1698.9 61.9875 Q1695.42 57.248 1689.46 57.248 M1689.46 50.9286 Q1699.18 50.9286 1704.73 57.248 Q1710.28 63.5674 1710.28 74.7479 Q1710.28 85.8879 1704.73 92.2478 Q1699.18 98.5672 1689.46 98.5672 Q1679.7 98.5672 1674.15 92.2478 Q1668.64 85.8879 1668.64 74.7479 Q1668.64 63.5674 1674.15 57.248 Q1679.7 50.9286 1689.46 50.9286 Z\" fill=\"#000000\" fill-rule=\"nonzero\" fill-opacity=\"1\" /><path clip-path=\"url(#clip360)\" d=\"M1748.93 58.9899 Q1747.67 58.2607 1746.17 57.9366 Q1744.71 57.572 1742.93 57.572 Q1736.61 57.572 1733.21 61.704 Q1729.85 65.7954 1729.85 73.4921 L1729.85 97.3924 L1722.35 97.3924 L1722.35 52.0223 L1729.85 52.0223 L1729.85 59.0709 Q1732.2 54.939 1735.96 52.954 Q1739.73 50.9286 1745.12 50.9286 Q1745.89 50.9286 1746.82 51.0501 Q1747.75 51.1311 1748.89 51.3337 L1748.93 58.9899 Z\" fill=\"#000000\" fill-rule=\"nonzero\" fill-opacity=\"1\" /><path clip-path=\"url(#clip360)\" d=\"M1817.15 43.9834 Q1817.15 46.2378 1815.71 47.6315 Q1814.32 49.0251 1812.56 49.0251 Q1811.29 49.0251 1810.34 48.2463 Q1809.44 47.4675 1809.44 46.1149 Q1809.44 44.7212 1810.51 43.2456 Q1811.57 41.77 1813.99 41.565 Q1812.39 40.0484 1809.85 40.0484 Q1808.58 40.0484 1807.52 40.8682 Q1806.49 41.647 1805.92 42.9177 Q1805.3 44.2293 1803.91 51.6484 Q1803.46 54.0668 1803.05 56.4032 Q1802.64 58.7395 1802.15 61.1989 L1809.12 61.1989 Q1810.02 61.1989 1810.39 61.2399 Q1810.75 61.2809 1811.04 61.4858 Q1811.37 61.6908 1811.37 62.1417 Q1811.37 63.2894 1810.84 63.5763 Q1810.34 63.8222 1808.87 63.8222 L1801.66 63.8222 L1796.61 90.4243 Q1796.49 91.2031 1795.96 93.6624 Q1795.47 96.0808 1794.28 100.057 Q1793.09 104.074 1791.9 106.451 Q1791.24 107.804 1790.38 109.074 Q1789.56 110.386 1788.37 111.698 Q1787.19 113.009 1785.63 113.788 Q1784.07 114.608 1782.43 114.608 Q1779.64 114.608 1777.47 113.05 Q1775.3 111.493 1775.3 108.828 Q1775.3 106.574 1776.69 105.18 Q1778.13 103.787 1779.89 103.787 Q1781.16 103.787 1782.06 104.566 Q1783.01 105.344 1783.01 106.697 Q1783.01 107.271 1782.8 107.927 Q1782.6 108.583 1782.14 109.32 Q1781.69 110.099 1780.71 110.632 Q1779.73 111.165 1778.37 111.247 Q1779.97 112.763 1782.43 112.763 Q1783.21 112.763 1783.91 112.436 Q1784.6 112.149 1785.18 111.411 Q1785.79 110.673 1786.24 109.935 Q1786.69 109.238 1787.15 107.886 Q1787.6 106.574 1787.88 105.59 Q1788.17 104.607 1788.54 102.844 Q1788.95 101.081 1789.15 100.016 Q1789.36 98.991 1789.73 96.9825 L1796 63.8222 L1790.47 63.8222 Q1789.48 63.8222 1789.07 63.7812 Q1788.7 63.7402 1788.42 63.5353 Q1788.13 63.2894 1788.13 62.7975 Q1788.13 62.0187 1788.46 61.6908 Q1788.83 61.3219 1789.24 61.2809 Q1789.65 61.1989 1790.63 61.1989 L1796.45 61.1989 Q1798.42 50.8286 1799.2 48.0413 Q1800.1 45.0901 1801.49 43.0407 Q1802.88 40.9502 1804.44 39.9665 Q1806 38.9827 1807.27 38.6138 Q1808.58 38.2039 1809.85 38.2039 Q1812.72 38.2039 1814.94 39.7615 Q1817.15 41.2781 1817.15 43.9834 Z\" fill=\"#000000\" fill-rule=\"nonzero\" fill-opacity=\"1\" /><path clip-path=\"url(#clip360)\" d=\"M1828.45 76.4059 Q1828.45 62.2236 1833.74 50.7876 Q1835.99 45.9919 1839.15 41.9749 Q1842.3 37.958 1844.39 36.1954 Q1846.48 34.4329 1847.06 34.4329 Q1847.88 34.4329 1847.92 35.2527 Q1847.92 35.6626 1846.81 36.6873 Q1833.29 50.4597 1833.33 76.4059 Q1833.33 102.434 1846.48 115.674 Q1847.92 117.108 1847.92 117.559 Q1847.92 118.379 1847.06 118.379 Q1846.48 118.379 1844.48 116.698 Q1842.47 115.018 1839.35 111.165 Q1836.24 107.312 1833.98 102.598 Q1828.45 91.1621 1828.45 76.4059 Z\" fill=\"#000000\" fill-rule=\"nonzero\" fill-opacity=\"1\" /><path clip-path=\"url(#clip360)\" d=\"M1911.89 95.7119 Q1911.89 96.4907 1911.56 96.9006 Q1911.27 97.2695 1910.99 97.3514 Q1910.74 97.3924 1910.37 97.3924 Q1909.31 97.3924 1905.62 97.2695 Q1901.93 97.1465 1900.86 97.1465 Q1899.14 97.1465 1895.62 97.2695 Q1892.09 97.3924 1890.37 97.3924 Q1889.22 97.3924 1889.22 96.4497 Q1889.22 95.8348 1889.34 95.5069 Q1889.47 95.138 1889.79 95.0151 Q1890.16 94.8511 1890.37 94.8511 Q1890.61 94.8101 1891.23 94.8101 Q1892.05 94.8101 1892.91 94.7281 Q1893.77 94.6052 1894.84 94.3592 Q1895.9 94.1133 1896.56 93.4985 Q1897.25 92.8836 1897.25 92.0228 Q1897.25 91.6539 1896.97 88.6207 Q1896.68 85.5875 1896.31 82.0624 Q1895.94 78.4964 1895.9 78.0045 L1874.83 78.0045 Q1872.91 81.3246 1871.55 83.62 Q1870.2 85.9154 1869.71 86.6942 Q1869.22 87.473 1868.93 87.9649 Q1868.64 88.4568 1868.48 88.7437 Q1867.29 90.9161 1867.29 91.8589 Q1867.29 94.4822 1871.23 94.8101 Q1872.58 94.8101 1872.58 95.7939 Q1872.58 96.5317 1872.25 96.9416 Q1871.92 97.3105 1871.64 97.3514 Q1871.39 97.3924 1870.98 97.3924 Q1869.63 97.3924 1866.8 97.2695 Q1863.97 97.1465 1862.58 97.1465 Q1861.39 97.1465 1858.93 97.2695 Q1856.47 97.3924 1855.36 97.3924 Q1854.87 97.3924 1854.59 97.1055 Q1854.3 96.8186 1854.3 96.4497 Q1854.3 95.8758 1854.38 95.5479 Q1854.5 95.22 1854.83 95.056 Q1855.16 94.8921 1855.32 94.8921 Q1855.49 94.8511 1856.06 94.8101 Q1859.18 94.6052 1861.59 93.1296 Q1864.05 91.6129 1866.39 87.719 L1895.57 38.6958 Q1895.86 38.2039 1896.07 37.958 Q1896.27 37.712 1896.68 37.5071 Q1897.13 37.3022 1897.79 37.3022 Q1898.81 37.3022 1899.02 37.6301 Q1899.22 37.917 1899.35 39.3106 L1904.47 91.7769 Q1904.59 92.8836 1904.67 93.3345 Q1904.8 93.7444 1905.33 94.1953 Q1905.9 94.6052 1906.93 94.7281 Q1907.99 94.8101 1909.96 94.8101 Q1910.7 94.8101 1910.99 94.8511 Q1911.27 94.8511 1911.56 95.056 Q1911.89 95.261 1911.89 95.7119 M1895.66 75.3812 L1892.99 47.7134 L1876.43 75.3812 L1895.66 75.3812 Z\" fill=\"#000000\" fill-rule=\"nonzero\" fill-opacity=\"1\" /><path clip-path=\"url(#clip360)\" d=\"M1918.67 117.559 Q1918.67 117.149 1919.74 116.125 Q1933.26 102.352 1933.26 76.4059 Q1933.26 50.3777 1920.27 37.2202 Q1918.67 35.7036 1918.67 35.2527 Q1918.67 34.4329 1919.49 34.4329 Q1920.06 34.4329 1922.07 36.1135 Q1924.12 37.794 1927.2 41.647 Q1930.31 45.5 1932.61 50.2138 Q1938.14 61.6498 1938.14 76.4059 Q1938.14 90.5882 1932.85 102.024 Q1930.6 106.82 1927.44 110.837 Q1924.29 114.854 1922.19 116.616 Q1920.1 118.379 1919.49 118.379 Q1918.67 118.379 1918.67 117.559 Z\" fill=\"#000000\" fill-rule=\"nonzero\" fill-opacity=\"1\" /><path clip-path=\"url(#clip360)\" d=\"M1974.19 84.6448 Q1974.28 83.62 1975.87 83.62 L2027.32 83.62 Q2029.73 83.62 2029.77 84.5628 Q2029.77 85.5875 2027.48 85.5465 L1976.45 85.5465 Q1974.19 85.5875 1974.19 84.6448 M1974.19 68.2491 Q1974.19 67.2243 1975.96 67.2653 L2027.23 67.2653 Q2029.73 67.2653 2029.77 68.2491 Q2029.77 69.1918 2027.64 69.1918 L1975.87 69.1918 Q1974.19 69.1918 1974.19 68.2491 Z\" fill=\"#000000\" fill-rule=\"nonzero\" fill-opacity=\"1\" /><path clip-path=\"url(#clip360)\" d=\"M2119.74 95.7119 Q2119.74 96.4907 2119.42 96.9006 Q2119.13 97.2695 2118.84 97.3514 Q2118.6 97.3924 2118.23 97.3924 Q2117.16 97.3924 2113.47 97.2695 Q2109.78 97.1465 2108.72 97.1465 Q2107 97.1465 2103.47 97.2695 Q2099.95 97.3924 2098.22 97.3924 Q2097.08 97.3924 2097.08 96.4497 Q2097.08 95.8348 2097.2 95.5069 Q2097.32 95.138 2097.65 95.0151 Q2098.02 94.8511 2098.22 94.8511 Q2098.47 94.8101 2099.08 94.8101 Q2099.9 94.8101 2100.77 94.7281 Q2101.63 94.6052 2102.69 94.3592 Q2103.76 94.1133 2104.41 93.4985 Q2105.11 92.8836 2105.11 92.0228 Q2105.11 91.6539 2104.82 88.6207 Q2104.54 85.5875 2104.17 82.0624 Q2103.8 78.4964 2103.76 78.0045 L2082.69 78.0045 Q2080.76 81.3246 2079.41 83.62 Q2078.06 85.9154 2077.57 86.6942 Q2077.07 87.473 2076.79 87.9649 Q2076.5 88.4568 2076.34 88.7437 Q2075.15 90.9161 2075.15 91.8589 Q2075.15 94.4822 2079.08 94.8101 Q2080.43 94.8101 2080.43 95.7939 Q2080.43 96.5317 2080.11 96.9416 Q2079.78 97.3105 2079.49 97.3514 Q2079.25 97.3924 2078.84 97.3924 Q2077.48 97.3924 2074.66 97.2695 Q2071.83 97.1465 2070.43 97.1465 Q2069.24 97.1465 2066.79 97.2695 Q2064.33 97.3924 2063.22 97.3924 Q2062.73 97.3924 2062.44 97.1055 Q2062.15 96.8186 2062.15 96.4497 Q2062.15 95.8758 2062.24 95.5479 Q2062.36 95.22 2062.69 95.056 Q2063.01 94.8921 2063.18 94.8921 Q2063.34 94.8511 2063.92 94.8101 Q2067.03 94.6052 2069.45 93.1296 Q2071.91 91.6129 2074.25 87.719 L2103.43 38.6958 Q2103.72 38.2039 2103.92 37.958 Q2104.13 37.712 2104.54 37.5071 Q2104.99 37.3022 2105.64 37.3022 Q2106.67 37.3022 2106.87 37.6301 Q2107.08 37.917 2107.2 39.3106 L2112.32 91.7769 Q2112.45 92.8836 2112.53 93.3345 Q2112.65 93.7444 2113.18 94.1953 Q2113.76 94.6052 2114.78 94.7281 Q2115.85 94.8101 2117.82 94.8101 Q2118.55 94.8101 2118.84 94.8511 Q2119.13 94.8511 2119.42 95.056 Q2119.74 95.261 2119.74 95.7119 M2103.51 75.3812 L2100.85 47.7134 L2084.29 75.3812 L2103.51 75.3812 Z\" fill=\"#000000\" fill-rule=\"nonzero\" fill-opacity=\"1\" /><path clip-path=\"url(#clip360)\" d=\"M2128.14 49.5056 Q2128.14 48.4439 2128.23 48.1283 Q2128.35 47.8127 2128.8 47.3249 L2140.08 34.7576 Q2146.25 27.814 2146.25 21.7599 Q2146.25 17.829 2144.18 15.0172 Q2142.15 12.2053 2138.39 12.2053 Q2135.81 12.2053 2133.62 13.7834 Q2131.44 15.3615 2130.44 18.1734 Q2130.61 18.116 2131.21 18.116 Q2132.68 18.116 2133.48 19.0341 Q2134.31 19.9523 2134.31 21.1861 Q2134.31 22.7642 2133.28 23.5389 Q2132.28 24.2849 2131.27 24.2849 Q2130.87 24.2849 2130.33 24.1988 Q2129.81 24.1127 2128.98 23.3093 Q2128.14 22.4772 2128.14 21.0139 Q2128.14 16.9109 2131.24 13.6399 Q2134.37 10.369 2139.13 10.369 Q2144.53 10.369 2148.06 13.5826 Q2151.61 16.7674 2151.61 21.7599 Q2151.61 23.5102 2151.07 25.1169 Q2150.55 26.695 2149.84 27.9288 Q2149.15 29.1626 2147.25 31.1424 Q2145.36 33.1221 2143.84 34.5281 Q2142.32 35.934 2138.9 38.918 L2132.68 44.9721 L2143.27 44.9721 Q2148.43 44.9721 2148.83 44.5131 Q2149.41 43.681 2150.12 39.291 L2151.61 39.291 L2149.95 49.5056 L2128.14 49.5056 Z\" fill=\"#000000\" fill-rule=\"nonzero\" fill-opacity=\"1\" /><polyline clip-path=\"url(#clip362)\" style=\"stroke:#009af9; stroke-linecap:round; stroke-linejoin:round; stroke-width:4; stroke-opacity:1; fill:none\" points=\"311.028,772.121 338.734,785.234 366.44,803.739 394.145,837.368 421.851,853.635 449.557,877.987 477.263,904.227 504.969,924.174 532.674,949.845 560.38,994.582 588.086,1015.26 615.792,1028.31 643.498,1056.78 671.203,1081.05 698.909,1109.97 726.615,1116.31 754.321,1146.96 782.027,1176.15 809.732,1203.02 837.438,1228.32 865.144,1260.56 892.85,1282.52 920.556,1302.56 948.261,1329.12 975.967,1349.51 1003.67,1363.51 1031.38,1339.43 1059.08,1314.59 1086.79,1290.15 1114.5,1265.49 1142.2,1240.94 1169.91,1216.36 1197.61,1191.79 1225.32,1167.22 1253.03,1142.65 1280.73,1118.08 1308.44,1093.5 1336.14,1068.93 1363.85,1044.36 1391.55,1019.79 1419.26,995.215 1446.97,970.642 1474.67,946.07 1502.38,921.498 1530.08,896.925 1557.79,872.353 1585.49,847.781 1613.2,823.209 1640.91,798.636 1668.61,774.064 \"/>\n",
       "<circle clip-path=\"url(#clip362)\" cx=\"311.028\" cy=\"772.121\" r=\"14.4\" fill=\"#009af9\" fill-rule=\"evenodd\" fill-opacity=\"1\" stroke=\"#000000\" stroke-opacity=\"1\" stroke-width=\"3.2\"/>\n",
       "<circle clip-path=\"url(#clip362)\" cx=\"338.734\" cy=\"785.234\" r=\"14.4\" fill=\"#009af9\" fill-rule=\"evenodd\" fill-opacity=\"1\" stroke=\"#000000\" stroke-opacity=\"1\" stroke-width=\"3.2\"/>\n",
       "<circle clip-path=\"url(#clip362)\" cx=\"366.44\" cy=\"803.739\" r=\"14.4\" fill=\"#009af9\" fill-rule=\"evenodd\" fill-opacity=\"1\" stroke=\"#000000\" stroke-opacity=\"1\" stroke-width=\"3.2\"/>\n",
       "<circle clip-path=\"url(#clip362)\" cx=\"394.145\" cy=\"837.368\" r=\"14.4\" fill=\"#009af9\" fill-rule=\"evenodd\" fill-opacity=\"1\" stroke=\"#000000\" stroke-opacity=\"1\" stroke-width=\"3.2\"/>\n",
       "<circle clip-path=\"url(#clip362)\" cx=\"421.851\" cy=\"853.635\" r=\"14.4\" fill=\"#009af9\" fill-rule=\"evenodd\" fill-opacity=\"1\" stroke=\"#000000\" stroke-opacity=\"1\" stroke-width=\"3.2\"/>\n",
       "<circle clip-path=\"url(#clip362)\" cx=\"449.557\" cy=\"877.987\" r=\"14.4\" fill=\"#009af9\" fill-rule=\"evenodd\" fill-opacity=\"1\" stroke=\"#000000\" stroke-opacity=\"1\" stroke-width=\"3.2\"/>\n",
       "<circle clip-path=\"url(#clip362)\" cx=\"477.263\" cy=\"904.227\" r=\"14.4\" fill=\"#009af9\" fill-rule=\"evenodd\" fill-opacity=\"1\" stroke=\"#000000\" stroke-opacity=\"1\" stroke-width=\"3.2\"/>\n",
       "<circle clip-path=\"url(#clip362)\" cx=\"504.969\" cy=\"924.174\" r=\"14.4\" fill=\"#009af9\" fill-rule=\"evenodd\" fill-opacity=\"1\" stroke=\"#000000\" stroke-opacity=\"1\" stroke-width=\"3.2\"/>\n",
       "<circle clip-path=\"url(#clip362)\" cx=\"532.674\" cy=\"949.845\" r=\"14.4\" fill=\"#009af9\" fill-rule=\"evenodd\" fill-opacity=\"1\" stroke=\"#000000\" stroke-opacity=\"1\" stroke-width=\"3.2\"/>\n",
       "<circle clip-path=\"url(#clip362)\" cx=\"560.38\" cy=\"994.582\" r=\"14.4\" fill=\"#009af9\" fill-rule=\"evenodd\" fill-opacity=\"1\" stroke=\"#000000\" stroke-opacity=\"1\" stroke-width=\"3.2\"/>\n",
       "<circle clip-path=\"url(#clip362)\" cx=\"588.086\" cy=\"1015.26\" r=\"14.4\" fill=\"#009af9\" fill-rule=\"evenodd\" fill-opacity=\"1\" stroke=\"#000000\" stroke-opacity=\"1\" stroke-width=\"3.2\"/>\n",
       "<circle clip-path=\"url(#clip362)\" cx=\"615.792\" cy=\"1028.31\" r=\"14.4\" fill=\"#009af9\" fill-rule=\"evenodd\" fill-opacity=\"1\" stroke=\"#000000\" stroke-opacity=\"1\" stroke-width=\"3.2\"/>\n",
       "<circle clip-path=\"url(#clip362)\" cx=\"643.498\" cy=\"1056.78\" r=\"14.4\" fill=\"#009af9\" fill-rule=\"evenodd\" fill-opacity=\"1\" stroke=\"#000000\" stroke-opacity=\"1\" stroke-width=\"3.2\"/>\n",
       "<circle clip-path=\"url(#clip362)\" cx=\"671.203\" cy=\"1081.05\" r=\"14.4\" fill=\"#009af9\" fill-rule=\"evenodd\" fill-opacity=\"1\" stroke=\"#000000\" stroke-opacity=\"1\" stroke-width=\"3.2\"/>\n",
       "<circle clip-path=\"url(#clip362)\" cx=\"698.909\" cy=\"1109.97\" r=\"14.4\" fill=\"#009af9\" fill-rule=\"evenodd\" fill-opacity=\"1\" stroke=\"#000000\" stroke-opacity=\"1\" stroke-width=\"3.2\"/>\n",
       "<circle clip-path=\"url(#clip362)\" cx=\"726.615\" cy=\"1116.31\" r=\"14.4\" fill=\"#009af9\" fill-rule=\"evenodd\" fill-opacity=\"1\" stroke=\"#000000\" stroke-opacity=\"1\" stroke-width=\"3.2\"/>\n",
       "<circle clip-path=\"url(#clip362)\" cx=\"754.321\" cy=\"1146.96\" r=\"14.4\" fill=\"#009af9\" fill-rule=\"evenodd\" fill-opacity=\"1\" stroke=\"#000000\" stroke-opacity=\"1\" stroke-width=\"3.2\"/>\n",
       "<circle clip-path=\"url(#clip362)\" cx=\"782.027\" cy=\"1176.15\" r=\"14.4\" fill=\"#009af9\" fill-rule=\"evenodd\" fill-opacity=\"1\" stroke=\"#000000\" stroke-opacity=\"1\" stroke-width=\"3.2\"/>\n",
       "<circle clip-path=\"url(#clip362)\" cx=\"809.732\" cy=\"1203.02\" r=\"14.4\" fill=\"#009af9\" fill-rule=\"evenodd\" fill-opacity=\"1\" stroke=\"#000000\" stroke-opacity=\"1\" stroke-width=\"3.2\"/>\n",
       "<circle clip-path=\"url(#clip362)\" cx=\"837.438\" cy=\"1228.32\" r=\"14.4\" fill=\"#009af9\" fill-rule=\"evenodd\" fill-opacity=\"1\" stroke=\"#000000\" stroke-opacity=\"1\" stroke-width=\"3.2\"/>\n",
       "<circle clip-path=\"url(#clip362)\" cx=\"865.144\" cy=\"1260.56\" r=\"14.4\" fill=\"#009af9\" fill-rule=\"evenodd\" fill-opacity=\"1\" stroke=\"#000000\" stroke-opacity=\"1\" stroke-width=\"3.2\"/>\n",
       "<circle clip-path=\"url(#clip362)\" cx=\"892.85\" cy=\"1282.52\" r=\"14.4\" fill=\"#009af9\" fill-rule=\"evenodd\" fill-opacity=\"1\" stroke=\"#000000\" stroke-opacity=\"1\" stroke-width=\"3.2\"/>\n",
       "<circle clip-path=\"url(#clip362)\" cx=\"920.556\" cy=\"1302.56\" r=\"14.4\" fill=\"#009af9\" fill-rule=\"evenodd\" fill-opacity=\"1\" stroke=\"#000000\" stroke-opacity=\"1\" stroke-width=\"3.2\"/>\n",
       "<circle clip-path=\"url(#clip362)\" cx=\"948.261\" cy=\"1329.12\" r=\"14.4\" fill=\"#009af9\" fill-rule=\"evenodd\" fill-opacity=\"1\" stroke=\"#000000\" stroke-opacity=\"1\" stroke-width=\"3.2\"/>\n",
       "<circle clip-path=\"url(#clip362)\" cx=\"975.967\" cy=\"1349.51\" r=\"14.4\" fill=\"#009af9\" fill-rule=\"evenodd\" fill-opacity=\"1\" stroke=\"#000000\" stroke-opacity=\"1\" stroke-width=\"3.2\"/>\n",
       "<circle clip-path=\"url(#clip362)\" cx=\"1003.67\" cy=\"1363.51\" r=\"14.4\" fill=\"#009af9\" fill-rule=\"evenodd\" fill-opacity=\"1\" stroke=\"#000000\" stroke-opacity=\"1\" stroke-width=\"3.2\"/>\n",
       "<circle clip-path=\"url(#clip362)\" cx=\"1031.38\" cy=\"1339.43\" r=\"14.4\" fill=\"#009af9\" fill-rule=\"evenodd\" fill-opacity=\"1\" stroke=\"#000000\" stroke-opacity=\"1\" stroke-width=\"3.2\"/>\n",
       "<circle clip-path=\"url(#clip362)\" cx=\"1059.08\" cy=\"1314.59\" r=\"14.4\" fill=\"#009af9\" fill-rule=\"evenodd\" fill-opacity=\"1\" stroke=\"#000000\" stroke-opacity=\"1\" stroke-width=\"3.2\"/>\n",
       "<circle clip-path=\"url(#clip362)\" cx=\"1086.79\" cy=\"1290.15\" r=\"14.4\" fill=\"#009af9\" fill-rule=\"evenodd\" fill-opacity=\"1\" stroke=\"#000000\" stroke-opacity=\"1\" stroke-width=\"3.2\"/>\n",
       "<circle clip-path=\"url(#clip362)\" cx=\"1114.5\" cy=\"1265.49\" r=\"14.4\" fill=\"#009af9\" fill-rule=\"evenodd\" fill-opacity=\"1\" stroke=\"#000000\" stroke-opacity=\"1\" stroke-width=\"3.2\"/>\n",
       "<circle clip-path=\"url(#clip362)\" cx=\"1142.2\" cy=\"1240.94\" r=\"14.4\" fill=\"#009af9\" fill-rule=\"evenodd\" fill-opacity=\"1\" stroke=\"#000000\" stroke-opacity=\"1\" stroke-width=\"3.2\"/>\n",
       "<circle clip-path=\"url(#clip362)\" cx=\"1169.91\" cy=\"1216.36\" r=\"14.4\" fill=\"#009af9\" fill-rule=\"evenodd\" fill-opacity=\"1\" stroke=\"#000000\" stroke-opacity=\"1\" stroke-width=\"3.2\"/>\n",
       "<circle clip-path=\"url(#clip362)\" cx=\"1197.61\" cy=\"1191.79\" r=\"14.4\" fill=\"#009af9\" fill-rule=\"evenodd\" fill-opacity=\"1\" stroke=\"#000000\" stroke-opacity=\"1\" stroke-width=\"3.2\"/>\n",
       "<circle clip-path=\"url(#clip362)\" cx=\"1225.32\" cy=\"1167.22\" r=\"14.4\" fill=\"#009af9\" fill-rule=\"evenodd\" fill-opacity=\"1\" stroke=\"#000000\" stroke-opacity=\"1\" stroke-width=\"3.2\"/>\n",
       "<circle clip-path=\"url(#clip362)\" cx=\"1253.03\" cy=\"1142.65\" r=\"14.4\" fill=\"#009af9\" fill-rule=\"evenodd\" fill-opacity=\"1\" stroke=\"#000000\" stroke-opacity=\"1\" stroke-width=\"3.2\"/>\n",
       "<circle clip-path=\"url(#clip362)\" cx=\"1280.73\" cy=\"1118.08\" r=\"14.4\" fill=\"#009af9\" fill-rule=\"evenodd\" fill-opacity=\"1\" stroke=\"#000000\" stroke-opacity=\"1\" stroke-width=\"3.2\"/>\n",
       "<circle clip-path=\"url(#clip362)\" cx=\"1308.44\" cy=\"1093.5\" r=\"14.4\" fill=\"#009af9\" fill-rule=\"evenodd\" fill-opacity=\"1\" stroke=\"#000000\" stroke-opacity=\"1\" stroke-width=\"3.2\"/>\n",
       "<circle clip-path=\"url(#clip362)\" cx=\"1336.14\" cy=\"1068.93\" r=\"14.4\" fill=\"#009af9\" fill-rule=\"evenodd\" fill-opacity=\"1\" stroke=\"#000000\" stroke-opacity=\"1\" stroke-width=\"3.2\"/>\n",
       "<circle clip-path=\"url(#clip362)\" cx=\"1363.85\" cy=\"1044.36\" r=\"14.4\" fill=\"#009af9\" fill-rule=\"evenodd\" fill-opacity=\"1\" stroke=\"#000000\" stroke-opacity=\"1\" stroke-width=\"3.2\"/>\n",
       "<circle clip-path=\"url(#clip362)\" cx=\"1391.55\" cy=\"1019.79\" r=\"14.4\" fill=\"#009af9\" fill-rule=\"evenodd\" fill-opacity=\"1\" stroke=\"#000000\" stroke-opacity=\"1\" stroke-width=\"3.2\"/>\n",
       "<circle clip-path=\"url(#clip362)\" cx=\"1419.26\" cy=\"995.215\" r=\"14.4\" fill=\"#009af9\" fill-rule=\"evenodd\" fill-opacity=\"1\" stroke=\"#000000\" stroke-opacity=\"1\" stroke-width=\"3.2\"/>\n",
       "<circle clip-path=\"url(#clip362)\" cx=\"1446.97\" cy=\"970.642\" r=\"14.4\" fill=\"#009af9\" fill-rule=\"evenodd\" fill-opacity=\"1\" stroke=\"#000000\" stroke-opacity=\"1\" stroke-width=\"3.2\"/>\n",
       "<circle clip-path=\"url(#clip362)\" cx=\"1474.67\" cy=\"946.07\" r=\"14.4\" fill=\"#009af9\" fill-rule=\"evenodd\" fill-opacity=\"1\" stroke=\"#000000\" stroke-opacity=\"1\" stroke-width=\"3.2\"/>\n",
       "<circle clip-path=\"url(#clip362)\" cx=\"1502.38\" cy=\"921.498\" r=\"14.4\" fill=\"#009af9\" fill-rule=\"evenodd\" fill-opacity=\"1\" stroke=\"#000000\" stroke-opacity=\"1\" stroke-width=\"3.2\"/>\n",
       "<circle clip-path=\"url(#clip362)\" cx=\"1530.08\" cy=\"896.925\" r=\"14.4\" fill=\"#009af9\" fill-rule=\"evenodd\" fill-opacity=\"1\" stroke=\"#000000\" stroke-opacity=\"1\" stroke-width=\"3.2\"/>\n",
       "<circle clip-path=\"url(#clip362)\" cx=\"1557.79\" cy=\"872.353\" r=\"14.4\" fill=\"#009af9\" fill-rule=\"evenodd\" fill-opacity=\"1\" stroke=\"#000000\" stroke-opacity=\"1\" stroke-width=\"3.2\"/>\n",
       "<circle clip-path=\"url(#clip362)\" cx=\"1585.49\" cy=\"847.781\" r=\"14.4\" fill=\"#009af9\" fill-rule=\"evenodd\" fill-opacity=\"1\" stroke=\"#000000\" stroke-opacity=\"1\" stroke-width=\"3.2\"/>\n",
       "<circle clip-path=\"url(#clip362)\" cx=\"1613.2\" cy=\"823.209\" r=\"14.4\" fill=\"#009af9\" fill-rule=\"evenodd\" fill-opacity=\"1\" stroke=\"#000000\" stroke-opacity=\"1\" stroke-width=\"3.2\"/>\n",
       "<circle clip-path=\"url(#clip362)\" cx=\"1640.91\" cy=\"798.636\" r=\"14.4\" fill=\"#009af9\" fill-rule=\"evenodd\" fill-opacity=\"1\" stroke=\"#000000\" stroke-opacity=\"1\" stroke-width=\"3.2\"/>\n",
       "<circle clip-path=\"url(#clip362)\" cx=\"1668.61\" cy=\"774.064\" r=\"14.4\" fill=\"#009af9\" fill-rule=\"evenodd\" fill-opacity=\"1\" stroke=\"#000000\" stroke-opacity=\"1\" stroke-width=\"3.2\"/>\n",
       "<polyline clip-path=\"url(#clip362)\" style=\"stroke:#e26f46; stroke-linecap:round; stroke-linejoin:round; stroke-width:4; stroke-opacity:1; fill:none\" points=\"935.704,1374.78 963.41,1350.2 991.116,1325.63 1018.82,1301.06 1046.53,1276.49 1074.23,1251.91 1101.94,1227.34 1129.64,1202.77 1157.35,1178.2 1185.06,1153.62 1212.76,1129.05 1240.47,1104.48 1268.17,1079.91 1295.88,1055.34 1323.59,1030.76 1351.29,1006.19 1379,981.619 1406.7,957.047 1434.41,932.474 1462.11,907.902 1489.82,883.33 1517.53,858.758 1545.23,834.185 1572.94,809.613 1600.64,785.041 1628.35,760.468 1656.05,735.896 1683.76,711.324 1711.47,686.752 1739.17,662.179 1766.88,637.607 1794.58,613.035 1822.29,588.463 1850,563.89 1877.7,539.318 1905.41,514.746 1933.11,490.173 1960.82,465.601 1988.52,441.029 2016.23,416.457 2043.94,391.884 2071.64,367.312 2099.35,342.74 2127.05,318.167 2154.76,293.595 2182.46,269.023 2210.17,244.451 2237.88,219.878 2265.58,195.306 2293.29,170.734 \"/>\n",
       "<path clip-path=\"url(#clip360)\" d=\"M1583.24 332.675 L2282.72 332.675 L2282.72 177.155 L1583.24 177.155  Z\" fill=\"#ffffff\" fill-rule=\"evenodd\" fill-opacity=\"1\"/>\n",
       "<polyline clip-path=\"url(#clip360)\" style=\"stroke:#000000; stroke-linecap:round; stroke-linejoin:round; stroke-width:4; stroke-opacity:1; fill:none\" points=\"1583.24,332.675 2282.72,332.675 2282.72,177.155 1583.24,177.155 1583.24,332.675 \"/>\n",
       "<polyline clip-path=\"url(#clip360)\" style=\"stroke:#009af9; stroke-linecap:round; stroke-linejoin:round; stroke-width:4; stroke-opacity:1; fill:none\" points=\"1606.59,228.995 1746.67,228.995 \"/>\n",
       "<circle clip-path=\"url(#clip360)\" cx=\"1676.63\" cy=\"228.995\" r=\"19.4555\" fill=\"#009af9\" fill-rule=\"evenodd\" fill-opacity=\"1\" stroke=\"#000000\" stroke-opacity=\"1\" stroke-width=\"4.55111\"/>\n",
       "<path clip-path=\"url(#clip360)\" d=\"M1794.04 232.248 L1794.04 234.331 L1774.46 234.331 Q1774.74 238.729 1777.1 241.044 Q1779.48 243.336 1783.72 243.336 Q1786.17 243.336 1788.47 242.734 Q1790.78 242.132 1793.05 240.928 L1793.05 244.956 Q1790.76 245.928 1788.35 246.437 Q1785.94 246.947 1783.47 246.947 Q1777.26 246.947 1773.63 243.336 Q1770.02 239.724 1770.02 233.567 Q1770.02 227.201 1773.44 223.475 Q1776.89 219.725 1782.72 219.725 Q1787.96 219.725 1790.99 223.104 Q1794.04 226.461 1794.04 232.248 M1789.79 230.998 Q1789.74 227.502 1787.82 225.419 Q1785.92 223.336 1782.77 223.336 Q1779.21 223.336 1777.05 225.35 Q1774.92 227.363 1774.6 231.021 L1789.79 230.998 Z\" fill=\"#000000\" fill-rule=\"nonzero\" fill-opacity=\"1\" /><path clip-path=\"url(#clip360)\" d=\"M1816.06 224.331 Q1815.34 223.914 1814.48 223.729 Q1813.65 223.521 1812.63 223.521 Q1809.02 223.521 1807.08 225.882 Q1805.16 228.22 1805.16 232.618 L1805.16 246.275 L1800.87 246.275 L1800.87 220.35 L1805.16 220.35 L1805.16 224.377 Q1806.5 222.016 1808.65 220.882 Q1810.8 219.725 1813.88 219.725 Q1814.32 219.725 1814.85 219.794 Q1815.39 219.84 1816.03 219.956 L1816.06 224.331 Z\" fill=\"#000000\" fill-rule=\"nonzero\" fill-opacity=\"1\" /><path clip-path=\"url(#clip360)\" d=\"M1834.72 224.331 Q1834 223.914 1833.14 223.729 Q1832.31 223.521 1831.29 223.521 Q1827.68 223.521 1825.73 225.882 Q1823.81 228.22 1823.81 232.618 L1823.81 246.275 L1819.53 246.275 L1819.53 220.35 L1823.81 220.35 L1823.81 224.377 Q1825.16 222.016 1827.31 220.882 Q1829.46 219.725 1832.54 219.725 Q1832.98 219.725 1833.51 219.794 Q1834.04 219.84 1834.69 219.956 L1834.72 224.331 Z\" fill=\"#000000\" fill-rule=\"nonzero\" fill-opacity=\"1\" /><path clip-path=\"url(#clip360)\" d=\"M1848.19 223.336 Q1844.76 223.336 1842.77 226.021 Q1840.78 228.683 1840.78 233.336 Q1840.78 237.988 1842.75 240.674 Q1844.74 243.336 1848.19 243.336 Q1851.59 243.336 1853.58 240.65 Q1855.57 237.965 1855.57 233.336 Q1855.57 228.729 1853.58 226.044 Q1851.59 223.336 1848.19 223.336 M1848.19 219.725 Q1853.74 219.725 1856.91 223.336 Q1860.09 226.947 1860.09 233.336 Q1860.09 239.701 1856.91 243.336 Q1853.74 246.947 1848.19 246.947 Q1842.61 246.947 1839.44 243.336 Q1836.29 239.701 1836.29 233.336 Q1836.29 226.947 1839.44 223.336 Q1842.61 219.725 1848.19 219.725 Z\" fill=\"#000000\" fill-rule=\"nonzero\" fill-opacity=\"1\" /><path clip-path=\"url(#clip360)\" d=\"M1882.17 224.331 Q1881.45 223.914 1880.59 223.729 Q1879.76 223.521 1878.74 223.521 Q1875.13 223.521 1873.19 225.882 Q1871.27 228.22 1871.27 232.618 L1871.27 246.275 L1866.98 246.275 L1866.98 220.35 L1871.27 220.35 L1871.27 224.377 Q1872.61 222.016 1874.76 220.882 Q1876.91 219.725 1879.99 219.725 Q1880.43 219.725 1880.97 219.794 Q1881.5 219.84 1882.15 219.956 L1882.17 224.331 Z\" fill=\"#000000\" fill-rule=\"nonzero\" fill-opacity=\"1\" /><polyline clip-path=\"url(#clip360)\" style=\"stroke:#e26f46; stroke-linecap:round; stroke-linejoin:round; stroke-width:4; stroke-opacity:1; fill:none\" points=\"1606.59,280.835 1746.67,280.835 \"/>\n",
       "<path clip-path=\"url(#clip360)\" d=\"M1770.02 256.692 L1774.28 256.692 L1774.28 292.71 L1770.02 292.71 L1770.02 256.692 Z\" fill=\"#000000\" fill-rule=\"nonzero\" fill-opacity=\"1\" /><path clip-path=\"url(#clip360)\" d=\"M1783.19 266.785 L1787.45 266.785 L1787.45 292.71 L1783.19 292.71 L1783.19 266.785 M1783.19 256.692 L1787.45 256.692 L1787.45 262.086 L1783.19 262.086 L1783.19 256.692 Z\" fill=\"#000000\" fill-rule=\"nonzero\" fill-opacity=\"1\" /><path clip-path=\"url(#clip360)\" d=\"M1817.91 277.062 L1817.91 292.71 L1813.65 292.71 L1813.65 277.201 Q1813.65 273.521 1812.22 271.692 Q1810.78 269.863 1807.91 269.863 Q1804.46 269.863 1802.47 272.062 Q1800.48 274.261 1800.48 278.058 L1800.48 292.71 L1796.2 292.71 L1796.2 266.785 L1800.48 266.785 L1800.48 270.812 Q1802.01 268.474 1804.07 267.317 Q1806.15 266.16 1808.86 266.16 Q1813.33 266.16 1815.62 268.937 Q1817.91 271.692 1817.91 277.062 Z\" fill=\"#000000\" fill-rule=\"nonzero\" fill-opacity=\"1\" /><path clip-path=\"url(#clip360)\" d=\"M1848.58 278.683 L1848.58 280.766 L1829 280.766 Q1829.28 285.164 1831.64 287.479 Q1834.02 289.771 1838.26 289.771 Q1840.71 289.771 1843 289.169 Q1845.32 288.567 1847.59 287.363 L1847.59 291.391 Q1845.29 292.363 1842.89 292.872 Q1840.48 293.382 1838 293.382 Q1831.8 293.382 1828.16 289.771 Q1824.55 286.159 1824.55 280.002 Q1824.55 273.636 1827.98 269.91 Q1831.43 266.16 1837.26 266.16 Q1842.49 266.16 1845.53 269.539 Q1848.58 272.896 1848.58 278.683 M1844.32 277.433 Q1844.28 273.937 1842.35 271.854 Q1840.46 269.771 1837.31 269.771 Q1833.74 269.771 1831.59 271.785 Q1829.46 273.798 1829.14 277.456 L1844.32 277.433 Z\" fill=\"#000000\" fill-rule=\"nonzero\" fill-opacity=\"1\" /><path clip-path=\"url(#clip360)\" d=\"M1867.35 279.678 Q1862.19 279.678 1860.2 280.859 Q1858.21 282.039 1858.21 284.886 Q1858.21 287.155 1859.69 288.497 Q1861.2 289.817 1863.77 289.817 Q1867.31 289.817 1869.44 287.317 Q1871.59 284.794 1871.59 280.627 L1871.59 279.678 L1867.35 279.678 M1875.85 277.919 L1875.85 292.71 L1871.59 292.71 L1871.59 288.775 Q1870.13 291.136 1867.96 292.271 Q1865.78 293.382 1862.63 293.382 Q1858.65 293.382 1856.29 291.159 Q1853.95 288.914 1853.95 285.164 Q1853.95 280.789 1856.87 278.567 Q1859.81 276.345 1865.62 276.345 L1871.59 276.345 L1871.59 275.928 Q1871.59 272.988 1869.65 271.391 Q1867.72 269.771 1864.23 269.771 Q1862.01 269.771 1859.9 270.303 Q1857.79 270.835 1855.85 271.9 L1855.85 267.965 Q1858.19 267.062 1860.39 266.623 Q1862.59 266.16 1864.67 266.16 Q1870.29 266.16 1873.07 269.076 Q1875.85 271.993 1875.85 277.919 Z\" fill=\"#000000\" fill-rule=\"nonzero\" fill-opacity=\"1\" /><path clip-path=\"url(#clip360)\" d=\"M1899.65 270.766 Q1898.93 270.349 1898.07 270.164 Q1897.24 269.956 1896.22 269.956 Q1892.61 269.956 1890.66 272.317 Q1888.74 274.655 1888.74 279.053 L1888.74 292.71 L1884.46 292.71 L1884.46 266.785 L1888.74 266.785 L1888.74 270.812 Q1890.09 268.451 1892.24 267.317 Q1894.39 266.16 1897.47 266.16 Q1897.91 266.16 1898.44 266.229 Q1898.97 266.275 1899.62 266.391 L1899.65 270.766 Z\" fill=\"#000000\" fill-rule=\"nonzero\" fill-opacity=\"1\" /><path clip-path=\"url(#clip360)\" d=\"M1914.71 303.227 L1914.71 258.209 Q1914.71 256.78 1915.68 256.78 Q1916.64 256.78 1916.64 258.279 L1916.64 303.11 Q1916.64 304.656 1915.68 304.656 Q1914.71 304.656 1914.71 303.227 M1920.01 303.227 L1920.01 258.56 Q1920.01 256.78 1920.97 256.78 Q1921.93 256.78 1921.93 258.279 L1921.93 303.11 Q1921.93 304.656 1920.97 304.656 Q1920.01 304.656 1920.01 303.227 Z\" fill=\"#000000\" fill-rule=\"nonzero\" fill-opacity=\"1\" /><path clip-path=\"url(#clip360)\" d=\"M1954.64 260.715 Q1954.64 261.067 1954.38 261.582 Q1954.15 262.05 1953.65 262.355 Q1953.18 262.636 1952.67 262.636 Q1952.51 262.636 1952.13 262.542 Q1951.5 262.261 1950.51 261.629 Q1949.53 260.996 1948.64 260.598 Q1947.77 260.177 1946.81 260.13 Q1945.97 260.13 1945.27 260.434 Q1944.64 260.786 1944.21 261.535 Q1944.03 261.84 1944.03 262.355 Q1944.03 263.081 1944.42 264.041 Q1944.82 265.002 1945.64 266.243 Q1946.49 267.484 1947.09 268.328 Q1947.7 269.147 1948.76 270.506 Q1948.85 270.623 1948.9 270.693 Q1948.95 270.74 1949.02 270.857 Q1949.09 270.951 1949.16 271.021 Q1951.38 273.808 1951.94 276.877 Q1952.08 277.954 1952.08 279.078 Q1952.08 281.327 1951.4 283.974 Q1950.82 286.386 1949.58 288.471 Q1948.34 290.532 1946.46 291.891 Q1944.61 293.249 1942.6 293.249 Q1940.61 293.249 1938.97 292.382 Q1937.33 291.492 1936.34 289.97 Q1935.01 287.956 1935.01 285.168 Q1935.01 283.599 1935.38 282.264 Q1935.9 280.132 1937.12 278.165 Q1938.33 276.198 1940.09 274.675 Q1942.76 272.427 1945.67 271.794 Q1944.31 269.218 1943.51 267.227 Q1942.74 265.212 1942.74 263.503 Q1942.74 262.004 1943.3 261.043 Q1943.79 260.013 1944.8 259.427 Q1945.64 258.912 1946.86 258.654 Q1947.61 258.56 1948.1 258.56 Q1949.77 258.56 1953.63 259.474 Q1954.64 259.708 1954.64 260.715 M1948.78 280.999 Q1948.78 279.57 1948.55 278.61 Q1948.1 276.268 1946.32 273.035 L1946.18 272.801 Q1943.91 273.457 1942.06 275.448 Q1939.74 277.884 1938.57 282.498 Q1937.94 285.075 1937.94 286.527 Q1937.94 288.096 1938.52 289.455 Q1939.08 290.719 1940.14 291.446 Q1941.22 292.172 1942.64 292.172 Q1943.72 292.172 1944.66 291.563 Q1945.6 290.93 1946.28 289.829 Q1946.95 288.729 1947.42 287.534 Q1947.91 286.316 1948.29 284.887 Q1948.78 282.967 1948.78 280.999 Z\" fill=\"#000000\" fill-rule=\"nonzero\" fill-opacity=\"1\" /><path clip-path=\"url(#clip360)\" d=\"M1989.96 291.75 Q1989.96 292.195 1989.77 292.429 Q1989.61 292.64 1989.44 292.687 Q1989.3 292.71 1989.09 292.71 Q1988.48 292.71 1986.38 292.64 Q1984.27 292.57 1983.66 292.57 Q1982.68 292.57 1980.66 292.64 Q1978.65 292.71 1977.66 292.71 Q1977.01 292.71 1977.01 292.172 Q1977.01 291.82 1977.08 291.633 Q1977.15 291.422 1977.34 291.352 Q1977.55 291.258 1977.66 291.258 Q1977.8 291.235 1978.16 291.235 Q1978.62 291.235 1979.12 291.188 Q1979.61 291.118 1980.22 290.977 Q1980.83 290.837 1981.2 290.485 Q1981.6 290.134 1981.6 289.642 Q1981.6 289.431 1981.43 287.698 Q1981.27 285.965 1981.06 283.95 Q1980.85 281.913 1980.83 281.632 L1968.79 281.632 Q1967.69 283.529 1966.91 284.84 Q1966.14 286.152 1965.86 286.597 Q1965.58 287.042 1965.41 287.323 Q1965.25 287.604 1965.16 287.768 Q1964.48 289.01 1964.48 289.548 Q1964.48 291.047 1966.73 291.235 Q1967.5 291.235 1967.5 291.797 Q1967.5 292.218 1967.31 292.453 Q1967.12 292.664 1966.96 292.687 Q1966.82 292.71 1966.58 292.71 Q1965.81 292.71 1964.2 292.64 Q1962.58 292.57 1961.78 292.57 Q1961.1 292.57 1959.7 292.64 Q1958.29 292.71 1957.66 292.71 Q1957.38 292.71 1957.22 292.546 Q1957.05 292.382 1957.05 292.172 Q1957.05 291.844 1957.1 291.656 Q1957.17 291.469 1957.36 291.375 Q1957.54 291.282 1957.64 291.282 Q1957.73 291.258 1958.06 291.235 Q1959.84 291.118 1961.22 290.274 Q1962.63 289.408 1963.96 287.183 L1980.64 259.169 Q1980.8 258.888 1980.92 258.748 Q1981.04 258.607 1981.27 258.49 Q1981.53 258.373 1981.9 258.373 Q1982.49 258.373 1982.61 258.56 Q1982.72 258.724 1982.79 259.521 L1985.72 289.501 Q1985.79 290.134 1985.84 290.392 Q1985.91 290.626 1986.21 290.883 Q1986.54 291.118 1987.13 291.188 Q1987.74 291.235 1988.86 291.235 Q1989.28 291.235 1989.44 291.258 Q1989.61 291.258 1989.77 291.375 Q1989.96 291.492 1989.96 291.75 M1980.68 280.132 L1979.16 264.322 L1969.7 280.132 L1980.68 280.132 Z\" fill=\"#000000\" fill-rule=\"nonzero\" fill-opacity=\"1\" /><path clip-path=\"url(#clip360)\" d=\"M1996.71 303.227 L1996.71 258.209 Q1996.71 256.78 1997.67 256.78 Q1998.63 256.78 1998.63 258.279 L1998.63 303.11 Q1998.63 304.656 1997.67 304.656 Q1996.71 304.656 1996.71 303.227 M2002 303.227 L2002 258.56 Q2002 256.78 2002.96 256.78 Q2003.92 256.78 2003.92 258.279 L2003.92 303.11 Q2003.92 304.656 2002.96 304.656 Q2002 304.656 2002 303.227 Z\" fill=\"#000000\" fill-rule=\"nonzero\" fill-opacity=\"1\" /><path clip-path=\"url(#clip360)\" d=\"M2055.02 270.766 Q2054.3 270.349 2053.44 270.164 Q2052.61 269.956 2051.59 269.956 Q2047.98 269.956 2046.04 272.317 Q2044.12 274.655 2044.12 279.053 L2044.12 292.71 L2039.83 292.71 L2039.83 266.785 L2044.12 266.785 L2044.12 270.812 Q2045.46 268.451 2047.61 267.317 Q2049.76 266.16 2052.84 266.16 Q2053.28 266.16 2053.81 266.229 Q2054.35 266.275 2055 266.391 L2055.02 270.766 Z\" fill=\"#000000\" fill-rule=\"nonzero\" fill-opacity=\"1\" /><path clip-path=\"url(#clip360)\" d=\"M2080.62 278.683 L2080.62 280.766 L2061.04 280.766 Q2061.31 285.164 2063.68 287.479 Q2066.06 289.771 2070.3 289.771 Q2072.75 289.771 2075.04 289.169 Q2077.36 288.567 2079.63 287.363 L2079.63 291.391 Q2077.33 292.363 2074.93 292.872 Q2072.52 293.382 2070.04 293.382 Q2063.84 293.382 2060.2 289.771 Q2056.59 286.159 2056.59 280.002 Q2056.59 273.636 2060.02 269.91 Q2063.47 266.16 2069.3 266.16 Q2074.53 266.16 2077.56 269.539 Q2080.62 272.896 2080.62 278.683 M2076.36 277.433 Q2076.31 273.937 2074.39 271.854 Q2072.5 269.771 2069.35 269.771 Q2065.78 269.771 2063.63 271.785 Q2061.5 273.798 2061.18 277.456 L2076.36 277.433 Z\" fill=\"#000000\" fill-rule=\"nonzero\" fill-opacity=\"1\" /><path clip-path=\"url(#clip360)\" d=\"M2100.74 256.692 L2100.74 260.234 L2096.66 260.234 Q2094.37 260.234 2093.47 261.16 Q2092.59 262.086 2092.59 264.493 L2092.59 266.785 L2099.6 266.785 L2099.6 270.095 L2092.59 270.095 L2092.59 292.71 L2088.31 292.71 L2088.31 270.095 L2084.23 270.095 L2084.23 266.785 L2088.31 266.785 L2088.31 264.979 Q2088.31 260.65 2090.32 258.683 Q2092.33 256.692 2096.71 256.692 L2100.74 256.692 Z\" fill=\"#000000\" fill-rule=\"nonzero\" fill-opacity=\"1\" /><path clip-path=\"url(#clip360)\" d=\"M2126.48 278.683 L2126.48 280.766 L2106.89 280.766 Q2107.17 285.164 2109.53 287.479 Q2111.92 289.771 2116.15 289.771 Q2118.61 289.771 2120.9 289.169 Q2123.21 288.567 2125.48 287.363 L2125.48 291.391 Q2123.19 292.363 2120.78 292.872 Q2118.37 293.382 2115.9 293.382 Q2109.69 293.382 2106.06 289.771 Q2102.45 286.159 2102.45 280.002 Q2102.45 273.636 2105.87 269.91 Q2109.32 266.16 2115.16 266.16 Q2120.39 266.16 2123.42 269.539 Q2126.48 272.896 2126.48 278.683 M2122.22 277.433 Q2122.17 273.937 2120.25 271.854 Q2118.35 269.771 2115.2 269.771 Q2111.64 269.771 2109.49 271.785 Q2107.36 273.798 2107.03 277.456 L2122.22 277.433 Z\" fill=\"#000000\" fill-rule=\"nonzero\" fill-opacity=\"1\" /><path clip-path=\"url(#clip360)\" d=\"M2148.49 270.766 Q2147.77 270.349 2146.92 270.164 Q2146.08 269.956 2145.06 269.956 Q2141.45 269.956 2139.51 272.317 Q2137.59 274.655 2137.59 279.053 L2137.59 292.71 L2133.31 292.71 L2133.31 266.785 L2137.59 266.785 L2137.59 270.812 Q2138.93 268.451 2141.08 267.317 Q2143.24 266.16 2146.31 266.16 Q2146.75 266.16 2147.29 266.229 Q2147.82 266.275 2148.47 266.391 L2148.49 270.766 Z\" fill=\"#000000\" fill-rule=\"nonzero\" fill-opacity=\"1\" /><path clip-path=\"url(#clip360)\" d=\"M2174.09 278.683 L2174.09 280.766 L2154.51 280.766 Q2154.79 285.164 2157.15 287.479 Q2159.53 289.771 2163.77 289.771 Q2166.22 289.771 2168.51 289.169 Q2170.83 288.567 2173.1 287.363 L2173.1 291.391 Q2170.81 292.363 2168.4 292.872 Q2165.99 293.382 2163.51 293.382 Q2157.31 293.382 2153.68 289.771 Q2150.06 286.159 2150.06 280.002 Q2150.06 273.636 2153.49 269.91 Q2156.94 266.16 2162.77 266.16 Q2168 266.16 2171.04 269.539 Q2174.09 272.896 2174.09 278.683 M2169.83 277.433 Q2169.79 273.937 2167.87 271.854 Q2165.97 269.771 2162.82 269.771 Q2159.25 269.771 2157.1 271.785 Q2154.97 273.798 2154.65 277.456 L2169.83 277.433 Z\" fill=\"#000000\" fill-rule=\"nonzero\" fill-opacity=\"1\" /><path clip-path=\"url(#clip360)\" d=\"M2202.63 277.062 L2202.63 292.71 L2198.37 292.71 L2198.37 277.201 Q2198.37 273.521 2196.94 271.692 Q2195.5 269.863 2192.63 269.863 Q2189.18 269.863 2187.19 272.062 Q2185.2 274.261 2185.2 278.058 L2185.2 292.71 L2180.92 292.71 L2180.92 266.785 L2185.2 266.785 L2185.2 270.812 Q2186.73 268.474 2188.79 267.317 Q2190.87 266.16 2193.58 266.16 Q2198.05 266.16 2200.34 268.937 Q2202.63 271.692 2202.63 277.062 Z\" fill=\"#000000\" fill-rule=\"nonzero\" fill-opacity=\"1\" /><path clip-path=\"url(#clip360)\" d=\"M2229.79 267.78 L2229.79 271.761 Q2227.98 270.766 2226.15 270.28 Q2224.35 269.771 2222.49 269.771 Q2218.35 269.771 2216.06 272.41 Q2213.77 275.025 2213.77 279.771 Q2213.77 284.516 2216.06 287.155 Q2218.35 289.771 2222.49 289.771 Q2224.35 289.771 2226.15 289.284 Q2227.98 288.775 2229.79 287.78 L2229.79 291.715 Q2228 292.548 2226.08 292.965 Q2224.18 293.382 2222.03 293.382 Q2216.18 293.382 2212.73 289.701 Q2209.28 286.021 2209.28 279.771 Q2209.28 273.428 2212.75 269.794 Q2216.24 266.16 2222.31 266.16 Q2224.28 266.16 2226.15 266.576 Q2228.03 266.97 2229.79 267.78 Z\" fill=\"#000000\" fill-rule=\"nonzero\" fill-opacity=\"1\" /><path clip-path=\"url(#clip360)\" d=\"M2259.37 278.683 L2259.37 280.766 L2239.79 280.766 Q2240.06 285.164 2242.43 287.479 Q2244.81 289.771 2249.05 289.771 Q2251.5 289.771 2253.79 289.169 Q2256.11 288.567 2258.37 287.363 L2258.37 291.391 Q2256.08 292.363 2253.68 292.872 Q2251.27 293.382 2248.79 293.382 Q2242.59 293.382 2238.95 289.771 Q2235.34 286.159 2235.34 280.002 Q2235.34 273.636 2238.77 269.91 Q2242.22 266.16 2248.05 266.16 Q2253.28 266.16 2256.31 269.539 Q2259.37 272.896 2259.37 278.683 M2255.11 277.433 Q2255.06 273.937 2253.14 271.854 Q2251.24 269.771 2248.1 269.771 Q2244.53 269.771 2242.38 271.785 Q2240.25 273.798 2239.93 277.456 L2255.11 277.433 Z\" fill=\"#000000\" fill-rule=\"nonzero\" fill-opacity=\"1\" /></svg>\n"
      ],
      "text/html": [
       "<?xml version=\"1.0\" encoding=\"utf-8\"?>\n",
       "<svg xmlns=\"http://www.w3.org/2000/svg\" xmlns:xlink=\"http://www.w3.org/1999/xlink\" width=\"600\" height=\"400\" viewBox=\"0 0 2400 1600\">\n",
       "<defs>\n",
       "  <clipPath id=\"clip410\">\n",
       "    <rect x=\"0\" y=\"0\" width=\"2400\" height=\"1600\"/>\n",
       "  </clipPath>\n",
       "</defs>\n",
       "<path clip-path=\"url(#clip410)\" d=\"M0 1600 L2400 1600 L2400 0 L0 0  Z\" fill=\"#ffffff\" fill-rule=\"evenodd\" fill-opacity=\"1\"/>\n",
       "<defs>\n",
       "  <clipPath id=\"clip411\">\n",
       "    <rect x=\"480\" y=\"0\" width=\"1681\" height=\"1600\"/>\n",
       "  </clipPath>\n",
       "</defs>\n",
       "<path clip-path=\"url(#clip410)\" d=\"M251.56 1410.9 L2352.76 1410.9 L2352.76 134.613 L251.56 134.613  Z\" fill=\"#ffffff\" fill-rule=\"evenodd\" fill-opacity=\"1\"/>\n",
       "<defs>\n",
       "  <clipPath id=\"clip412\">\n",
       "    <rect x=\"251\" y=\"134\" width=\"2102\" height=\"1277\"/>\n",
       "  </clipPath>\n",
       "</defs>\n",
       "<polyline clip-path=\"url(#clip412)\" style=\"stroke:#000000; stroke-linecap:round; stroke-linejoin:round; stroke-width:2; stroke-opacity:0.1; fill:none\" points=\"766.006,1410.9 766.006,134.613 \"/>\n",
       "<polyline clip-path=\"url(#clip412)\" style=\"stroke:#000000; stroke-linecap:round; stroke-linejoin:round; stroke-width:2; stroke-opacity:0.1; fill:none\" points=\"1614.5,1410.9 1614.5,134.613 \"/>\n",
       "<polyline clip-path=\"url(#clip412)\" style=\"stroke:#000000; stroke-linecap:round; stroke-linejoin:round; stroke-width:2; stroke-opacity:0.1; fill:none\" points=\"251.56,1149.02 2352.76,1149.02 \"/>\n",
       "<polyline clip-path=\"url(#clip412)\" style=\"stroke:#000000; stroke-linecap:round; stroke-linejoin:round; stroke-width:2; stroke-opacity:0.1; fill:none\" points=\"251.56,772.755 2352.76,772.755 \"/>\n",
       "<polyline clip-path=\"url(#clip412)\" style=\"stroke:#000000; stroke-linecap:round; stroke-linejoin:round; stroke-width:2; stroke-opacity:0.1; fill:none\" points=\"251.56,396.492 2352.76,396.492 \"/>\n",
       "<polyline clip-path=\"url(#clip410)\" style=\"stroke:#000000; stroke-linecap:round; stroke-linejoin:round; stroke-width:4; stroke-opacity:1; fill:none\" points=\"251.56,1410.9 2352.76,1410.9 \"/>\n",
       "<polyline clip-path=\"url(#clip410)\" style=\"stroke:#000000; stroke-linecap:round; stroke-linejoin:round; stroke-width:4; stroke-opacity:1; fill:none\" points=\"766.006,1410.9 766.006,1392 \"/>\n",
       "<polyline clip-path=\"url(#clip410)\" style=\"stroke:#000000; stroke-linecap:round; stroke-linejoin:round; stroke-width:4; stroke-opacity:1; fill:none\" points=\"1614.5,1410.9 1614.5,1392 \"/>\n",
       "<path clip-path=\"url(#clip410)\" d=\"M703.37 1485.02 L711.009 1485.02 L711.009 1458.66 L702.698 1460.32 L702.698 1456.06 L710.962 1454.4 L715.638 1454.4 L715.638 1485.02 L723.277 1485.02 L723.277 1488.96 L703.37 1488.96 L703.37 1485.02 Z\" fill=\"#000000\" fill-rule=\"nonzero\" fill-opacity=\"1\" /><path clip-path=\"url(#clip410)\" d=\"M742.721 1457.48 Q739.11 1457.48 737.282 1461.04 Q735.476 1464.58 735.476 1471.71 Q735.476 1478.82 737.282 1482.38 Q739.11 1485.92 742.721 1485.92 Q746.356 1485.92 748.161 1482.38 Q749.99 1478.82 749.99 1471.71 Q749.99 1464.58 748.161 1461.04 Q746.356 1457.48 742.721 1457.48 M742.721 1453.77 Q748.532 1453.77 751.587 1458.38 Q754.666 1462.96 754.666 1471.71 Q754.666 1480.44 751.587 1485.04 Q748.532 1489.63 742.721 1489.63 Q736.911 1489.63 733.833 1485.04 Q730.777 1480.44 730.777 1471.71 Q730.777 1462.96 733.833 1458.38 Q736.911 1453.77 742.721 1453.77 Z\" fill=\"#000000\" fill-rule=\"nonzero\" fill-opacity=\"1\" /><path clip-path=\"url(#clip410)\" d=\"M754.666 1447.87 L778.777 1447.87 L778.777 1451.07 L754.666 1451.07 L754.666 1447.87 Z\" fill=\"#000000\" fill-rule=\"nonzero\" fill-opacity=\"1\" /><path clip-path=\"url(#clip410)\" d=\"M787.636 1458.35 L793.842 1458.35 L793.842 1436.93 L787.09 1438.28 L787.09 1434.82 L793.805 1433.47 L797.604 1433.47 L797.604 1458.35 L803.81 1458.35 L803.81 1461.55 L787.636 1461.55 L787.636 1458.35 Z\" fill=\"#000000\" fill-rule=\"nonzero\" fill-opacity=\"1\" /><path clip-path=\"url(#clip410)\" d=\"M819.609 1435.97 Q816.675 1435.97 815.189 1438.86 Q813.722 1441.74 813.722 1447.53 Q813.722 1453.31 815.189 1456.2 Q816.675 1459.08 819.609 1459.08 Q822.562 1459.08 824.029 1456.2 Q825.515 1453.31 825.515 1447.53 Q825.515 1441.74 824.029 1438.86 Q822.562 1435.97 819.609 1435.97 M819.609 1432.96 Q824.33 1432.96 826.812 1436.7 Q829.314 1440.43 829.314 1447.53 Q829.314 1454.62 826.812 1458.37 Q824.33 1462.09 819.609 1462.09 Q814.888 1462.09 812.387 1458.37 Q809.904 1454.62 809.904 1447.53 Q809.904 1440.43 812.387 1436.7 Q814.888 1432.96 819.609 1432.96 Z\" fill=\"#000000\" fill-rule=\"nonzero\" fill-opacity=\"1\" /><path clip-path=\"url(#clip410)\" d=\"M1579.48 1485.02 L1587.12 1485.02 L1587.12 1458.66 L1578.81 1460.32 L1578.81 1456.06 L1587.07 1454.4 L1591.75 1454.4 L1591.75 1485.02 L1599.39 1485.02 L1599.39 1488.96 L1579.48 1488.96 L1579.48 1485.02 Z\" fill=\"#000000\" fill-rule=\"nonzero\" fill-opacity=\"1\" /><path clip-path=\"url(#clip410)\" d=\"M1618.83 1457.48 Q1615.22 1457.48 1613.39 1461.04 Q1611.59 1464.58 1611.59 1471.71 Q1611.59 1478.82 1613.39 1482.38 Q1615.22 1485.92 1618.83 1485.92 Q1622.46 1485.92 1624.27 1482.38 Q1626.1 1478.82 1626.1 1471.71 Q1626.1 1464.58 1624.27 1461.04 Q1622.46 1457.48 1618.83 1457.48 M1618.83 1453.77 Q1624.64 1453.77 1627.7 1458.38 Q1630.77 1462.96 1630.77 1471.71 Q1630.77 1480.44 1627.7 1485.04 Q1624.64 1489.63 1618.83 1489.63 Q1613.02 1489.63 1609.94 1485.04 Q1606.89 1480.44 1606.89 1471.71 Q1606.89 1462.96 1609.94 1458.38 Q1613.02 1453.77 1618.83 1453.77 Z\" fill=\"#000000\" fill-rule=\"nonzero\" fill-opacity=\"1\" /><path clip-path=\"url(#clip410)\" d=\"M1640.48 1435.97 Q1637.55 1435.97 1636.06 1438.86 Q1634.59 1441.74 1634.59 1447.53 Q1634.59 1453.31 1636.06 1456.2 Q1637.55 1459.08 1640.48 1459.08 Q1643.43 1459.08 1644.9 1456.2 Q1646.39 1453.31 1646.39 1447.53 Q1646.39 1441.74 1644.9 1438.86 Q1643.43 1435.97 1640.48 1435.97 M1640.48 1432.96 Q1645.2 1432.96 1647.68 1436.7 Q1650.18 1440.43 1650.18 1447.53 Q1650.18 1454.62 1647.68 1458.37 Q1645.2 1462.09 1640.48 1462.09 Q1635.76 1462.09 1633.26 1458.37 Q1630.77 1454.62 1630.77 1447.53 Q1630.77 1440.43 1633.26 1436.7 Q1635.76 1432.96 1640.48 1432.96 Z\" fill=\"#000000\" fill-rule=\"nonzero\" fill-opacity=\"1\" /><path clip-path=\"url(#clip410)\" d=\"M1229.44 1576.47 L1229.44 1514.57 Q1229.44 1512.61 1230.76 1512.61 Q1232.08 1512.61 1232.08 1514.67 L1232.08 1576.31 Q1232.08 1578.43 1230.76 1578.43 Q1229.44 1578.43 1229.44 1576.47 M1236.72 1576.47 L1236.72 1515.05 Q1236.72 1512.61 1238.04 1512.61 Q1239.36 1512.61 1239.36 1514.67 L1239.36 1576.31 Q1239.36 1578.43 1238.04 1578.43 Q1236.72 1578.43 1236.72 1576.47 Z\" fill=\"#000000\" fill-rule=\"nonzero\" fill-opacity=\"1\" /><path clip-path=\"url(#clip410)\" d=\"M1284.34 1518.02 Q1284.34 1518.5 1283.99 1519.21 Q1283.67 1519.85 1282.99 1520.27 Q1282.35 1520.66 1281.64 1520.66 Q1281.41 1520.66 1280.9 1520.53 Q1280.03 1520.14 1278.67 1519.27 Q1277.32 1518.4 1276.1 1517.86 Q1274.91 1517.28 1273.59 1517.21 Q1272.43 1517.21 1271.46 1517.63 Q1270.59 1518.11 1270.01 1519.14 Q1269.75 1519.56 1269.75 1520.27 Q1269.75 1521.27 1270.3 1522.59 Q1270.85 1523.91 1271.98 1525.62 Q1273.14 1527.32 1273.97 1528.48 Q1274.81 1529.61 1276.26 1531.48 Q1276.39 1531.64 1276.45 1531.74 Q1276.52 1531.8 1276.61 1531.96 Q1276.71 1532.09 1276.81 1532.19 Q1279.87 1536.02 1280.64 1540.24 Q1280.83 1541.72 1280.83 1543.27 Q1280.83 1546.36 1279.9 1550 Q1279.09 1553.31 1277.39 1556.18 Q1275.68 1559.01 1273.1 1560.88 Q1270.56 1562.75 1267.79 1562.75 Q1265.05 1562.75 1262.8 1561.56 Q1260.54 1560.33 1259.19 1558.24 Q1257.35 1555.47 1257.35 1551.64 Q1257.35 1549.48 1257.87 1547.65 Q1258.58 1544.71 1260.25 1542.01 Q1261.93 1539.3 1264.34 1537.21 Q1268.01 1534.12 1272.01 1533.25 Q1270.14 1529.71 1269.04 1526.97 Q1267.98 1524.2 1267.98 1521.85 Q1267.98 1519.79 1268.76 1518.47 Q1269.43 1517.05 1270.82 1516.24 Q1271.98 1515.54 1273.65 1515.18 Q1274.68 1515.05 1275.36 1515.05 Q1277.64 1515.05 1282.96 1516.31 Q1284.34 1516.63 1284.34 1518.02 M1276.29 1545.91 Q1276.29 1543.94 1275.97 1542.62 Q1275.36 1539.4 1272.91 1534.96 L1272.72 1534.63 Q1269.59 1535.54 1267.05 1538.27 Q1263.86 1541.62 1262.25 1547.97 Q1261.38 1551.51 1261.38 1553.51 Q1261.38 1555.66 1262.19 1557.53 Q1262.96 1559.27 1264.41 1560.27 Q1265.89 1561.27 1267.85 1561.27 Q1269.33 1561.27 1270.62 1560.43 Q1271.91 1559.56 1272.85 1558.05 Q1273.78 1556.53 1274.42 1554.89 Q1275.1 1553.22 1275.61 1551.25 Q1276.29 1548.61 1276.29 1545.91 Z\" fill=\"#000000\" fill-rule=\"nonzero\" fill-opacity=\"1\" /><path clip-path=\"url(#clip410)\" d=\"M1332.92 1560.69 Q1332.92 1561.3 1332.66 1561.62 Q1332.44 1561.91 1332.21 1561.98 Q1332.02 1562.01 1331.73 1562.01 Q1330.89 1562.01 1327.99 1561.91 Q1325.09 1561.82 1324.26 1561.82 Q1322.9 1561.82 1320.13 1561.91 Q1317.36 1562.01 1316.01 1562.01 Q1315.11 1562.01 1315.11 1561.27 Q1315.11 1560.79 1315.21 1560.53 Q1315.3 1560.24 1315.56 1560.14 Q1315.85 1560.01 1316.01 1560.01 Q1316.2 1559.98 1316.69 1559.98 Q1317.33 1559.98 1318.01 1559.92 Q1318.68 1559.82 1319.52 1559.63 Q1320.36 1559.43 1320.87 1558.95 Q1321.42 1558.47 1321.42 1557.79 Q1321.42 1557.5 1321.2 1555.12 Q1320.97 1552.73 1320.68 1549.96 Q1320.39 1547.16 1320.36 1546.78 L1303.81 1546.78 Q1302.29 1549.38 1301.23 1551.19 Q1300.17 1552.99 1299.78 1553.6 Q1299.39 1554.22 1299.17 1554.6 Q1298.94 1554.99 1298.81 1555.21 Q1297.88 1556.92 1297.88 1557.66 Q1297.88 1559.72 1300.97 1559.98 Q1302.03 1559.98 1302.03 1560.75 Q1302.03 1561.33 1301.78 1561.66 Q1301.52 1561.94 1301.29 1561.98 Q1301.1 1562.01 1300.78 1562.01 Q1299.71 1562.01 1297.49 1561.91 Q1295.27 1561.82 1294.18 1561.82 Q1293.24 1561.82 1291.31 1561.91 Q1289.38 1562.01 1288.51 1562.01 Q1288.12 1562.01 1287.9 1561.78 Q1287.67 1561.56 1287.67 1561.27 Q1287.67 1560.82 1287.73 1560.56 Q1287.83 1560.3 1288.09 1560.17 Q1288.35 1560.04 1288.48 1560.04 Q1288.6 1560.01 1289.05 1559.98 Q1291.5 1559.82 1293.4 1558.66 Q1295.33 1557.47 1297.17 1554.41 L1320.1 1515.89 Q1320.33 1515.5 1320.49 1515.31 Q1320.65 1515.12 1320.97 1514.96 Q1321.33 1514.8 1321.84 1514.8 Q1322.65 1514.8 1322.81 1515.05 Q1322.97 1515.28 1323.06 1516.37 L1327.09 1557.6 Q1327.19 1558.47 1327.25 1558.82 Q1327.35 1559.14 1327.77 1559.5 Q1328.22 1559.82 1329.02 1559.92 Q1329.86 1559.98 1331.41 1559.98 Q1331.99 1559.98 1332.21 1560.01 Q1332.44 1560.01 1332.66 1560.17 Q1332.92 1560.33 1332.92 1560.69 M1320.17 1544.71 L1318.07 1522.98 L1305.06 1544.71 L1320.17 1544.71 Z\" fill=\"#000000\" fill-rule=\"nonzero\" fill-opacity=\"1\" /><path clip-path=\"url(#clip410)\" d=\"M1342.21 1576.47 L1342.21 1514.57 Q1342.21 1512.61 1343.53 1512.61 Q1344.85 1512.61 1344.85 1514.67 L1344.85 1576.31 Q1344.85 1578.43 1343.53 1578.43 Q1342.21 1578.43 1342.21 1576.47 M1349.49 1576.47 L1349.49 1515.05 Q1349.49 1512.61 1350.81 1512.61 Q1352.13 1512.61 1352.13 1514.67 L1352.13 1576.31 Q1352.13 1578.43 1350.81 1578.43 Q1349.49 1578.43 1349.49 1576.47 Z\" fill=\"#000000\" fill-rule=\"nonzero\" fill-opacity=\"1\" /><polyline clip-path=\"url(#clip410)\" style=\"stroke:#000000; stroke-linecap:round; stroke-linejoin:round; stroke-width:4; stroke-opacity:1; fill:none\" points=\"251.56,1410.9 251.56,134.613 \"/>\n",
       "<polyline clip-path=\"url(#clip410)\" style=\"stroke:#000000; stroke-linecap:round; stroke-linejoin:round; stroke-width:4; stroke-opacity:1; fill:none\" points=\"251.56,1149.02 270.458,1149.02 \"/>\n",
       "<polyline clip-path=\"url(#clip410)\" style=\"stroke:#000000; stroke-linecap:round; stroke-linejoin:round; stroke-width:4; stroke-opacity:1; fill:none\" points=\"251.56,772.755 270.458,772.755 \"/>\n",
       "<polyline clip-path=\"url(#clip410)\" style=\"stroke:#000000; stroke-linecap:round; stroke-linejoin:round; stroke-width:4; stroke-opacity:1; fill:none\" points=\"251.56,396.492 270.458,396.492 \"/>\n",
       "<path clip-path=\"url(#clip410)\" d=\"M114.931 1168.81 L122.57 1168.81 L122.57 1142.44 L114.26 1144.11 L114.26 1139.85 L122.524 1138.19 L127.2 1138.19 L127.2 1168.81 L134.839 1168.81 L134.839 1172.75 L114.931 1172.75 L114.931 1168.81 Z\" fill=\"#000000\" fill-rule=\"nonzero\" fill-opacity=\"1\" /><path clip-path=\"url(#clip410)\" d=\"M154.283 1141.26 Q150.672 1141.26 148.843 1144.83 Q147.038 1148.37 147.038 1155.5 Q147.038 1162.61 148.843 1166.17 Q150.672 1169.71 154.283 1169.71 Q157.917 1169.71 159.723 1166.17 Q161.552 1162.61 161.552 1155.5 Q161.552 1148.37 159.723 1144.83 Q157.917 1141.26 154.283 1141.26 M154.283 1137.56 Q160.093 1137.56 163.149 1142.17 Q166.227 1146.75 166.227 1155.5 Q166.227 1164.23 163.149 1168.83 Q160.093 1173.42 154.283 1173.42 Q148.473 1173.42 145.394 1168.83 Q142.339 1164.23 142.339 1155.5 Q142.339 1146.75 145.394 1142.17 Q148.473 1137.56 154.283 1137.56 Z\" fill=\"#000000\" fill-rule=\"nonzero\" fill-opacity=\"1\" /><path clip-path=\"url(#clip410)\" d=\"M166.227 1131.66 L190.339 1131.66 L190.339 1134.86 L166.227 1134.86 L166.227 1131.66 Z\" fill=\"#000000\" fill-rule=\"nonzero\" fill-opacity=\"1\" /><path clip-path=\"url(#clip410)\" d=\"M198.577 1117.25 L213.491 1117.25 L213.491 1120.45 L202.056 1120.45 L202.056 1127.34 Q202.884 1127.05 203.711 1126.92 Q204.539 1126.77 205.366 1126.77 Q210.068 1126.77 212.814 1129.35 Q215.56 1131.92 215.56 1136.33 Q215.56 1140.86 212.739 1143.38 Q209.918 1145.88 204.783 1145.88 Q203.015 1145.88 201.172 1145.58 Q199.348 1145.28 197.392 1144.68 L197.392 1140.86 Q199.085 1141.78 200.89 1142.23 Q202.696 1142.68 204.708 1142.68 Q207.962 1142.68 209.861 1140.97 Q211.761 1139.26 211.761 1136.33 Q211.761 1133.39 209.861 1131.68 Q207.962 1129.97 204.708 1129.97 Q203.185 1129.97 201.661 1130.31 Q200.157 1130.65 198.577 1131.36 L198.577 1117.25 Z\" fill=\"#000000\" fill-rule=\"nonzero\" fill-opacity=\"1\" /><path clip-path=\"url(#clip410)\" d=\"M144.855 792.547 L152.493 792.547 L152.493 766.181 L144.183 767.848 L144.183 763.589 L152.447 761.922 L157.123 761.922 L157.123 792.547 L164.762 792.547 L164.762 796.482 L144.855 796.482 L144.855 792.547 Z\" fill=\"#000000\" fill-rule=\"nonzero\" fill-opacity=\"1\" /><path clip-path=\"url(#clip410)\" d=\"M184.206 765.001 Q180.595 765.001 178.766 768.566 Q176.961 772.107 176.961 779.237 Q176.961 786.343 178.766 789.908 Q180.595 793.45 184.206 793.45 Q187.84 793.45 189.646 789.908 Q191.475 786.343 191.475 779.237 Q191.475 772.107 189.646 768.566 Q187.84 765.001 184.206 765.001 M184.206 761.297 Q190.016 761.297 193.072 765.904 Q196.151 770.487 196.151 779.237 Q196.151 787.964 193.072 792.57 Q190.016 797.153 184.206 797.153 Q178.396 797.153 175.317 792.57 Q172.262 787.964 172.262 779.237 Q172.262 770.487 175.317 765.904 Q178.396 761.297 184.206 761.297 Z\" fill=\"#000000\" fill-rule=\"nonzero\" fill-opacity=\"1\" /><path clip-path=\"url(#clip410)\" d=\"M205.855 743.493 Q202.921 743.493 201.436 746.39 Q199.969 749.267 199.969 755.06 Q199.969 760.834 201.436 763.73 Q202.921 766.608 205.855 766.608 Q208.808 766.608 210.275 763.73 Q211.761 760.834 211.761 755.06 Q211.761 749.267 210.275 746.39 Q208.808 743.493 205.855 743.493 M205.855 740.484 Q210.576 740.484 213.059 744.227 Q215.56 747.951 215.56 755.06 Q215.56 762.151 213.059 765.893 Q210.576 769.617 205.855 769.617 Q201.135 769.617 198.633 765.893 Q196.151 762.151 196.151 755.06 Q196.151 747.951 198.633 744.227 Q201.135 740.484 205.855 740.484 Z\" fill=\"#000000\" fill-rule=\"nonzero\" fill-opacity=\"1\" /><path clip-path=\"url(#clip410)\" d=\"M146.096 416.284 L153.735 416.284 L153.735 389.918 L145.425 391.585 L145.425 387.326 L153.688 385.659 L158.364 385.659 L158.364 416.284 L166.003 416.284 L166.003 420.219 L146.096 420.219 L146.096 416.284 Z\" fill=\"#000000\" fill-rule=\"nonzero\" fill-opacity=\"1\" /><path clip-path=\"url(#clip410)\" d=\"M185.448 388.738 Q181.836 388.738 180.008 392.303 Q178.202 395.844 178.202 402.974 Q178.202 410.08 180.008 413.645 Q181.836 417.187 185.448 417.187 Q189.082 417.187 190.887 413.645 Q192.716 410.08 192.716 402.974 Q192.716 395.844 190.887 392.303 Q189.082 388.738 185.448 388.738 M185.448 385.034 Q191.258 385.034 194.313 389.641 Q197.392 394.224 197.392 402.974 Q197.392 411.701 194.313 416.307 Q191.258 420.89 185.448 420.89 Q179.637 420.89 176.559 416.307 Q173.503 411.701 173.503 402.974 Q173.503 394.224 176.559 389.641 Q179.637 385.034 185.448 385.034 Z\" fill=\"#000000\" fill-rule=\"nonzero\" fill-opacity=\"1\" /><path clip-path=\"url(#clip410)\" d=\"M198.577 364.729 L213.491 364.729 L213.491 367.926 L202.056 367.926 L202.056 374.81 Q202.884 374.528 203.711 374.396 Q204.539 374.246 205.366 374.246 Q210.068 374.246 212.814 376.822 Q215.56 379.399 215.56 383.8 Q215.56 388.333 212.739 390.853 Q209.918 393.354 204.783 393.354 Q203.015 393.354 201.172 393.053 Q199.348 392.752 197.392 392.151 L197.392 388.333 Q199.085 389.254 200.89 389.706 Q202.696 390.157 204.708 390.157 Q207.962 390.157 209.861 388.445 Q211.761 386.734 211.761 383.8 Q211.761 380.866 209.861 379.154 Q207.962 377.443 204.708 377.443 Q203.185 377.443 201.661 377.781 Q200.157 378.12 198.577 378.835 L198.577 364.729 Z\" fill=\"#000000\" fill-rule=\"nonzero\" fill-opacity=\"1\" /><path clip-path=\"url(#clip410)\" d=\"M33.8307 961.116 Q33.2578 962.103 33.0032 963.28 Q32.7167 964.426 32.7167 965.826 Q32.7167 970.792 35.9632 973.465 Q39.1779 976.107 45.2253 976.107 L64.0042 976.107 L64.0042 981.995 L28.3562 981.995 L28.3562 976.107 L33.8944 976.107 Q30.6479 974.261 29.0883 971.301 Q27.4968 968.341 27.4968 964.108 Q27.4968 963.503 27.5923 962.771 Q27.656 962.039 27.8151 961.148 L33.8307 961.116 Z\" fill=\"#000000\" fill-rule=\"nonzero\" fill-opacity=\"1\" /><path clip-path=\"url(#clip410)\" d=\"M44.7161 925.913 L47.5806 925.913 L47.5806 952.84 Q53.6281 952.458 56.8109 949.212 Q59.9619 945.934 59.9619 940.109 Q59.9619 936.735 59.1344 933.584 Q58.3069 930.401 56.6518 927.282 L62.1899 927.282 Q63.5267 930.433 64.227 933.743 Q64.9272 937.053 64.9272 940.459 Q64.9272 948.989 59.9619 953.986 Q54.9967 958.952 46.5303 958.952 Q37.7774 958.952 32.6531 954.241 Q27.4968 949.498 27.4968 941.478 Q27.4968 934.284 32.1438 930.115 Q36.7589 925.913 44.7161 925.913 M42.9973 931.77 Q38.1912 931.834 35.3266 934.475 Q32.4621 937.085 32.4621 941.414 Q32.4621 946.316 35.2312 949.276 Q38.0002 952.204 43.0292 952.649 L42.9973 931.77 Z\" fill=\"#000000\" fill-rule=\"nonzero\" fill-opacity=\"1\" /><path clip-path=\"url(#clip410)\" d=\"M14.479 916.301 L14.479 910.445 L64.0042 910.445 L64.0042 916.301 L14.479 916.301 Z\" fill=\"#000000\" fill-rule=\"nonzero\" fill-opacity=\"1\" /><path clip-path=\"url(#clip410)\" d=\"M46.0847 881.99 Q46.0847 889.088 47.7079 891.825 Q49.3312 894.562 53.2461 894.562 Q56.3653 894.562 58.2114 892.525 Q60.0256 890.457 60.0256 886.924 Q60.0256 882.054 56.5881 879.126 Q53.1188 876.165 47.3897 876.165 L46.0847 876.165 L46.0847 881.99 M43.6657 870.309 L64.0042 870.309 L64.0042 876.165 L58.5933 876.165 Q61.8398 878.171 63.3994 881.163 Q64.9272 884.154 64.9272 888.483 Q64.9272 893.958 61.8716 897.204 Q58.7843 900.419 53.6281 900.419 Q47.6125 900.419 44.5569 896.408 Q41.5014 892.366 41.5014 884.377 L41.5014 876.165 L40.9285 876.165 Q36.8862 876.165 34.6901 878.839 Q32.4621 881.481 32.4621 886.287 Q32.4621 889.343 33.1941 892.239 Q33.9262 895.135 35.3903 897.809 L29.9795 897.809 Q28.7381 894.594 28.1334 891.571 Q27.4968 888.547 27.4968 885.682 Q27.4968 877.948 31.5072 874.128 Q35.5176 870.309 43.6657 870.309 Z\" fill=\"#000000\" fill-rule=\"nonzero\" fill-opacity=\"1\" /><path clip-path=\"url(#clip410)\" d=\"M18.2347 852.453 L28.3562 852.453 L28.3562 840.39 L32.9077 840.39 L32.9077 852.453 L52.2594 852.453 Q56.6199 852.453 57.8613 851.276 Q59.1026 850.066 59.1026 846.406 L59.1026 840.39 L64.0042 840.39 L64.0042 846.406 Q64.0042 853.185 61.4897 855.763 Q58.9434 858.342 52.2594 858.342 L32.9077 858.342 L32.9077 862.638 L28.3562 862.638 L28.3562 858.342 L18.2347 858.342 L18.2347 852.453 Z\" fill=\"#000000\" fill-rule=\"nonzero\" fill-opacity=\"1\" /><path clip-path=\"url(#clip410)\" d=\"M28.3562 832.688 L28.3562 826.831 L64.0042 826.831 L64.0042 832.688 L28.3562 832.688 M14.479 832.688 L14.479 826.831 L21.895 826.831 L21.895 832.688 L14.479 832.688 Z\" fill=\"#000000\" fill-rule=\"nonzero\" fill-opacity=\"1\" /><path clip-path=\"url(#clip410)\" d=\"M28.3562 818.779 L28.3562 812.572 L58.275 801.432 L28.3562 790.292 L28.3562 784.086 L64.0042 797.454 L64.0042 805.411 L28.3562 818.779 Z\" fill=\"#000000\" fill-rule=\"nonzero\" fill-opacity=\"1\" /><path clip-path=\"url(#clip410)\" d=\"M44.7161 745.509 L47.5806 745.509 L47.5806 772.436 Q53.6281 772.054 56.8109 768.808 Q59.9619 765.53 59.9619 759.705 Q59.9619 756.331 59.1344 753.18 Q58.3069 749.997 56.6518 746.878 L62.1899 746.878 Q63.5267 750.029 64.227 753.339 Q64.9272 756.649 64.9272 760.055 Q64.9272 768.585 59.9619 773.582 Q54.9967 778.547 46.5303 778.547 Q37.7774 778.547 32.6531 773.837 Q27.4968 769.094 27.4968 761.074 Q27.4968 753.88 32.1438 749.711 Q36.7589 745.509 44.7161 745.509 M42.9973 751.366 Q38.1912 751.429 35.3266 754.071 Q32.4621 756.681 32.4621 761.01 Q32.4621 765.911 35.2312 768.872 Q38.0002 771.8 43.0292 772.245 L42.9973 751.366 Z\" fill=\"#000000\" fill-rule=\"nonzero\" fill-opacity=\"1\" /><path clip-path=\"url(#clip410)\" d=\"M44.7161 684.685 L47.5806 684.685 L47.5806 711.612 Q53.6281 711.23 56.8109 707.984 Q59.9619 704.705 59.9619 698.881 Q59.9619 695.507 59.1344 692.356 Q58.3069 689.173 56.6518 686.054 L62.1899 686.054 Q63.5267 689.205 64.227 692.515 Q64.9272 695.825 64.9272 699.231 Q64.9272 707.761 59.9619 712.758 Q54.9967 717.723 46.5303 717.723 Q37.7774 717.723 32.6531 713.012 Q27.4968 708.27 27.4968 700.249 Q27.4968 693.056 32.1438 688.886 Q36.7589 684.685 44.7161 684.685 M42.9973 690.541 Q38.1912 690.605 35.3266 693.247 Q32.4621 695.857 32.4621 700.186 Q32.4621 705.087 35.2312 708.047 Q38.0002 710.975 43.0292 711.421 L42.9973 690.541 Z\" fill=\"#000000\" fill-rule=\"nonzero\" fill-opacity=\"1\" /><path clip-path=\"url(#clip410)\" d=\"M33.8307 654.416 Q33.2578 655.403 33.0032 656.58 Q32.7167 657.726 32.7167 659.127 Q32.7167 664.092 35.9632 666.766 Q39.1779 669.407 45.2253 669.407 L64.0042 669.407 L64.0042 675.296 L28.3562 675.296 L28.3562 669.407 L33.8944 669.407 Q30.6479 667.561 29.0883 664.601 Q27.4968 661.641 27.4968 657.408 Q27.4968 656.803 27.5923 656.071 Q27.656 655.339 27.8151 654.448 L33.8307 654.416 Z\" fill=\"#000000\" fill-rule=\"nonzero\" fill-opacity=\"1\" /><path clip-path=\"url(#clip410)\" d=\"M33.8307 628.762 Q33.2578 629.749 33.0032 630.927 Q32.7167 632.072 32.7167 633.473 Q32.7167 638.438 35.9632 641.112 Q39.1779 643.754 45.2253 643.754 L64.0042 643.754 L64.0042 649.642 L28.3562 649.642 L28.3562 643.754 L33.8944 643.754 Q30.6479 641.907 29.0883 638.947 Q27.4968 635.987 27.4968 631.754 Q27.4968 631.149 27.5923 630.417 Q27.656 629.685 27.8151 628.794 L33.8307 628.762 Z\" fill=\"#000000\" fill-rule=\"nonzero\" fill-opacity=\"1\" /><path clip-path=\"url(#clip410)\" d=\"M32.4621 610.238 Q32.4621 614.949 36.1542 617.686 Q39.8145 620.423 46.212 620.423 Q52.6095 620.423 56.3017 617.718 Q59.9619 614.981 59.9619 610.238 Q59.9619 605.559 56.2698 602.822 Q52.5777 600.085 46.212 600.085 Q39.8781 600.085 36.186 602.822 Q32.4621 605.559 32.4621 610.238 M27.4968 610.238 Q27.4968 602.599 32.4621 598.239 Q37.4273 593.878 46.212 593.878 Q54.9649 593.878 59.9619 598.239 Q64.9272 602.599 64.9272 610.238 Q64.9272 617.909 59.9619 622.269 Q54.9649 626.598 46.212 626.598 Q37.4273 626.598 32.4621 622.269 Q27.4968 617.909 27.4968 610.238 Z\" fill=\"#000000\" fill-rule=\"nonzero\" fill-opacity=\"1\" /><path clip-path=\"url(#clip410)\" d=\"M33.8307 563.514 Q33.2578 564.501 33.0032 565.678 Q32.7167 566.824 32.7167 568.224 Q32.7167 573.19 35.9632 575.863 Q39.1779 578.505 45.2253 578.505 L64.0042 578.505 L64.0042 584.393 L28.3562 584.393 L28.3562 578.505 L33.8944 578.505 Q30.6479 576.659 29.0883 573.699 Q27.4968 570.739 27.4968 566.506 Q27.4968 565.901 27.5923 565.169 Q27.656 564.437 27.8151 563.546 L33.8307 563.514 Z\" fill=\"#000000\" fill-rule=\"nonzero\" fill-opacity=\"1\" /><path clip-path=\"url(#clip410)\" d=\"M472.852 34.3604 L472.852 40.5583 L465.723 40.5583 Q461.712 40.5583 460.133 42.1786 Q458.593 43.799 458.593 48.0119 L458.593 52.0223 L470.867 52.0223 L470.867 57.8151 L458.593 57.8151 L458.593 97.3924 L451.099 97.3924 L451.099 57.8151 L443.969 57.8151 L443.969 52.0223 L451.099 52.0223 L451.099 48.8626 Q451.099 41.2874 454.623 37.8441 Q458.148 34.3604 465.804 34.3604 L472.852 34.3604 Z\" fill=\"#000000\" fill-rule=\"nonzero\" fill-opacity=\"1\" /><path clip-path=\"url(#clip410)\" d=\"M496.672 57.248 Q490.676 57.248 487.193 61.947 Q483.709 66.6056 483.709 74.7479 Q483.709 82.8902 487.152 87.5892 Q490.636 92.2478 496.672 92.2478 Q502.627 92.2478 506.11 87.5487 Q509.594 82.8497 509.594 74.7479 Q509.594 66.6866 506.11 61.9875 Q502.627 57.248 496.672 57.248 M496.672 50.9286 Q506.394 50.9286 511.944 57.248 Q517.493 63.5674 517.493 74.7479 Q517.493 85.8879 511.944 92.2478 Q506.394 98.5672 496.672 98.5672 Q486.909 98.5672 481.359 92.2478 Q475.85 85.8879 475.85 74.7479 Q475.85 63.5674 481.359 57.248 Q486.909 50.9286 496.672 50.9286 Z\" fill=\"#000000\" fill-rule=\"nonzero\" fill-opacity=\"1\" /><path clip-path=\"url(#clip410)\" d=\"M556.139 58.9899 Q554.883 58.2607 553.384 57.9366 Q551.926 57.572 550.144 57.572 Q543.824 57.572 540.421 61.704 Q537.059 65.7954 537.059 73.4921 L537.059 97.3924 L529.565 97.3924 L529.565 52.0223 L537.059 52.0223 L537.059 59.0709 Q539.409 54.939 543.176 52.954 Q546.943 50.9286 552.331 50.9286 Q553.101 50.9286 554.033 51.0501 Q554.964 51.1311 556.098 51.3337 L556.139 58.9899 Z\" fill=\"#000000\" fill-rule=\"nonzero\" fill-opacity=\"1\" /><path clip-path=\"url(#clip410)\" d=\"M559.623 52.0223 L567.076 52.0223 L576.393 87.4272 L585.67 52.0223 L594.461 52.0223 L603.778 87.4272 L613.054 52.0223 L620.508 52.0223 L608.639 97.3924 L599.848 97.3924 L590.086 60.2051 L580.282 97.3924 L571.492 97.3924 L559.623 52.0223 Z\" fill=\"#000000\" fill-rule=\"nonzero\" fill-opacity=\"1\" /><path clip-path=\"url(#clip410)\" d=\"M652.429 74.5858 Q643.395 74.5858 639.912 76.6518 Q636.428 78.7178 636.428 83.7004 Q636.428 87.6703 639.02 90.0198 Q641.654 92.3288 646.15 92.3288 Q652.348 92.3288 656.075 87.9538 Q659.842 83.5383 659.842 76.2467 L659.842 74.5858 L652.429 74.5858 M667.296 71.5072 L667.296 97.3924 L659.842 97.3924 L659.842 90.5059 Q657.29 94.6378 653.482 96.6228 Q649.674 98.5672 644.165 98.5672 Q637.198 98.5672 633.066 94.6783 Q628.974 90.749 628.974 84.1865 Q628.974 76.5303 634.078 72.6414 Q639.223 68.7525 649.391 68.7525 L659.842 68.7525 L659.842 68.0234 Q659.842 62.8787 656.439 60.0836 Q653.077 57.248 646.96 57.248 Q643.071 57.248 639.385 58.1797 Q635.699 59.1114 632.296 60.9748 L632.296 54.0883 Q636.387 52.5084 640.236 51.7387 Q644.084 50.9286 647.73 50.9286 Q657.574 50.9286 662.435 56.0327 Q667.296 61.1368 667.296 71.5072 Z\" fill=\"#000000\" fill-rule=\"nonzero\" fill-opacity=\"1\" /><path clip-path=\"url(#clip410)\" d=\"M708.939 58.9899 Q707.683 58.2607 706.184 57.9366 Q704.726 57.572 702.944 57.572 Q696.624 57.572 693.222 61.704 Q689.859 65.7954 689.859 73.4921 L689.859 97.3924 L682.365 97.3924 L682.365 52.0223 L689.859 52.0223 L689.859 59.0709 Q692.209 54.939 695.976 52.954 Q699.744 50.9286 705.131 50.9286 Q705.901 50.9286 706.833 51.0501 Q707.764 51.1311 708.899 51.3337 L708.939 58.9899 Z\" fill=\"#000000\" fill-rule=\"nonzero\" fill-opacity=\"1\" /><path clip-path=\"url(#clip410)\" d=\"M745.154 58.9088 L745.154 34.3604 L752.608 34.3604 L752.608 97.3924 L745.154 97.3924 L745.154 90.5869 Q742.805 94.6378 739.199 96.6228 Q735.635 98.5672 730.611 98.5672 Q722.388 98.5672 717.203 92.0047 Q712.058 85.4423 712.058 74.7479 Q712.058 64.0535 717.203 57.491 Q722.388 50.9286 730.611 50.9286 Q735.635 50.9286 739.199 52.9135 Q742.805 54.8579 745.154 58.9088 M719.755 74.7479 Q719.755 82.9712 723.117 87.6703 Q726.52 92.3288 732.434 92.3288 Q738.349 92.3288 741.751 87.6703 Q745.154 82.9712 745.154 74.7479 Q745.154 66.5245 741.751 61.866 Q738.349 57.167 732.434 57.167 Q726.52 57.167 723.117 61.866 Q719.755 66.5245 719.755 74.7479 Z\" fill=\"#000000\" fill-rule=\"nonzero\" fill-opacity=\"1\" /><path clip-path=\"url(#clip410)\" d=\"M764.193 71.3451 L786.028 71.3451 L786.028 77.9886 L764.193 77.9886 L764.193 71.3451 Z\" fill=\"#000000\" fill-rule=\"nonzero\" fill-opacity=\"1\" /><path clip-path=\"url(#clip410)\" d=\"M827.752 58.9088 L827.752 34.3604 L835.206 34.3604 L835.206 97.3924 L827.752 97.3924 L827.752 90.5869 Q825.403 94.6378 821.797 96.6228 Q818.232 98.5672 813.209 98.5672 Q804.986 98.5672 799.801 92.0047 Q794.656 85.4423 794.656 74.7479 Q794.656 64.0535 799.801 57.491 Q804.986 50.9286 813.209 50.9286 Q818.232 50.9286 821.797 52.9135 Q825.403 54.8579 827.752 58.9088 M802.353 74.7479 Q802.353 82.9712 805.715 87.6703 Q809.118 92.3288 815.032 92.3288 Q820.947 92.3288 824.349 87.6703 Q827.752 82.9712 827.752 74.7479 Q827.752 66.5245 824.349 61.866 Q820.947 57.167 815.032 57.167 Q809.118 57.167 805.715 61.866 Q802.353 66.5245 802.353 74.7479 Z\" fill=\"#000000\" fill-rule=\"nonzero\" fill-opacity=\"1\" /><path clip-path=\"url(#clip410)\" d=\"M850.559 52.0223 L858.012 52.0223 L858.012 97.3924 L850.559 97.3924 L850.559 52.0223 M850.559 34.3604 L858.012 34.3604 L858.012 43.799 L850.559 43.799 L850.559 34.3604 Z\" fill=\"#000000\" fill-rule=\"nonzero\" fill-opacity=\"1\" /><path clip-path=\"url(#clip410)\" d=\"M896.577 34.3604 L896.577 40.5583 L889.447 40.5583 Q885.437 40.5583 883.857 42.1786 Q882.318 43.799 882.318 48.0119 L882.318 52.0223 L894.592 52.0223 L894.592 57.8151 L882.318 57.8151 L882.318 97.3924 L874.824 97.3924 L874.824 57.8151 L867.694 57.8151 L867.694 52.0223 L874.824 52.0223 L874.824 48.8626 Q874.824 41.2874 878.348 37.8441 Q881.872 34.3604 889.528 34.3604 L896.577 34.3604 Z\" fill=\"#000000\" fill-rule=\"nonzero\" fill-opacity=\"1\" /><path clip-path=\"url(#clip410)\" d=\"M925.784 34.3604 L925.784 40.5583 L918.654 40.5583 Q914.644 40.5583 913.064 42.1786 Q911.525 43.799 911.525 48.0119 L911.525 52.0223 L923.799 52.0223 L923.799 57.8151 L911.525 57.8151 L911.525 97.3924 L904.031 97.3924 L904.031 57.8151 L896.901 57.8151 L896.901 52.0223 L904.031 52.0223 L904.031 48.8626 Q904.031 41.2874 907.555 37.8441 Q911.079 34.3604 918.735 34.3604 L925.784 34.3604 Z\" fill=\"#000000\" fill-rule=\"nonzero\" fill-opacity=\"1\" /><path clip-path=\"url(#clip410)\" d=\"M970.83 72.844 L970.83 76.4898 L936.559 76.4898 Q937.045 84.1865 941.177 88.2374 Q945.35 92.2478 952.763 92.2478 Q957.057 92.2478 961.067 91.1946 Q965.118 90.1413 969.088 88.0348 L969.088 95.0834 Q965.078 96.7848 960.865 97.676 Q956.652 98.5672 952.317 98.5672 Q941.461 98.5672 935.101 92.2478 Q928.782 85.9284 928.782 75.153 Q928.782 64.013 934.777 57.491 Q940.813 50.9286 951.021 50.9286 Q960.176 50.9286 965.483 56.8429 Q970.83 62.7167 970.83 72.844 M963.376 70.6565 Q963.295 64.5396 959.933 60.8938 Q956.611 57.248 951.102 57.248 Q944.864 57.248 941.096 60.7723 Q937.37 64.2966 936.802 70.697 L963.376 70.6565 Z\" fill=\"#000000\" fill-rule=\"nonzero\" fill-opacity=\"1\" /><path clip-path=\"url(#clip410)\" d=\"M1009.35 58.9899 Q1008.1 58.2607 1006.6 57.9366 Q1005.14 57.572 1003.36 57.572 Q997.039 57.572 993.637 61.704 Q990.274 65.7954 990.274 73.4921 L990.274 97.3924 L982.78 97.3924 L982.78 52.0223 L990.274 52.0223 L990.274 59.0709 Q992.624 54.939 996.391 52.954 Q1000.16 50.9286 1005.55 50.9286 Q1006.32 50.9286 1007.25 51.0501 Q1008.18 51.1311 1009.31 51.3337 L1009.35 58.9899 Z\" fill=\"#000000\" fill-rule=\"nonzero\" fill-opacity=\"1\" /><path clip-path=\"url(#clip410)\" d=\"M1054.16 72.844 L1054.16 76.4898 L1019.89 76.4898 Q1020.37 84.1865 1024.5 88.2374 Q1028.68 92.2478 1036.09 92.2478 Q1040.38 92.2478 1044.39 91.1946 Q1048.45 90.1413 1052.42 88.0348 L1052.42 95.0834 Q1048.4 96.7848 1044.19 97.676 Q1039.98 98.5672 1035.64 98.5672 Q1024.79 98.5672 1018.43 92.2478 Q1012.11 85.9284 1012.11 75.153 Q1012.11 64.013 1018.1 57.491 Q1024.14 50.9286 1034.35 50.9286 Q1043.5 50.9286 1048.81 56.8429 Q1054.16 62.7167 1054.16 72.844 M1046.7 70.6565 Q1046.62 64.5396 1043.26 60.8938 Q1039.94 57.248 1034.43 57.248 Q1028.19 57.248 1024.42 60.7723 Q1020.7 64.2966 1020.13 70.697 L1046.7 70.6565 Z\" fill=\"#000000\" fill-rule=\"nonzero\" fill-opacity=\"1\" /><path clip-path=\"url(#clip410)\" d=\"M1104.1 70.0083 L1104.1 97.3924 L1096.65 97.3924 L1096.65 70.2514 Q1096.65 63.8104 1094.14 60.6102 Q1091.63 57.41 1086.6 57.41 Q1080.57 57.41 1077.09 61.2584 Q1073.6 65.1067 1073.6 71.7502 L1073.6 97.3924 L1066.11 97.3924 L1066.11 52.0223 L1073.6 52.0223 L1073.6 59.0709 Q1076.28 54.9795 1079.88 52.954 Q1083.53 50.9286 1088.27 50.9286 Q1096.08 50.9286 1100.09 55.7897 Q1104.1 60.6102 1104.1 70.0083 Z\" fill=\"#000000\" fill-rule=\"nonzero\" fill-opacity=\"1\" /><path clip-path=\"url(#clip410)\" d=\"M1151.62 53.7642 L1151.62 60.7318 Q1148.46 58.9899 1145.26 58.1392 Q1142.1 57.248 1138.86 57.248 Q1131.61 57.248 1127.6 61.866 Q1123.59 66.4435 1123.59 74.7479 Q1123.59 83.0522 1127.6 87.6703 Q1131.61 92.2478 1138.86 92.2478 Q1142.1 92.2478 1145.26 91.3971 Q1148.46 90.5059 1151.62 88.764 L1151.62 95.6505 Q1148.5 97.1089 1145.14 97.838 Q1141.82 98.5672 1138.05 98.5672 Q1127.8 98.5672 1121.77 92.1263 Q1115.73 85.6853 1115.73 74.7479 Q1115.73 63.6484 1121.81 57.2885 Q1127.92 50.9286 1138.54 50.9286 Q1141.98 50.9286 1145.26 51.6577 Q1148.54 52.3464 1151.62 53.7642 Z\" fill=\"#000000\" fill-rule=\"nonzero\" fill-opacity=\"1\" /><path clip-path=\"url(#clip410)\" d=\"M1203.39 72.844 L1203.39 76.4898 L1169.12 76.4898 Q1169.61 84.1865 1173.74 88.2374 Q1177.91 92.2478 1185.33 92.2478 Q1189.62 92.2478 1193.63 91.1946 Q1197.68 90.1413 1201.65 88.0348 L1201.65 95.0834 Q1197.64 96.7848 1193.43 97.676 Q1189.21 98.5672 1184.88 98.5672 Q1174.02 98.5672 1167.66 92.2478 Q1161.34 85.9284 1161.34 75.153 Q1161.34 64.013 1167.34 57.491 Q1173.38 50.9286 1183.58 50.9286 Q1192.74 50.9286 1198.05 56.8429 Q1203.39 62.7167 1203.39 72.844 M1195.94 70.6565 Q1195.86 64.5396 1192.5 60.8938 Q1189.17 57.248 1183.66 57.248 Q1177.43 57.248 1173.66 60.7723 Q1169.93 64.2966 1169.36 70.697 L1195.94 70.6565 Z\" fill=\"#000000\" fill-rule=\"nonzero\" fill-opacity=\"1\" /><path clip-path=\"url(#clip410)\" d=\"M1262.62 74.5858 Q1253.58 74.5858 1250.1 76.6518 Q1246.62 78.7178 1246.62 83.7004 Q1246.62 87.6703 1249.21 90.0198 Q1251.84 92.3288 1256.34 92.3288 Q1262.54 92.3288 1266.26 87.9538 Q1270.03 83.5383 1270.03 76.2467 L1270.03 74.5858 L1262.62 74.5858 M1277.48 71.5072 L1277.48 97.3924 L1270.03 97.3924 L1270.03 90.5059 Q1267.48 94.6378 1263.67 96.6228 Q1259.86 98.5672 1254.35 98.5672 Q1247.39 98.5672 1243.25 94.6783 Q1239.16 90.749 1239.16 84.1865 Q1239.16 76.5303 1244.27 72.6414 Q1249.41 68.7525 1259.58 68.7525 L1270.03 68.7525 L1270.03 68.0234 Q1270.03 62.8787 1266.63 60.0836 Q1263.26 57.248 1257.15 57.248 Q1253.26 57.248 1249.57 58.1797 Q1245.89 59.1114 1242.48 60.9748 L1242.48 54.0883 Q1246.58 52.5084 1250.42 51.7387 Q1254.27 50.9286 1257.92 50.9286 Q1267.76 50.9286 1272.62 56.0327 Q1277.48 61.1368 1277.48 71.5072 Z\" fill=\"#000000\" fill-rule=\"nonzero\" fill-opacity=\"1\" /><path clip-path=\"url(#clip410)\" d=\"M1325.49 53.7642 L1325.49 60.7318 Q1322.33 58.9899 1319.13 58.1392 Q1315.97 57.248 1312.73 57.248 Q1305.48 57.248 1301.46 61.866 Q1297.45 66.4435 1297.45 74.7479 Q1297.45 83.0522 1301.46 87.6703 Q1305.48 92.2478 1312.73 92.2478 Q1315.97 92.2478 1319.13 91.3971 Q1322.33 90.5059 1325.49 88.764 L1325.49 95.6505 Q1322.37 97.1089 1319.01 97.838 Q1315.68 98.5672 1311.92 98.5672 Q1301.67 98.5672 1295.63 92.1263 Q1289.6 85.6853 1289.6 74.7479 Q1289.6 63.6484 1295.67 57.2885 Q1301.79 50.9286 1312.4 50.9286 Q1315.85 50.9286 1319.13 51.6577 Q1322.41 52.3464 1325.49 53.7642 Z\" fill=\"#000000\" fill-rule=\"nonzero\" fill-opacity=\"1\" /><path clip-path=\"url(#clip410)\" d=\"M1371.1 53.7642 L1371.1 60.7318 Q1367.94 58.9899 1364.74 58.1392 Q1361.58 57.248 1358.34 57.248 Q1351.09 57.248 1347.08 61.866 Q1343.07 66.4435 1343.07 74.7479 Q1343.07 83.0522 1347.08 87.6703 Q1351.09 92.2478 1358.34 92.2478 Q1361.58 92.2478 1364.74 91.3971 Q1367.94 90.5059 1371.1 88.764 L1371.1 95.6505 Q1367.98 97.1089 1364.62 97.838 Q1361.3 98.5672 1357.53 98.5672 Q1347.28 98.5672 1341.24 92.1263 Q1335.21 85.6853 1335.21 74.7479 Q1335.21 63.6484 1341.29 57.2885 Q1347.4 50.9286 1358.02 50.9286 Q1361.46 50.9286 1364.74 51.6577 Q1368.02 52.3464 1371.1 53.7642 Z\" fill=\"#000000\" fill-rule=\"nonzero\" fill-opacity=\"1\" /><path clip-path=\"url(#clip410)\" d=\"M1383.29 79.4874 L1383.29 52.0223 L1390.75 52.0223 L1390.75 79.2039 Q1390.75 85.6448 1393.26 88.8855 Q1395.77 92.0858 1400.79 92.0858 Q1406.83 92.0858 1410.31 88.2374 Q1413.84 84.389 1413.84 77.7456 L1413.84 52.0223 L1421.29 52.0223 L1421.29 97.3924 L1413.84 97.3924 L1413.84 90.4249 Q1411.12 94.5568 1407.52 96.5823 Q1403.95 98.5672 1399.21 98.5672 Q1391.39 98.5672 1387.34 93.7061 Q1383.29 88.845 1383.29 79.4874 M1402.05 50.9286 L1402.05 50.9286 Z\" fill=\"#000000\" fill-rule=\"nonzero\" fill-opacity=\"1\" /><path clip-path=\"url(#clip410)\" d=\"M1462.93 58.9899 Q1461.68 58.2607 1460.18 57.9366 Q1458.72 57.572 1456.94 57.572 Q1450.62 57.572 1447.22 61.704 Q1443.85 65.7954 1443.85 73.4921 L1443.85 97.3924 L1436.36 97.3924 L1436.36 52.0223 L1443.85 52.0223 L1443.85 59.0709 Q1446.2 54.939 1449.97 52.954 Q1453.74 50.9286 1459.13 50.9286 Q1459.9 50.9286 1460.83 51.0501 Q1461.76 51.1311 1462.89 51.3337 L1462.93 58.9899 Z\" fill=\"#000000\" fill-rule=\"nonzero\" fill-opacity=\"1\" /><path clip-path=\"url(#clip410)\" d=\"M1491.37 74.5858 Q1482.34 74.5858 1478.85 76.6518 Q1475.37 78.7178 1475.37 83.7004 Q1475.37 87.6703 1477.96 90.0198 Q1480.6 92.3288 1485.09 92.3288 Q1491.29 92.3288 1495.02 87.9538 Q1498.78 83.5383 1498.78 76.2467 L1498.78 74.5858 L1491.37 74.5858 M1506.24 71.5072 L1506.24 97.3924 L1498.78 97.3924 L1498.78 90.5059 Q1496.23 94.6378 1492.42 96.6228 Q1488.62 98.5672 1483.11 98.5672 Q1476.14 98.5672 1472.01 94.6783 Q1467.92 90.749 1467.92 84.1865 Q1467.92 76.5303 1473.02 72.6414 Q1478.17 68.7525 1488.33 68.7525 L1498.78 68.7525 L1498.78 68.0234 Q1498.78 62.8787 1495.38 60.0836 Q1492.02 57.248 1485.9 57.248 Q1482.01 57.248 1478.33 58.1797 Q1474.64 59.1114 1471.24 60.9748 L1471.24 54.0883 Q1475.33 52.5084 1479.18 51.7387 Q1483.03 50.9286 1486.67 50.9286 Q1496.52 50.9286 1501.38 56.0327 Q1506.24 61.1368 1506.24 71.5072 Z\" fill=\"#000000\" fill-rule=\"nonzero\" fill-opacity=\"1\" /><path clip-path=\"url(#clip410)\" d=\"M1554.24 53.7642 L1554.24 60.7318 Q1551.08 58.9899 1547.88 58.1392 Q1544.72 57.248 1541.48 57.248 Q1534.23 57.248 1530.22 61.866 Q1526.21 66.4435 1526.21 74.7479 Q1526.21 83.0522 1530.22 87.6703 Q1534.23 92.2478 1541.48 92.2478 Q1544.72 92.2478 1547.88 91.3971 Q1551.08 90.5059 1554.24 88.764 L1554.24 95.6505 Q1551.12 97.1089 1547.76 97.838 Q1544.44 98.5672 1540.67 98.5672 Q1530.42 98.5672 1524.39 92.1263 Q1518.35 85.6853 1518.35 74.7479 Q1518.35 63.6484 1524.43 57.2885 Q1530.54 50.9286 1541.16 50.9286 Q1544.6 50.9286 1547.88 51.6577 Q1551.16 52.3464 1554.24 53.7642 Z\" fill=\"#000000\" fill-rule=\"nonzero\" fill-opacity=\"1\" /><path clip-path=\"url(#clip410)\" d=\"M1586.08 101.605 Q1582.92 109.707 1579.92 112.178 Q1576.93 114.649 1571.9 114.649 L1565.95 114.649 L1565.95 108.411 L1570.32 108.411 Q1573.4 108.411 1575.1 106.953 Q1576.8 105.494 1578.87 100.066 L1580.21 96.6633 L1561.86 52.0223 L1569.76 52.0223 L1583.93 87.5082 L1598.11 52.0223 L1606.01 52.0223 L1586.08 101.605 Z\" fill=\"#000000\" fill-rule=\"nonzero\" fill-opacity=\"1\" /><path clip-path=\"url(#clip410)\" d=\"M1665.64 34.3604 L1665.64 40.5583 L1658.51 40.5583 Q1654.5 40.5583 1652.92 42.1786 Q1651.38 43.799 1651.38 48.0119 L1651.38 52.0223 L1663.66 52.0223 L1663.66 57.8151 L1651.38 57.8151 L1651.38 97.3924 L1643.89 97.3924 L1643.89 57.8151 L1636.76 57.8151 L1636.76 52.0223 L1643.89 52.0223 L1643.89 48.8626 Q1643.89 41.2874 1647.41 37.8441 Q1650.94 34.3604 1658.59 34.3604 L1665.64 34.3604 Z\" fill=\"#000000\" fill-rule=\"nonzero\" fill-opacity=\"1\" /><path clip-path=\"url(#clip410)\" d=\"M1689.46 57.248 Q1683.47 57.248 1679.98 61.947 Q1676.5 66.6056 1676.5 74.7479 Q1676.5 82.8902 1679.94 87.5892 Q1683.42 92.2478 1689.46 92.2478 Q1695.42 92.2478 1698.9 87.5487 Q1702.38 82.8497 1702.38 74.7479 Q1702.38 66.6866 1698.9 61.9875 Q1695.42 57.248 1689.46 57.248 M1689.46 50.9286 Q1699.18 50.9286 1704.73 57.248 Q1710.28 63.5674 1710.28 74.7479 Q1710.28 85.8879 1704.73 92.2478 Q1699.18 98.5672 1689.46 98.5672 Q1679.7 98.5672 1674.15 92.2478 Q1668.64 85.8879 1668.64 74.7479 Q1668.64 63.5674 1674.15 57.248 Q1679.7 50.9286 1689.46 50.9286 Z\" fill=\"#000000\" fill-rule=\"nonzero\" fill-opacity=\"1\" /><path clip-path=\"url(#clip410)\" d=\"M1748.93 58.9899 Q1747.67 58.2607 1746.17 57.9366 Q1744.71 57.572 1742.93 57.572 Q1736.61 57.572 1733.21 61.704 Q1729.85 65.7954 1729.85 73.4921 L1729.85 97.3924 L1722.35 97.3924 L1722.35 52.0223 L1729.85 52.0223 L1729.85 59.0709 Q1732.2 54.939 1735.96 52.954 Q1739.73 50.9286 1745.12 50.9286 Q1745.89 50.9286 1746.82 51.0501 Q1747.75 51.1311 1748.89 51.3337 L1748.93 58.9899 Z\" fill=\"#000000\" fill-rule=\"nonzero\" fill-opacity=\"1\" /><path clip-path=\"url(#clip410)\" d=\"M1817.15 43.9834 Q1817.15 46.2378 1815.71 47.6315 Q1814.32 49.0251 1812.56 49.0251 Q1811.29 49.0251 1810.34 48.2463 Q1809.44 47.4675 1809.44 46.1149 Q1809.44 44.7212 1810.51 43.2456 Q1811.57 41.77 1813.99 41.565 Q1812.39 40.0484 1809.85 40.0484 Q1808.58 40.0484 1807.52 40.8682 Q1806.49 41.647 1805.92 42.9177 Q1805.3 44.2293 1803.91 51.6484 Q1803.46 54.0668 1803.05 56.4032 Q1802.64 58.7395 1802.15 61.1989 L1809.12 61.1989 Q1810.02 61.1989 1810.39 61.2399 Q1810.75 61.2809 1811.04 61.4858 Q1811.37 61.6908 1811.37 62.1417 Q1811.37 63.2894 1810.84 63.5763 Q1810.34 63.8222 1808.87 63.8222 L1801.66 63.8222 L1796.61 90.4243 Q1796.49 91.2031 1795.96 93.6624 Q1795.47 96.0808 1794.28 100.057 Q1793.09 104.074 1791.9 106.451 Q1791.24 107.804 1790.38 109.074 Q1789.56 110.386 1788.37 111.698 Q1787.19 113.009 1785.63 113.788 Q1784.07 114.608 1782.43 114.608 Q1779.64 114.608 1777.47 113.05 Q1775.3 111.493 1775.3 108.828 Q1775.3 106.574 1776.69 105.18 Q1778.13 103.787 1779.89 103.787 Q1781.16 103.787 1782.06 104.566 Q1783.01 105.344 1783.01 106.697 Q1783.01 107.271 1782.8 107.927 Q1782.6 108.583 1782.14 109.32 Q1781.69 110.099 1780.71 110.632 Q1779.73 111.165 1778.37 111.247 Q1779.97 112.763 1782.43 112.763 Q1783.21 112.763 1783.91 112.436 Q1784.6 112.149 1785.18 111.411 Q1785.79 110.673 1786.24 109.935 Q1786.69 109.238 1787.15 107.886 Q1787.6 106.574 1787.88 105.59 Q1788.17 104.607 1788.54 102.844 Q1788.95 101.081 1789.15 100.016 Q1789.36 98.991 1789.73 96.9825 L1796 63.8222 L1790.47 63.8222 Q1789.48 63.8222 1789.07 63.7812 Q1788.7 63.7402 1788.42 63.5353 Q1788.13 63.2894 1788.13 62.7975 Q1788.13 62.0187 1788.46 61.6908 Q1788.83 61.3219 1789.24 61.2809 Q1789.65 61.1989 1790.63 61.1989 L1796.45 61.1989 Q1798.42 50.8286 1799.2 48.0413 Q1800.1 45.0901 1801.49 43.0407 Q1802.88 40.9502 1804.44 39.9665 Q1806 38.9827 1807.27 38.6138 Q1808.58 38.2039 1809.85 38.2039 Q1812.72 38.2039 1814.94 39.7615 Q1817.15 41.2781 1817.15 43.9834 Z\" fill=\"#000000\" fill-rule=\"nonzero\" fill-opacity=\"1\" /><path clip-path=\"url(#clip410)\" d=\"M1828.45 76.4059 Q1828.45 62.2236 1833.74 50.7876 Q1835.99 45.9919 1839.15 41.9749 Q1842.3 37.958 1844.39 36.1954 Q1846.48 34.4329 1847.06 34.4329 Q1847.88 34.4329 1847.92 35.2527 Q1847.92 35.6626 1846.81 36.6873 Q1833.29 50.4597 1833.33 76.4059 Q1833.33 102.434 1846.48 115.674 Q1847.92 117.108 1847.92 117.559 Q1847.92 118.379 1847.06 118.379 Q1846.48 118.379 1844.48 116.698 Q1842.47 115.018 1839.35 111.165 Q1836.24 107.312 1833.98 102.598 Q1828.45 91.1621 1828.45 76.4059 Z\" fill=\"#000000\" fill-rule=\"nonzero\" fill-opacity=\"1\" /><path clip-path=\"url(#clip410)\" d=\"M1911.89 95.7119 Q1911.89 96.4907 1911.56 96.9006 Q1911.27 97.2695 1910.99 97.3514 Q1910.74 97.3924 1910.37 97.3924 Q1909.31 97.3924 1905.62 97.2695 Q1901.93 97.1465 1900.86 97.1465 Q1899.14 97.1465 1895.62 97.2695 Q1892.09 97.3924 1890.37 97.3924 Q1889.22 97.3924 1889.22 96.4497 Q1889.22 95.8348 1889.34 95.5069 Q1889.47 95.138 1889.79 95.0151 Q1890.16 94.8511 1890.37 94.8511 Q1890.61 94.8101 1891.23 94.8101 Q1892.05 94.8101 1892.91 94.7281 Q1893.77 94.6052 1894.84 94.3592 Q1895.9 94.1133 1896.56 93.4985 Q1897.25 92.8836 1897.25 92.0228 Q1897.25 91.6539 1896.97 88.6207 Q1896.68 85.5875 1896.31 82.0624 Q1895.94 78.4964 1895.9 78.0045 L1874.83 78.0045 Q1872.91 81.3246 1871.55 83.62 Q1870.2 85.9154 1869.71 86.6942 Q1869.22 87.473 1868.93 87.9649 Q1868.64 88.4568 1868.48 88.7437 Q1867.29 90.9161 1867.29 91.8589 Q1867.29 94.4822 1871.23 94.8101 Q1872.58 94.8101 1872.58 95.7939 Q1872.58 96.5317 1872.25 96.9416 Q1871.92 97.3105 1871.64 97.3514 Q1871.39 97.3924 1870.98 97.3924 Q1869.63 97.3924 1866.8 97.2695 Q1863.97 97.1465 1862.58 97.1465 Q1861.39 97.1465 1858.93 97.2695 Q1856.47 97.3924 1855.36 97.3924 Q1854.87 97.3924 1854.59 97.1055 Q1854.3 96.8186 1854.3 96.4497 Q1854.3 95.8758 1854.38 95.5479 Q1854.5 95.22 1854.83 95.056 Q1855.16 94.8921 1855.32 94.8921 Q1855.49 94.8511 1856.06 94.8101 Q1859.18 94.6052 1861.59 93.1296 Q1864.05 91.6129 1866.39 87.719 L1895.57 38.6958 Q1895.86 38.2039 1896.07 37.958 Q1896.27 37.712 1896.68 37.5071 Q1897.13 37.3022 1897.79 37.3022 Q1898.81 37.3022 1899.02 37.6301 Q1899.22 37.917 1899.35 39.3106 L1904.47 91.7769 Q1904.59 92.8836 1904.67 93.3345 Q1904.8 93.7444 1905.33 94.1953 Q1905.9 94.6052 1906.93 94.7281 Q1907.99 94.8101 1909.96 94.8101 Q1910.7 94.8101 1910.99 94.8511 Q1911.27 94.8511 1911.56 95.056 Q1911.89 95.261 1911.89 95.7119 M1895.66 75.3812 L1892.99 47.7134 L1876.43 75.3812 L1895.66 75.3812 Z\" fill=\"#000000\" fill-rule=\"nonzero\" fill-opacity=\"1\" /><path clip-path=\"url(#clip410)\" d=\"M1918.67 117.559 Q1918.67 117.149 1919.74 116.125 Q1933.26 102.352 1933.26 76.4059 Q1933.26 50.3777 1920.27 37.2202 Q1918.67 35.7036 1918.67 35.2527 Q1918.67 34.4329 1919.49 34.4329 Q1920.06 34.4329 1922.07 36.1135 Q1924.12 37.794 1927.2 41.647 Q1930.31 45.5 1932.61 50.2138 Q1938.14 61.6498 1938.14 76.4059 Q1938.14 90.5882 1932.85 102.024 Q1930.6 106.82 1927.44 110.837 Q1924.29 114.854 1922.19 116.616 Q1920.1 118.379 1919.49 118.379 Q1918.67 118.379 1918.67 117.559 Z\" fill=\"#000000\" fill-rule=\"nonzero\" fill-opacity=\"1\" /><path clip-path=\"url(#clip410)\" d=\"M1974.19 84.6448 Q1974.28 83.62 1975.87 83.62 L2027.32 83.62 Q2029.73 83.62 2029.77 84.5628 Q2029.77 85.5875 2027.48 85.5465 L1976.45 85.5465 Q1974.19 85.5875 1974.19 84.6448 M1974.19 68.2491 Q1974.19 67.2243 1975.96 67.2653 L2027.23 67.2653 Q2029.73 67.2653 2029.77 68.2491 Q2029.77 69.1918 2027.64 69.1918 L1975.87 69.1918 Q1974.19 69.1918 1974.19 68.2491 Z\" fill=\"#000000\" fill-rule=\"nonzero\" fill-opacity=\"1\" /><path clip-path=\"url(#clip410)\" d=\"M2119.74 95.7119 Q2119.74 96.4907 2119.42 96.9006 Q2119.13 97.2695 2118.84 97.3514 Q2118.6 97.3924 2118.23 97.3924 Q2117.16 97.3924 2113.47 97.2695 Q2109.78 97.1465 2108.72 97.1465 Q2107 97.1465 2103.47 97.2695 Q2099.95 97.3924 2098.22 97.3924 Q2097.08 97.3924 2097.08 96.4497 Q2097.08 95.8348 2097.2 95.5069 Q2097.32 95.138 2097.65 95.0151 Q2098.02 94.8511 2098.22 94.8511 Q2098.47 94.8101 2099.08 94.8101 Q2099.9 94.8101 2100.77 94.7281 Q2101.63 94.6052 2102.69 94.3592 Q2103.76 94.1133 2104.41 93.4985 Q2105.11 92.8836 2105.11 92.0228 Q2105.11 91.6539 2104.82 88.6207 Q2104.54 85.5875 2104.17 82.0624 Q2103.8 78.4964 2103.76 78.0045 L2082.69 78.0045 Q2080.76 81.3246 2079.41 83.62 Q2078.06 85.9154 2077.57 86.6942 Q2077.07 87.473 2076.79 87.9649 Q2076.5 88.4568 2076.34 88.7437 Q2075.15 90.9161 2075.15 91.8589 Q2075.15 94.4822 2079.08 94.8101 Q2080.43 94.8101 2080.43 95.7939 Q2080.43 96.5317 2080.11 96.9416 Q2079.78 97.3105 2079.49 97.3514 Q2079.25 97.3924 2078.84 97.3924 Q2077.48 97.3924 2074.66 97.2695 Q2071.83 97.1465 2070.43 97.1465 Q2069.24 97.1465 2066.79 97.2695 Q2064.33 97.3924 2063.22 97.3924 Q2062.73 97.3924 2062.44 97.1055 Q2062.15 96.8186 2062.15 96.4497 Q2062.15 95.8758 2062.24 95.5479 Q2062.36 95.22 2062.69 95.056 Q2063.01 94.8921 2063.18 94.8921 Q2063.34 94.8511 2063.92 94.8101 Q2067.03 94.6052 2069.45 93.1296 Q2071.91 91.6129 2074.25 87.719 L2103.43 38.6958 Q2103.72 38.2039 2103.92 37.958 Q2104.13 37.712 2104.54 37.5071 Q2104.99 37.3022 2105.64 37.3022 Q2106.67 37.3022 2106.87 37.6301 Q2107.08 37.917 2107.2 39.3106 L2112.32 91.7769 Q2112.45 92.8836 2112.53 93.3345 Q2112.65 93.7444 2113.18 94.1953 Q2113.76 94.6052 2114.78 94.7281 Q2115.85 94.8101 2117.82 94.8101 Q2118.55 94.8101 2118.84 94.8511 Q2119.13 94.8511 2119.42 95.056 Q2119.74 95.261 2119.74 95.7119 M2103.51 75.3812 L2100.85 47.7134 L2084.29 75.3812 L2103.51 75.3812 Z\" fill=\"#000000\" fill-rule=\"nonzero\" fill-opacity=\"1\" /><path clip-path=\"url(#clip410)\" d=\"M2128.14 49.5056 Q2128.14 48.4439 2128.23 48.1283 Q2128.35 47.8127 2128.8 47.3249 L2140.08 34.7576 Q2146.25 27.814 2146.25 21.7599 Q2146.25 17.829 2144.18 15.0172 Q2142.15 12.2053 2138.39 12.2053 Q2135.81 12.2053 2133.62 13.7834 Q2131.44 15.3615 2130.44 18.1734 Q2130.61 18.116 2131.21 18.116 Q2132.68 18.116 2133.48 19.0341 Q2134.31 19.9523 2134.31 21.1861 Q2134.31 22.7642 2133.28 23.5389 Q2132.28 24.2849 2131.27 24.2849 Q2130.87 24.2849 2130.33 24.1988 Q2129.81 24.1127 2128.98 23.3093 Q2128.14 22.4772 2128.14 21.0139 Q2128.14 16.9109 2131.24 13.6399 Q2134.37 10.369 2139.13 10.369 Q2144.53 10.369 2148.06 13.5826 Q2151.61 16.7674 2151.61 21.7599 Q2151.61 23.5102 2151.07 25.1169 Q2150.55 26.695 2149.84 27.9288 Q2149.15 29.1626 2147.25 31.1424 Q2145.36 33.1221 2143.84 34.5281 Q2142.32 35.934 2138.9 38.918 L2132.68 44.9721 L2143.27 44.9721 Q2148.43 44.9721 2148.83 44.5131 Q2149.41 43.681 2150.12 39.291 L2151.61 39.291 L2149.95 49.5056 L2128.14 49.5056 Z\" fill=\"#000000\" fill-rule=\"nonzero\" fill-opacity=\"1\" /><polyline clip-path=\"url(#clip412)\" style=\"stroke:#009af9; stroke-linecap:round; stroke-linejoin:round; stroke-width:4; stroke-opacity:1; fill:none\" points=\"311.028,772.121 338.734,785.234 366.44,803.739 394.145,837.368 421.851,853.635 449.557,877.987 477.263,904.227 504.969,924.174 532.674,949.845 560.38,994.582 588.086,1015.26 615.792,1028.31 643.498,1056.78 671.203,1081.05 698.909,1109.97 726.615,1116.31 754.321,1146.96 782.027,1176.15 809.732,1203.02 837.438,1228.32 865.144,1260.56 892.85,1282.52 920.556,1302.56 948.261,1329.12 975.967,1349.51 1003.67,1363.51 1031.38,1339.43 1059.08,1314.59 1086.79,1290.15 1114.5,1265.49 1142.2,1240.94 1169.91,1216.36 1197.61,1191.79 1225.32,1167.22 1253.03,1142.65 1280.73,1118.08 1308.44,1093.5 1336.14,1068.93 1363.85,1044.36 1391.55,1019.79 1419.26,995.215 1446.97,970.642 1474.67,946.07 1502.38,921.498 1530.08,896.925 1557.79,872.353 1585.49,847.781 1613.2,823.209 1640.91,798.636 1668.61,774.064 \"/>\n",
       "<circle clip-path=\"url(#clip412)\" cx=\"311.028\" cy=\"772.121\" r=\"14.4\" fill=\"#009af9\" fill-rule=\"evenodd\" fill-opacity=\"1\" stroke=\"#000000\" stroke-opacity=\"1\" stroke-width=\"3.2\"/>\n",
       "<circle clip-path=\"url(#clip412)\" cx=\"338.734\" cy=\"785.234\" r=\"14.4\" fill=\"#009af9\" fill-rule=\"evenodd\" fill-opacity=\"1\" stroke=\"#000000\" stroke-opacity=\"1\" stroke-width=\"3.2\"/>\n",
       "<circle clip-path=\"url(#clip412)\" cx=\"366.44\" cy=\"803.739\" r=\"14.4\" fill=\"#009af9\" fill-rule=\"evenodd\" fill-opacity=\"1\" stroke=\"#000000\" stroke-opacity=\"1\" stroke-width=\"3.2\"/>\n",
       "<circle clip-path=\"url(#clip412)\" cx=\"394.145\" cy=\"837.368\" r=\"14.4\" fill=\"#009af9\" fill-rule=\"evenodd\" fill-opacity=\"1\" stroke=\"#000000\" stroke-opacity=\"1\" stroke-width=\"3.2\"/>\n",
       "<circle clip-path=\"url(#clip412)\" cx=\"421.851\" cy=\"853.635\" r=\"14.4\" fill=\"#009af9\" fill-rule=\"evenodd\" fill-opacity=\"1\" stroke=\"#000000\" stroke-opacity=\"1\" stroke-width=\"3.2\"/>\n",
       "<circle clip-path=\"url(#clip412)\" cx=\"449.557\" cy=\"877.987\" r=\"14.4\" fill=\"#009af9\" fill-rule=\"evenodd\" fill-opacity=\"1\" stroke=\"#000000\" stroke-opacity=\"1\" stroke-width=\"3.2\"/>\n",
       "<circle clip-path=\"url(#clip412)\" cx=\"477.263\" cy=\"904.227\" r=\"14.4\" fill=\"#009af9\" fill-rule=\"evenodd\" fill-opacity=\"1\" stroke=\"#000000\" stroke-opacity=\"1\" stroke-width=\"3.2\"/>\n",
       "<circle clip-path=\"url(#clip412)\" cx=\"504.969\" cy=\"924.174\" r=\"14.4\" fill=\"#009af9\" fill-rule=\"evenodd\" fill-opacity=\"1\" stroke=\"#000000\" stroke-opacity=\"1\" stroke-width=\"3.2\"/>\n",
       "<circle clip-path=\"url(#clip412)\" cx=\"532.674\" cy=\"949.845\" r=\"14.4\" fill=\"#009af9\" fill-rule=\"evenodd\" fill-opacity=\"1\" stroke=\"#000000\" stroke-opacity=\"1\" stroke-width=\"3.2\"/>\n",
       "<circle clip-path=\"url(#clip412)\" cx=\"560.38\" cy=\"994.582\" r=\"14.4\" fill=\"#009af9\" fill-rule=\"evenodd\" fill-opacity=\"1\" stroke=\"#000000\" stroke-opacity=\"1\" stroke-width=\"3.2\"/>\n",
       "<circle clip-path=\"url(#clip412)\" cx=\"588.086\" cy=\"1015.26\" r=\"14.4\" fill=\"#009af9\" fill-rule=\"evenodd\" fill-opacity=\"1\" stroke=\"#000000\" stroke-opacity=\"1\" stroke-width=\"3.2\"/>\n",
       "<circle clip-path=\"url(#clip412)\" cx=\"615.792\" cy=\"1028.31\" r=\"14.4\" fill=\"#009af9\" fill-rule=\"evenodd\" fill-opacity=\"1\" stroke=\"#000000\" stroke-opacity=\"1\" stroke-width=\"3.2\"/>\n",
       "<circle clip-path=\"url(#clip412)\" cx=\"643.498\" cy=\"1056.78\" r=\"14.4\" fill=\"#009af9\" fill-rule=\"evenodd\" fill-opacity=\"1\" stroke=\"#000000\" stroke-opacity=\"1\" stroke-width=\"3.2\"/>\n",
       "<circle clip-path=\"url(#clip412)\" cx=\"671.203\" cy=\"1081.05\" r=\"14.4\" fill=\"#009af9\" fill-rule=\"evenodd\" fill-opacity=\"1\" stroke=\"#000000\" stroke-opacity=\"1\" stroke-width=\"3.2\"/>\n",
       "<circle clip-path=\"url(#clip412)\" cx=\"698.909\" cy=\"1109.97\" r=\"14.4\" fill=\"#009af9\" fill-rule=\"evenodd\" fill-opacity=\"1\" stroke=\"#000000\" stroke-opacity=\"1\" stroke-width=\"3.2\"/>\n",
       "<circle clip-path=\"url(#clip412)\" cx=\"726.615\" cy=\"1116.31\" r=\"14.4\" fill=\"#009af9\" fill-rule=\"evenodd\" fill-opacity=\"1\" stroke=\"#000000\" stroke-opacity=\"1\" stroke-width=\"3.2\"/>\n",
       "<circle clip-path=\"url(#clip412)\" cx=\"754.321\" cy=\"1146.96\" r=\"14.4\" fill=\"#009af9\" fill-rule=\"evenodd\" fill-opacity=\"1\" stroke=\"#000000\" stroke-opacity=\"1\" stroke-width=\"3.2\"/>\n",
       "<circle clip-path=\"url(#clip412)\" cx=\"782.027\" cy=\"1176.15\" r=\"14.4\" fill=\"#009af9\" fill-rule=\"evenodd\" fill-opacity=\"1\" stroke=\"#000000\" stroke-opacity=\"1\" stroke-width=\"3.2\"/>\n",
       "<circle clip-path=\"url(#clip412)\" cx=\"809.732\" cy=\"1203.02\" r=\"14.4\" fill=\"#009af9\" fill-rule=\"evenodd\" fill-opacity=\"1\" stroke=\"#000000\" stroke-opacity=\"1\" stroke-width=\"3.2\"/>\n",
       "<circle clip-path=\"url(#clip412)\" cx=\"837.438\" cy=\"1228.32\" r=\"14.4\" fill=\"#009af9\" fill-rule=\"evenodd\" fill-opacity=\"1\" stroke=\"#000000\" stroke-opacity=\"1\" stroke-width=\"3.2\"/>\n",
       "<circle clip-path=\"url(#clip412)\" cx=\"865.144\" cy=\"1260.56\" r=\"14.4\" fill=\"#009af9\" fill-rule=\"evenodd\" fill-opacity=\"1\" stroke=\"#000000\" stroke-opacity=\"1\" stroke-width=\"3.2\"/>\n",
       "<circle clip-path=\"url(#clip412)\" cx=\"892.85\" cy=\"1282.52\" r=\"14.4\" fill=\"#009af9\" fill-rule=\"evenodd\" fill-opacity=\"1\" stroke=\"#000000\" stroke-opacity=\"1\" stroke-width=\"3.2\"/>\n",
       "<circle clip-path=\"url(#clip412)\" cx=\"920.556\" cy=\"1302.56\" r=\"14.4\" fill=\"#009af9\" fill-rule=\"evenodd\" fill-opacity=\"1\" stroke=\"#000000\" stroke-opacity=\"1\" stroke-width=\"3.2\"/>\n",
       "<circle clip-path=\"url(#clip412)\" cx=\"948.261\" cy=\"1329.12\" r=\"14.4\" fill=\"#009af9\" fill-rule=\"evenodd\" fill-opacity=\"1\" stroke=\"#000000\" stroke-opacity=\"1\" stroke-width=\"3.2\"/>\n",
       "<circle clip-path=\"url(#clip412)\" cx=\"975.967\" cy=\"1349.51\" r=\"14.4\" fill=\"#009af9\" fill-rule=\"evenodd\" fill-opacity=\"1\" stroke=\"#000000\" stroke-opacity=\"1\" stroke-width=\"3.2\"/>\n",
       "<circle clip-path=\"url(#clip412)\" cx=\"1003.67\" cy=\"1363.51\" r=\"14.4\" fill=\"#009af9\" fill-rule=\"evenodd\" fill-opacity=\"1\" stroke=\"#000000\" stroke-opacity=\"1\" stroke-width=\"3.2\"/>\n",
       "<circle clip-path=\"url(#clip412)\" cx=\"1031.38\" cy=\"1339.43\" r=\"14.4\" fill=\"#009af9\" fill-rule=\"evenodd\" fill-opacity=\"1\" stroke=\"#000000\" stroke-opacity=\"1\" stroke-width=\"3.2\"/>\n",
       "<circle clip-path=\"url(#clip412)\" cx=\"1059.08\" cy=\"1314.59\" r=\"14.4\" fill=\"#009af9\" fill-rule=\"evenodd\" fill-opacity=\"1\" stroke=\"#000000\" stroke-opacity=\"1\" stroke-width=\"3.2\"/>\n",
       "<circle clip-path=\"url(#clip412)\" cx=\"1086.79\" cy=\"1290.15\" r=\"14.4\" fill=\"#009af9\" fill-rule=\"evenodd\" fill-opacity=\"1\" stroke=\"#000000\" stroke-opacity=\"1\" stroke-width=\"3.2\"/>\n",
       "<circle clip-path=\"url(#clip412)\" cx=\"1114.5\" cy=\"1265.49\" r=\"14.4\" fill=\"#009af9\" fill-rule=\"evenodd\" fill-opacity=\"1\" stroke=\"#000000\" stroke-opacity=\"1\" stroke-width=\"3.2\"/>\n",
       "<circle clip-path=\"url(#clip412)\" cx=\"1142.2\" cy=\"1240.94\" r=\"14.4\" fill=\"#009af9\" fill-rule=\"evenodd\" fill-opacity=\"1\" stroke=\"#000000\" stroke-opacity=\"1\" stroke-width=\"3.2\"/>\n",
       "<circle clip-path=\"url(#clip412)\" cx=\"1169.91\" cy=\"1216.36\" r=\"14.4\" fill=\"#009af9\" fill-rule=\"evenodd\" fill-opacity=\"1\" stroke=\"#000000\" stroke-opacity=\"1\" stroke-width=\"3.2\"/>\n",
       "<circle clip-path=\"url(#clip412)\" cx=\"1197.61\" cy=\"1191.79\" r=\"14.4\" fill=\"#009af9\" fill-rule=\"evenodd\" fill-opacity=\"1\" stroke=\"#000000\" stroke-opacity=\"1\" stroke-width=\"3.2\"/>\n",
       "<circle clip-path=\"url(#clip412)\" cx=\"1225.32\" cy=\"1167.22\" r=\"14.4\" fill=\"#009af9\" fill-rule=\"evenodd\" fill-opacity=\"1\" stroke=\"#000000\" stroke-opacity=\"1\" stroke-width=\"3.2\"/>\n",
       "<circle clip-path=\"url(#clip412)\" cx=\"1253.03\" cy=\"1142.65\" r=\"14.4\" fill=\"#009af9\" fill-rule=\"evenodd\" fill-opacity=\"1\" stroke=\"#000000\" stroke-opacity=\"1\" stroke-width=\"3.2\"/>\n",
       "<circle clip-path=\"url(#clip412)\" cx=\"1280.73\" cy=\"1118.08\" r=\"14.4\" fill=\"#009af9\" fill-rule=\"evenodd\" fill-opacity=\"1\" stroke=\"#000000\" stroke-opacity=\"1\" stroke-width=\"3.2\"/>\n",
       "<circle clip-path=\"url(#clip412)\" cx=\"1308.44\" cy=\"1093.5\" r=\"14.4\" fill=\"#009af9\" fill-rule=\"evenodd\" fill-opacity=\"1\" stroke=\"#000000\" stroke-opacity=\"1\" stroke-width=\"3.2\"/>\n",
       "<circle clip-path=\"url(#clip412)\" cx=\"1336.14\" cy=\"1068.93\" r=\"14.4\" fill=\"#009af9\" fill-rule=\"evenodd\" fill-opacity=\"1\" stroke=\"#000000\" stroke-opacity=\"1\" stroke-width=\"3.2\"/>\n",
       "<circle clip-path=\"url(#clip412)\" cx=\"1363.85\" cy=\"1044.36\" r=\"14.4\" fill=\"#009af9\" fill-rule=\"evenodd\" fill-opacity=\"1\" stroke=\"#000000\" stroke-opacity=\"1\" stroke-width=\"3.2\"/>\n",
       "<circle clip-path=\"url(#clip412)\" cx=\"1391.55\" cy=\"1019.79\" r=\"14.4\" fill=\"#009af9\" fill-rule=\"evenodd\" fill-opacity=\"1\" stroke=\"#000000\" stroke-opacity=\"1\" stroke-width=\"3.2\"/>\n",
       "<circle clip-path=\"url(#clip412)\" cx=\"1419.26\" cy=\"995.215\" r=\"14.4\" fill=\"#009af9\" fill-rule=\"evenodd\" fill-opacity=\"1\" stroke=\"#000000\" stroke-opacity=\"1\" stroke-width=\"3.2\"/>\n",
       "<circle clip-path=\"url(#clip412)\" cx=\"1446.97\" cy=\"970.642\" r=\"14.4\" fill=\"#009af9\" fill-rule=\"evenodd\" fill-opacity=\"1\" stroke=\"#000000\" stroke-opacity=\"1\" stroke-width=\"3.2\"/>\n",
       "<circle clip-path=\"url(#clip412)\" cx=\"1474.67\" cy=\"946.07\" r=\"14.4\" fill=\"#009af9\" fill-rule=\"evenodd\" fill-opacity=\"1\" stroke=\"#000000\" stroke-opacity=\"1\" stroke-width=\"3.2\"/>\n",
       "<circle clip-path=\"url(#clip412)\" cx=\"1502.38\" cy=\"921.498\" r=\"14.4\" fill=\"#009af9\" fill-rule=\"evenodd\" fill-opacity=\"1\" stroke=\"#000000\" stroke-opacity=\"1\" stroke-width=\"3.2\"/>\n",
       "<circle clip-path=\"url(#clip412)\" cx=\"1530.08\" cy=\"896.925\" r=\"14.4\" fill=\"#009af9\" fill-rule=\"evenodd\" fill-opacity=\"1\" stroke=\"#000000\" stroke-opacity=\"1\" stroke-width=\"3.2\"/>\n",
       "<circle clip-path=\"url(#clip412)\" cx=\"1557.79\" cy=\"872.353\" r=\"14.4\" fill=\"#009af9\" fill-rule=\"evenodd\" fill-opacity=\"1\" stroke=\"#000000\" stroke-opacity=\"1\" stroke-width=\"3.2\"/>\n",
       "<circle clip-path=\"url(#clip412)\" cx=\"1585.49\" cy=\"847.781\" r=\"14.4\" fill=\"#009af9\" fill-rule=\"evenodd\" fill-opacity=\"1\" stroke=\"#000000\" stroke-opacity=\"1\" stroke-width=\"3.2\"/>\n",
       "<circle clip-path=\"url(#clip412)\" cx=\"1613.2\" cy=\"823.209\" r=\"14.4\" fill=\"#009af9\" fill-rule=\"evenodd\" fill-opacity=\"1\" stroke=\"#000000\" stroke-opacity=\"1\" stroke-width=\"3.2\"/>\n",
       "<circle clip-path=\"url(#clip412)\" cx=\"1640.91\" cy=\"798.636\" r=\"14.4\" fill=\"#009af9\" fill-rule=\"evenodd\" fill-opacity=\"1\" stroke=\"#000000\" stroke-opacity=\"1\" stroke-width=\"3.2\"/>\n",
       "<circle clip-path=\"url(#clip412)\" cx=\"1668.61\" cy=\"774.064\" r=\"14.4\" fill=\"#009af9\" fill-rule=\"evenodd\" fill-opacity=\"1\" stroke=\"#000000\" stroke-opacity=\"1\" stroke-width=\"3.2\"/>\n",
       "<polyline clip-path=\"url(#clip412)\" style=\"stroke:#e26f46; stroke-linecap:round; stroke-linejoin:round; stroke-width:4; stroke-opacity:1; fill:none\" points=\"935.704,1374.78 963.41,1350.2 991.116,1325.63 1018.82,1301.06 1046.53,1276.49 1074.23,1251.91 1101.94,1227.34 1129.64,1202.77 1157.35,1178.2 1185.06,1153.62 1212.76,1129.05 1240.47,1104.48 1268.17,1079.91 1295.88,1055.34 1323.59,1030.76 1351.29,1006.19 1379,981.619 1406.7,957.047 1434.41,932.474 1462.11,907.902 1489.82,883.33 1517.53,858.758 1545.23,834.185 1572.94,809.613 1600.64,785.041 1628.35,760.468 1656.05,735.896 1683.76,711.324 1711.47,686.752 1739.17,662.179 1766.88,637.607 1794.58,613.035 1822.29,588.463 1850,563.89 1877.7,539.318 1905.41,514.746 1933.11,490.173 1960.82,465.601 1988.52,441.029 2016.23,416.457 2043.94,391.884 2071.64,367.312 2099.35,342.74 2127.05,318.167 2154.76,293.595 2182.46,269.023 2210.17,244.451 2237.88,219.878 2265.58,195.306 2293.29,170.734 \"/>\n",
       "<path clip-path=\"url(#clip410)\" d=\"M1583.24 332.675 L2282.72 332.675 L2282.72 177.155 L1583.24 177.155  Z\" fill=\"#ffffff\" fill-rule=\"evenodd\" fill-opacity=\"1\"/>\n",
       "<polyline clip-path=\"url(#clip410)\" style=\"stroke:#000000; stroke-linecap:round; stroke-linejoin:round; stroke-width:4; stroke-opacity:1; fill:none\" points=\"1583.24,332.675 2282.72,332.675 2282.72,177.155 1583.24,177.155 1583.24,332.675 \"/>\n",
       "<polyline clip-path=\"url(#clip410)\" style=\"stroke:#009af9; stroke-linecap:round; stroke-linejoin:round; stroke-width:4; stroke-opacity:1; fill:none\" points=\"1606.59,228.995 1746.67,228.995 \"/>\n",
       "<circle clip-path=\"url(#clip410)\" cx=\"1676.63\" cy=\"228.995\" r=\"19.4555\" fill=\"#009af9\" fill-rule=\"evenodd\" fill-opacity=\"1\" stroke=\"#000000\" stroke-opacity=\"1\" stroke-width=\"4.55111\"/>\n",
       "<path clip-path=\"url(#clip410)\" d=\"M1794.04 232.248 L1794.04 234.331 L1774.46 234.331 Q1774.74 238.729 1777.1 241.044 Q1779.48 243.336 1783.72 243.336 Q1786.17 243.336 1788.47 242.734 Q1790.78 242.132 1793.05 240.928 L1793.05 244.956 Q1790.76 245.928 1788.35 246.437 Q1785.94 246.947 1783.47 246.947 Q1777.26 246.947 1773.63 243.336 Q1770.02 239.724 1770.02 233.567 Q1770.02 227.201 1773.44 223.475 Q1776.89 219.725 1782.72 219.725 Q1787.96 219.725 1790.99 223.104 Q1794.04 226.461 1794.04 232.248 M1789.79 230.998 Q1789.74 227.502 1787.82 225.419 Q1785.92 223.336 1782.77 223.336 Q1779.21 223.336 1777.05 225.35 Q1774.92 227.363 1774.6 231.021 L1789.79 230.998 Z\" fill=\"#000000\" fill-rule=\"nonzero\" fill-opacity=\"1\" /><path clip-path=\"url(#clip410)\" d=\"M1816.06 224.331 Q1815.34 223.914 1814.48 223.729 Q1813.65 223.521 1812.63 223.521 Q1809.02 223.521 1807.08 225.882 Q1805.16 228.22 1805.16 232.618 L1805.16 246.275 L1800.87 246.275 L1800.87 220.35 L1805.16 220.35 L1805.16 224.377 Q1806.5 222.016 1808.65 220.882 Q1810.8 219.725 1813.88 219.725 Q1814.32 219.725 1814.85 219.794 Q1815.39 219.84 1816.03 219.956 L1816.06 224.331 Z\" fill=\"#000000\" fill-rule=\"nonzero\" fill-opacity=\"1\" /><path clip-path=\"url(#clip410)\" d=\"M1834.72 224.331 Q1834 223.914 1833.14 223.729 Q1832.31 223.521 1831.29 223.521 Q1827.68 223.521 1825.73 225.882 Q1823.81 228.22 1823.81 232.618 L1823.81 246.275 L1819.53 246.275 L1819.53 220.35 L1823.81 220.35 L1823.81 224.377 Q1825.16 222.016 1827.31 220.882 Q1829.46 219.725 1832.54 219.725 Q1832.98 219.725 1833.51 219.794 Q1834.04 219.84 1834.69 219.956 L1834.72 224.331 Z\" fill=\"#000000\" fill-rule=\"nonzero\" fill-opacity=\"1\" /><path clip-path=\"url(#clip410)\" d=\"M1848.19 223.336 Q1844.76 223.336 1842.77 226.021 Q1840.78 228.683 1840.78 233.336 Q1840.78 237.988 1842.75 240.674 Q1844.74 243.336 1848.19 243.336 Q1851.59 243.336 1853.58 240.65 Q1855.57 237.965 1855.57 233.336 Q1855.57 228.729 1853.58 226.044 Q1851.59 223.336 1848.19 223.336 M1848.19 219.725 Q1853.74 219.725 1856.91 223.336 Q1860.09 226.947 1860.09 233.336 Q1860.09 239.701 1856.91 243.336 Q1853.74 246.947 1848.19 246.947 Q1842.61 246.947 1839.44 243.336 Q1836.29 239.701 1836.29 233.336 Q1836.29 226.947 1839.44 223.336 Q1842.61 219.725 1848.19 219.725 Z\" fill=\"#000000\" fill-rule=\"nonzero\" fill-opacity=\"1\" /><path clip-path=\"url(#clip410)\" d=\"M1882.17 224.331 Q1881.45 223.914 1880.59 223.729 Q1879.76 223.521 1878.74 223.521 Q1875.13 223.521 1873.19 225.882 Q1871.27 228.22 1871.27 232.618 L1871.27 246.275 L1866.98 246.275 L1866.98 220.35 L1871.27 220.35 L1871.27 224.377 Q1872.61 222.016 1874.76 220.882 Q1876.91 219.725 1879.99 219.725 Q1880.43 219.725 1880.97 219.794 Q1881.5 219.84 1882.15 219.956 L1882.17 224.331 Z\" fill=\"#000000\" fill-rule=\"nonzero\" fill-opacity=\"1\" /><polyline clip-path=\"url(#clip410)\" style=\"stroke:#e26f46; stroke-linecap:round; stroke-linejoin:round; stroke-width:4; stroke-opacity:1; fill:none\" points=\"1606.59,280.835 1746.67,280.835 \"/>\n",
       "<path clip-path=\"url(#clip410)\" d=\"M1770.02 256.692 L1774.28 256.692 L1774.28 292.71 L1770.02 292.71 L1770.02 256.692 Z\" fill=\"#000000\" fill-rule=\"nonzero\" fill-opacity=\"1\" /><path clip-path=\"url(#clip410)\" d=\"M1783.19 266.785 L1787.45 266.785 L1787.45 292.71 L1783.19 292.71 L1783.19 266.785 M1783.19 256.692 L1787.45 256.692 L1787.45 262.086 L1783.19 262.086 L1783.19 256.692 Z\" fill=\"#000000\" fill-rule=\"nonzero\" fill-opacity=\"1\" /><path clip-path=\"url(#clip410)\" d=\"M1817.91 277.062 L1817.91 292.71 L1813.65 292.71 L1813.65 277.201 Q1813.65 273.521 1812.22 271.692 Q1810.78 269.863 1807.91 269.863 Q1804.46 269.863 1802.47 272.062 Q1800.48 274.261 1800.48 278.058 L1800.48 292.71 L1796.2 292.71 L1796.2 266.785 L1800.48 266.785 L1800.48 270.812 Q1802.01 268.474 1804.07 267.317 Q1806.15 266.16 1808.86 266.16 Q1813.33 266.16 1815.62 268.937 Q1817.91 271.692 1817.91 277.062 Z\" fill=\"#000000\" fill-rule=\"nonzero\" fill-opacity=\"1\" /><path clip-path=\"url(#clip410)\" d=\"M1848.58 278.683 L1848.58 280.766 L1829 280.766 Q1829.28 285.164 1831.64 287.479 Q1834.02 289.771 1838.26 289.771 Q1840.71 289.771 1843 289.169 Q1845.32 288.567 1847.59 287.363 L1847.59 291.391 Q1845.29 292.363 1842.89 292.872 Q1840.48 293.382 1838 293.382 Q1831.8 293.382 1828.16 289.771 Q1824.55 286.159 1824.55 280.002 Q1824.55 273.636 1827.98 269.91 Q1831.43 266.16 1837.26 266.16 Q1842.49 266.16 1845.53 269.539 Q1848.58 272.896 1848.58 278.683 M1844.32 277.433 Q1844.28 273.937 1842.35 271.854 Q1840.46 269.771 1837.31 269.771 Q1833.74 269.771 1831.59 271.785 Q1829.46 273.798 1829.14 277.456 L1844.32 277.433 Z\" fill=\"#000000\" fill-rule=\"nonzero\" fill-opacity=\"1\" /><path clip-path=\"url(#clip410)\" d=\"M1867.35 279.678 Q1862.19 279.678 1860.2 280.859 Q1858.21 282.039 1858.21 284.886 Q1858.21 287.155 1859.69 288.497 Q1861.2 289.817 1863.77 289.817 Q1867.31 289.817 1869.44 287.317 Q1871.59 284.794 1871.59 280.627 L1871.59 279.678 L1867.35 279.678 M1875.85 277.919 L1875.85 292.71 L1871.59 292.71 L1871.59 288.775 Q1870.13 291.136 1867.96 292.271 Q1865.78 293.382 1862.63 293.382 Q1858.65 293.382 1856.29 291.159 Q1853.95 288.914 1853.95 285.164 Q1853.95 280.789 1856.87 278.567 Q1859.81 276.345 1865.62 276.345 L1871.59 276.345 L1871.59 275.928 Q1871.59 272.988 1869.65 271.391 Q1867.72 269.771 1864.23 269.771 Q1862.01 269.771 1859.9 270.303 Q1857.79 270.835 1855.85 271.9 L1855.85 267.965 Q1858.19 267.062 1860.39 266.623 Q1862.59 266.16 1864.67 266.16 Q1870.29 266.16 1873.07 269.076 Q1875.85 271.993 1875.85 277.919 Z\" fill=\"#000000\" fill-rule=\"nonzero\" fill-opacity=\"1\" /><path clip-path=\"url(#clip410)\" d=\"M1899.65 270.766 Q1898.93 270.349 1898.07 270.164 Q1897.24 269.956 1896.22 269.956 Q1892.61 269.956 1890.66 272.317 Q1888.74 274.655 1888.74 279.053 L1888.74 292.71 L1884.46 292.71 L1884.46 266.785 L1888.74 266.785 L1888.74 270.812 Q1890.09 268.451 1892.24 267.317 Q1894.39 266.16 1897.47 266.16 Q1897.91 266.16 1898.44 266.229 Q1898.97 266.275 1899.62 266.391 L1899.65 270.766 Z\" fill=\"#000000\" fill-rule=\"nonzero\" fill-opacity=\"1\" /><path clip-path=\"url(#clip410)\" d=\"M1914.71 303.227 L1914.71 258.209 Q1914.71 256.78 1915.68 256.78 Q1916.64 256.78 1916.64 258.279 L1916.64 303.11 Q1916.64 304.656 1915.68 304.656 Q1914.71 304.656 1914.71 303.227 M1920.01 303.227 L1920.01 258.56 Q1920.01 256.78 1920.97 256.78 Q1921.93 256.78 1921.93 258.279 L1921.93 303.11 Q1921.93 304.656 1920.97 304.656 Q1920.01 304.656 1920.01 303.227 Z\" fill=\"#000000\" fill-rule=\"nonzero\" fill-opacity=\"1\" /><path clip-path=\"url(#clip410)\" d=\"M1954.64 260.715 Q1954.64 261.067 1954.38 261.582 Q1954.15 262.05 1953.65 262.355 Q1953.18 262.636 1952.67 262.636 Q1952.51 262.636 1952.13 262.542 Q1951.5 262.261 1950.51 261.629 Q1949.53 260.996 1948.64 260.598 Q1947.77 260.177 1946.81 260.13 Q1945.97 260.13 1945.27 260.434 Q1944.64 260.786 1944.21 261.535 Q1944.03 261.84 1944.03 262.355 Q1944.03 263.081 1944.42 264.041 Q1944.82 265.002 1945.64 266.243 Q1946.49 267.484 1947.09 268.328 Q1947.7 269.147 1948.76 270.506 Q1948.85 270.623 1948.9 270.693 Q1948.95 270.74 1949.02 270.857 Q1949.09 270.951 1949.16 271.021 Q1951.38 273.808 1951.94 276.877 Q1952.08 277.954 1952.08 279.078 Q1952.08 281.327 1951.4 283.974 Q1950.82 286.386 1949.58 288.471 Q1948.34 290.532 1946.46 291.891 Q1944.61 293.249 1942.6 293.249 Q1940.61 293.249 1938.97 292.382 Q1937.33 291.492 1936.34 289.97 Q1935.01 287.956 1935.01 285.168 Q1935.01 283.599 1935.38 282.264 Q1935.9 280.132 1937.12 278.165 Q1938.33 276.198 1940.09 274.675 Q1942.76 272.427 1945.67 271.794 Q1944.31 269.218 1943.51 267.227 Q1942.74 265.212 1942.74 263.503 Q1942.74 262.004 1943.3 261.043 Q1943.79 260.013 1944.8 259.427 Q1945.64 258.912 1946.86 258.654 Q1947.61 258.56 1948.1 258.56 Q1949.77 258.56 1953.63 259.474 Q1954.64 259.708 1954.64 260.715 M1948.78 280.999 Q1948.78 279.57 1948.55 278.61 Q1948.1 276.268 1946.32 273.035 L1946.18 272.801 Q1943.91 273.457 1942.06 275.448 Q1939.74 277.884 1938.57 282.498 Q1937.94 285.075 1937.94 286.527 Q1937.94 288.096 1938.52 289.455 Q1939.08 290.719 1940.14 291.446 Q1941.22 292.172 1942.64 292.172 Q1943.72 292.172 1944.66 291.563 Q1945.6 290.93 1946.28 289.829 Q1946.95 288.729 1947.42 287.534 Q1947.91 286.316 1948.29 284.887 Q1948.78 282.967 1948.78 280.999 Z\" fill=\"#000000\" fill-rule=\"nonzero\" fill-opacity=\"1\" /><path clip-path=\"url(#clip410)\" d=\"M1989.96 291.75 Q1989.96 292.195 1989.77 292.429 Q1989.61 292.64 1989.44 292.687 Q1989.3 292.71 1989.09 292.71 Q1988.48 292.71 1986.38 292.64 Q1984.27 292.57 1983.66 292.57 Q1982.68 292.57 1980.66 292.64 Q1978.65 292.71 1977.66 292.71 Q1977.01 292.71 1977.01 292.172 Q1977.01 291.82 1977.08 291.633 Q1977.15 291.422 1977.34 291.352 Q1977.55 291.258 1977.66 291.258 Q1977.8 291.235 1978.16 291.235 Q1978.62 291.235 1979.12 291.188 Q1979.61 291.118 1980.22 290.977 Q1980.83 290.837 1981.2 290.485 Q1981.6 290.134 1981.6 289.642 Q1981.6 289.431 1981.43 287.698 Q1981.27 285.965 1981.06 283.95 Q1980.85 281.913 1980.83 281.632 L1968.79 281.632 Q1967.69 283.529 1966.91 284.84 Q1966.14 286.152 1965.86 286.597 Q1965.58 287.042 1965.41 287.323 Q1965.25 287.604 1965.16 287.768 Q1964.48 289.01 1964.48 289.548 Q1964.48 291.047 1966.73 291.235 Q1967.5 291.235 1967.5 291.797 Q1967.5 292.218 1967.31 292.453 Q1967.12 292.664 1966.96 292.687 Q1966.82 292.71 1966.58 292.71 Q1965.81 292.71 1964.2 292.64 Q1962.58 292.57 1961.78 292.57 Q1961.1 292.57 1959.7 292.64 Q1958.29 292.71 1957.66 292.71 Q1957.38 292.71 1957.22 292.546 Q1957.05 292.382 1957.05 292.172 Q1957.05 291.844 1957.1 291.656 Q1957.17 291.469 1957.36 291.375 Q1957.54 291.282 1957.64 291.282 Q1957.73 291.258 1958.06 291.235 Q1959.84 291.118 1961.22 290.274 Q1962.63 289.408 1963.96 287.183 L1980.64 259.169 Q1980.8 258.888 1980.92 258.748 Q1981.04 258.607 1981.27 258.49 Q1981.53 258.373 1981.9 258.373 Q1982.49 258.373 1982.61 258.56 Q1982.72 258.724 1982.79 259.521 L1985.72 289.501 Q1985.79 290.134 1985.84 290.392 Q1985.91 290.626 1986.21 290.883 Q1986.54 291.118 1987.13 291.188 Q1987.74 291.235 1988.86 291.235 Q1989.28 291.235 1989.44 291.258 Q1989.61 291.258 1989.77 291.375 Q1989.96 291.492 1989.96 291.75 M1980.68 280.132 L1979.16 264.322 L1969.7 280.132 L1980.68 280.132 Z\" fill=\"#000000\" fill-rule=\"nonzero\" fill-opacity=\"1\" /><path clip-path=\"url(#clip410)\" d=\"M1996.71 303.227 L1996.71 258.209 Q1996.71 256.78 1997.67 256.78 Q1998.63 256.78 1998.63 258.279 L1998.63 303.11 Q1998.63 304.656 1997.67 304.656 Q1996.71 304.656 1996.71 303.227 M2002 303.227 L2002 258.56 Q2002 256.78 2002.96 256.78 Q2003.92 256.78 2003.92 258.279 L2003.92 303.11 Q2003.92 304.656 2002.96 304.656 Q2002 304.656 2002 303.227 Z\" fill=\"#000000\" fill-rule=\"nonzero\" fill-opacity=\"1\" /><path clip-path=\"url(#clip410)\" d=\"M2055.02 270.766 Q2054.3 270.349 2053.44 270.164 Q2052.61 269.956 2051.59 269.956 Q2047.98 269.956 2046.04 272.317 Q2044.12 274.655 2044.12 279.053 L2044.12 292.71 L2039.83 292.71 L2039.83 266.785 L2044.12 266.785 L2044.12 270.812 Q2045.46 268.451 2047.61 267.317 Q2049.76 266.16 2052.84 266.16 Q2053.28 266.16 2053.81 266.229 Q2054.35 266.275 2055 266.391 L2055.02 270.766 Z\" fill=\"#000000\" fill-rule=\"nonzero\" fill-opacity=\"1\" /><path clip-path=\"url(#clip410)\" d=\"M2080.62 278.683 L2080.62 280.766 L2061.04 280.766 Q2061.31 285.164 2063.68 287.479 Q2066.06 289.771 2070.3 289.771 Q2072.75 289.771 2075.04 289.169 Q2077.36 288.567 2079.63 287.363 L2079.63 291.391 Q2077.33 292.363 2074.93 292.872 Q2072.52 293.382 2070.04 293.382 Q2063.84 293.382 2060.2 289.771 Q2056.59 286.159 2056.59 280.002 Q2056.59 273.636 2060.02 269.91 Q2063.47 266.16 2069.3 266.16 Q2074.53 266.16 2077.56 269.539 Q2080.62 272.896 2080.62 278.683 M2076.36 277.433 Q2076.31 273.937 2074.39 271.854 Q2072.5 269.771 2069.35 269.771 Q2065.78 269.771 2063.63 271.785 Q2061.5 273.798 2061.18 277.456 L2076.36 277.433 Z\" fill=\"#000000\" fill-rule=\"nonzero\" fill-opacity=\"1\" /><path clip-path=\"url(#clip410)\" d=\"M2100.74 256.692 L2100.74 260.234 L2096.66 260.234 Q2094.37 260.234 2093.47 261.16 Q2092.59 262.086 2092.59 264.493 L2092.59 266.785 L2099.6 266.785 L2099.6 270.095 L2092.59 270.095 L2092.59 292.71 L2088.31 292.71 L2088.31 270.095 L2084.23 270.095 L2084.23 266.785 L2088.31 266.785 L2088.31 264.979 Q2088.31 260.65 2090.32 258.683 Q2092.33 256.692 2096.71 256.692 L2100.74 256.692 Z\" fill=\"#000000\" fill-rule=\"nonzero\" fill-opacity=\"1\" /><path clip-path=\"url(#clip410)\" d=\"M2126.48 278.683 L2126.48 280.766 L2106.89 280.766 Q2107.17 285.164 2109.53 287.479 Q2111.92 289.771 2116.15 289.771 Q2118.61 289.771 2120.9 289.169 Q2123.21 288.567 2125.48 287.363 L2125.48 291.391 Q2123.19 292.363 2120.78 292.872 Q2118.37 293.382 2115.9 293.382 Q2109.69 293.382 2106.06 289.771 Q2102.45 286.159 2102.45 280.002 Q2102.45 273.636 2105.87 269.91 Q2109.32 266.16 2115.16 266.16 Q2120.39 266.16 2123.42 269.539 Q2126.48 272.896 2126.48 278.683 M2122.22 277.433 Q2122.17 273.937 2120.25 271.854 Q2118.35 269.771 2115.2 269.771 Q2111.64 269.771 2109.49 271.785 Q2107.36 273.798 2107.03 277.456 L2122.22 277.433 Z\" fill=\"#000000\" fill-rule=\"nonzero\" fill-opacity=\"1\" /><path clip-path=\"url(#clip410)\" d=\"M2148.49 270.766 Q2147.77 270.349 2146.92 270.164 Q2146.08 269.956 2145.06 269.956 Q2141.45 269.956 2139.51 272.317 Q2137.59 274.655 2137.59 279.053 L2137.59 292.71 L2133.31 292.71 L2133.31 266.785 L2137.59 266.785 L2137.59 270.812 Q2138.93 268.451 2141.08 267.317 Q2143.24 266.16 2146.31 266.16 Q2146.75 266.16 2147.29 266.229 Q2147.82 266.275 2148.47 266.391 L2148.49 270.766 Z\" fill=\"#000000\" fill-rule=\"nonzero\" fill-opacity=\"1\" /><path clip-path=\"url(#clip410)\" d=\"M2174.09 278.683 L2174.09 280.766 L2154.51 280.766 Q2154.79 285.164 2157.15 287.479 Q2159.53 289.771 2163.77 289.771 Q2166.22 289.771 2168.51 289.169 Q2170.83 288.567 2173.1 287.363 L2173.1 291.391 Q2170.81 292.363 2168.4 292.872 Q2165.99 293.382 2163.51 293.382 Q2157.31 293.382 2153.68 289.771 Q2150.06 286.159 2150.06 280.002 Q2150.06 273.636 2153.49 269.91 Q2156.94 266.16 2162.77 266.16 Q2168 266.16 2171.04 269.539 Q2174.09 272.896 2174.09 278.683 M2169.83 277.433 Q2169.79 273.937 2167.87 271.854 Q2165.97 269.771 2162.82 269.771 Q2159.25 269.771 2157.1 271.785 Q2154.97 273.798 2154.65 277.456 L2169.83 277.433 Z\" fill=\"#000000\" fill-rule=\"nonzero\" fill-opacity=\"1\" /><path clip-path=\"url(#clip410)\" d=\"M2202.63 277.062 L2202.63 292.71 L2198.37 292.71 L2198.37 277.201 Q2198.37 273.521 2196.94 271.692 Q2195.5 269.863 2192.63 269.863 Q2189.18 269.863 2187.19 272.062 Q2185.2 274.261 2185.2 278.058 L2185.2 292.71 L2180.92 292.71 L2180.92 266.785 L2185.2 266.785 L2185.2 270.812 Q2186.73 268.474 2188.79 267.317 Q2190.87 266.16 2193.58 266.16 Q2198.05 266.16 2200.34 268.937 Q2202.63 271.692 2202.63 277.062 Z\" fill=\"#000000\" fill-rule=\"nonzero\" fill-opacity=\"1\" /><path clip-path=\"url(#clip410)\" d=\"M2229.79 267.78 L2229.79 271.761 Q2227.98 270.766 2226.15 270.28 Q2224.35 269.771 2222.49 269.771 Q2218.35 269.771 2216.06 272.41 Q2213.77 275.025 2213.77 279.771 Q2213.77 284.516 2216.06 287.155 Q2218.35 289.771 2222.49 289.771 Q2224.35 289.771 2226.15 289.284 Q2227.98 288.775 2229.79 287.78 L2229.79 291.715 Q2228 292.548 2226.08 292.965 Q2224.18 293.382 2222.03 293.382 Q2216.18 293.382 2212.73 289.701 Q2209.28 286.021 2209.28 279.771 Q2209.28 273.428 2212.75 269.794 Q2216.24 266.16 2222.31 266.16 Q2224.28 266.16 2226.15 266.576 Q2228.03 266.97 2229.79 267.78 Z\" fill=\"#000000\" fill-rule=\"nonzero\" fill-opacity=\"1\" /><path clip-path=\"url(#clip410)\" d=\"M2259.37 278.683 L2259.37 280.766 L2239.79 280.766 Q2240.06 285.164 2242.43 287.479 Q2244.81 289.771 2249.05 289.771 Q2251.5 289.771 2253.79 289.169 Q2256.11 288.567 2258.37 287.363 L2258.37 291.391 Q2256.08 292.363 2253.68 292.872 Q2251.27 293.382 2248.79 293.382 Q2242.59 293.382 2238.95 289.771 Q2235.34 286.159 2235.34 280.002 Q2235.34 273.636 2238.77 269.91 Q2242.22 266.16 2248.05 266.16 Q2253.28 266.16 2256.31 269.539 Q2259.37 272.896 2259.37 278.683 M2255.11 277.433 Q2255.06 273.937 2253.14 271.854 Q2251.24 269.771 2248.1 269.771 Q2244.53 269.771 2242.38 271.785 Q2240.25 273.798 2239.93 277.456 L2255.11 277.433 Z\" fill=\"#000000\" fill-rule=\"nonzero\" fill-opacity=\"1\" /></svg>\n"
      ]
     },
     "metadata": {},
     "output_type": "display_data"
    }
   ],
   "source": [
    "s = 10 .^ range(-8,8,50)\n",
    "errors = [relative_error(f(A+s*dA)-f(A), exact*s) for s in s]\n",
    "plot(s * norm(dA), errors, xaxis=:log, yaxis=:log, markershape=:circle,\n",
    "     title = L\"forward-difference accuracy for $f(A)=A^2$\", xlabel=L\"\\Vert \\delta A\\Vert\", ylabel=\"relative error\",\n",
    "     label = \"error\")\n",
    "plot!(s, s, label=L\"linear $\\Vert \\delta A\\Vert$ reference\")"
   ]
  },
  {
   "cell_type": "markdown",
   "id": "77479cce",
   "metadata": {},
   "source": [
    "We observe two main features:\n",
    "\n",
    "* The relative error decreases *linearly* with $\\Vert \\delta A \\Vert$.  This is called **first-order accuracy**.  Why?\n",
    "* When δA gets too small, the error *increases*.  Why?"
   ]
  },
  {
   "cell_type": "markdown",
   "id": "860ad8bb",
   "metadata": {},
   "source": [
    "## Order of accuracy\n",
    "\n",
    "If the relative error scales with $\\Vert \\delta A \\Vert^n$, we call the approximation **n-th order accurate**.  For forward differences, here, the order is **n=1**.  Why?\n",
    "\n",
    "For any $f(x)$ with a nonzero second derivative (think of the Taylor series), we have\n",
    "$$\n",
    "    f(x + \\delta x) = f(x) + f'(x) \\delta x + (\\text{terms proportional to }\\Vert \\delta x \\Vert^2) + \\underbrace{o(\\Vert \\delta x \\Vert^2)}_\\text{i.e. higher-order terms}\n",
    "$$"
   ]
  },
  {
   "cell_type": "markdown",
   "id": "1675f2b3",
   "metadata": {},
   "source": [
    "That is, the terms we *dropped* in our forward-difference approximations are proportional to $\\Vert \\delta x\\Vert^2$.  But that means that the **relative error is linear**:\n",
    "$$\n",
    "\\begin{align}\n",
    "  \\text{relative error} &= \\frac{\\Vert f(x+\\delta x) - f(x) - f'(x) \\delta x \\Vert}{\\Vert f'(x) \\delta x \\Vert} \\\\\n",
    "   &= \\frac{(\\text{terms proportional to }\\Vert \\delta x \\Vert^2) + o(\\Vert \\delta x \\Vert^2)}{\\text{proportional to }\\Vert \\delta x \\Vert} = (\\text{terms proportional to }\\Vert \\delta x \\Vert) + o(\\Vert \\delta x \\Vert)\n",
    "\\end{align}\n",
    "$$"
   ]
  },
  {
   "cell_type": "markdown",
   "id": "dc1ef94d",
   "metadata": {},
   "source": [
    "## Roundoff error\n",
    "\n",
    "The reason why the error *increased* for very small $\\delta A$ was due to **roundoff errors**.  The computer only stores a **finite number of significant digits** (about 15 decimal digits) for each real number and rounds off the rest on each operation — this is called [floating-point arithmetic](https://en.wikipedia.org/wiki/Floating-point_arithmetic).\n",
    "\n",
    "If δx is too small, then the difference $f(x+\\delta x) - f(x)$ gets rounded off to zero (some or all of the *significant digits cancel*).  This is called [catastrophic cancellation](https://en.wikipedia.org/wiki/Catastrophic_cancellation).\n",
    "\n",
    "Let's compute the derivative of $\\sin(x)$ at $x=1$ with finite differences.   For a scalar $f(x)$, we have $f(x+\\delta x) - f(x) \\approx f'(x) \\delta x$, or equivalently:\n",
    "\n",
    "$$\n",
    "f'(x) = \\frac{f(x+\\delta x) - f(x)}{\\delta x} + \\underbrace{O(\\delta x)}_{\\text{terms proportional to }|\\delta x|\\text{ or smaller}}\n",
    "$$\n",
    "\n",
    "(This is the usual way you see a forward difference approximation written, but it only works when $\\delta x$ is a scalar.)"
   ]
  },
  {
   "cell_type": "code",
   "execution_count": 29,
   "id": "60dd9d6d",
   "metadata": {},
   "outputs": [
    {
     "data": {
      "text/plain": [
       "0.5402980985058647"
      ]
     },
     "metadata": {},
     "output_type": "display_data"
    }
   ],
   "source": [
    "dx = 1e-5\n",
    "(sin(1 + dx) - sin(1))/dx"
   ]
  },
  {
   "cell_type": "code",
   "execution_count": 30,
   "id": "2d2587ad",
   "metadata": {},
   "outputs": [
    {
     "data": {
      "text/plain": [
       "0.5403023058681398"
      ]
     },
     "metadata": {},
     "output_type": "display_data"
    }
   ],
   "source": [
    "cos(1) # correct answer"
   ]
  },
  {
   "cell_type": "code",
   "execution_count": 31,
   "id": "4fc600b4",
   "metadata": {},
   "outputs": [
    {
     "data": {
      "text/plain": [
       "7.787052228587771e-6"
      ]
     },
     "metadata": {},
     "output_type": "display_data"
    }
   ],
   "source": [
    "relative_error((sin(1 + dx) - sin(1))/dx, cos(1))"
   ]
  },
  {
   "cell_type": "markdown",
   "id": "7f9e44dc",
   "metadata": {},
   "source": [
    "So far, so good.  For $\\delta x = 10^{-5}$, we got about 5–6 significant digits correct.  Now let's make $\\delta x$ much smaller, $\\delta x = 10^{-100}$:"
   ]
  },
  {
   "cell_type": "code",
   "execution_count": 48,
   "id": "504d0d5f",
   "metadata": {},
   "outputs": [
    {
     "data": {
      "text/plain": [
       "0.0"
      ]
     },
     "metadata": {},
     "output_type": "display_data"
    }
   ],
   "source": [
    "dx = 1e-100\n",
    "(sin(1 + dx) - sin(1))/dx"
   ]
  },
  {
   "cell_type": "code",
   "execution_count": 49,
   "id": "eaf93af3",
   "metadata": {},
   "outputs": [
    {
     "data": {
      "text/plain": [
       "1.0e-100"
      ]
     },
     "metadata": {},
     "output_type": "display_data"
    }
   ],
   "source": [
    "dx"
   ]
  },
  {
   "cell_type": "code",
   "execution_count": 40,
   "id": "52f0246f",
   "metadata": {},
   "outputs": [
    {
     "data": {
      "text/plain": [
       "0.001358343083756518"
      ]
     },
     "metadata": {},
     "output_type": "display_data"
    }
   ],
   "source": [
    "relative_error((sin(1 + dx) - sin(1))/dx, cos(1))"
   ]
  },
  {
   "cell_type": "markdown",
   "id": "35440ed2",
   "metadata": {},
   "source": [
    "What happened?   The computer can represent small numbers just fine, because floating-point corresponds to \"scientific notation\":"
   ]
  },
  {
   "cell_type": "code",
   "execution_count": 41,
   "id": "173b2d27",
   "metadata": {},
   "outputs": [
    {
     "data": {
      "text/plain": [
       "1.0e-100"
      ]
     },
     "metadata": {},
     "output_type": "display_data"
    }
   ],
   "source": [
    "1e-100"
   ]
  },
  {
   "cell_type": "markdown",
   "id": "3a7d8a53",
   "metadata": {},
   "source": [
    "But look at this:"
   ]
  },
  {
   "cell_type": "code",
   "execution_count": 34,
   "id": "c8093692",
   "metadata": {},
   "outputs": [
    {
     "data": {
      "text/plain": [
       "1.0"
      ]
     },
     "metadata": {},
     "output_type": "display_data"
    }
   ],
   "source": [
    "1 + 1e-100"
   ]
  },
  {
   "cell_type": "markdown",
   "id": "1a5fdedb",
   "metadata": {},
   "source": [
    "The correct answer would be\n",
    "$$\n",
    "1 + 10^{-100} = 1.\\underbrace{000000\\cdots000000}_{\\text{99 zeros}}1\n",
    "$$\n",
    "but the computer only stores about 15 decimal digits (by default … you can ask for more, at the expense of speed), so it rounds this to $1.0$.\n",
    "\n",
    "Hence, our finite difference gave zero.\n",
    "\n",
    "Even if we do something less extreme, we have problems.   This looks okay:"
   ]
  },
  {
   "cell_type": "code",
   "execution_count": 50,
   "id": "bdb27010",
   "metadata": {},
   "outputs": [
    {
     "data": {
      "text/plain": [
       "1.0000000000001"
      ]
     },
     "metadata": {},
     "output_type": "display_data"
    }
   ],
   "source": [
    "dx = 1e-13\n",
    "1 + dx"
   ]
  },
  {
   "cell_type": "markdown",
   "id": "d2510c60",
   "metadata": {},
   "source": [
    "because the computer has enough digits, right?  But compare:"
   ]
  },
  {
   "cell_type": "code",
   "execution_count": 51,
   "id": "ee8e581d",
   "metadata": {},
   "outputs": [
    {
     "data": {
      "text/plain": [
       "0.8414709848079505"
      ]
     },
     "metadata": {},
     "output_type": "display_data"
    }
   ],
   "source": [
    "sin(1 + dx)"
   ]
  },
  {
   "cell_type": "code",
   "execution_count": 37,
   "id": "173807c6",
   "metadata": {},
   "outputs": [
    {
     "data": {
      "text/plain": [
       "0.8414709848078965"
      ]
     },
     "metadata": {},
     "output_type": "display_data"
    }
   ],
   "source": [
    "sin(1)"
   ]
  },
  {
   "cell_type": "markdown",
   "id": "9852d20f",
   "metadata": {},
   "source": [
    "They only differ in the **last 4 significant digits stored**.  So when you subtract them, you only have **4 digits** left:"
   ]
  },
  {
   "cell_type": "code",
   "execution_count": 52,
   "id": "6bbe34e6",
   "metadata": {},
   "outputs": [
    {
     "data": {
      "text/plain": [
       "0.001358343083756518"
      ]
     },
     "metadata": {},
     "output_type": "display_data"
    }
   ],
   "source": [
    "relative_error((sin(1 + dx) - sin(1))/dx, cos(1))"
   ]
  },
  {
   "cell_type": "markdown",
   "id": "4a4220af",
   "metadata": {},
   "source": [
    "and the error for $\\delta x = 10^{-13}$ is now $10^{-3}$!!"
   ]
  },
  {
   "cell_type": "code",
   "execution_count": 39,
   "id": "9ed146e3",
   "metadata": {},
   "outputs": [
    {
     "data": {
      "text/plain": [
       "2.220446049250313e-16"
      ]
     },
     "metadata": {},
     "output_type": "display_data"
    }
   ],
   "source": [
    "eps()"
   ]
  }
 ],
 "metadata": {
  "@webio": {
   "lastCommId": null,
   "lastKernelId": null
  },
  "kernelspec": {
   "display_name": "Julia 1.11.3",
   "language": "julia",
   "name": "julia-1.11"
  },
  "language_info": {
   "file_extension": ".jl",
   "mimetype": "application/julia",
   "name": "julia",
   "version": "1.11.3"
  }
 },
 "nbformat": 4,
 "nbformat_minor": 5
}
