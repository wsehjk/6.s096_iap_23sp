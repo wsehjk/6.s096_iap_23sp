{
 "cells": [
  {
   "cell_type": "markdown",
   "id": "1e576cd6",
   "metadata": {},
   "source": [
    "# Hand-calculated derivative rules: Error prone\n",
    "\n",
    "Hand-computation of derivatives of complicated functions involving vectors and matrices is **error-prone**, and is a common source of bugs when performing numerical optimization, root-finding, sensitivity-analysis, etcetera.\n",
    "\n",
    "The ideal alternative is to use **automatic differentiation (AD)**:\n",
    "* AD lets software/compilers perform the derivatives for you.  This is extremely reliable and, with modern AD software, can be very efficient.\n",
    "* Unfortunately, there is still lots of code, e.g. code calling external libraries in other languages, that AD tools can't comprehend.\n",
    "* And there are other cases where AD \"needs help\" — for example, if you are computing an answer *approximately* (e.g. solving a nonlinear equation by Newton's method), AD can waste a lot of effort trying to *exactly differentiate the error* in your approximation.   Often, you can compute the approximate answer (to the same accuracy) much more efficiently.\n",
    "* Even in cases where AD falls down, often you only need to give it a **little help**: define a differentiation rule for a *small piece* of your program and let AD handle the rest.  In Julia, this is done with by defining a [\"ChainRule\"](https://github.com/JuliaDiff/ChainRulesCore.jl), and in Python autograd/JAX it is done by defining a custom \"vJp\" (row-vector—Jacobian product) and/or \"Jvp\" (Jacobian–vector product).\n",
    "\n",
    "If you do have to work out your own derivative rule, you *really* need to **check** it against something \"brute force\" and hard to get wrong.  The usual candidate is…"
   ]
  },
  {
   "cell_type": "markdown",
   "id": "b2d90dbc",
   "metadata": {},
   "source": [
    "# Finite-difference approximations: Easy version\n",
    "\n",
    "The simplest way to check a derivative is to recall that the definition of a differential:\n",
    "$$\n",
    "df = f(x+dx) - f(x) = f'(x) dx\n",
    "$$\n",
    "came from dropping higher-order terms from a small but finite difference:\n",
    "$$\n",
    "\\delta f = f(x+\\delta x) - f(x) = f'(x) \\delta x + o(\\Vert \\delta x \\Vert)\n",
    "$$\n",
    "So, we can just compare the **finite difference** $\\boxed{f(x+\\delta x) - f(x)}$ to our **(directional) derivative operator** $f'(x) \\delta x$ (i.e. the derivative in the direction $\\delta x$).\n",
    "\n",
    "$f(x+\\delta x) - f(x)$ is also called a **forward difference** approximation.  We'll look at other possibilities below.\n",
    "\n",
    "* The antonym of a forward diffence is a **backward difference** approximation $f(x) - f(x - \\delta x) \\approx f'(x) \\delta x$ … if you just want to compute a derivative, there is not much practical distinction between forward and backward differences.  The distinction becomes more important when discretizing (approximating) differential equations.\n",
    "\n",
    "* Finite-difference approximations come in many forms, but they are generally a **last resort** in cases where it's too much effort to work out an analytical derivative and AD fails.  But they are also useful to **check** your analytical derivatives and to quickly **explore**."
   ]
  },
  {
   "cell_type": "markdown",
   "id": "6a4818b6",
   "metadata": {},
   "source": [
    "## example: f(A)=A²\n",
    "\n",
    "Let's try it for $f(A) = A^2$ (a matrix-valued function of a square matrix $A \\in \\mathbb{R}^{m\\times m}$).\n",
    "\n",
    "First, we'll do it by hand via the product rule:\n",
    "\n",
    "$$\n",
    "df = A dA + dA A\n",
    "$$\n",
    "i.e. $f'(A)$ is the **linear operator** $\\boxed{f'(A)[\\delta A] = A \\delta A + \\delta A A}$.  This is **≠ 2AδA** because because **A and δA do not commute** in general.\n",
    "\n",
    "Let's check it against a finite difference.   We'll try it for a *random* input A and a *random small* perturbation $\\delta A$:"
   ]
  },
  {
   "cell_type": "code",
   "execution_count": 1,
   "id": "9d0e4943",
   "metadata": {},
   "outputs": [
    {
     "data": {
      "text/plain": [
       "4×4 Matrix{Float64}:\n",
       "  2.21382   -0.225896  -1.68403    0.450205\n",
       " -1.39789   -0.323385  -0.677434  -0.345616\n",
       "  0.823586   1.29218   -1.34581    0.659887\n",
       " -1.32865    0.463816  -0.736815  -1.15935"
      ]
     },
     "metadata": {},
     "output_type": "display_data"
    }
   ],
   "source": [
    "f(A) = A^2\n",
    "\n",
    "A = randn(4,4) # 4×4 matrix with Gaussian random (bell curve) entries of magnitude ~ 1 (std. dev = 1)"
   ]
  },
  {
   "cell_type": "code",
   "execution_count": 2,
   "id": "3daece4e",
   "metadata": {},
   "outputs": [
    {
     "data": {
      "text/plain": [
       "4×4 Matrix{Float64}:\n",
       " -7.47331e-9  -4.69244e-9  -1.59103e-8  -1.98809e-9\n",
       " -1.58412e-8  -1.50506e-8   1.31213e-8   2.77555e-9\n",
       "  4.57621e-9  -2.00697e-8   7.49603e-9   1.6151e-8\n",
       "  6.30308e-9   4.76617e-9   8.45861e-9  -4.37112e-9"
      ]
     },
     "metadata": {},
     "output_type": "display_data"
    }
   ],
   "source": [
    "dA = randn(4,4) * 1e-8 # a small random perturbation ~ 10⁻⁸"
   ]
  },
  {
   "cell_type": "code",
   "execution_count": 3,
   "id": "542cc00d",
   "metadata": {},
   "outputs": [
    {
     "data": {
      "text/plain": [
       "4×4 Matrix{Float64}:\n",
       " -3.8282e-8   1.06798e-8  -8.36094e-9  -4.41317e-8\n",
       "  3.37947e-9  5.00633e-8   2.71651e-8  -4.03825e-9\n",
       " -5.72322e-9  2.94761e-8  -1.67539e-8  -2.74529e-8\n",
       "  1.19682e-8  1.44534e-8  -1.01109e-8   8.93598e-9"
      ]
     },
     "metadata": {},
     "output_type": "display_data"
    }
   ],
   "source": [
    "approx = f(A + dA) - f(A) # finite difference"
   ]
  },
  {
   "cell_type": "code",
   "execution_count": 4,
   "id": "e955820e",
   "metadata": {},
   "outputs": [
    {
     "data": {
      "text/plain": [
       "4×4 Matrix{Float64}:\n",
       " -3.8282e-8   1.06798e-8  -8.36094e-9  -4.41317e-8\n",
       "  3.37947e-9  5.00633e-8   2.71651e-8  -4.03825e-9\n",
       " -5.72322e-9  2.94761e-8  -1.67539e-8  -2.74529e-8\n",
       "  1.19682e-8  1.44534e-8  -1.01109e-8   8.93598e-9"
      ]
     },
     "metadata": {},
     "output_type": "display_data"
    }
   ],
   "source": [
    "exact = A*dA + dA*A # exact directional derivative (linearization)"
   ]
  },
  {
   "cell_type": "code",
   "execution_count": 5,
   "id": "43cb4db7",
   "metadata": {},
   "outputs": [
    {
     "data": {
      "text/plain": [
       "4×4 Matrix{Float64}:\n",
       " -3.56698e-8  5.79105e-8  -9.4004e-8   -6.83898e-8\n",
       "  2.05823e-8  4.67505e-8   1.99922e-8  -1.50979e-8\n",
       " -5.72478e-8  1.36846e-8  -1.30972e-9  -4.53428e-8\n",
       " -1.61945e-8  1.70318e-8   2.37908e-8  -5.80764e-9"
      ]
     },
     "metadata": {},
     "output_type": "display_data"
    }
   ],
   "source": [
    "2A*dA # wrong! matrices don't commute"
   ]
  },
  {
   "cell_type": "code",
   "execution_count": 6,
   "id": "20818794",
   "metadata": {},
   "outputs": [
    {
     "data": {
      "text/plain": [
       "4×4 Matrix{Float64}:\n",
       "  2.61216e-9   4.72307e-8  -8.56431e-8  -2.42581e-8\n",
       "  1.72028e-8  -3.31277e-9  -7.17281e-9  -1.10596e-8\n",
       " -5.15246e-8  -1.57915e-8   1.54442e-8  -1.78899e-8\n",
       " -2.81627e-8   2.57837e-9   3.39017e-8  -1.47436e-8"
      ]
     },
     "metadata": {},
     "output_type": "display_data"
    }
   ],
   "source": [
    "2A*dA - approx"
   ]
  },
  {
   "cell_type": "markdown",
   "id": "630c56ec",
   "metadata": {},
   "source": [
    "To be more quantitative, we might compute the \"norm\" $\\Vert \\text{approx} - \\text{exact} \\Vert$, which we want to be small.   But small **compared to what?**   The natural answer is **small compared to the correct answer**.  This is called the [relative error](https://en.wikipedia.org/wiki/Approximation_error) (or \"fractional\" error):\n",
    "$$\n",
    "\\text{relative error} = \\frac{\\Vert \\text{approx} - \\text{exact} \\Vert}{\\Vert \\text{exact}\\Vert}\n",
    "$$\n",
    "Here, $\\Vert \\cdot \\Vert$ is a [norm](https://en.wikipedia.org/wiki/Norm_(mathematics)), like the length of a vector. In Julia, the `LinearAlgebra` package provides a `norm` function, and we can use that to define a relative error:"
   ]
  },
  {
   "cell_type": "code",
   "execution_count": 7,
   "id": "45931cc4",
   "metadata": {},
   "outputs": [
    {
     "data": {
      "text/plain": [
       "relative_error (generic function with 1 method)"
      ]
     },
     "metadata": {},
     "output_type": "display_data"
    }
   ],
   "source": [
    "using LinearAlgebra\n",
    "\n",
    "relative_error(approx, exact) = norm(approx - exact) / norm(exact)"
   ]
  },
  {
   "cell_type": "markdown",
   "id": "c7dc766e",
   "metadata": {},
   "source": [
    "Let's try it on our case above:"
   ]
  },
  {
   "cell_type": "code",
   "execution_count": 8,
   "id": "1fb85dc0",
   "metadata": {},
   "outputs": [
    {
     "data": {
      "text/plain": [
       "1.9425687500958526e-8"
      ]
     },
     "metadata": {},
     "output_type": "display_data"
    }
   ],
   "source": [
    "relative_error(approx, exact)"
   ]
  },
  {
   "cell_type": "markdown",
   "id": "aa60621b",
   "metadata": {},
   "source": [
    "Pretty good — we are matching to **about eight significant digits**!\n",
    "\n",
    "Getting a good match for a random input and a random small displacement isn't a proof of correctness, but it is always a good thing to check.   This kind of randomized comparison will almost always **catch major bugs** where you have calculated the symbolic derivative incorrectly, like our $2AdA$ example:"
   ]
  },
  {
   "cell_type": "code",
   "execution_count": 10,
   "id": "c4ed374c",
   "metadata": {},
   "outputs": [
    {
     "data": {
      "text/plain": [
       "1.3199156942671275"
      ]
     },
     "metadata": {},
     "output_type": "display_data"
    }
   ],
   "source": [
    "relative_error(2A*dA, exact)"
   ]
  },
  {
   "cell_type": "markdown",
   "id": "a234dc8e",
   "metadata": {},
   "source": [
    "Here, for our buggy derivative, the relative error was **close to 50%**."
   ]
  },
  {
   "cell_type": "markdown",
   "id": "117f334b",
   "metadata": {},
   "source": [
    "### aside: norm of a matrix?\n",
    "\n",
    "Wait, what do we mean by the norm $\\Vert A \\Vert$ of a matrix $A$?\n",
    "\n",
    "The ordinary Euclidean (\"L2\") norm of a column-vector $x \\in \\mathbb{R}^n$ is $\\Vert x \\Vert = \\sqrt{x^T x} = \\sqrt{\\sum_i x_i^2}$.\n",
    "\n",
    "For a matrix, the natural analogue is the **sqrt of the sum of the squares of the entries**.  This is called the [Frobenius norm](https://mathworld.wolfram.com/FrobeniusNorm.html), and is what `norm(A)` does in Julia by default."
   ]
  },
  {
   "cell_type": "code",
   "execution_count": 11,
   "id": "a34d0cb4",
   "metadata": {},
   "outputs": [
    {
     "data": {
      "text/latex": [
       "$$ \\begin{equation}\n",
       "\\left[\n",
       "\\begin{array}{ccc}\n",
       "\\mathtt{m11} & \\mathtt{m12} & \\mathtt{m13} \\\\\n",
       "\\mathtt{m21} & \\mathtt{m22} & \\mathtt{m23} \\\\\n",
       "\\end{array}\n",
       "\\right]\n",
       "\\end{equation}\n",
       " $$"
      ],
      "text/plain": [
       "2×3 Matrix{Num}:\n",
       " m11  m12  m13\n",
       " m21  m22  m23"
      ]
     },
     "metadata": {},
     "output_type": "display_data"
    }
   ],
   "source": [
    "using Symbolics\n",
    "\n",
    "@variables m11 m12 m13 m21 m22 m23\n",
    "M = [m11 m12 m13\n",
    "     m21 m22 m23]"
   ]
  },
  {
   "cell_type": "code",
   "execution_count": 12,
   "id": "f8846473",
   "metadata": {},
   "outputs": [
    {
     "data": {
      "text/latex": [
       "$$ \\begin{equation}\n",
       "\\sqrt{\\left|\\mathtt{m23}\\right|^{2} + \\left|\\mathtt{m13}\\right|^{2} + \\left|\\mathtt{m11}\\right|^{2} + \\left|\\mathtt{m21}\\right|^{2} + \\left|\\mathtt{m12}\\right|^{2} + \\left|\\mathtt{m22}\\right|^{2}}\n",
       "\\end{equation}\n",
       " $$"
      ],
      "text/plain": [
       "sqrt(abs2(m23) + abs2(m13) + abs2(m11) + abs2(m21) + abs2(m12) + abs2(m22))"
      ]
     },
     "metadata": {},
     "output_type": "display_data"
    }
   ],
   "source": [
    "norm(M)"
   ]
  },
  {
   "cell_type": "markdown",
   "id": "ab0e0512",
   "metadata": {},
   "source": [
    "(`abs2(x)` in Julia is the squared absolute value $|x|^2$.)"
   ]
  },
  {
   "attachments": {},
   "cell_type": "markdown",
   "id": "a8981b83",
   "metadata": {},
   "source": [
    "But we can write this in linear algebra notation!\n",
    "\n",
    "Recall that the (Euclidean) \"inner product\" of two matrices is <A,B> = $\\text{tr}(B^T A)$.   Then we can define the Frobenius norm of a matrix as the sqrt of the dot product with itself!\n",
    "\n",
    "$$\n",
    "\\Vert A \\Vert_F = \\sqrt{\\text{trace}(A^T A)}\n",
    "$$"
   ]
  },
  {
   "cell_type": "code",
   "execution_count": 16,
   "id": "4accae80",
   "metadata": {},
   "outputs": [
    {
     "data": {
      "text/plain": [
       "4×4 Matrix{Float64}:\n",
       "  2.21382   -0.225896  -1.68403    0.450205\n",
       " -1.39789   -0.323385  -0.677434  -0.345616\n",
       "  0.823586   1.29218   -1.34581    0.659887\n",
       " -1.32865    0.463816  -0.736815  -1.15935"
      ]
     },
     "metadata": {},
     "output_type": "display_data"
    }
   ],
   "source": [
    "A"
   ]
  },
  {
   "cell_type": "code",
   "execution_count": 17,
   "id": "625bb0ed",
   "metadata": {},
   "outputs": [
    {
     "data": {
      "text/plain": [
       "4.369190480011202"
      ]
     },
     "metadata": {},
     "output_type": "display_data"
    }
   ],
   "source": [
    "norm(A)"
   ]
  },
  {
   "cell_type": "code",
   "execution_count": 18,
   "id": "b1dba485",
   "metadata": {},
   "outputs": [
    {
     "data": {
      "text/plain": [
       "4.369190480011202"
      ]
     },
     "metadata": {},
     "output_type": "display_data"
    }
   ],
   "source": [
    "sqrt(tr(A'A))"
   ]
  },
  {
   "cell_type": "code",
   "execution_count": 19,
   "id": "e61e275b",
   "metadata": {},
   "outputs": [
    {
     "data": {
      "text/plain": [
       "4.369190480011202"
      ]
     },
     "metadata": {},
     "output_type": "display_data"
    }
   ],
   "source": [
    "sqrt(sum(abs2, A))"
   ]
  },
  {
   "cell_type": "code",
   "execution_count": 20,
   "id": "e2440768",
   "metadata": {},
   "outputs": [
    {
     "data": {
      "text/plain": [
       "4.369190480011202"
      ]
     },
     "metadata": {},
     "output_type": "display_data"
    }
   ],
   "source": [
    "sqrt(sum(A[i,j]^2 for i = 1:4, j = 1:4))"
   ]
  },
  {
   "cell_type": "markdown",
   "id": "1ada58d4",
   "metadata": {},
   "source": [
    "(There are also other ways to define a norm of matrix, most famously by \"induced norms\", but we will stick with the Frobenius norm here.)"
   ]
  },
  {
   "cell_type": "markdown",
   "id": "2f6347b0",
   "metadata": {},
   "source": [
    "# Accuracy of finite differences\n",
    "\n",
    "How accurate is our finite-difference approximation above?  How should we choose the size of δx?"
   ]
  },
  {
   "cell_type": "markdown",
   "id": "dd265557",
   "metadata": {},
   "source": [
    "Let's try our example $f(A) = A^2$ above, and plot the relative error as a function of $\\Vert \\delta A \\Vert$ as we scale $\\delta A$ by a factor $s$, making it larger or smaller."
   ]
  },
  {
   "cell_type": "code",
   "execution_count": 16,
   "id": "675c58b9",
   "metadata": {},
   "outputs": [],
   "source": [
    "using Plots # load a plotting package; there are several to choose from in Julia; this is a popular one\n",
    "using LaTeXStrings # makes it easy to put LaTeX equations in L\"...\" strings"
   ]
  },
  {
   "cell_type": "code",
   "execution_count": 17,
   "id": "0dc9de16",
   "metadata": {},
   "outputs": [
    {
     "data": {
      "image/svg+xml": [
       "<?xml version=\"1.0\" encoding=\"utf-8\"?>\n",
       "<svg xmlns=\"http://www.w3.org/2000/svg\" xmlns:xlink=\"http://www.w3.org/1999/xlink\" width=\"600\" height=\"400\" viewBox=\"0 0 2400 1600\">\n",
       "<defs>\n",
       "  <clipPath id=\"clip520\">\n",
       "    <rect x=\"0\" y=\"0\" width=\"2400\" height=\"1600\"/>\n",
       "  </clipPath>\n",
       "</defs>\n",
       "<path clip-path=\"url(#clip520)\" d=\"\n",
       "M0 1600 L2400 1600 L2400 0 L0 0  Z\n",
       "  \" fill=\"#ffffff\" fill-rule=\"evenodd\" fill-opacity=\"1\"/>\n",
       "<defs>\n",
       "  <clipPath id=\"clip521\">\n",
       "    <rect x=\"480\" y=\"0\" width=\"1681\" height=\"1600\"/>\n",
       "  </clipPath>\n",
       "</defs>\n",
       "<path clip-path=\"url(#clip520)\" d=\"\n",
       "M251.56 1410.9 L2352.76 1410.9 L2352.76 134.613 L251.56 134.613  Z\n",
       "  \" fill=\"#ffffff\" fill-rule=\"evenodd\" fill-opacity=\"1\"/>\n",
       "<defs>\n",
       "  <clipPath id=\"clip522\">\n",
       "    <rect x=\"251\" y=\"134\" width=\"2102\" height=\"1277\"/>\n",
       "  </clipPath>\n",
       "</defs>\n",
       "<polyline clip-path=\"url(#clip522)\" style=\"stroke:#000000; stroke-linecap:butt; stroke-linejoin:round; stroke-width:2; stroke-opacity:0.1; fill:none\" points=\"\n",
       "  764.852,1410.9 764.852,134.613 \n",
       "  \"/>\n",
       "<polyline clip-path=\"url(#clip522)\" style=\"stroke:#000000; stroke-linecap:butt; stroke-linejoin:round; stroke-width:2; stroke-opacity:0.1; fill:none\" points=\"\n",
       "  1613.98,1410.9 1613.98,134.613 \n",
       "  \"/>\n",
       "<polyline clip-path=\"url(#clip520)\" style=\"stroke:#000000; stroke-linecap:butt; stroke-linejoin:round; stroke-width:4; stroke-opacity:1; fill:none\" points=\"\n",
       "  251.56,1410.9 2352.76,1410.9 \n",
       "  \"/>\n",
       "<polyline clip-path=\"url(#clip520)\" style=\"stroke:#000000; stroke-linecap:butt; stroke-linejoin:round; stroke-width:4; stroke-opacity:1; fill:none\" points=\"\n",
       "  764.852,1410.9 764.852,1392 \n",
       "  \"/>\n",
       "<polyline clip-path=\"url(#clip520)\" style=\"stroke:#000000; stroke-linecap:butt; stroke-linejoin:round; stroke-width:4; stroke-opacity:1; fill:none\" points=\"\n",
       "  1613.98,1410.9 1613.98,1392 \n",
       "  \"/>\n",
       "<path clip-path=\"url(#clip520)\" d=\"M702.216 1485.02 L709.854 1485.02 L709.854 1458.66 L701.544 1460.32 L701.544 1456.06 L709.808 1454.4 L714.484 1454.4 L714.484 1485.02 L722.123 1485.02 L722.123 1488.96 L702.216 1488.96 L702.216 1485.02 Z\" fill=\"#000000\" fill-rule=\"evenodd\" fill-opacity=\"1\" /><path clip-path=\"url(#clip520)\" d=\"M741.567 1457.48 Q737.956 1457.48 736.127 1461.04 Q734.322 1464.58 734.322 1471.71 Q734.322 1478.82 736.127 1482.38 Q737.956 1485.92 741.567 1485.92 Q745.202 1485.92 747.007 1482.38 Q748.836 1478.82 748.836 1471.71 Q748.836 1464.58 747.007 1461.04 Q745.202 1457.48 741.567 1457.48 M741.567 1453.77 Q747.377 1453.77 750.433 1458.38 Q753.512 1462.96 753.512 1471.71 Q753.512 1480.44 750.433 1485.04 Q747.377 1489.63 741.567 1489.63 Q735.757 1489.63 732.678 1485.04 Q729.623 1480.44 729.623 1471.71 Q729.623 1462.96 732.678 1458.38 Q735.757 1453.77 741.567 1453.77 Z\" fill=\"#000000\" fill-rule=\"evenodd\" fill-opacity=\"1\" /><path clip-path=\"url(#clip520)\" d=\"M753.512 1447.87 L777.623 1447.87 L777.623 1451.07 L753.512 1451.07 L753.512 1447.87 Z\" fill=\"#000000\" fill-rule=\"evenodd\" fill-opacity=\"1\" /><path clip-path=\"url(#clip520)\" d=\"M786.482 1458.35 L792.688 1458.35 L792.688 1436.93 L785.936 1438.28 L785.936 1434.82 L792.651 1433.47 L796.45 1433.47 L796.45 1458.35 L802.656 1458.35 L802.656 1461.55 L786.482 1461.55 L786.482 1458.35 Z\" fill=\"#000000\" fill-rule=\"evenodd\" fill-opacity=\"1\" /><path clip-path=\"url(#clip520)\" d=\"M818.455 1435.97 Q815.521 1435.97 814.035 1438.86 Q812.568 1441.74 812.568 1447.53 Q812.568 1453.31 814.035 1456.2 Q815.521 1459.08 818.455 1459.08 Q821.408 1459.08 822.875 1456.2 Q824.361 1453.31 824.361 1447.53 Q824.361 1441.74 822.875 1438.86 Q821.408 1435.97 818.455 1435.97 M818.455 1432.96 Q823.176 1432.96 825.658 1436.7 Q828.16 1440.43 828.16 1447.53 Q828.16 1454.62 825.658 1458.37 Q823.176 1462.09 818.455 1462.09 Q813.734 1462.09 811.233 1458.37 Q808.75 1454.62 808.75 1447.53 Q808.75 1440.43 811.233 1436.7 Q813.734 1432.96 818.455 1432.96 Z\" fill=\"#000000\" fill-rule=\"evenodd\" fill-opacity=\"1\" /><path clip-path=\"url(#clip520)\" d=\"M1578.97 1485.02 L1586.6 1485.02 L1586.6 1458.66 L1578.29 1460.32 L1578.29 1456.06 L1586.56 1454.4 L1591.23 1454.4 L1591.23 1485.02 L1598.87 1485.02 L1598.87 1488.96 L1578.97 1488.96 L1578.97 1485.02 Z\" fill=\"#000000\" fill-rule=\"evenodd\" fill-opacity=\"1\" /><path clip-path=\"url(#clip520)\" d=\"M1618.32 1457.48 Q1614.71 1457.48 1612.88 1461.04 Q1611.07 1464.58 1611.07 1471.71 Q1611.07 1478.82 1612.88 1482.38 Q1614.71 1485.92 1618.32 1485.92 Q1621.95 1485.92 1623.76 1482.38 Q1625.59 1478.82 1625.59 1471.71 Q1625.59 1464.58 1623.76 1461.04 Q1621.95 1457.48 1618.32 1457.48 M1618.32 1453.77 Q1624.13 1453.77 1627.18 1458.38 Q1630.26 1462.96 1630.26 1471.71 Q1630.26 1480.44 1627.18 1485.04 Q1624.13 1489.63 1618.32 1489.63 Q1612.51 1489.63 1609.43 1485.04 Q1606.37 1480.44 1606.37 1471.71 Q1606.37 1462.96 1609.43 1458.38 Q1612.51 1453.77 1618.32 1453.77 Z\" fill=\"#000000\" fill-rule=\"evenodd\" fill-opacity=\"1\" /><path clip-path=\"url(#clip520)\" d=\"M1639.97 1435.97 Q1637.03 1435.97 1635.55 1438.86 Q1634.08 1441.74 1634.08 1447.53 Q1634.08 1453.31 1635.55 1456.2 Q1637.03 1459.08 1639.97 1459.08 Q1642.92 1459.08 1644.39 1456.2 Q1645.87 1453.31 1645.87 1447.53 Q1645.87 1441.74 1644.39 1438.86 Q1642.92 1435.97 1639.97 1435.97 M1639.97 1432.96 Q1644.69 1432.96 1647.17 1436.7 Q1649.67 1440.43 1649.67 1447.53 Q1649.67 1454.62 1647.17 1458.37 Q1644.69 1462.09 1639.97 1462.09 Q1635.25 1462.09 1632.74 1458.37 Q1630.26 1454.62 1630.26 1447.53 Q1630.26 1440.43 1632.74 1436.7 Q1635.25 1432.96 1639.97 1432.96 Z\" fill=\"#000000\" fill-rule=\"evenodd\" fill-opacity=\"1\" /><path clip-path=\"url(#clip520)\" d=\"M1229.44 1593.1 L1229.44 1531.2 Q1229.44 1529.24 1230.76 1529.24 Q1232.08 1529.24 1232.08 1531.3 L1232.08 1592.94 Q1232.08 1595.07 1230.76 1595.07 Q1229.44 1595.07 1229.44 1593.1 M1236.72 1593.1 L1236.72 1531.69 Q1236.72 1529.24 1238.04 1529.24 Q1239.36 1529.24 1239.36 1531.3 L1239.36 1592.94 Q1239.36 1595.07 1238.04 1595.07 Q1236.72 1595.07 1236.72 1593.1 Z\" fill=\"#000000\" fill-rule=\"evenodd\" fill-opacity=\"1\" /><path clip-path=\"url(#clip520)\" d=\"M1284.34 1534.65 Q1284.34 1535.13 1283.99 1535.84 Q1283.67 1536.48 1282.99 1536.9 Q1282.35 1537.29 1281.64 1537.29 Q1281.41 1537.29 1280.9 1537.16 Q1280.03 1536.77 1278.67 1535.9 Q1277.32 1535.03 1276.1 1534.49 Q1274.91 1533.91 1273.59 1533.84 Q1272.43 1533.84 1271.46 1534.26 Q1270.59 1534.74 1270.01 1535.78 Q1269.75 1536.19 1269.75 1536.9 Q1269.75 1537.9 1270.3 1539.22 Q1270.85 1540.54 1271.98 1542.25 Q1273.14 1543.96 1273.97 1545.12 Q1274.81 1546.24 1276.26 1548.11 Q1276.39 1548.27 1276.45 1548.37 Q1276.52 1548.43 1276.61 1548.59 Q1276.71 1548.72 1276.81 1548.82 Q1279.87 1552.65 1280.64 1556.87 Q1280.83 1558.35 1280.83 1559.9 Q1280.83 1562.99 1279.9 1566.63 Q1279.09 1569.95 1277.39 1572.81 Q1275.68 1575.65 1273.1 1577.51 Q1270.56 1579.38 1267.79 1579.38 Q1265.05 1579.38 1262.8 1578.19 Q1260.54 1576.97 1259.19 1574.87 Q1257.35 1572.1 1257.35 1568.27 Q1257.35 1566.11 1257.87 1564.28 Q1258.58 1561.35 1260.25 1558.64 Q1261.93 1555.94 1264.34 1553.84 Q1268.01 1550.75 1272.01 1549.88 Q1270.14 1546.34 1269.04 1543.6 Q1267.98 1540.83 1267.98 1538.48 Q1267.98 1536.42 1268.76 1535.1 Q1269.43 1533.68 1270.82 1532.88 Q1271.98 1532.17 1273.65 1531.81 Q1274.68 1531.69 1275.36 1531.69 Q1277.64 1531.69 1282.96 1532.94 Q1284.34 1533.26 1284.34 1534.65 M1276.29 1562.54 Q1276.29 1560.57 1275.97 1559.25 Q1275.36 1556.03 1272.91 1551.59 L1272.72 1551.27 Q1269.59 1552.17 1267.05 1554.91 Q1263.86 1558.26 1262.25 1564.6 Q1261.38 1568.14 1261.38 1570.14 Q1261.38 1572.3 1262.19 1574.16 Q1262.96 1575.9 1264.41 1576.9 Q1265.89 1577.9 1267.85 1577.9 Q1269.33 1577.9 1270.62 1577.06 Q1271.91 1576.19 1272.85 1574.68 Q1273.78 1573.17 1274.42 1571.52 Q1275.1 1569.85 1275.61 1567.88 Q1276.29 1565.24 1276.29 1562.54 Z\" fill=\"#000000\" fill-rule=\"evenodd\" fill-opacity=\"1\" /><path clip-path=\"url(#clip520)\" d=\"M1332.92 1577.32 Q1332.92 1577.93 1332.66 1578.25 Q1332.44 1578.54 1332.21 1578.61 Q1332.02 1578.64 1331.73 1578.64 Q1330.89 1578.64 1327.99 1578.54 Q1325.09 1578.45 1324.26 1578.45 Q1322.9 1578.45 1320.13 1578.54 Q1317.36 1578.64 1316.01 1578.64 Q1315.11 1578.64 1315.11 1577.9 Q1315.11 1577.42 1315.21 1577.16 Q1315.3 1576.87 1315.56 1576.77 Q1315.85 1576.64 1316.01 1576.64 Q1316.2 1576.61 1316.69 1576.61 Q1317.33 1576.61 1318.01 1576.55 Q1318.68 1576.45 1319.52 1576.26 Q1320.36 1576.06 1320.87 1575.58 Q1321.42 1575.1 1321.42 1574.42 Q1321.42 1574.13 1321.2 1571.75 Q1320.97 1569.37 1320.68 1566.6 Q1320.39 1563.79 1320.36 1563.41 L1303.81 1563.41 Q1302.29 1566.02 1301.23 1567.82 Q1300.17 1569.62 1299.78 1570.24 Q1299.39 1570.85 1299.17 1571.23 Q1298.94 1571.62 1298.81 1571.85 Q1297.88 1573.55 1297.88 1574.29 Q1297.88 1576.35 1300.97 1576.61 Q1302.03 1576.61 1302.03 1577.39 Q1302.03 1577.97 1301.78 1578.29 Q1301.52 1578.58 1301.29 1578.61 Q1301.1 1578.64 1300.78 1578.64 Q1299.71 1578.64 1297.49 1578.54 Q1295.27 1578.45 1294.18 1578.45 Q1293.24 1578.45 1291.31 1578.54 Q1289.38 1578.64 1288.51 1578.64 Q1288.12 1578.64 1287.9 1578.42 Q1287.67 1578.19 1287.67 1577.9 Q1287.67 1577.45 1287.73 1577.19 Q1287.83 1576.93 1288.09 1576.81 Q1288.35 1576.68 1288.48 1576.68 Q1288.6 1576.64 1289.05 1576.61 Q1291.5 1576.45 1293.4 1575.29 Q1295.33 1574.1 1297.17 1571.04 L1320.1 1532.52 Q1320.33 1532.14 1320.49 1531.94 Q1320.65 1531.75 1320.97 1531.59 Q1321.33 1531.43 1321.84 1531.43 Q1322.65 1531.43 1322.81 1531.69 Q1322.97 1531.91 1323.06 1533.01 L1327.09 1574.23 Q1327.19 1575.1 1327.25 1575.45 Q1327.35 1575.78 1327.77 1576.13 Q1328.22 1576.45 1329.02 1576.55 Q1329.86 1576.61 1331.41 1576.61 Q1331.99 1576.61 1332.21 1576.64 Q1332.44 1576.64 1332.66 1576.81 Q1332.92 1576.97 1332.92 1577.32 M1320.17 1561.35 L1318.07 1539.61 L1305.06 1561.35 L1320.17 1561.35 Z\" fill=\"#000000\" fill-rule=\"evenodd\" fill-opacity=\"1\" /><path clip-path=\"url(#clip520)\" d=\"M1342.21 1593.1 L1342.21 1531.2 Q1342.21 1529.24 1343.53 1529.24 Q1344.85 1529.24 1344.85 1531.3 L1344.85 1592.94 Q1344.85 1595.07 1343.53 1595.07 Q1342.21 1595.07 1342.21 1593.1 M1349.49 1593.1 L1349.49 1531.69 Q1349.49 1529.24 1350.81 1529.24 Q1352.13 1529.24 1352.13 1531.3 L1352.13 1592.94 Q1352.13 1595.07 1350.81 1595.07 Q1349.49 1595.07 1349.49 1593.1 Z\" fill=\"#000000\" fill-rule=\"evenodd\" fill-opacity=\"1\" /><polyline clip-path=\"url(#clip522)\" style=\"stroke:#000000; stroke-linecap:butt; stroke-linejoin:round; stroke-width:2; stroke-opacity:0.1; fill:none\" points=\"\n",
       "  251.56,1149.02 2352.76,1149.02 \n",
       "  \"/>\n",
       "<polyline clip-path=\"url(#clip522)\" style=\"stroke:#000000; stroke-linecap:butt; stroke-linejoin:round; stroke-width:2; stroke-opacity:0.1; fill:none\" points=\"\n",
       "  251.56,772.755 2352.76,772.755 \n",
       "  \"/>\n",
       "<polyline clip-path=\"url(#clip522)\" style=\"stroke:#000000; stroke-linecap:butt; stroke-linejoin:round; stroke-width:2; stroke-opacity:0.1; fill:none\" points=\"\n",
       "  251.56,396.492 2352.76,396.492 \n",
       "  \"/>\n",
       "<polyline clip-path=\"url(#clip520)\" style=\"stroke:#000000; stroke-linecap:butt; stroke-linejoin:round; stroke-width:4; stroke-opacity:1; fill:none\" points=\"\n",
       "  251.56,1410.9 251.56,134.613 \n",
       "  \"/>\n",
       "<polyline clip-path=\"url(#clip520)\" style=\"stroke:#000000; stroke-linecap:butt; stroke-linejoin:round; stroke-width:4; stroke-opacity:1; fill:none\" points=\"\n",
       "  251.56,1149.02 270.458,1149.02 \n",
       "  \"/>\n",
       "<polyline clip-path=\"url(#clip520)\" style=\"stroke:#000000; stroke-linecap:butt; stroke-linejoin:round; stroke-width:4; stroke-opacity:1; fill:none\" points=\"\n",
       "  251.56,772.755 270.458,772.755 \n",
       "  \"/>\n",
       "<polyline clip-path=\"url(#clip520)\" style=\"stroke:#000000; stroke-linecap:butt; stroke-linejoin:round; stroke-width:4; stroke-opacity:1; fill:none\" points=\"\n",
       "  251.56,396.492 270.458,396.492 \n",
       "  \"/>\n",
       "<path clip-path=\"url(#clip520)\" d=\"M114.931 1168.81 L122.57 1168.81 L122.57 1142.44 L114.26 1144.11 L114.26 1139.85 L122.524 1138.19 L127.2 1138.19 L127.2 1168.81 L134.839 1168.81 L134.839 1172.75 L114.931 1172.75 L114.931 1168.81 Z\" fill=\"#000000\" fill-rule=\"evenodd\" fill-opacity=\"1\" /><path clip-path=\"url(#clip520)\" d=\"M154.283 1141.26 Q150.672 1141.26 148.843 1144.83 Q147.038 1148.37 147.038 1155.5 Q147.038 1162.61 148.843 1166.17 Q150.672 1169.71 154.283 1169.71 Q157.917 1169.71 159.723 1166.17 Q161.552 1162.61 161.552 1155.5 Q161.552 1148.37 159.723 1144.83 Q157.917 1141.26 154.283 1141.26 M154.283 1137.56 Q160.093 1137.56 163.149 1142.17 Q166.227 1146.75 166.227 1155.5 Q166.227 1164.23 163.149 1168.83 Q160.093 1173.42 154.283 1173.42 Q148.473 1173.42 145.394 1168.83 Q142.339 1164.23 142.339 1155.5 Q142.339 1146.75 145.394 1142.17 Q148.473 1137.56 154.283 1137.56 Z\" fill=\"#000000\" fill-rule=\"evenodd\" fill-opacity=\"1\" /><path clip-path=\"url(#clip520)\" d=\"M166.227 1131.66 L190.339 1131.66 L190.339 1134.86 L166.227 1134.86 L166.227 1131.66 Z\" fill=\"#000000\" fill-rule=\"evenodd\" fill-opacity=\"1\" /><path clip-path=\"url(#clip520)\" d=\"M198.577 1117.25 L213.491 1117.25 L213.491 1120.45 L202.056 1120.45 L202.056 1127.34 Q202.884 1127.05 203.711 1126.92 Q204.539 1126.77 205.366 1126.77 Q210.068 1126.77 212.814 1129.35 Q215.56 1131.92 215.56 1136.33 Q215.56 1140.86 212.739 1143.38 Q209.918 1145.88 204.783 1145.88 Q203.015 1145.88 201.172 1145.58 Q199.348 1145.28 197.392 1144.68 L197.392 1140.86 Q199.085 1141.78 200.89 1142.23 Q202.696 1142.68 204.708 1142.68 Q207.962 1142.68 209.861 1140.97 Q211.761 1139.26 211.761 1136.33 Q211.761 1133.39 209.861 1131.68 Q207.962 1129.97 204.708 1129.97 Q203.185 1129.97 201.661 1130.31 Q200.157 1130.65 198.577 1131.36 L198.577 1117.25 Z\" fill=\"#000000\" fill-rule=\"evenodd\" fill-opacity=\"1\" /><path clip-path=\"url(#clip520)\" d=\"M144.855 792.547 L152.493 792.547 L152.493 766.181 L144.183 767.848 L144.183 763.589 L152.447 761.922 L157.123 761.922 L157.123 792.547 L164.762 792.547 L164.762 796.482 L144.855 796.482 L144.855 792.547 Z\" fill=\"#000000\" fill-rule=\"evenodd\" fill-opacity=\"1\" /><path clip-path=\"url(#clip520)\" d=\"M184.206 765.001 Q180.595 765.001 178.766 768.566 Q176.961 772.107 176.961 779.237 Q176.961 786.343 178.766 789.908 Q180.595 793.45 184.206 793.45 Q187.84 793.45 189.646 789.908 Q191.475 786.343 191.475 779.237 Q191.475 772.107 189.646 768.566 Q187.84 765.001 184.206 765.001 M184.206 761.297 Q190.016 761.297 193.072 765.904 Q196.151 770.487 196.151 779.237 Q196.151 787.964 193.072 792.57 Q190.016 797.153 184.206 797.153 Q178.396 797.153 175.317 792.57 Q172.262 787.964 172.262 779.237 Q172.262 770.487 175.317 765.904 Q178.396 761.297 184.206 761.297 Z\" fill=\"#000000\" fill-rule=\"evenodd\" fill-opacity=\"1\" /><path clip-path=\"url(#clip520)\" d=\"M205.855 743.493 Q202.921 743.493 201.436 746.39 Q199.969 749.267 199.969 755.06 Q199.969 760.834 201.436 763.73 Q202.921 766.608 205.855 766.608 Q208.808 766.608 210.275 763.73 Q211.761 760.834 211.761 755.06 Q211.761 749.267 210.275 746.39 Q208.808 743.493 205.855 743.493 M205.855 740.484 Q210.576 740.484 213.059 744.227 Q215.56 747.951 215.56 755.06 Q215.56 762.151 213.059 765.893 Q210.576 769.617 205.855 769.617 Q201.135 769.617 198.633 765.893 Q196.151 762.151 196.151 755.06 Q196.151 747.951 198.633 744.227 Q201.135 740.484 205.855 740.484 Z\" fill=\"#000000\" fill-rule=\"evenodd\" fill-opacity=\"1\" /><path clip-path=\"url(#clip520)\" d=\"M146.096 416.284 L153.735 416.284 L153.735 389.918 L145.425 391.585 L145.425 387.326 L153.688 385.659 L158.364 385.659 L158.364 416.284 L166.003 416.284 L166.003 420.219 L146.096 420.219 L146.096 416.284 Z\" fill=\"#000000\" fill-rule=\"evenodd\" fill-opacity=\"1\" /><path clip-path=\"url(#clip520)\" d=\"M185.448 388.738 Q181.836 388.738 180.008 392.303 Q178.202 395.844 178.202 402.974 Q178.202 410.08 180.008 413.645 Q181.836 417.187 185.448 417.187 Q189.082 417.187 190.887 413.645 Q192.716 410.08 192.716 402.974 Q192.716 395.844 190.887 392.303 Q189.082 388.738 185.448 388.738 M185.448 385.034 Q191.258 385.034 194.313 389.641 Q197.392 394.224 197.392 402.974 Q197.392 411.701 194.313 416.307 Q191.258 420.89 185.448 420.89 Q179.637 420.89 176.559 416.307 Q173.503 411.701 173.503 402.974 Q173.503 394.224 176.559 389.641 Q179.637 385.034 185.448 385.034 Z\" fill=\"#000000\" fill-rule=\"evenodd\" fill-opacity=\"1\" /><path clip-path=\"url(#clip520)\" d=\"M198.577 364.729 L213.491 364.729 L213.491 367.926 L202.056 367.926 L202.056 374.81 Q202.884 374.528 203.711 374.396 Q204.539 374.246 205.366 374.246 Q210.068 374.246 212.814 376.822 Q215.56 379.399 215.56 383.8 Q215.56 388.333 212.739 390.853 Q209.918 393.354 204.783 393.354 Q203.015 393.354 201.172 393.053 Q199.348 392.752 197.392 392.151 L197.392 388.333 Q199.085 389.254 200.89 389.706 Q202.696 390.157 204.708 390.157 Q207.962 390.157 209.861 388.445 Q211.761 386.734 211.761 383.8 Q211.761 380.866 209.861 379.154 Q207.962 377.443 204.708 377.443 Q203.185 377.443 201.661 377.781 Q200.157 378.12 198.577 378.835 L198.577 364.729 Z\" fill=\"#000000\" fill-rule=\"evenodd\" fill-opacity=\"1\" /><path clip-path=\"url(#clip520)\" d=\"M33.8307 961.116 Q33.2578 962.103 33.0032 963.28 Q32.7167 964.426 32.7167 965.826 Q32.7167 970.792 35.9632 973.465 Q39.1779 976.107 45.2253 976.107 L64.0042 976.107 L64.0042 981.995 L28.3562 981.995 L28.3562 976.107 L33.8944 976.107 Q30.6479 974.261 29.0883 971.301 Q27.4968 968.341 27.4968 964.108 Q27.4968 963.503 27.5923 962.771 Q27.656 962.039 27.8151 961.148 L33.8307 961.116 Z\" fill=\"#000000\" fill-rule=\"evenodd\" fill-opacity=\"1\" /><path clip-path=\"url(#clip520)\" d=\"M44.7161 925.913 L47.5806 925.913 L47.5806 952.84 Q53.6281 952.458 56.8109 949.212 Q59.9619 945.934 59.9619 940.109 Q59.9619 936.735 59.1344 933.584 Q58.3069 930.401 56.6518 927.282 L62.1899 927.282 Q63.5267 930.433 64.227 933.743 Q64.9272 937.053 64.9272 940.459 Q64.9272 948.989 59.9619 953.986 Q54.9967 958.952 46.5303 958.952 Q37.7774 958.952 32.6531 954.241 Q27.4968 949.498 27.4968 941.478 Q27.4968 934.284 32.1438 930.115 Q36.7589 925.913 44.7161 925.913 M42.9973 931.77 Q38.1912 931.834 35.3266 934.475 Q32.4621 937.085 32.4621 941.414 Q32.4621 946.316 35.2312 949.276 Q38.0002 952.204 43.0292 952.649 L42.9973 931.77 Z\" fill=\"#000000\" fill-rule=\"evenodd\" fill-opacity=\"1\" /><path clip-path=\"url(#clip520)\" d=\"M14.479 916.301 L14.479 910.445 L64.0042 910.445 L64.0042 916.301 L14.479 916.301 Z\" fill=\"#000000\" fill-rule=\"evenodd\" fill-opacity=\"1\" /><path clip-path=\"url(#clip520)\" d=\"M46.0847 881.99 Q46.0847 889.088 47.7079 891.825 Q49.3312 894.562 53.2461 894.562 Q56.3653 894.562 58.2114 892.525 Q60.0256 890.457 60.0256 886.924 Q60.0256 882.054 56.5881 879.126 Q53.1188 876.165 47.3897 876.165 L46.0847 876.165 L46.0847 881.99 M43.6657 870.309 L64.0042 870.309 L64.0042 876.165 L58.5933 876.165 Q61.8398 878.171 63.3994 881.163 Q64.9272 884.154 64.9272 888.483 Q64.9272 893.958 61.8716 897.204 Q58.7843 900.419 53.6281 900.419 Q47.6125 900.419 44.5569 896.408 Q41.5014 892.366 41.5014 884.377 L41.5014 876.165 L40.9285 876.165 Q36.8862 876.165 34.6901 878.839 Q32.4621 881.481 32.4621 886.287 Q32.4621 889.343 33.1941 892.239 Q33.9262 895.135 35.3903 897.809 L29.9795 897.809 Q28.7381 894.594 28.1334 891.571 Q27.4968 888.547 27.4968 885.682 Q27.4968 877.948 31.5072 874.128 Q35.5176 870.309 43.6657 870.309 Z\" fill=\"#000000\" fill-rule=\"evenodd\" fill-opacity=\"1\" /><path clip-path=\"url(#clip520)\" d=\"M18.2347 852.453 L28.3562 852.453 L28.3562 840.39 L32.9077 840.39 L32.9077 852.453 L52.2594 852.453 Q56.6199 852.453 57.8613 851.276 Q59.1026 850.066 59.1026 846.406 L59.1026 840.39 L64.0042 840.39 L64.0042 846.406 Q64.0042 853.185 61.4897 855.763 Q58.9434 858.342 52.2594 858.342 L32.9077 858.342 L32.9077 862.638 L28.3562 862.638 L28.3562 858.342 L18.2347 858.342 L18.2347 852.453 Z\" fill=\"#000000\" fill-rule=\"evenodd\" fill-opacity=\"1\" /><path clip-path=\"url(#clip520)\" d=\"M28.3562 832.688 L28.3562 826.831 L64.0042 826.831 L64.0042 832.688 L28.3562 832.688 M14.479 832.688 L14.479 826.831 L21.895 826.831 L21.895 832.688 L14.479 832.688 Z\" fill=\"#000000\" fill-rule=\"evenodd\" fill-opacity=\"1\" /><path clip-path=\"url(#clip520)\" d=\"M28.3562 818.779 L28.3562 812.572 L58.275 801.432 L28.3562 790.292 L28.3562 784.086 L64.0042 797.454 L64.0042 805.411 L28.3562 818.779 Z\" fill=\"#000000\" fill-rule=\"evenodd\" fill-opacity=\"1\" /><path clip-path=\"url(#clip520)\" d=\"M44.7161 745.509 L47.5806 745.509 L47.5806 772.436 Q53.6281 772.054 56.8109 768.808 Q59.9619 765.53 59.9619 759.705 Q59.9619 756.331 59.1344 753.18 Q58.3069 749.997 56.6518 746.878 L62.1899 746.878 Q63.5267 750.029 64.227 753.339 Q64.9272 756.649 64.9272 760.055 Q64.9272 768.585 59.9619 773.582 Q54.9967 778.547 46.5303 778.547 Q37.7774 778.547 32.6531 773.837 Q27.4968 769.094 27.4968 761.074 Q27.4968 753.88 32.1438 749.711 Q36.7589 745.509 44.7161 745.509 M42.9973 751.366 Q38.1912 751.429 35.3266 754.071 Q32.4621 756.681 32.4621 761.01 Q32.4621 765.911 35.2312 768.872 Q38.0002 771.8 43.0292 772.245 L42.9973 751.366 Z\" fill=\"#000000\" fill-rule=\"evenodd\" fill-opacity=\"1\" /><path clip-path=\"url(#clip520)\" d=\"M44.7161 684.685 L47.5806 684.685 L47.5806 711.612 Q53.6281 711.23 56.8109 707.984 Q59.9619 704.705 59.9619 698.881 Q59.9619 695.507 59.1344 692.356 Q58.3069 689.173 56.6518 686.054 L62.1899 686.054 Q63.5267 689.205 64.227 692.515 Q64.9272 695.825 64.9272 699.231 Q64.9272 707.761 59.9619 712.758 Q54.9967 717.723 46.5303 717.723 Q37.7774 717.723 32.6531 713.012 Q27.4968 708.27 27.4968 700.249 Q27.4968 693.056 32.1438 688.886 Q36.7589 684.685 44.7161 684.685 M42.9973 690.541 Q38.1912 690.605 35.3266 693.247 Q32.4621 695.857 32.4621 700.186 Q32.4621 705.087 35.2312 708.047 Q38.0002 710.975 43.0292 711.421 L42.9973 690.541 Z\" fill=\"#000000\" fill-rule=\"evenodd\" fill-opacity=\"1\" /><path clip-path=\"url(#clip520)\" d=\"M33.8307 654.416 Q33.2578 655.403 33.0032 656.58 Q32.7167 657.726 32.7167 659.127 Q32.7167 664.092 35.9632 666.766 Q39.1779 669.407 45.2253 669.407 L64.0042 669.407 L64.0042 675.296 L28.3562 675.296 L28.3562 669.407 L33.8944 669.407 Q30.6479 667.561 29.0883 664.601 Q27.4968 661.641 27.4968 657.408 Q27.4968 656.803 27.5923 656.071 Q27.656 655.339 27.8151 654.448 L33.8307 654.416 Z\" fill=\"#000000\" fill-rule=\"evenodd\" fill-opacity=\"1\" /><path clip-path=\"url(#clip520)\" d=\"M33.8307 628.762 Q33.2578 629.749 33.0032 630.927 Q32.7167 632.072 32.7167 633.473 Q32.7167 638.438 35.9632 641.112 Q39.1779 643.754 45.2253 643.754 L64.0042 643.754 L64.0042 649.642 L28.3562 649.642 L28.3562 643.754 L33.8944 643.754 Q30.6479 641.907 29.0883 638.947 Q27.4968 635.987 27.4968 631.754 Q27.4968 631.149 27.5923 630.417 Q27.656 629.685 27.8151 628.794 L33.8307 628.762 Z\" fill=\"#000000\" fill-rule=\"evenodd\" fill-opacity=\"1\" /><path clip-path=\"url(#clip520)\" d=\"M32.4621 610.238 Q32.4621 614.949 36.1542 617.686 Q39.8145 620.423 46.212 620.423 Q52.6095 620.423 56.3017 617.718 Q59.9619 614.981 59.9619 610.238 Q59.9619 605.559 56.2698 602.822 Q52.5777 600.085 46.212 600.085 Q39.8781 600.085 36.186 602.822 Q32.4621 605.559 32.4621 610.238 M27.4968 610.238 Q27.4968 602.599 32.4621 598.239 Q37.4273 593.878 46.212 593.878 Q54.9649 593.878 59.9619 598.239 Q64.9272 602.599 64.9272 610.238 Q64.9272 617.909 59.9619 622.269 Q54.9649 626.598 46.212 626.598 Q37.4273 626.598 32.4621 622.269 Q27.4968 617.909 27.4968 610.238 Z\" fill=\"#000000\" fill-rule=\"evenodd\" fill-opacity=\"1\" /><path clip-path=\"url(#clip520)\" d=\"M33.8307 563.514 Q33.2578 564.501 33.0032 565.678 Q32.7167 566.824 32.7167 568.224 Q32.7167 573.19 35.9632 575.863 Q39.1779 578.505 45.2253 578.505 L64.0042 578.505 L64.0042 584.393 L28.3562 584.393 L28.3562 578.505 L33.8944 578.505 Q30.6479 576.659 29.0883 573.699 Q27.4968 570.739 27.4968 566.506 Q27.4968 565.901 27.5923 565.169 Q27.656 564.437 27.8151 563.546 L33.8307 563.514 Z\" fill=\"#000000\" fill-rule=\"evenodd\" fill-opacity=\"1\" /><path clip-path=\"url(#clip520)\" d=\"M472.852 35.7133 L472.852 41.9112 L465.723 41.9112 Q461.712 41.9112 460.133 43.5316 Q458.593 45.1519 458.593 49.3649 L458.593 53.3752 L470.867 53.3752 L470.867 59.168 L458.593 59.168 L458.593 98.7454 L451.099 98.7454 L451.099 59.168 L443.969 59.168 L443.969 53.3752 L451.099 53.3752 L451.099 50.2155 Q451.099 42.6404 454.623 39.1971 Q458.148 35.7133 465.804 35.7133 L472.852 35.7133 Z\" fill=\"#000000\" fill-rule=\"evenodd\" fill-opacity=\"1\" /><path clip-path=\"url(#clip520)\" d=\"M496.672 58.6009 Q490.676 58.6009 487.193 63.3 Q483.709 67.9585 483.709 76.1008 Q483.709 84.2431 487.152 88.9422 Q490.636 93.6007 496.672 93.6007 Q502.627 93.6007 506.11 88.9017 Q509.594 84.2026 509.594 76.1008 Q509.594 68.0395 506.11 63.3405 Q502.627 58.6009 496.672 58.6009 M496.672 52.2815 Q506.394 52.2815 511.944 58.6009 Q517.493 64.9203 517.493 76.1008 Q517.493 87.2408 511.944 93.6007 Q506.394 99.9201 496.672 99.9201 Q486.909 99.9201 481.359 93.6007 Q475.85 87.2408 475.85 76.1008 Q475.85 64.9203 481.359 58.6009 Q486.909 52.2815 496.672 52.2815 Z\" fill=\"#000000\" fill-rule=\"evenodd\" fill-opacity=\"1\" /><path clip-path=\"url(#clip520)\" d=\"M556.139 60.3428 Q554.883 59.6136 553.384 59.2896 Q551.926 58.925 550.144 58.925 Q543.824 58.925 540.421 63.0569 Q537.059 67.1483 537.059 74.845 L537.059 98.7454 L529.565 98.7454 L529.565 53.3752 L537.059 53.3752 L537.059 60.4238 Q539.409 56.2919 543.176 54.307 Q546.943 52.2815 552.331 52.2815 Q553.101 52.2815 554.033 52.403 Q554.964 52.484 556.098 52.6866 L556.139 60.3428 Z\" fill=\"#000000\" fill-rule=\"evenodd\" fill-opacity=\"1\" /><path clip-path=\"url(#clip520)\" d=\"M559.623 53.3752 L567.076 53.3752 L576.393 88.7802 L585.67 53.3752 L594.461 53.3752 L603.778 88.7802 L613.054 53.3752 L620.508 53.3752 L608.639 98.7454 L599.848 98.7454 L590.086 61.5581 L580.282 98.7454 L571.492 98.7454 L559.623 53.3752 Z\" fill=\"#000000\" fill-rule=\"evenodd\" fill-opacity=\"1\" /><path clip-path=\"url(#clip520)\" d=\"M652.429 75.9388 Q643.395 75.9388 639.912 78.0047 Q636.428 80.0707 636.428 85.0533 Q636.428 89.0232 639.02 91.3727 Q641.654 93.6817 646.15 93.6817 Q652.348 93.6817 656.075 89.3068 Q659.842 84.8913 659.842 77.5997 L659.842 75.9388 L652.429 75.9388 M667.296 72.8601 L667.296 98.7454 L659.842 98.7454 L659.842 91.8588 Q657.29 95.9908 653.482 97.9757 Q649.674 99.9201 644.165 99.9201 Q637.198 99.9201 633.066 96.0313 Q628.974 92.1019 628.974 85.5394 Q628.974 77.8832 634.078 73.9944 Q639.223 70.1055 649.391 70.1055 L659.842 70.1055 L659.842 69.3763 Q659.842 64.2317 656.439 61.4365 Q653.077 58.6009 646.96 58.6009 Q643.071 58.6009 639.385 59.5326 Q635.699 60.4643 632.296 62.3277 L632.296 55.4412 Q636.387 53.8614 640.236 53.0917 Q644.084 52.2815 647.73 52.2815 Q657.574 52.2815 662.435 57.3856 Q667.296 62.4898 667.296 72.8601 Z\" fill=\"#000000\" fill-rule=\"evenodd\" fill-opacity=\"1\" /><path clip-path=\"url(#clip520)\" d=\"M708.939 60.3428 Q707.683 59.6136 706.184 59.2896 Q704.726 58.925 702.944 58.925 Q696.624 58.925 693.222 63.0569 Q689.859 67.1483 689.859 74.845 L689.859 98.7454 L682.365 98.7454 L682.365 53.3752 L689.859 53.3752 L689.859 60.4238 Q692.209 56.2919 695.976 54.307 Q699.744 52.2815 705.131 52.2815 Q705.901 52.2815 706.833 52.403 Q707.764 52.484 708.899 52.6866 L708.939 60.3428 Z\" fill=\"#000000\" fill-rule=\"evenodd\" fill-opacity=\"1\" /><path clip-path=\"url(#clip520)\" d=\"M745.154 60.2618 L745.154 35.7133 L752.608 35.7133 L752.608 98.7454 L745.154 98.7454 L745.154 91.9399 Q742.805 95.9908 739.199 97.9757 Q735.635 99.9201 730.611 99.9201 Q722.388 99.9201 717.203 93.3577 Q712.058 86.7952 712.058 76.1008 Q712.058 65.4064 717.203 58.844 Q722.388 52.2815 730.611 52.2815 Q735.635 52.2815 739.199 54.2664 Q742.805 56.2109 745.154 60.2618 M719.755 76.1008 Q719.755 84.3242 723.117 89.0232 Q726.52 93.6817 732.434 93.6817 Q738.349 93.6817 741.751 89.0232 Q745.154 84.3242 745.154 76.1008 Q745.154 67.8775 741.751 63.2189 Q738.349 58.5199 732.434 58.5199 Q726.52 58.5199 723.117 63.2189 Q719.755 67.8775 719.755 76.1008 Z\" fill=\"#000000\" fill-rule=\"evenodd\" fill-opacity=\"1\" /><path clip-path=\"url(#clip520)\" d=\"M764.193 72.6981 L786.028 72.6981 L786.028 79.3415 L764.193 79.3415 L764.193 72.6981 Z\" fill=\"#000000\" fill-rule=\"evenodd\" fill-opacity=\"1\" /><path clip-path=\"url(#clip520)\" d=\"M827.752 60.2618 L827.752 35.7133 L835.206 35.7133 L835.206 98.7454 L827.752 98.7454 L827.752 91.9399 Q825.403 95.9908 821.797 97.9757 Q818.232 99.9201 813.209 99.9201 Q804.986 99.9201 799.801 93.3577 Q794.656 86.7952 794.656 76.1008 Q794.656 65.4064 799.801 58.844 Q804.986 52.2815 813.209 52.2815 Q818.232 52.2815 821.797 54.2664 Q825.403 56.2109 827.752 60.2618 M802.353 76.1008 Q802.353 84.3242 805.715 89.0232 Q809.118 93.6817 815.032 93.6817 Q820.947 93.6817 824.349 89.0232 Q827.752 84.3242 827.752 76.1008 Q827.752 67.8775 824.349 63.2189 Q820.947 58.5199 815.032 58.5199 Q809.118 58.5199 805.715 63.2189 Q802.353 67.8775 802.353 76.1008 Z\" fill=\"#000000\" fill-rule=\"evenodd\" fill-opacity=\"1\" /><path clip-path=\"url(#clip520)\" d=\"M850.559 53.3752 L858.012 53.3752 L858.012 98.7454 L850.559 98.7454 L850.559 53.3752 M850.559 35.7133 L858.012 35.7133 L858.012 45.1519 L850.559 45.1519 L850.559 35.7133 Z\" fill=\"#000000\" fill-rule=\"evenodd\" fill-opacity=\"1\" /><path clip-path=\"url(#clip520)\" d=\"M896.577 35.7133 L896.577 41.9112 L889.447 41.9112 Q885.437 41.9112 883.857 43.5316 Q882.318 45.1519 882.318 49.3649 L882.318 53.3752 L894.592 53.3752 L894.592 59.168 L882.318 59.168 L882.318 98.7454 L874.824 98.7454 L874.824 59.168 L867.694 59.168 L867.694 53.3752 L874.824 53.3752 L874.824 50.2155 Q874.824 42.6404 878.348 39.1971 Q881.872 35.7133 889.528 35.7133 L896.577 35.7133 Z\" fill=\"#000000\" fill-rule=\"evenodd\" fill-opacity=\"1\" /><path clip-path=\"url(#clip520)\" d=\"M925.784 35.7133 L925.784 41.9112 L918.654 41.9112 Q914.644 41.9112 913.064 43.5316 Q911.525 45.1519 911.525 49.3649 L911.525 53.3752 L923.799 53.3752 L923.799 59.168 L911.525 59.168 L911.525 98.7454 L904.031 98.7454 L904.031 59.168 L896.901 59.168 L896.901 53.3752 L904.031 53.3752 L904.031 50.2155 Q904.031 42.6404 907.555 39.1971 Q911.079 35.7133 918.735 35.7133 L925.784 35.7133 Z\" fill=\"#000000\" fill-rule=\"evenodd\" fill-opacity=\"1\" /><path clip-path=\"url(#clip520)\" d=\"M970.83 74.1969 L970.83 77.8427 L936.559 77.8427 Q937.045 85.5394 941.177 89.5903 Q945.35 93.6007 952.763 93.6007 Q957.057 93.6007 961.067 92.5475 Q965.118 91.4943 969.088 89.3878 L969.088 96.4364 Q965.078 98.1377 960.865 99.0289 Q956.652 99.9201 952.317 99.9201 Q941.461 99.9201 935.101 93.6007 Q928.782 87.2813 928.782 76.5059 Q928.782 65.3659 934.777 58.844 Q940.813 52.2815 951.021 52.2815 Q960.176 52.2815 965.483 58.1958 Q970.83 64.0696 970.83 74.1969 M963.376 72.0094 Q963.295 65.8925 959.933 62.2467 Q956.611 58.6009 951.102 58.6009 Q944.864 58.6009 941.096 62.1252 Q937.37 65.6495 936.802 72.0499 L963.376 72.0094 Z\" fill=\"#000000\" fill-rule=\"evenodd\" fill-opacity=\"1\" /><path clip-path=\"url(#clip520)\" d=\"M1009.35 60.3428 Q1008.1 59.6136 1006.6 59.2896 Q1005.14 58.925 1003.36 58.925 Q997.039 58.925 993.637 63.0569 Q990.274 67.1483 990.274 74.845 L990.274 98.7454 L982.78 98.7454 L982.78 53.3752 L990.274 53.3752 L990.274 60.4238 Q992.624 56.2919 996.391 54.307 Q1000.16 52.2815 1005.55 52.2815 Q1006.32 52.2815 1007.25 52.403 Q1008.18 52.484 1009.31 52.6866 L1009.35 60.3428 Z\" fill=\"#000000\" fill-rule=\"evenodd\" fill-opacity=\"1\" /><path clip-path=\"url(#clip520)\" d=\"M1054.16 74.1969 L1054.16 77.8427 L1019.89 77.8427 Q1020.37 85.5394 1024.5 89.5903 Q1028.68 93.6007 1036.09 93.6007 Q1040.38 93.6007 1044.39 92.5475 Q1048.45 91.4943 1052.42 89.3878 L1052.42 96.4364 Q1048.4 98.1377 1044.19 99.0289 Q1039.98 99.9201 1035.64 99.9201 Q1024.79 99.9201 1018.43 93.6007 Q1012.11 87.2813 1012.11 76.5059 Q1012.11 65.3659 1018.1 58.844 Q1024.14 52.2815 1034.35 52.2815 Q1043.5 52.2815 1048.81 58.1958 Q1054.16 64.0696 1054.16 74.1969 M1046.7 72.0094 Q1046.62 65.8925 1043.26 62.2467 Q1039.94 58.6009 1034.43 58.6009 Q1028.19 58.6009 1024.42 62.1252 Q1020.7 65.6495 1020.13 72.0499 L1046.7 72.0094 Z\" fill=\"#000000\" fill-rule=\"evenodd\" fill-opacity=\"1\" /><path clip-path=\"url(#clip520)\" d=\"M1104.1 71.3613 L1104.1 98.7454 L1096.65 98.7454 L1096.65 71.6043 Q1096.65 65.1634 1094.14 61.9632 Q1091.63 58.763 1086.6 58.763 Q1080.57 58.763 1077.09 62.6113 Q1073.6 66.4597 1073.6 73.1032 L1073.6 98.7454 L1066.11 98.7454 L1066.11 53.3752 L1073.6 53.3752 L1073.6 60.4238 Q1076.28 56.3324 1079.88 54.307 Q1083.53 52.2815 1088.27 52.2815 Q1096.08 52.2815 1100.09 57.1426 Q1104.1 61.9632 1104.1 71.3613 Z\" fill=\"#000000\" fill-rule=\"evenodd\" fill-opacity=\"1\" /><path clip-path=\"url(#clip520)\" d=\"M1151.62 55.1171 L1151.62 62.0847 Q1148.46 60.3428 1145.26 59.4921 Q1142.1 58.6009 1138.86 58.6009 Q1131.61 58.6009 1127.6 63.2189 Q1123.59 67.7965 1123.59 76.1008 Q1123.59 84.4052 1127.6 89.0232 Q1131.61 93.6007 1138.86 93.6007 Q1142.1 93.6007 1145.26 92.75 Q1148.46 91.8588 1151.62 90.1169 L1151.62 97.0035 Q1148.5 98.4618 1145.14 99.191 Q1141.82 99.9201 1138.05 99.9201 Q1127.8 99.9201 1121.77 93.4792 Q1115.73 87.0383 1115.73 76.1008 Q1115.73 65.0013 1121.81 58.6414 Q1127.92 52.2815 1138.54 52.2815 Q1141.98 52.2815 1145.26 53.0107 Q1148.54 53.6993 1151.62 55.1171 Z\" fill=\"#000000\" fill-rule=\"evenodd\" fill-opacity=\"1\" /><path clip-path=\"url(#clip520)\" d=\"M1203.39 74.1969 L1203.39 77.8427 L1169.12 77.8427 Q1169.61 85.5394 1173.74 89.5903 Q1177.91 93.6007 1185.33 93.6007 Q1189.62 93.6007 1193.63 92.5475 Q1197.68 91.4943 1201.65 89.3878 L1201.65 96.4364 Q1197.64 98.1377 1193.43 99.0289 Q1189.21 99.9201 1184.88 99.9201 Q1174.02 99.9201 1167.66 93.6007 Q1161.34 87.2813 1161.34 76.5059 Q1161.34 65.3659 1167.34 58.844 Q1173.38 52.2815 1183.58 52.2815 Q1192.74 52.2815 1198.05 58.1958 Q1203.39 64.0696 1203.39 74.1969 M1195.94 72.0094 Q1195.86 65.8925 1192.5 62.2467 Q1189.17 58.6009 1183.66 58.6009 Q1177.43 58.6009 1173.66 62.1252 Q1169.93 65.6495 1169.36 72.0499 L1195.94 72.0094 Z\" fill=\"#000000\" fill-rule=\"evenodd\" fill-opacity=\"1\" /><path clip-path=\"url(#clip520)\" d=\"M1262.62 75.9388 Q1253.58 75.9388 1250.1 78.0047 Q1246.62 80.0707 1246.62 85.0533 Q1246.62 89.0232 1249.21 91.3727 Q1251.84 93.6817 1256.34 93.6817 Q1262.54 93.6817 1266.26 89.3068 Q1270.03 84.8913 1270.03 77.5997 L1270.03 75.9388 L1262.62 75.9388 M1277.48 72.8601 L1277.48 98.7454 L1270.03 98.7454 L1270.03 91.8588 Q1267.48 95.9908 1263.67 97.9757 Q1259.86 99.9201 1254.35 99.9201 Q1247.39 99.9201 1243.25 96.0313 Q1239.16 92.1019 1239.16 85.5394 Q1239.16 77.8832 1244.27 73.9944 Q1249.41 70.1055 1259.58 70.1055 L1270.03 70.1055 L1270.03 69.3763 Q1270.03 64.2317 1266.63 61.4365 Q1263.26 58.6009 1257.15 58.6009 Q1253.26 58.6009 1249.57 59.5326 Q1245.89 60.4643 1242.48 62.3277 L1242.48 55.4412 Q1246.58 53.8614 1250.42 53.0917 Q1254.27 52.2815 1257.92 52.2815 Q1267.76 52.2815 1272.62 57.3856 Q1277.48 62.4898 1277.48 72.8601 Z\" fill=\"#000000\" fill-rule=\"evenodd\" fill-opacity=\"1\" /><path clip-path=\"url(#clip520)\" d=\"M1325.49 55.1171 L1325.49 62.0847 Q1322.33 60.3428 1319.13 59.4921 Q1315.97 58.6009 1312.73 58.6009 Q1305.48 58.6009 1301.46 63.2189 Q1297.45 67.7965 1297.45 76.1008 Q1297.45 84.4052 1301.46 89.0232 Q1305.48 93.6007 1312.73 93.6007 Q1315.97 93.6007 1319.13 92.75 Q1322.33 91.8588 1325.49 90.1169 L1325.49 97.0035 Q1322.37 98.4618 1319.01 99.191 Q1315.68 99.9201 1311.92 99.9201 Q1301.67 99.9201 1295.63 93.4792 Q1289.6 87.0383 1289.6 76.1008 Q1289.6 65.0013 1295.67 58.6414 Q1301.79 52.2815 1312.4 52.2815 Q1315.85 52.2815 1319.13 53.0107 Q1322.41 53.6993 1325.49 55.1171 Z\" fill=\"#000000\" fill-rule=\"evenodd\" fill-opacity=\"1\" /><path clip-path=\"url(#clip520)\" d=\"M1371.1 55.1171 L1371.1 62.0847 Q1367.94 60.3428 1364.74 59.4921 Q1361.58 58.6009 1358.34 58.6009 Q1351.09 58.6009 1347.08 63.2189 Q1343.07 67.7965 1343.07 76.1008 Q1343.07 84.4052 1347.08 89.0232 Q1351.09 93.6007 1358.34 93.6007 Q1361.58 93.6007 1364.74 92.75 Q1367.94 91.8588 1371.1 90.1169 L1371.1 97.0035 Q1367.98 98.4618 1364.62 99.191 Q1361.3 99.9201 1357.53 99.9201 Q1347.28 99.9201 1341.24 93.4792 Q1335.21 87.0383 1335.21 76.1008 Q1335.21 65.0013 1341.29 58.6414 Q1347.4 52.2815 1358.02 52.2815 Q1361.46 52.2815 1364.74 53.0107 Q1368.02 53.6993 1371.1 55.1171 Z\" fill=\"#000000\" fill-rule=\"evenodd\" fill-opacity=\"1\" /><path clip-path=\"url(#clip520)\" d=\"M1383.29 80.8404 L1383.29 53.3752 L1390.75 53.3752 L1390.75 80.5568 Q1390.75 86.9978 1393.26 90.2385 Q1395.77 93.4387 1400.79 93.4387 Q1406.83 93.4387 1410.31 89.5903 Q1413.84 85.742 1413.84 79.0985 L1413.84 53.3752 L1421.29 53.3752 L1421.29 98.7454 L1413.84 98.7454 L1413.84 91.7778 Q1411.12 95.9097 1407.52 97.9352 Q1403.95 99.9201 1399.21 99.9201 Q1391.39 99.9201 1387.34 95.0591 Q1383.29 90.198 1383.29 80.8404 M1402.05 52.2815 L1402.05 52.2815 Z\" fill=\"#000000\" fill-rule=\"evenodd\" fill-opacity=\"1\" /><path clip-path=\"url(#clip520)\" d=\"M1462.93 60.3428 Q1461.68 59.6136 1460.18 59.2896 Q1458.72 58.925 1456.94 58.925 Q1450.62 58.925 1447.22 63.0569 Q1443.85 67.1483 1443.85 74.845 L1443.85 98.7454 L1436.36 98.7454 L1436.36 53.3752 L1443.85 53.3752 L1443.85 60.4238 Q1446.2 56.2919 1449.97 54.307 Q1453.74 52.2815 1459.13 52.2815 Q1459.9 52.2815 1460.83 52.403 Q1461.76 52.484 1462.89 52.6866 L1462.93 60.3428 Z\" fill=\"#000000\" fill-rule=\"evenodd\" fill-opacity=\"1\" /><path clip-path=\"url(#clip520)\" d=\"M1491.37 75.9388 Q1482.34 75.9388 1478.85 78.0047 Q1475.37 80.0707 1475.37 85.0533 Q1475.37 89.0232 1477.96 91.3727 Q1480.6 93.6817 1485.09 93.6817 Q1491.29 93.6817 1495.02 89.3068 Q1498.78 84.8913 1498.78 77.5997 L1498.78 75.9388 L1491.37 75.9388 M1506.24 72.8601 L1506.24 98.7454 L1498.78 98.7454 L1498.78 91.8588 Q1496.23 95.9908 1492.42 97.9757 Q1488.62 99.9201 1483.11 99.9201 Q1476.14 99.9201 1472.01 96.0313 Q1467.92 92.1019 1467.92 85.5394 Q1467.92 77.8832 1473.02 73.9944 Q1478.17 70.1055 1488.33 70.1055 L1498.78 70.1055 L1498.78 69.3763 Q1498.78 64.2317 1495.38 61.4365 Q1492.02 58.6009 1485.9 58.6009 Q1482.01 58.6009 1478.33 59.5326 Q1474.64 60.4643 1471.24 62.3277 L1471.24 55.4412 Q1475.33 53.8614 1479.18 53.0917 Q1483.03 52.2815 1486.67 52.2815 Q1496.52 52.2815 1501.38 57.3856 Q1506.24 62.4898 1506.24 72.8601 Z\" fill=\"#000000\" fill-rule=\"evenodd\" fill-opacity=\"1\" /><path clip-path=\"url(#clip520)\" d=\"M1554.24 55.1171 L1554.24 62.0847 Q1551.08 60.3428 1547.88 59.4921 Q1544.72 58.6009 1541.48 58.6009 Q1534.23 58.6009 1530.22 63.2189 Q1526.21 67.7965 1526.21 76.1008 Q1526.21 84.4052 1530.22 89.0232 Q1534.23 93.6007 1541.48 93.6007 Q1544.72 93.6007 1547.88 92.75 Q1551.08 91.8588 1554.24 90.1169 L1554.24 97.0035 Q1551.12 98.4618 1547.76 99.191 Q1544.44 99.9201 1540.67 99.9201 Q1530.42 99.9201 1524.39 93.4792 Q1518.35 87.0383 1518.35 76.1008 Q1518.35 65.0013 1524.43 58.6414 Q1530.54 52.2815 1541.16 52.2815 Q1544.6 52.2815 1547.88 53.0107 Q1551.16 53.6993 1554.24 55.1171 Z\" fill=\"#000000\" fill-rule=\"evenodd\" fill-opacity=\"1\" /><path clip-path=\"url(#clip520)\" d=\"M1586.08 102.958 Q1582.92 111.06 1579.92 113.531 Q1576.93 116.002 1571.9 116.002 L1565.95 116.002 L1565.95 109.764 L1570.32 109.764 Q1573.4 109.764 1575.1 108.306 Q1576.8 106.847 1578.87 101.419 L1580.21 98.0162 L1561.86 53.3752 L1569.76 53.3752 L1583.93 88.8612 L1598.11 53.3752 L1606.01 53.3752 L1586.08 102.958 Z\" fill=\"#000000\" fill-rule=\"evenodd\" fill-opacity=\"1\" /><path clip-path=\"url(#clip520)\" d=\"M1665.64 35.7133 L1665.64 41.9112 L1658.51 41.9112 Q1654.5 41.9112 1652.92 43.5316 Q1651.38 45.1519 1651.38 49.3649 L1651.38 53.3752 L1663.66 53.3752 L1663.66 59.168 L1651.38 59.168 L1651.38 98.7454 L1643.89 98.7454 L1643.89 59.168 L1636.76 59.168 L1636.76 53.3752 L1643.89 53.3752 L1643.89 50.2155 Q1643.89 42.6404 1647.41 39.1971 Q1650.94 35.7133 1658.59 35.7133 L1665.64 35.7133 Z\" fill=\"#000000\" fill-rule=\"evenodd\" fill-opacity=\"1\" /><path clip-path=\"url(#clip520)\" d=\"M1689.46 58.6009 Q1683.47 58.6009 1679.98 63.3 Q1676.5 67.9585 1676.5 76.1008 Q1676.5 84.2431 1679.94 88.9422 Q1683.42 93.6007 1689.46 93.6007 Q1695.42 93.6007 1698.9 88.9017 Q1702.38 84.2026 1702.38 76.1008 Q1702.38 68.0395 1698.9 63.3405 Q1695.42 58.6009 1689.46 58.6009 M1689.46 52.2815 Q1699.18 52.2815 1704.73 58.6009 Q1710.28 64.9203 1710.28 76.1008 Q1710.28 87.2408 1704.73 93.6007 Q1699.18 99.9201 1689.46 99.9201 Q1679.7 99.9201 1674.15 93.6007 Q1668.64 87.2408 1668.64 76.1008 Q1668.64 64.9203 1674.15 58.6009 Q1679.7 52.2815 1689.46 52.2815 Z\" fill=\"#000000\" fill-rule=\"evenodd\" fill-opacity=\"1\" /><path clip-path=\"url(#clip520)\" d=\"M1748.93 60.3428 Q1747.67 59.6136 1746.17 59.2896 Q1744.71 58.925 1742.93 58.925 Q1736.61 58.925 1733.21 63.0569 Q1729.85 67.1483 1729.85 74.845 L1729.85 98.7454 L1722.35 98.7454 L1722.35 53.3752 L1729.85 53.3752 L1729.85 60.4238 Q1732.2 56.2919 1735.96 54.307 Q1739.73 52.2815 1745.12 52.2815 Q1745.89 52.2815 1746.82 52.403 Q1747.75 52.484 1748.89 52.6866 L1748.93 60.3428 Z\" fill=\"#000000\" fill-rule=\"evenodd\" fill-opacity=\"1\" /><path clip-path=\"url(#clip520)\" d=\"M1817.15 45.3363 Q1817.15 47.5908 1815.71 48.9844 Q1814.32 50.378 1812.56 50.378 Q1811.29 50.378 1810.34 49.5992 Q1809.44 48.8204 1809.44 47.4678 Q1809.44 46.0742 1810.51 44.5985 Q1811.57 43.1229 1813.99 42.918 Q1812.39 41.4014 1809.85 41.4014 Q1808.58 41.4014 1807.52 42.2212 Q1806.49 43 1805.92 44.2706 Q1805.3 45.5823 1803.91 53.0013 Q1803.46 55.4197 1803.05 57.7561 Q1802.64 60.0925 1802.15 62.5518 L1809.12 62.5518 Q1810.02 62.5518 1810.39 62.5928 Q1810.75 62.6338 1811.04 62.8388 Q1811.37 63.0437 1811.37 63.4946 Q1811.37 64.6423 1810.84 64.9292 Q1810.34 65.1752 1808.87 65.1752 L1801.66 65.1752 L1796.61 91.7772 Q1796.49 92.556 1795.96 95.0154 Q1795.47 97.4337 1794.28 101.41 Q1793.09 105.427 1791.9 107.804 Q1791.24 109.157 1790.38 110.427 Q1789.56 111.739 1788.37 113.051 Q1787.19 114.362 1785.63 115.141 Q1784.07 115.961 1782.43 115.961 Q1779.64 115.961 1777.47 114.403 Q1775.3 112.846 1775.3 110.181 Q1775.3 107.927 1776.69 106.533 Q1778.13 105.14 1779.89 105.14 Q1781.16 105.14 1782.06 105.918 Q1783.01 106.697 1783.01 108.05 Q1783.01 108.624 1782.8 109.28 Q1782.6 109.935 1782.14 110.673 Q1781.69 111.452 1780.71 111.985 Q1779.73 112.518 1778.37 112.6 Q1779.97 114.116 1782.43 114.116 Q1783.21 114.116 1783.91 113.788 Q1784.6 113.502 1785.18 112.764 Q1785.79 112.026 1786.24 111.288 Q1786.69 110.591 1787.15 109.239 Q1787.6 107.927 1787.88 106.943 Q1788.17 105.959 1788.54 104.197 Q1788.95 102.434 1789.15 101.369 Q1789.36 100.344 1789.73 98.3355 L1796 65.1752 L1790.47 65.1752 Q1789.48 65.1752 1789.07 65.1342 Q1788.7 65.0932 1788.42 64.8882 Q1788.13 64.6423 1788.13 64.1504 Q1788.13 63.3716 1788.46 63.0437 Q1788.83 62.6748 1789.24 62.6338 Q1789.65 62.5518 1790.63 62.5518 L1796.45 62.5518 Q1798.42 52.1816 1799.2 49.3943 Q1800.1 46.4431 1801.49 44.3936 Q1802.88 42.3031 1804.44 41.3194 Q1806 40.3357 1807.27 39.9668 Q1808.58 39.5569 1809.85 39.5569 Q1812.72 39.5569 1814.94 41.1145 Q1817.15 42.6311 1817.15 45.3363 Z\" fill=\"#000000\" fill-rule=\"evenodd\" fill-opacity=\"1\" /><path clip-path=\"url(#clip520)\" d=\"M1828.45 77.7589 Q1828.45 63.5766 1833.74 52.1406 Q1835.99 47.3448 1839.15 43.3279 Q1842.3 39.3109 1844.39 37.5484 Q1846.48 35.7858 1847.06 35.7858 Q1847.88 35.7858 1847.92 36.6056 Q1847.92 37.0155 1846.81 38.0403 Q1833.29 51.8127 1833.33 77.7589 Q1833.33 103.787 1846.48 117.027 Q1847.92 118.461 1847.92 118.912 Q1847.92 119.732 1847.06 119.732 Q1846.48 119.732 1844.48 118.051 Q1842.47 116.371 1839.35 112.518 Q1836.24 108.665 1833.98 103.951 Q1828.45 92.515 1828.45 77.7589 Z\" fill=\"#000000\" fill-rule=\"evenodd\" fill-opacity=\"1\" /><path clip-path=\"url(#clip520)\" d=\"M1911.89 97.0648 Q1911.89 97.8436 1911.56 98.2535 Q1911.27 98.6224 1910.99 98.7044 Q1910.74 98.7454 1910.37 98.7454 Q1909.31 98.7454 1905.62 98.6224 Q1901.93 98.4994 1900.86 98.4994 Q1899.14 98.4994 1895.62 98.6224 Q1892.09 98.7454 1890.37 98.7454 Q1889.22 98.7454 1889.22 97.8026 Q1889.22 97.1878 1889.34 96.8599 Q1889.47 96.491 1889.79 96.368 Q1890.16 96.204 1890.37 96.204 Q1890.61 96.1631 1891.23 96.1631 Q1892.05 96.1631 1892.91 96.0811 Q1893.77 95.9581 1894.84 95.7122 Q1895.9 95.4662 1896.56 94.8514 Q1897.25 94.2366 1897.25 93.3758 Q1897.25 93.0069 1896.97 89.9737 Q1896.68 86.9405 1896.31 83.4154 Q1895.94 79.8493 1895.9 79.3574 L1874.83 79.3574 Q1872.91 82.6776 1871.55 84.973 Q1870.2 87.2684 1869.71 88.0472 Q1869.22 88.826 1868.93 89.3178 Q1868.64 89.8097 1868.48 90.0966 Q1867.29 92.2691 1867.29 93.2118 Q1867.29 95.8351 1871.23 96.1631 Q1872.58 96.1631 1872.58 97.1468 Q1872.58 97.8846 1872.25 98.2945 Q1871.92 98.6634 1871.64 98.7044 Q1871.39 98.7454 1870.98 98.7454 Q1869.63 98.7454 1866.8 98.6224 Q1863.97 98.4994 1862.58 98.4994 Q1861.39 98.4994 1858.93 98.6224 Q1856.47 98.7454 1855.36 98.7454 Q1854.87 98.7454 1854.59 98.4585 Q1854.3 98.1715 1854.3 97.8026 Q1854.3 97.2288 1854.38 96.9009 Q1854.5 96.5729 1854.83 96.409 Q1855.16 96.245 1855.32 96.245 Q1855.49 96.204 1856.06 96.1631 Q1859.18 95.9581 1861.59 94.4825 Q1864.05 92.9659 1866.39 89.0719 L1895.57 40.0487 Q1895.86 39.5569 1896.07 39.3109 Q1896.27 39.065 1896.68 38.86 Q1897.13 38.6551 1897.79 38.6551 Q1898.81 38.6551 1899.02 38.983 Q1899.22 39.2699 1899.35 40.6636 L1904.47 93.1298 Q1904.59 94.2366 1904.67 94.6874 Q1904.8 95.0973 1905.33 95.5482 Q1905.9 95.9581 1906.93 96.0811 Q1907.99 96.1631 1909.96 96.1631 Q1910.7 96.1631 1910.99 96.204 Q1911.27 96.204 1911.56 96.409 Q1911.89 96.6139 1911.89 97.0648 M1895.66 76.7341 L1892.99 49.0664 L1876.43 76.7341 L1895.66 76.7341 Z\" fill=\"#000000\" fill-rule=\"evenodd\" fill-opacity=\"1\" /><path clip-path=\"url(#clip520)\" d=\"M1918.67 118.912 Q1918.67 118.502 1919.74 117.477 Q1933.26 103.705 1933.26 77.7589 Q1933.26 51.7307 1920.27 38.5731 Q1918.67 37.0565 1918.67 36.6056 Q1918.67 35.7858 1919.49 35.7858 Q1920.06 35.7858 1922.07 37.4664 Q1924.12 39.147 1927.2 43 Q1930.31 46.8529 1932.61 51.5667 Q1938.14 63.0027 1938.14 77.7589 Q1938.14 91.9412 1932.85 103.377 Q1930.6 108.173 1927.44 112.19 Q1924.29 116.207 1922.19 117.969 Q1920.1 119.732 1919.49 119.732 Q1918.67 119.732 1918.67 118.912 Z\" fill=\"#000000\" fill-rule=\"evenodd\" fill-opacity=\"1\" /><path clip-path=\"url(#clip520)\" d=\"M1974.19 85.9977 Q1974.28 84.973 1975.87 84.973 L2027.32 84.973 Q2029.73 84.973 2029.77 85.9157 Q2029.77 86.9405 2027.48 86.8995 L1976.45 86.8995 Q1974.19 86.9405 1974.19 85.9977 M1974.19 69.602 Q1974.19 68.5773 1975.96 68.6183 L2027.23 68.6183 Q2029.73 68.6183 2029.77 69.602 Q2029.77 70.5448 2027.64 70.5448 L1975.87 70.5448 Q1974.19 70.5448 1974.19 69.602 Z\" fill=\"#000000\" fill-rule=\"evenodd\" fill-opacity=\"1\" /><path clip-path=\"url(#clip520)\" d=\"M2119.74 97.0648 Q2119.74 97.8436 2119.42 98.2535 Q2119.13 98.6224 2118.84 98.7044 Q2118.6 98.7454 2118.23 98.7454 Q2117.16 98.7454 2113.47 98.6224 Q2109.78 98.4994 2108.72 98.4994 Q2107 98.4994 2103.47 98.6224 Q2099.95 98.7454 2098.22 98.7454 Q2097.08 98.7454 2097.08 97.8026 Q2097.08 97.1878 2097.2 96.8599 Q2097.32 96.491 2097.65 96.368 Q2098.02 96.204 2098.22 96.204 Q2098.47 96.1631 2099.08 96.1631 Q2099.9 96.1631 2100.77 96.0811 Q2101.63 95.9581 2102.69 95.7122 Q2103.76 95.4662 2104.41 94.8514 Q2105.11 94.2366 2105.11 93.3758 Q2105.11 93.0069 2104.82 89.9737 Q2104.54 86.9405 2104.17 83.4154 Q2103.8 79.8493 2103.76 79.3574 L2082.69 79.3574 Q2080.76 82.6776 2079.41 84.973 Q2078.06 87.2684 2077.57 88.0472 Q2077.07 88.826 2076.79 89.3178 Q2076.5 89.8097 2076.34 90.0966 Q2075.15 92.2691 2075.15 93.2118 Q2075.15 95.8351 2079.08 96.1631 Q2080.43 96.1631 2080.43 97.1468 Q2080.43 97.8846 2080.11 98.2945 Q2079.78 98.6634 2079.49 98.7044 Q2079.25 98.7454 2078.84 98.7454 Q2077.48 98.7454 2074.66 98.6224 Q2071.83 98.4994 2070.43 98.4994 Q2069.24 98.4994 2066.79 98.6224 Q2064.33 98.7454 2063.22 98.7454 Q2062.73 98.7454 2062.44 98.4585 Q2062.15 98.1715 2062.15 97.8026 Q2062.15 97.2288 2062.24 96.9009 Q2062.36 96.5729 2062.69 96.409 Q2063.01 96.245 2063.18 96.245 Q2063.34 96.204 2063.92 96.1631 Q2067.03 95.9581 2069.45 94.4825 Q2071.91 92.9659 2074.25 89.0719 L2103.43 40.0487 Q2103.72 39.5569 2103.92 39.3109 Q2104.13 39.065 2104.54 38.86 Q2104.99 38.6551 2105.64 38.6551 Q2106.67 38.6551 2106.87 38.983 Q2107.08 39.2699 2107.2 40.6636 L2112.32 93.1298 Q2112.45 94.2366 2112.53 94.6874 Q2112.65 95.0973 2113.18 95.5482 Q2113.76 95.9581 2114.78 96.0811 Q2115.85 96.1631 2117.82 96.1631 Q2118.55 96.1631 2118.84 96.204 Q2119.13 96.204 2119.42 96.409 Q2119.74 96.6139 2119.74 97.0648 M2103.51 76.7341 L2100.85 49.0664 L2084.29 76.7341 L2103.51 76.7341 Z\" fill=\"#000000\" fill-rule=\"evenodd\" fill-opacity=\"1\" /><path clip-path=\"url(#clip520)\" d=\"M2128.14 50.8585 Q2128.14 49.7969 2128.23 49.4813 Q2128.35 49.1656 2128.8 48.6779 L2140.08 36.1106 Q2146.25 29.167 2146.25 23.1129 Q2146.25 19.182 2144.18 16.3701 Q2142.15 13.5583 2138.39 13.5583 Q2135.81 13.5583 2133.62 15.1363 Q2131.44 16.7144 2130.44 19.5263 Q2130.61 19.4689 2131.21 19.4689 Q2132.68 19.4689 2133.48 20.3871 Q2134.31 21.3052 2134.31 22.539 Q2134.31 24.1171 2133.28 24.8918 Q2132.28 25.6378 2131.27 25.6378 Q2130.87 25.6378 2130.33 25.5517 Q2129.81 25.4656 2128.98 24.6623 Q2128.14 23.8302 2128.14 22.3669 Q2128.14 18.2638 2131.24 14.9929 Q2134.37 11.7219 2139.13 11.7219 Q2144.53 11.7219 2148.06 14.9355 Q2151.61 18.1204 2151.61 23.1129 Q2151.61 24.8631 2151.07 26.4699 Q2150.55 28.048 2149.84 29.2817 Q2149.15 30.5155 2147.25 32.4953 Q2145.36 34.4751 2143.84 35.881 Q2142.32 37.287 2138.9 40.271 L2132.68 46.3251 L2143.27 46.3251 Q2148.43 46.3251 2148.83 45.866 Q2149.41 45.0339 2150.12 40.644 L2151.61 40.644 L2149.95 50.8585 L2128.14 50.8585 Z\" fill=\"#000000\" fill-rule=\"evenodd\" fill-opacity=\"1\" /><polyline clip-path=\"url(#clip522)\" style=\"stroke:#009af9; stroke-linecap:butt; stroke-linejoin:round; stroke-width:4; stroke-opacity:1; fill:none\" points=\"\n",
       "  311.028,793.352 338.755,809.523 366.482,811.689 394.208,839.672 421.935,899.772 449.662,877.788 477.388,934.42 505.115,943.007 532.842,976.437 560.569,1006.86 \n",
       "  588.295,1043.6 616.022,1066.48 643.749,1081.87 671.476,1114.71 699.202,1142.8 726.929,1132.69 754.656,1155.66 782.382,1200.73 810.109,1217.92 837.836,1261.98 \n",
       "  865.563,1274.14 893.289,1302.23 921.016,1333.21 948.743,1343.66 976.47,1361.65 1004.2,1363.61 1031.92,1339.56 1059.65,1316.64 1087.38,1292.07 1115.1,1267.51 \n",
       "  1142.83,1242.94 1170.56,1218.37 1198.28,1193.8 1226.01,1169.23 1253.74,1144.66 1281.46,1120.08 1309.19,1095.51 1336.92,1070.94 1364.64,1046.37 1392.37,1021.79 \n",
       "  1420.1,997.223 1447.82,972.65 1475.55,948.078 1503.28,923.506 1531,898.933 1558.73,874.361 1586.46,849.789 1614.18,825.217 1641.91,800.644 1669.64,776.072 \n",
       "  \n",
       "  \"/>\n",
       "<circle clip-path=\"url(#clip522)\" cx=\"311.028\" cy=\"793.352\" r=\"14\" fill=\"#009af9\" fill-rule=\"evenodd\" fill-opacity=\"1\" stroke=\"#000000\" stroke-opacity=\"1\" stroke-width=\"3.2\"/>\n",
       "<circle clip-path=\"url(#clip522)\" cx=\"338.755\" cy=\"809.523\" r=\"14\" fill=\"#009af9\" fill-rule=\"evenodd\" fill-opacity=\"1\" stroke=\"#000000\" stroke-opacity=\"1\" stroke-width=\"3.2\"/>\n",
       "<circle clip-path=\"url(#clip522)\" cx=\"366.482\" cy=\"811.689\" r=\"14\" fill=\"#009af9\" fill-rule=\"evenodd\" fill-opacity=\"1\" stroke=\"#000000\" stroke-opacity=\"1\" stroke-width=\"3.2\"/>\n",
       "<circle clip-path=\"url(#clip522)\" cx=\"394.208\" cy=\"839.672\" r=\"14\" fill=\"#009af9\" fill-rule=\"evenodd\" fill-opacity=\"1\" stroke=\"#000000\" stroke-opacity=\"1\" stroke-width=\"3.2\"/>\n",
       "<circle clip-path=\"url(#clip522)\" cx=\"421.935\" cy=\"899.772\" r=\"14\" fill=\"#009af9\" fill-rule=\"evenodd\" fill-opacity=\"1\" stroke=\"#000000\" stroke-opacity=\"1\" stroke-width=\"3.2\"/>\n",
       "<circle clip-path=\"url(#clip522)\" cx=\"449.662\" cy=\"877.788\" r=\"14\" fill=\"#009af9\" fill-rule=\"evenodd\" fill-opacity=\"1\" stroke=\"#000000\" stroke-opacity=\"1\" stroke-width=\"3.2\"/>\n",
       "<circle clip-path=\"url(#clip522)\" cx=\"477.388\" cy=\"934.42\" r=\"14\" fill=\"#009af9\" fill-rule=\"evenodd\" fill-opacity=\"1\" stroke=\"#000000\" stroke-opacity=\"1\" stroke-width=\"3.2\"/>\n",
       "<circle clip-path=\"url(#clip522)\" cx=\"505.115\" cy=\"943.007\" r=\"14\" fill=\"#009af9\" fill-rule=\"evenodd\" fill-opacity=\"1\" stroke=\"#000000\" stroke-opacity=\"1\" stroke-width=\"3.2\"/>\n",
       "<circle clip-path=\"url(#clip522)\" cx=\"532.842\" cy=\"976.437\" r=\"14\" fill=\"#009af9\" fill-rule=\"evenodd\" fill-opacity=\"1\" stroke=\"#000000\" stroke-opacity=\"1\" stroke-width=\"3.2\"/>\n",
       "<circle clip-path=\"url(#clip522)\" cx=\"560.569\" cy=\"1006.86\" r=\"14\" fill=\"#009af9\" fill-rule=\"evenodd\" fill-opacity=\"1\" stroke=\"#000000\" stroke-opacity=\"1\" stroke-width=\"3.2\"/>\n",
       "<circle clip-path=\"url(#clip522)\" cx=\"588.295\" cy=\"1043.6\" r=\"14\" fill=\"#009af9\" fill-rule=\"evenodd\" fill-opacity=\"1\" stroke=\"#000000\" stroke-opacity=\"1\" stroke-width=\"3.2\"/>\n",
       "<circle clip-path=\"url(#clip522)\" cx=\"616.022\" cy=\"1066.48\" r=\"14\" fill=\"#009af9\" fill-rule=\"evenodd\" fill-opacity=\"1\" stroke=\"#000000\" stroke-opacity=\"1\" stroke-width=\"3.2\"/>\n",
       "<circle clip-path=\"url(#clip522)\" cx=\"643.749\" cy=\"1081.87\" r=\"14\" fill=\"#009af9\" fill-rule=\"evenodd\" fill-opacity=\"1\" stroke=\"#000000\" stroke-opacity=\"1\" stroke-width=\"3.2\"/>\n",
       "<circle clip-path=\"url(#clip522)\" cx=\"671.476\" cy=\"1114.71\" r=\"14\" fill=\"#009af9\" fill-rule=\"evenodd\" fill-opacity=\"1\" stroke=\"#000000\" stroke-opacity=\"1\" stroke-width=\"3.2\"/>\n",
       "<circle clip-path=\"url(#clip522)\" cx=\"699.202\" cy=\"1142.8\" r=\"14\" fill=\"#009af9\" fill-rule=\"evenodd\" fill-opacity=\"1\" stroke=\"#000000\" stroke-opacity=\"1\" stroke-width=\"3.2\"/>\n",
       "<circle clip-path=\"url(#clip522)\" cx=\"726.929\" cy=\"1132.69\" r=\"14\" fill=\"#009af9\" fill-rule=\"evenodd\" fill-opacity=\"1\" stroke=\"#000000\" stroke-opacity=\"1\" stroke-width=\"3.2\"/>\n",
       "<circle clip-path=\"url(#clip522)\" cx=\"754.656\" cy=\"1155.66\" r=\"14\" fill=\"#009af9\" fill-rule=\"evenodd\" fill-opacity=\"1\" stroke=\"#000000\" stroke-opacity=\"1\" stroke-width=\"3.2\"/>\n",
       "<circle clip-path=\"url(#clip522)\" cx=\"782.382\" cy=\"1200.73\" r=\"14\" fill=\"#009af9\" fill-rule=\"evenodd\" fill-opacity=\"1\" stroke=\"#000000\" stroke-opacity=\"1\" stroke-width=\"3.2\"/>\n",
       "<circle clip-path=\"url(#clip522)\" cx=\"810.109\" cy=\"1217.92\" r=\"14\" fill=\"#009af9\" fill-rule=\"evenodd\" fill-opacity=\"1\" stroke=\"#000000\" stroke-opacity=\"1\" stroke-width=\"3.2\"/>\n",
       "<circle clip-path=\"url(#clip522)\" cx=\"837.836\" cy=\"1261.98\" r=\"14\" fill=\"#009af9\" fill-rule=\"evenodd\" fill-opacity=\"1\" stroke=\"#000000\" stroke-opacity=\"1\" stroke-width=\"3.2\"/>\n",
       "<circle clip-path=\"url(#clip522)\" cx=\"865.563\" cy=\"1274.14\" r=\"14\" fill=\"#009af9\" fill-rule=\"evenodd\" fill-opacity=\"1\" stroke=\"#000000\" stroke-opacity=\"1\" stroke-width=\"3.2\"/>\n",
       "<circle clip-path=\"url(#clip522)\" cx=\"893.289\" cy=\"1302.23\" r=\"14\" fill=\"#009af9\" fill-rule=\"evenodd\" fill-opacity=\"1\" stroke=\"#000000\" stroke-opacity=\"1\" stroke-width=\"3.2\"/>\n",
       "<circle clip-path=\"url(#clip522)\" cx=\"921.016\" cy=\"1333.21\" r=\"14\" fill=\"#009af9\" fill-rule=\"evenodd\" fill-opacity=\"1\" stroke=\"#000000\" stroke-opacity=\"1\" stroke-width=\"3.2\"/>\n",
       "<circle clip-path=\"url(#clip522)\" cx=\"948.743\" cy=\"1343.66\" r=\"14\" fill=\"#009af9\" fill-rule=\"evenodd\" fill-opacity=\"1\" stroke=\"#000000\" stroke-opacity=\"1\" stroke-width=\"3.2\"/>\n",
       "<circle clip-path=\"url(#clip522)\" cx=\"976.47\" cy=\"1361.65\" r=\"14\" fill=\"#009af9\" fill-rule=\"evenodd\" fill-opacity=\"1\" stroke=\"#000000\" stroke-opacity=\"1\" stroke-width=\"3.2\"/>\n",
       "<circle clip-path=\"url(#clip522)\" cx=\"1004.2\" cy=\"1363.61\" r=\"14\" fill=\"#009af9\" fill-rule=\"evenodd\" fill-opacity=\"1\" stroke=\"#000000\" stroke-opacity=\"1\" stroke-width=\"3.2\"/>\n",
       "<circle clip-path=\"url(#clip522)\" cx=\"1031.92\" cy=\"1339.56\" r=\"14\" fill=\"#009af9\" fill-rule=\"evenodd\" fill-opacity=\"1\" stroke=\"#000000\" stroke-opacity=\"1\" stroke-width=\"3.2\"/>\n",
       "<circle clip-path=\"url(#clip522)\" cx=\"1059.65\" cy=\"1316.64\" r=\"14\" fill=\"#009af9\" fill-rule=\"evenodd\" fill-opacity=\"1\" stroke=\"#000000\" stroke-opacity=\"1\" stroke-width=\"3.2\"/>\n",
       "<circle clip-path=\"url(#clip522)\" cx=\"1087.38\" cy=\"1292.07\" r=\"14\" fill=\"#009af9\" fill-rule=\"evenodd\" fill-opacity=\"1\" stroke=\"#000000\" stroke-opacity=\"1\" stroke-width=\"3.2\"/>\n",
       "<circle clip-path=\"url(#clip522)\" cx=\"1115.1\" cy=\"1267.51\" r=\"14\" fill=\"#009af9\" fill-rule=\"evenodd\" fill-opacity=\"1\" stroke=\"#000000\" stroke-opacity=\"1\" stroke-width=\"3.2\"/>\n",
       "<circle clip-path=\"url(#clip522)\" cx=\"1142.83\" cy=\"1242.94\" r=\"14\" fill=\"#009af9\" fill-rule=\"evenodd\" fill-opacity=\"1\" stroke=\"#000000\" stroke-opacity=\"1\" stroke-width=\"3.2\"/>\n",
       "<circle clip-path=\"url(#clip522)\" cx=\"1170.56\" cy=\"1218.37\" r=\"14\" fill=\"#009af9\" fill-rule=\"evenodd\" fill-opacity=\"1\" stroke=\"#000000\" stroke-opacity=\"1\" stroke-width=\"3.2\"/>\n",
       "<circle clip-path=\"url(#clip522)\" cx=\"1198.28\" cy=\"1193.8\" r=\"14\" fill=\"#009af9\" fill-rule=\"evenodd\" fill-opacity=\"1\" stroke=\"#000000\" stroke-opacity=\"1\" stroke-width=\"3.2\"/>\n",
       "<circle clip-path=\"url(#clip522)\" cx=\"1226.01\" cy=\"1169.23\" r=\"14\" fill=\"#009af9\" fill-rule=\"evenodd\" fill-opacity=\"1\" stroke=\"#000000\" stroke-opacity=\"1\" stroke-width=\"3.2\"/>\n",
       "<circle clip-path=\"url(#clip522)\" cx=\"1253.74\" cy=\"1144.66\" r=\"14\" fill=\"#009af9\" fill-rule=\"evenodd\" fill-opacity=\"1\" stroke=\"#000000\" stroke-opacity=\"1\" stroke-width=\"3.2\"/>\n",
       "<circle clip-path=\"url(#clip522)\" cx=\"1281.46\" cy=\"1120.08\" r=\"14\" fill=\"#009af9\" fill-rule=\"evenodd\" fill-opacity=\"1\" stroke=\"#000000\" stroke-opacity=\"1\" stroke-width=\"3.2\"/>\n",
       "<circle clip-path=\"url(#clip522)\" cx=\"1309.19\" cy=\"1095.51\" r=\"14\" fill=\"#009af9\" fill-rule=\"evenodd\" fill-opacity=\"1\" stroke=\"#000000\" stroke-opacity=\"1\" stroke-width=\"3.2\"/>\n",
       "<circle clip-path=\"url(#clip522)\" cx=\"1336.92\" cy=\"1070.94\" r=\"14\" fill=\"#009af9\" fill-rule=\"evenodd\" fill-opacity=\"1\" stroke=\"#000000\" stroke-opacity=\"1\" stroke-width=\"3.2\"/>\n",
       "<circle clip-path=\"url(#clip522)\" cx=\"1364.64\" cy=\"1046.37\" r=\"14\" fill=\"#009af9\" fill-rule=\"evenodd\" fill-opacity=\"1\" stroke=\"#000000\" stroke-opacity=\"1\" stroke-width=\"3.2\"/>\n",
       "<circle clip-path=\"url(#clip522)\" cx=\"1392.37\" cy=\"1021.79\" r=\"14\" fill=\"#009af9\" fill-rule=\"evenodd\" fill-opacity=\"1\" stroke=\"#000000\" stroke-opacity=\"1\" stroke-width=\"3.2\"/>\n",
       "<circle clip-path=\"url(#clip522)\" cx=\"1420.1\" cy=\"997.223\" r=\"14\" fill=\"#009af9\" fill-rule=\"evenodd\" fill-opacity=\"1\" stroke=\"#000000\" stroke-opacity=\"1\" stroke-width=\"3.2\"/>\n",
       "<circle clip-path=\"url(#clip522)\" cx=\"1447.82\" cy=\"972.65\" r=\"14\" fill=\"#009af9\" fill-rule=\"evenodd\" fill-opacity=\"1\" stroke=\"#000000\" stroke-opacity=\"1\" stroke-width=\"3.2\"/>\n",
       "<circle clip-path=\"url(#clip522)\" cx=\"1475.55\" cy=\"948.078\" r=\"14\" fill=\"#009af9\" fill-rule=\"evenodd\" fill-opacity=\"1\" stroke=\"#000000\" stroke-opacity=\"1\" stroke-width=\"3.2\"/>\n",
       "<circle clip-path=\"url(#clip522)\" cx=\"1503.28\" cy=\"923.506\" r=\"14\" fill=\"#009af9\" fill-rule=\"evenodd\" fill-opacity=\"1\" stroke=\"#000000\" stroke-opacity=\"1\" stroke-width=\"3.2\"/>\n",
       "<circle clip-path=\"url(#clip522)\" cx=\"1531\" cy=\"898.933\" r=\"14\" fill=\"#009af9\" fill-rule=\"evenodd\" fill-opacity=\"1\" stroke=\"#000000\" stroke-opacity=\"1\" stroke-width=\"3.2\"/>\n",
       "<circle clip-path=\"url(#clip522)\" cx=\"1558.73\" cy=\"874.361\" r=\"14\" fill=\"#009af9\" fill-rule=\"evenodd\" fill-opacity=\"1\" stroke=\"#000000\" stroke-opacity=\"1\" stroke-width=\"3.2\"/>\n",
       "<circle clip-path=\"url(#clip522)\" cx=\"1586.46\" cy=\"849.789\" r=\"14\" fill=\"#009af9\" fill-rule=\"evenodd\" fill-opacity=\"1\" stroke=\"#000000\" stroke-opacity=\"1\" stroke-width=\"3.2\"/>\n",
       "<circle clip-path=\"url(#clip522)\" cx=\"1614.18\" cy=\"825.217\" r=\"14\" fill=\"#009af9\" fill-rule=\"evenodd\" fill-opacity=\"1\" stroke=\"#000000\" stroke-opacity=\"1\" stroke-width=\"3.2\"/>\n",
       "<circle clip-path=\"url(#clip522)\" cx=\"1641.91\" cy=\"800.644\" r=\"14\" fill=\"#009af9\" fill-rule=\"evenodd\" fill-opacity=\"1\" stroke=\"#000000\" stroke-opacity=\"1\" stroke-width=\"3.2\"/>\n",
       "<circle clip-path=\"url(#clip522)\" cx=\"1669.64\" cy=\"776.072\" r=\"14\" fill=\"#009af9\" fill-rule=\"evenodd\" fill-opacity=\"1\" stroke=\"#000000\" stroke-opacity=\"1\" stroke-width=\"3.2\"/>\n",
       "<polyline clip-path=\"url(#clip522)\" style=\"stroke:#e26f46; stroke-linecap:butt; stroke-linejoin:round; stroke-width:4; stroke-opacity:1; fill:none\" points=\"\n",
       "  934.678,1374.78 962.405,1350.2 990.132,1325.63 1017.86,1301.06 1045.59,1276.49 1073.31,1251.91 1101.04,1227.34 1128.77,1202.77 1156.49,1178.2 1184.22,1153.62 \n",
       "  1211.95,1129.05 1239.67,1104.48 1267.4,1079.91 1295.13,1055.34 1322.85,1030.76 1350.58,1006.19 1378.31,981.619 1406.03,957.047 1433.76,932.474 1461.49,907.902 \n",
       "  1489.21,883.33 1516.94,858.758 1544.67,834.185 1572.39,809.613 1600.12,785.041 1627.85,760.468 1655.57,735.896 1683.3,711.324 1711.03,686.752 1738.75,662.179 \n",
       "  1766.48,637.607 1794.21,613.035 1821.93,588.463 1849.66,563.89 1877.39,539.318 1905.11,514.746 1932.84,490.173 1960.57,465.601 1988.29,441.029 2016.02,416.457 \n",
       "  2043.75,391.884 2071.47,367.312 2099.2,342.74 2126.93,318.167 2154.65,293.595 2182.38,269.023 2210.11,244.451 2237.83,219.878 2265.56,195.306 2293.29,170.734 \n",
       "  \n",
       "  \"/>\n",
       "<path clip-path=\"url(#clip520)\" d=\"\n",
       "M1559.9 332.675 L2282.72 332.675 L2282.72 177.155 L1559.9 177.155  Z\n",
       "  \" fill=\"#ffffff\" fill-rule=\"evenodd\" fill-opacity=\"1\"/>\n",
       "<polyline clip-path=\"url(#clip520)\" style=\"stroke:#000000; stroke-linecap:butt; stroke-linejoin:round; stroke-width:4; stroke-opacity:1; fill:none\" points=\"\n",
       "  1559.9,332.675 2282.72,332.675 2282.72,177.155 1559.9,177.155 1559.9,332.675 \n",
       "  \"/>\n",
       "<polyline clip-path=\"url(#clip520)\" style=\"stroke:#009af9; stroke-linecap:butt; stroke-linejoin:round; stroke-width:4; stroke-opacity:1; fill:none\" points=\"\n",
       "  1583.24,228.995 1723.32,228.995 \n",
       "  \"/>\n",
       "<circle clip-path=\"url(#clip520)\" cx=\"1653.28\" cy=\"228.995\" r=\"23\" fill=\"#009af9\" fill-rule=\"evenodd\" fill-opacity=\"1\" stroke=\"#000000\" stroke-opacity=\"1\" stroke-width=\"5.12\"/>\n",
       "<path clip-path=\"url(#clip520)\" d=\"M1770.7 232.248 L1770.7 234.331 L1751.11 234.331 Q1751.39 238.729 1753.75 241.044 Q1756.14 243.336 1760.37 243.336 Q1762.83 243.336 1765.12 242.734 Q1767.43 242.132 1769.7 240.928 L1769.7 244.956 Q1767.41 245.928 1765 246.437 Q1762.6 246.947 1760.12 246.947 Q1753.92 246.947 1750.28 243.336 Q1746.67 239.724 1746.67 233.567 Q1746.67 227.201 1750.1 223.475 Q1753.54 219.725 1759.38 219.725 Q1764.61 219.725 1767.64 223.104 Q1770.7 226.461 1770.7 232.248 M1766.44 230.998 Q1766.39 227.502 1764.47 225.419 Q1762.57 223.336 1759.42 223.336 Q1755.86 223.336 1753.71 225.35 Q1751.58 227.363 1751.25 231.021 L1766.44 230.998 Z\" fill=\"#000000\" fill-rule=\"evenodd\" fill-opacity=\"1\" /><path clip-path=\"url(#clip520)\" d=\"M1792.71 224.331 Q1791.99 223.914 1791.14 223.729 Q1790.3 223.521 1789.29 223.521 Q1785.67 223.521 1783.73 225.882 Q1781.81 228.22 1781.81 232.618 L1781.81 246.275 L1777.53 246.275 L1777.53 220.35 L1781.81 220.35 L1781.81 224.377 Q1783.15 222.016 1785.3 220.882 Q1787.46 219.725 1790.54 219.725 Q1790.98 219.725 1791.51 219.794 Q1792.04 219.84 1792.69 219.956 L1792.71 224.331 Z\" fill=\"#000000\" fill-rule=\"evenodd\" fill-opacity=\"1\" /><path clip-path=\"url(#clip520)\" d=\"M1811.37 224.331 Q1810.65 223.914 1809.79 223.729 Q1808.96 223.521 1807.94 223.521 Q1804.33 223.521 1802.39 225.882 Q1800.47 228.22 1800.47 232.618 L1800.47 246.275 L1796.18 246.275 L1796.18 220.35 L1800.47 220.35 L1800.47 224.377 Q1801.81 222.016 1803.96 220.882 Q1806.11 219.725 1809.19 219.725 Q1809.63 219.725 1810.17 219.794 Q1810.7 219.84 1811.35 219.956 L1811.37 224.331 Z\" fill=\"#000000\" fill-rule=\"evenodd\" fill-opacity=\"1\" /><path clip-path=\"url(#clip520)\" d=\"M1824.84 223.336 Q1821.41 223.336 1819.42 226.021 Q1817.43 228.683 1817.43 233.336 Q1817.43 237.988 1819.4 240.674 Q1821.39 243.336 1824.84 243.336 Q1828.24 243.336 1830.23 240.65 Q1832.23 237.965 1832.23 233.336 Q1832.23 228.729 1830.23 226.044 Q1828.24 223.336 1824.84 223.336 M1824.84 219.725 Q1830.4 219.725 1833.57 223.336 Q1836.74 226.947 1836.74 233.336 Q1836.74 239.701 1833.57 243.336 Q1830.4 246.947 1824.84 246.947 Q1819.26 246.947 1816.09 243.336 Q1812.94 239.701 1812.94 233.336 Q1812.94 226.947 1816.09 223.336 Q1819.26 219.725 1824.84 219.725 Z\" fill=\"#000000\" fill-rule=\"evenodd\" fill-opacity=\"1\" /><path clip-path=\"url(#clip520)\" d=\"M1858.82 224.331 Q1858.1 223.914 1857.25 223.729 Q1856.41 223.521 1855.4 223.521 Q1851.79 223.521 1849.84 225.882 Q1847.92 228.22 1847.92 232.618 L1847.92 246.275 L1843.64 246.275 L1843.64 220.35 L1847.92 220.35 L1847.92 224.377 Q1849.26 222.016 1851.41 220.882 Q1853.57 219.725 1856.65 219.725 Q1857.09 219.725 1857.62 219.794 Q1858.15 219.84 1858.8 219.956 L1858.82 224.331 Z\" fill=\"#000000\" fill-rule=\"evenodd\" fill-opacity=\"1\" /><polyline clip-path=\"url(#clip520)\" style=\"stroke:#e26f46; stroke-linecap:butt; stroke-linejoin:round; stroke-width:4; stroke-opacity:1; fill:none\" points=\"\n",
       "  1583.24,280.835 1723.32,280.835 \n",
       "  \"/>\n",
       "<path clip-path=\"url(#clip520)\" d=\"M1746.67 263.604 L1750.93 263.604 L1750.93 299.622 L1746.67 299.622 L1746.67 263.604 Z\" fill=\"#000000\" fill-rule=\"evenodd\" fill-opacity=\"1\" /><path clip-path=\"url(#clip520)\" d=\"M1759.84 273.697 L1764.1 273.697 L1764.1 299.622 L1759.84 299.622 L1759.84 273.697 M1759.84 263.604 L1764.1 263.604 L1764.1 268.998 L1759.84 268.998 L1759.84 263.604 Z\" fill=\"#000000\" fill-rule=\"evenodd\" fill-opacity=\"1\" /><path clip-path=\"url(#clip520)\" d=\"M1794.56 283.974 L1794.56 299.622 L1790.3 299.622 L1790.3 284.113 Q1790.3 280.433 1788.87 278.604 Q1787.43 276.775 1784.56 276.775 Q1781.11 276.775 1779.12 278.974 Q1777.13 281.173 1777.13 284.97 L1777.13 299.622 L1772.85 299.622 L1772.85 273.697 L1777.13 273.697 L1777.13 277.724 Q1778.66 275.386 1780.72 274.229 Q1782.8 273.072 1785.51 273.072 Q1789.98 273.072 1792.27 275.849 Q1794.56 278.604 1794.56 283.974 Z\" fill=\"#000000\" fill-rule=\"evenodd\" fill-opacity=\"1\" /><path clip-path=\"url(#clip520)\" d=\"M1825.23 285.595 L1825.23 287.678 L1805.65 287.678 Q1805.93 292.076 1808.29 294.391 Q1810.67 296.683 1814.91 296.683 Q1817.36 296.683 1819.66 296.081 Q1821.97 295.479 1824.24 294.275 L1824.24 298.303 Q1821.95 299.275 1819.54 299.784 Q1817.13 300.294 1814.66 300.294 Q1808.45 300.294 1804.82 296.683 Q1801.21 293.071 1801.21 286.914 Q1801.21 280.548 1804.63 276.822 Q1808.08 273.072 1813.92 273.072 Q1819.15 273.072 1822.18 276.451 Q1825.23 279.808 1825.23 285.595 M1820.98 284.345 Q1820.93 280.849 1819.01 278.766 Q1817.11 276.683 1813.96 276.683 Q1810.4 276.683 1808.24 278.697 Q1806.11 280.71 1805.79 284.368 L1820.98 284.345 Z\" fill=\"#000000\" fill-rule=\"evenodd\" fill-opacity=\"1\" /><path clip-path=\"url(#clip520)\" d=\"M1844.01 286.59 Q1838.85 286.59 1836.85 287.771 Q1834.86 288.951 1834.86 291.798 Q1834.86 294.067 1836.35 295.409 Q1837.85 296.729 1840.42 296.729 Q1843.96 296.729 1846.09 294.229 Q1848.24 291.706 1848.24 287.539 L1848.24 286.59 L1844.01 286.59 M1852.5 284.831 L1852.5 299.622 L1848.24 299.622 L1848.24 295.687 Q1846.79 298.048 1844.61 299.183 Q1842.43 300.294 1839.29 300.294 Q1835.3 300.294 1832.94 298.071 Q1830.6 295.826 1830.6 292.076 Q1830.6 287.701 1833.52 285.479 Q1836.46 283.257 1842.27 283.257 L1848.24 283.257 L1848.24 282.84 Q1848.24 279.9 1846.3 278.303 Q1844.38 276.683 1840.88 276.683 Q1838.66 276.683 1836.55 277.215 Q1834.45 277.747 1832.5 278.812 L1832.5 274.877 Q1834.84 273.974 1837.04 273.535 Q1839.24 273.072 1841.32 273.072 Q1846.95 273.072 1849.72 275.988 Q1852.5 278.905 1852.5 284.831 Z\" fill=\"#000000\" fill-rule=\"evenodd\" fill-opacity=\"1\" /><path clip-path=\"url(#clip520)\" d=\"M1876.3 277.678 Q1875.58 277.261 1874.72 277.076 Q1873.89 276.868 1872.87 276.868 Q1869.26 276.868 1867.32 279.229 Q1865.4 281.567 1865.4 285.965 L1865.4 299.622 L1861.11 299.622 L1861.11 273.697 L1865.4 273.697 L1865.4 277.724 Q1866.74 275.363 1868.89 274.229 Q1871.04 273.072 1874.12 273.072 Q1874.56 273.072 1875.1 273.141 Q1875.63 273.187 1876.28 273.303 L1876.3 277.678 Z\" fill=\"#000000\" fill-rule=\"evenodd\" fill-opacity=\"1\" /><path clip-path=\"url(#clip520)\" d=\"M1891.37 310.139 L1891.37 265.121 Q1891.37 263.692 1892.33 263.692 Q1893.29 263.692 1893.29 265.191 L1893.29 310.022 Q1893.29 311.568 1892.33 311.568 Q1891.37 311.568 1891.37 310.139 M1896.66 310.139 L1896.66 265.472 Q1896.66 263.692 1897.62 263.692 Q1898.58 263.692 1898.58 265.191 L1898.58 310.022 Q1898.58 311.568 1897.62 311.568 Q1896.66 311.568 1896.66 310.139 Z\" fill=\"#000000\" fill-rule=\"evenodd\" fill-opacity=\"1\" /><path clip-path=\"url(#clip520)\" d=\"M1931.29 267.627 Q1931.29 267.979 1931.03 268.494 Q1930.8 268.962 1930.31 269.267 Q1929.84 269.548 1929.32 269.548 Q1929.16 269.548 1928.78 269.454 Q1928.15 269.173 1927.17 268.541 Q1926.18 267.908 1925.29 267.51 Q1924.43 267.089 1923.47 267.042 Q1922.62 267.042 1921.92 267.346 Q1921.29 267.698 1920.87 268.447 Q1920.68 268.752 1920.68 269.267 Q1920.68 269.993 1921.08 270.953 Q1921.48 271.914 1922.3 273.155 Q1923.14 274.396 1923.75 275.24 Q1924.36 276.059 1925.41 277.418 Q1925.5 277.535 1925.55 277.605 Q1925.6 277.652 1925.67 277.769 Q1925.74 277.863 1925.81 277.933 Q1928.03 280.72 1928.6 283.789 Q1928.74 284.866 1928.74 285.99 Q1928.74 288.239 1928.06 290.886 Q1927.47 293.298 1926.23 295.383 Q1924.99 297.444 1923.12 298.803 Q1921.27 300.161 1919.25 300.161 Q1917.26 300.161 1915.62 299.294 Q1913.98 298.404 1913 296.882 Q1911.66 294.868 1911.66 292.08 Q1911.66 290.511 1912.04 289.176 Q1912.55 287.044 1913.77 285.077 Q1914.99 283.11 1916.74 281.587 Q1919.42 279.339 1922.32 278.706 Q1920.96 276.13 1920.16 274.139 Q1919.39 272.124 1919.39 270.415 Q1919.39 268.916 1919.95 267.955 Q1920.45 266.925 1921.45 266.339 Q1922.3 265.824 1923.51 265.566 Q1924.26 265.472 1924.76 265.472 Q1926.42 265.472 1930.28 266.386 Q1931.29 266.62 1931.29 267.627 M1925.43 287.911 Q1925.43 286.482 1925.2 285.522 Q1924.76 283.18 1922.98 279.947 L1922.83 279.713 Q1920.56 280.369 1918.71 282.36 Q1916.39 284.796 1915.22 289.41 Q1914.59 291.987 1914.59 293.439 Q1914.59 295.008 1915.18 296.367 Q1915.74 297.631 1916.79 298.358 Q1917.87 299.084 1919.3 299.084 Q1920.38 299.084 1921.31 298.475 Q1922.25 297.842 1922.93 296.741 Q1923.61 295.641 1924.08 294.446 Q1924.57 293.228 1924.94 291.799 Q1925.43 289.879 1925.43 287.911 Z\" fill=\"#000000\" fill-rule=\"evenodd\" fill-opacity=\"1\" /><path clip-path=\"url(#clip520)\" d=\"M1966.61 298.662 Q1966.61 299.107 1966.43 299.341 Q1966.26 299.552 1966.1 299.599 Q1965.96 299.622 1965.75 299.622 Q1965.14 299.622 1963.03 299.552 Q1960.92 299.482 1960.31 299.482 Q1959.33 299.482 1957.31 299.552 Q1955.3 299.622 1954.32 299.622 Q1953.66 299.622 1953.66 299.084 Q1953.66 298.732 1953.73 298.545 Q1953.8 298.334 1953.99 298.264 Q1954.2 298.17 1954.32 298.17 Q1954.46 298.147 1954.81 298.147 Q1955.28 298.147 1955.77 298.1 Q1956.26 298.03 1956.87 297.889 Q1957.48 297.749 1957.85 297.397 Q1958.25 297.046 1958.25 296.554 Q1958.25 296.343 1958.09 294.61 Q1957.92 292.877 1957.71 290.862 Q1957.5 288.825 1957.48 288.544 L1945.44 288.544 Q1944.34 290.441 1943.57 291.752 Q1942.79 293.064 1942.51 293.509 Q1942.23 293.954 1942.07 294.235 Q1941.9 294.516 1941.81 294.68 Q1941.13 295.922 1941.13 296.46 Q1941.13 297.959 1943.38 298.147 Q1944.15 298.147 1944.15 298.709 Q1944.15 299.13 1943.96 299.365 Q1943.78 299.576 1943.61 299.599 Q1943.47 299.622 1943.24 299.622 Q1942.47 299.622 1940.85 299.552 Q1939.23 299.482 1938.44 299.482 Q1937.76 299.482 1936.35 299.552 Q1934.95 299.622 1934.31 299.622 Q1934.03 299.622 1933.87 299.458 Q1933.71 299.294 1933.71 299.084 Q1933.71 298.756 1933.75 298.568 Q1933.82 298.381 1934.01 298.287 Q1934.2 298.194 1934.29 298.194 Q1934.38 298.17 1934.71 298.147 Q1936.49 298.03 1937.87 297.186 Q1939.28 296.32 1940.61 294.095 L1957.29 266.081 Q1957.46 265.8 1957.57 265.66 Q1957.69 265.519 1957.92 265.402 Q1958.18 265.285 1958.56 265.285 Q1959.14 265.285 1959.26 265.472 Q1959.38 265.636 1959.45 266.433 L1962.37 296.413 Q1962.44 297.046 1962.49 297.304 Q1962.56 297.538 1962.87 297.795 Q1963.19 298.03 1963.78 298.1 Q1964.39 298.147 1965.51 298.147 Q1965.93 298.147 1966.1 298.17 Q1966.26 298.17 1966.43 298.287 Q1966.61 298.404 1966.61 298.662 M1957.34 287.044 L1955.82 271.234 L1946.35 287.044 L1957.34 287.044 Z\" fill=\"#000000\" fill-rule=\"evenodd\" fill-opacity=\"1\" /><path clip-path=\"url(#clip520)\" d=\"M1973.36 310.139 L1973.36 265.121 Q1973.36 263.692 1974.32 263.692 Q1975.28 263.692 1975.28 265.191 L1975.28 310.022 Q1975.28 311.568 1974.32 311.568 Q1973.36 311.568 1973.36 310.139 M1978.66 310.139 L1978.66 265.472 Q1978.66 263.692 1979.62 263.692 Q1980.58 263.692 1980.58 265.191 L1980.58 310.022 Q1980.58 311.568 1979.62 311.568 Q1978.66 311.568 1978.66 310.139 Z\" fill=\"#000000\" fill-rule=\"evenodd\" fill-opacity=\"1\" /><path clip-path=\"url(#clip520)\" d=\"M2031.67 277.678 Q2030.95 277.261 2030.1 277.076 Q2029.26 276.868 2028.25 276.868 Q2024.64 276.868 2022.69 279.229 Q2020.77 281.567 2020.77 285.965 L2020.77 299.622 L2016.49 299.622 L2016.49 273.697 L2020.77 273.697 L2020.77 277.724 Q2022.11 275.363 2024.26 274.229 Q2026.42 273.072 2029.5 273.072 Q2029.94 273.072 2030.47 273.141 Q2031 273.187 2031.65 273.303 L2031.67 277.678 Z\" fill=\"#000000\" fill-rule=\"evenodd\" fill-opacity=\"1\" /><path clip-path=\"url(#clip520)\" d=\"M2057.27 285.595 L2057.27 287.678 L2037.69 287.678 Q2037.97 292.076 2040.33 294.391 Q2042.71 296.683 2046.95 296.683 Q2049.4 296.683 2051.7 296.081 Q2054.01 295.479 2056.28 294.275 L2056.28 298.303 Q2053.99 299.275 2051.58 299.784 Q2049.17 300.294 2046.7 300.294 Q2040.49 300.294 2036.86 296.683 Q2033.25 293.071 2033.25 286.914 Q2033.25 280.548 2036.67 276.822 Q2040.12 273.072 2045.95 273.072 Q2051.19 273.072 2054.22 276.451 Q2057.27 279.808 2057.27 285.595 M2053.01 284.345 Q2052.97 280.849 2051.05 278.766 Q2049.15 276.683 2046 276.683 Q2042.44 276.683 2040.28 278.697 Q2038.15 280.71 2037.83 284.368 L2053.01 284.345 Z\" fill=\"#000000\" fill-rule=\"evenodd\" fill-opacity=\"1\" /><path clip-path=\"url(#clip520)\" d=\"M2077.39 263.604 L2077.39 267.146 L2073.32 267.146 Q2071.02 267.146 2070.12 268.072 Q2069.24 268.998 2069.24 271.405 L2069.24 273.697 L2076.26 273.697 L2076.26 277.007 L2069.24 277.007 L2069.24 299.622 L2064.96 299.622 L2064.96 277.007 L2060.88 277.007 L2060.88 273.697 L2064.96 273.697 L2064.96 271.891 Q2064.96 267.562 2066.97 265.595 Q2068.99 263.604 2073.36 263.604 L2077.39 263.604 Z\" fill=\"#000000\" fill-rule=\"evenodd\" fill-opacity=\"1\" /><path clip-path=\"url(#clip520)\" d=\"M2103.13 285.595 L2103.13 287.678 L2083.55 287.678 Q2083.82 292.076 2086.19 294.391 Q2088.57 296.683 2092.81 296.683 Q2095.26 296.683 2097.55 296.081 Q2099.87 295.479 2102.13 294.275 L2102.13 298.303 Q2099.84 299.275 2097.44 299.784 Q2095.03 300.294 2092.55 300.294 Q2086.35 300.294 2082.71 296.683 Q2079.1 293.071 2079.1 286.914 Q2079.1 280.548 2082.53 276.822 Q2085.98 273.072 2091.81 273.072 Q2097.04 273.072 2100.07 276.451 Q2103.13 279.808 2103.13 285.595 M2098.87 284.345 Q2098.82 280.849 2096.9 278.766 Q2095.01 276.683 2091.86 276.683 Q2088.29 276.683 2086.14 278.697 Q2084.01 280.71 2083.69 284.368 L2098.87 284.345 Z\" fill=\"#000000\" fill-rule=\"evenodd\" fill-opacity=\"1\" /><path clip-path=\"url(#clip520)\" d=\"M2125.14 277.678 Q2124.43 277.261 2123.57 277.076 Q2122.74 276.868 2121.72 276.868 Q2118.11 276.868 2116.16 279.229 Q2114.24 281.567 2114.24 285.965 L2114.24 299.622 L2109.96 299.622 L2109.96 273.697 L2114.24 273.697 L2114.24 277.724 Q2115.58 275.363 2117.74 274.229 Q2119.89 273.072 2122.97 273.072 Q2123.41 273.072 2123.94 273.141 Q2124.47 273.187 2125.12 273.303 L2125.14 277.678 Z\" fill=\"#000000\" fill-rule=\"evenodd\" fill-opacity=\"1\" /><path clip-path=\"url(#clip520)\" d=\"M2150.75 285.595 L2150.75 287.678 L2131.16 287.678 Q2131.44 292.076 2133.8 294.391 Q2136.19 296.683 2140.42 296.683 Q2142.88 296.683 2145.17 296.081 Q2147.48 295.479 2149.75 294.275 L2149.75 298.303 Q2147.46 299.275 2145.05 299.784 Q2142.64 300.294 2140.17 300.294 Q2133.96 300.294 2130.33 296.683 Q2126.72 293.071 2126.72 286.914 Q2126.72 280.548 2130.14 276.822 Q2133.59 273.072 2139.43 273.072 Q2144.66 273.072 2147.69 276.451 Q2150.75 279.808 2150.75 285.595 M2146.49 284.345 Q2146.44 280.849 2144.52 278.766 Q2142.62 276.683 2139.47 276.683 Q2135.91 276.683 2133.75 278.697 Q2131.63 280.71 2131.3 284.368 L2146.49 284.345 Z\" fill=\"#000000\" fill-rule=\"evenodd\" fill-opacity=\"1\" /><path clip-path=\"url(#clip520)\" d=\"M2179.29 283.974 L2179.29 299.622 L2175.03 299.622 L2175.03 284.113 Q2175.03 280.433 2173.59 278.604 Q2172.16 276.775 2169.29 276.775 Q2165.84 276.775 2163.85 278.974 Q2161.86 281.173 2161.86 284.97 L2161.86 299.622 L2157.57 299.622 L2157.57 273.697 L2161.86 273.697 L2161.86 277.724 Q2163.38 275.386 2165.44 274.229 Q2167.53 273.072 2170.24 273.072 Q2174.7 273.072 2177 275.849 Q2179.29 278.604 2179.29 283.974 Z\" fill=\"#000000\" fill-rule=\"evenodd\" fill-opacity=\"1\" /><path clip-path=\"url(#clip520)\" d=\"M2206.44 274.692 L2206.44 278.673 Q2204.63 277.678 2202.81 277.192 Q2201 276.683 2199.15 276.683 Q2195 276.683 2192.71 279.322 Q2190.42 281.937 2190.42 286.683 Q2190.42 291.428 2192.71 294.067 Q2195 296.683 2199.15 296.683 Q2201 296.683 2202.81 296.196 Q2204.63 295.687 2206.44 294.692 L2206.44 298.627 Q2204.66 299.46 2202.74 299.877 Q2200.84 300.294 2198.69 300.294 Q2192.83 300.294 2189.38 296.613 Q2185.93 292.933 2185.93 286.683 Q2185.93 280.34 2189.4 276.706 Q2192.9 273.072 2198.96 273.072 Q2200.93 273.072 2202.81 273.488 Q2204.68 273.882 2206.44 274.692 Z\" fill=\"#000000\" fill-rule=\"evenodd\" fill-opacity=\"1\" /><path clip-path=\"url(#clip520)\" d=\"M2236.02 285.595 L2236.02 287.678 L2216.44 287.678 Q2216.72 292.076 2219.08 294.391 Q2221.46 296.683 2225.7 296.683 Q2228.15 296.683 2230.44 296.081 Q2232.76 295.479 2235.03 294.275 L2235.03 298.303 Q2232.74 299.275 2230.33 299.784 Q2227.92 300.294 2225.44 300.294 Q2219.24 300.294 2215.61 296.683 Q2212 293.071 2212 286.914 Q2212 280.548 2215.42 276.822 Q2218.87 273.072 2224.7 273.072 Q2229.93 273.072 2232.97 276.451 Q2236.02 279.808 2236.02 285.595 M2231.76 284.345 Q2231.72 280.849 2229.8 278.766 Q2227.9 276.683 2224.75 276.683 Q2221.18 276.683 2219.03 278.697 Q2216.9 280.71 2216.58 284.368 L2231.76 284.345 Z\" fill=\"#000000\" fill-rule=\"evenodd\" fill-opacity=\"1\" /></svg>\n"
      ]
     },
     "execution_count": 17,
     "metadata": {},
     "output_type": "execute_result"
    }
   ],
   "source": [
    "s = 10 .^ range(-8,8,50)\n",
    "errors = [relative_error(f(A+s*dA)-f(A), exact*s) for s in s]\n",
    "plot(s * norm(dA), errors, xaxis=:log, yaxis=:log, markershape=:circle,\n",
    "     title = L\"forward-difference accuracy for $f(A)=A^2$\", xlabel=L\"\\Vert \\delta A\\Vert\", ylabel=\"relative error\",\n",
    "     label = \"error\")\n",
    "plot!(s, s, label=L\"linear $\\Vert \\delta A\\Vert$ reference\")"
   ]
  },
  {
   "cell_type": "markdown",
   "id": "77479cce",
   "metadata": {},
   "source": [
    "We observe two main features:\n",
    "\n",
    "* The relative error decreases *linearly* with $\\Vert \\delta A \\Vert$.  This is called **first-order accuracy**.  Why?\n",
    "* When δA gets too small, the error *increases*.  Why?"
   ]
  },
  {
   "cell_type": "markdown",
   "id": "860ad8bb",
   "metadata": {},
   "source": [
    "## Order of accuracy\n",
    "\n",
    "If the relative error scales with $\\Vert \\delta A \\Vert^n$, we call the approximation **n-th order accurate**.  For forward differences, here, the order is **n=1**.  Why?\n",
    "\n",
    "For any $f(x)$ with a nonzero second derivative (think of the Taylor series), we have\n",
    "$$\n",
    "    f(x + \\delta x) = f(x) + f'(x) \\delta x + (\\text{terms proportional to }\\Vert \\delta x \\Vert^2) + \\underbrace{o(\\Vert \\delta x \\Vert^2)}_\\text{i.e. higher-order terms}\n",
    "$$"
   ]
  },
  {
   "cell_type": "markdown",
   "id": "1675f2b3",
   "metadata": {},
   "source": [
    "That is, the terms we *dropped* in our forward-difference approximations are proportional to $\\Vert \\delta x\\Vert^2$.  But that means that the **relative error is linear**:\n",
    "$$\n",
    "\\begin{align}\n",
    "  \\text{relative error} &= \\frac{\\Vert f(x+\\delta x) - f(x) - f'(x) \\delta x \\Vert}{\\Vert f'(x) \\delta x \\Vert} \\\\\n",
    "   &= \\frac{(\\text{terms proportional to }\\Vert \\delta x \\Vert^2) + o(\\Vert \\delta x \\Vert^2)}{\\text{proportional to }\\Vert \\delta x \\Vert} = (\\text{terms proportional to }\\Vert \\delta x \\Vert) + o(\\Vert \\delta x \\Vert)\n",
    "\\end{align}\n",
    "$$"
   ]
  },
  {
   "cell_type": "markdown",
   "id": "dc1ef94d",
   "metadata": {},
   "source": [
    "## Roundoff error\n",
    "\n",
    "The reason why the error *increased* for very small $\\delta A$ was due to **roundoff errors**.  The computer only stores a **finite number of significant digits** (about 15 decimal digits) for each real number and rounds off the rest on each operation — this is called [floating-point arithmetic](https://en.wikipedia.org/wiki/Floating-point_arithmetic).\n",
    "\n",
    "If δx is too small, then the difference $f(x+\\delta x) - f(x)$ gets rounded off to zero (some or all of the *significant digits cancel*).  This is called [catastrophic cancellation](https://en.wikipedia.org/wiki/Catastrophic_cancellation).\n",
    "\n",
    "Let's compute the derivative of $\\sin(x)$ at $x=1$ with finite differences.   For a scalar $f(x)$, we have $f(x+\\delta x) - f(x) \\approx f'(x) \\delta x$, or equivalently:\n",
    "\n",
    "$$\n",
    "f'(x) = \\frac{f(x+\\delta x) - f(x)}{\\delta x} + \\underbrace{O(\\delta x)}_{\\text{terms proportional to }|\\delta x|\\text{ or smaller}}\n",
    "$$\n",
    "\n",
    "(This is the usual way you see a forward difference approximation written, but it only works when $\\delta x$ is a scalar.)"
   ]
  },
  {
   "cell_type": "code",
   "execution_count": 18,
   "id": "60dd9d6d",
   "metadata": {},
   "outputs": [
    {
     "data": {
      "text/plain": [
       "0.5402980985058647"
      ]
     },
     "execution_count": 18,
     "metadata": {},
     "output_type": "execute_result"
    }
   ],
   "source": [
    "dx = 1e-5\n",
    "(sin(1 + dx) - sin(1))/dx"
   ]
  },
  {
   "cell_type": "code",
   "execution_count": 19,
   "id": "2d2587ad",
   "metadata": {},
   "outputs": [
    {
     "data": {
      "text/plain": [
       "0.5403023058681398"
      ]
     },
     "execution_count": 19,
     "metadata": {},
     "output_type": "execute_result"
    }
   ],
   "source": [
    "cos(1) # correct answer"
   ]
  },
  {
   "cell_type": "code",
   "execution_count": 20,
   "id": "4fc600b4",
   "metadata": {},
   "outputs": [
    {
     "data": {
      "text/plain": [
       "7.787052228587771e-6"
      ]
     },
     "execution_count": 20,
     "metadata": {},
     "output_type": "execute_result"
    }
   ],
   "source": [
    "relative_error((sin(1 + dx) - sin(1))/dx, cos(1))"
   ]
  },
  {
   "cell_type": "markdown",
   "id": "7f9e44dc",
   "metadata": {},
   "source": [
    "So far, so good.  For $\\delta x = 10^{-5}$, we got about 5–6 significant digits correct.  Now let's make $\\delta x$ much smaller, $\\delta x = 10^{-100}$:"
   ]
  },
  {
   "cell_type": "code",
   "execution_count": 21,
   "id": "504d0d5f",
   "metadata": {},
   "outputs": [
    {
     "data": {
      "text/plain": [
       "0.0"
      ]
     },
     "execution_count": 21,
     "metadata": {},
     "output_type": "execute_result"
    }
   ],
   "source": [
    "dx = 1e-100\n",
    "(sin(1 + dx) - sin(1))/dx"
   ]
  },
  {
   "cell_type": "markdown",
   "id": "35440ed2",
   "metadata": {},
   "source": [
    "What happened?   The computer can represent small numbers just fine, because floating-point corresponds to \"scientific notation\":"
   ]
  },
  {
   "cell_type": "code",
   "execution_count": 22,
   "id": "173b2d27",
   "metadata": {},
   "outputs": [
    {
     "data": {
      "text/plain": [
       "1.0e-100"
      ]
     },
     "execution_count": 22,
     "metadata": {},
     "output_type": "execute_result"
    }
   ],
   "source": [
    "1e-100"
   ]
  },
  {
   "cell_type": "markdown",
   "id": "3a7d8a53",
   "metadata": {},
   "source": [
    "But look at this:"
   ]
  },
  {
   "cell_type": "code",
   "execution_count": 23,
   "id": "c8093692",
   "metadata": {},
   "outputs": [
    {
     "data": {
      "text/plain": [
       "1.0"
      ]
     },
     "execution_count": 23,
     "metadata": {},
     "output_type": "execute_result"
    }
   ],
   "source": [
    "1 + 1e-100"
   ]
  },
  {
   "cell_type": "markdown",
   "id": "1a5fdedb",
   "metadata": {},
   "source": [
    "The correct answer would be\n",
    "$$\n",
    "1 + 10^{-100} = 1.\\underbrace{000000\\cdots000000}_{\\text{99 zeros}}1\n",
    "$$\n",
    "but the computer only stores about 15 decimal digits (by default … you can ask for more, at the expense of speed), so it rounds this to $1.0$.\n",
    "\n",
    "Hence, our finite difference gave zero.\n",
    "\n",
    "Even if we do something less extreme, we have problems.   This looks okay:"
   ]
  },
  {
   "cell_type": "code",
   "execution_count": 24,
   "id": "bdb27010",
   "metadata": {},
   "outputs": [
    {
     "data": {
      "text/plain": [
       "1.0000000000001"
      ]
     },
     "execution_count": 24,
     "metadata": {},
     "output_type": "execute_result"
    }
   ],
   "source": [
    "dx = 1e-13\n",
    "1 + dx"
   ]
  },
  {
   "cell_type": "markdown",
   "id": "d2510c60",
   "metadata": {},
   "source": [
    "because the computer has enough digits, right?  But compare:"
   ]
  },
  {
   "cell_type": "code",
   "execution_count": 25,
   "id": "ee8e581d",
   "metadata": {},
   "outputs": [
    {
     "data": {
      "text/plain": [
       "0.8414709848079505"
      ]
     },
     "execution_count": 25,
     "metadata": {},
     "output_type": "execute_result"
    }
   ],
   "source": [
    "sin(1 + dx)"
   ]
  },
  {
   "cell_type": "code",
   "execution_count": 26,
   "id": "173807c6",
   "metadata": {},
   "outputs": [
    {
     "data": {
      "text/plain": [
       "0.8414709848078965"
      ]
     },
     "execution_count": 26,
     "metadata": {},
     "output_type": "execute_result"
    }
   ],
   "source": [
    "sin(1)"
   ]
  },
  {
   "cell_type": "markdown",
   "id": "9852d20f",
   "metadata": {},
   "source": [
    "They only differ in the **last 4 significant digits stored**.  So when you subtract them, you only have **4 digits** left:"
   ]
  },
  {
   "cell_type": "code",
   "execution_count": 27,
   "id": "6bbe34e6",
   "metadata": {},
   "outputs": [
    {
     "data": {
      "text/plain": [
       "0.001358343083756518"
      ]
     },
     "execution_count": 27,
     "metadata": {},
     "output_type": "execute_result"
    }
   ],
   "source": [
    "relative_error((sin(1 + dx) - sin(1))/dx, cos(1))"
   ]
  },
  {
   "cell_type": "markdown",
   "id": "4a4220af",
   "metadata": {},
   "source": [
    "and the error for $\\delta x = 10^{-13}$ is now $10^{-3}$!!"
   ]
  }
 ],
 "metadata": {
  "@webio": {
   "lastCommId": null,
   "lastKernelId": null
  },
  "kernelspec": {
   "display_name": "Julia 1.11.3",
   "language": "julia",
   "name": "julia-1.11"
  },
  "language_info": {
   "file_extension": ".jl",
   "mimetype": "application/julia",
   "name": "julia",
   "version": "1.11.3"
  }
 },
 "nbformat": 4,
 "nbformat_minor": 5
}
